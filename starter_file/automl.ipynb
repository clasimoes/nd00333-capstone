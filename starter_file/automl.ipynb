{
 "cells": [
  {
   "cell_type": "markdown",
   "metadata": {},
   "source": [
    "# Automated ML"
   ]
  },
  {
   "cell_type": "code",
   "execution_count": 1,
   "metadata": {},
   "outputs": [
    {
     "name": "stdout",
     "output_type": "stream",
     "text": [
      "SDK version: 1.19.0\n"
     ]
    }
   ],
   "source": [
    "import azureml.core\n",
    "from azureml.core.experiment import Experiment\n",
    "from azureml.core.workspace import Workspace\n",
    "from azureml.train.automl import AutoMLConfig\n",
    "from azureml.core.dataset import Dataset\n",
    "from azureml.core.webservice import Webservice\n",
    "from azureml.core.webservice import AciWebservice\n",
    "from azureml.core.model import InferenceConfig\n",
    "from azureml.core.model import Model\n",
    "\n",
    "print(\"SDK version:\", azureml.core.VERSION)"
   ]
  },
  {
   "cell_type": "markdown",
   "metadata": {},
   "source": [
    "## Dataset\n",
    "\n",
    "### Overview\n",
    "The dataset chosen for this project is the one from [Kaggle Titanic Challenge](https://www.kaggle.com/c/titanic). \n",
    "In the famous Titanic shipwreck, some passengers were more likely to survive than others. The dataset presents information about 871 passengers and a column that states if they have survived or not. The model that we will create using automated ML predicts which passengers survived the Titanic shipwreck."
   ]
  },
  {
   "cell_type": "code",
   "execution_count": 2,
   "metadata": {
    "gather": {
     "logged": 1598423890461
    },
    "jupyter": {
     "outputs_hidden": false,
     "source_hidden": false
    },
    "nteract": {
     "transient": {
      "deleting": false
     }
    }
   },
   "outputs": [
    {
     "data": {
      "text/html": [
       "<div>\n",
       "<style scoped>\n",
       "    .dataframe tbody tr th:only-of-type {\n",
       "        vertical-align: middle;\n",
       "    }\n",
       "\n",
       "    .dataframe tbody tr th {\n",
       "        vertical-align: top;\n",
       "    }\n",
       "\n",
       "    .dataframe thead th {\n",
       "        text-align: right;\n",
       "    }\n",
       "</style>\n",
       "<table border=\"1\" class=\"dataframe\">\n",
       "  <thead>\n",
       "    <tr style=\"text-align: right;\">\n",
       "      <th></th>\n",
       "      <th>PassengerId</th>\n",
       "      <th>Survived</th>\n",
       "      <th>Pclass</th>\n",
       "      <th>Age</th>\n",
       "      <th>SibSp</th>\n",
       "      <th>Parch</th>\n",
       "      <th>Fare</th>\n",
       "      <th>Q</th>\n",
       "      <th>S</th>\n",
       "      <th>male</th>\n",
       "    </tr>\n",
       "  </thead>\n",
       "  <tbody>\n",
       "    <tr>\n",
       "      <th>count</th>\n",
       "      <td>891.000000</td>\n",
       "      <td>891.000000</td>\n",
       "      <td>891.000000</td>\n",
       "      <td>891.000000</td>\n",
       "      <td>891.000000</td>\n",
       "      <td>891.000000</td>\n",
       "      <td>891.000000</td>\n",
       "      <td>891.000000</td>\n",
       "      <td>891.000000</td>\n",
       "      <td>891.000000</td>\n",
       "    </tr>\n",
       "    <tr>\n",
       "      <th>mean</th>\n",
       "      <td>446.000000</td>\n",
       "      <td>0.383838</td>\n",
       "      <td>2.308642</td>\n",
       "      <td>29.066409</td>\n",
       "      <td>0.523008</td>\n",
       "      <td>0.381594</td>\n",
       "      <td>32.204208</td>\n",
       "      <td>0.086420</td>\n",
       "      <td>0.725028</td>\n",
       "      <td>0.647587</td>\n",
       "    </tr>\n",
       "    <tr>\n",
       "      <th>std</th>\n",
       "      <td>257.353842</td>\n",
       "      <td>0.486592</td>\n",
       "      <td>0.836071</td>\n",
       "      <td>13.244532</td>\n",
       "      <td>1.102743</td>\n",
       "      <td>0.806057</td>\n",
       "      <td>49.693429</td>\n",
       "      <td>0.281141</td>\n",
       "      <td>0.446751</td>\n",
       "      <td>0.477990</td>\n",
       "    </tr>\n",
       "    <tr>\n",
       "      <th>min</th>\n",
       "      <td>1.000000</td>\n",
       "      <td>0.000000</td>\n",
       "      <td>1.000000</td>\n",
       "      <td>0.420000</td>\n",
       "      <td>0.000000</td>\n",
       "      <td>0.000000</td>\n",
       "      <td>0.000000</td>\n",
       "      <td>0.000000</td>\n",
       "      <td>0.000000</td>\n",
       "      <td>0.000000</td>\n",
       "    </tr>\n",
       "    <tr>\n",
       "      <th>25%</th>\n",
       "      <td>223.500000</td>\n",
       "      <td>0.000000</td>\n",
       "      <td>2.000000</td>\n",
       "      <td>22.000000</td>\n",
       "      <td>0.000000</td>\n",
       "      <td>0.000000</td>\n",
       "      <td>7.910400</td>\n",
       "      <td>0.000000</td>\n",
       "      <td>0.000000</td>\n",
       "      <td>0.000000</td>\n",
       "    </tr>\n",
       "    <tr>\n",
       "      <th>50%</th>\n",
       "      <td>446.000000</td>\n",
       "      <td>0.000000</td>\n",
       "      <td>3.000000</td>\n",
       "      <td>26.000000</td>\n",
       "      <td>0.000000</td>\n",
       "      <td>0.000000</td>\n",
       "      <td>14.454200</td>\n",
       "      <td>0.000000</td>\n",
       "      <td>1.000000</td>\n",
       "      <td>1.000000</td>\n",
       "    </tr>\n",
       "    <tr>\n",
       "      <th>75%</th>\n",
       "      <td>668.500000</td>\n",
       "      <td>1.000000</td>\n",
       "      <td>3.000000</td>\n",
       "      <td>37.000000</td>\n",
       "      <td>1.000000</td>\n",
       "      <td>0.000000</td>\n",
       "      <td>31.000000</td>\n",
       "      <td>0.000000</td>\n",
       "      <td>1.000000</td>\n",
       "      <td>1.000000</td>\n",
       "    </tr>\n",
       "    <tr>\n",
       "      <th>max</th>\n",
       "      <td>891.000000</td>\n",
       "      <td>1.000000</td>\n",
       "      <td>3.000000</td>\n",
       "      <td>80.000000</td>\n",
       "      <td>8.000000</td>\n",
       "      <td>6.000000</td>\n",
       "      <td>512.329200</td>\n",
       "      <td>1.000000</td>\n",
       "      <td>1.000000</td>\n",
       "      <td>1.000000</td>\n",
       "    </tr>\n",
       "  </tbody>\n",
       "</table>\n",
       "</div>"
      ],
      "text/plain": [
       "       PassengerId    Survived      Pclass         Age       SibSp  \\\n",
       "count   891.000000  891.000000  891.000000  891.000000  891.000000   \n",
       "mean    446.000000    0.383838    2.308642   29.066409    0.523008   \n",
       "std     257.353842    0.486592    0.836071   13.244532    1.102743   \n",
       "min       1.000000    0.000000    1.000000    0.420000    0.000000   \n",
       "25%     223.500000    0.000000    2.000000   22.000000    0.000000   \n",
       "50%     446.000000    0.000000    3.000000   26.000000    0.000000   \n",
       "75%     668.500000    1.000000    3.000000   37.000000    1.000000   \n",
       "max     891.000000    1.000000    3.000000   80.000000    8.000000   \n",
       "\n",
       "            Parch        Fare           Q           S        male  \n",
       "count  891.000000  891.000000  891.000000  891.000000  891.000000  \n",
       "mean     0.381594   32.204208    0.086420    0.725028    0.647587  \n",
       "std      0.806057   49.693429    0.281141    0.446751    0.477990  \n",
       "min      0.000000    0.000000    0.000000    0.000000    0.000000  \n",
       "25%      0.000000    7.910400    0.000000    0.000000    0.000000  \n",
       "50%      0.000000   14.454200    0.000000    1.000000    1.000000  \n",
       "75%      0.000000   31.000000    0.000000    1.000000    1.000000  \n",
       "max      6.000000  512.329200    1.000000    1.000000    1.000000  "
      ]
     },
     "execution_count": 2,
     "metadata": {},
     "output_type": "execute_result"
    }
   ],
   "source": [
    "ws = Workspace.from_config()\n",
    "\n",
    "# Name of the experiment\n",
    "experiment_name = 'titanic-automl-experiment'\n",
    "experiment=Experiment(ws, experiment_name)\n",
    "\n",
    "# Get the data of Kaggle Titanic Dataset\n",
    "key = \"titanic-modified\"\n",
    "description_text = \"Kaggle Titanic Challenge dataset with some changes made by myself\"\n",
    "found = False\n",
    "\n",
    "if key in ws.datasets.keys(): \n",
    "    found = True\n",
    "    dataset = ws.datasets[key] \n",
    "\n",
    "if not found:\n",
    "    # Create AML Dataset and register it into Workspace\n",
    "    example_data = 'https://raw.githubusercontent.com/clasimoes/nd00333-capstone/master/titanic_data/full_capstone.csv'\n",
    "    dataset = Dataset.Tabular.from_delimited_files(example_data)\n",
    "    #Register Dataset in Workspace\n",
    "    dataset = dataset.register(workspace=ws,\n",
    "                               name=key,\n",
    "                               description=description_text)\n",
    "\n",
    "\n",
    "df = dataset.to_pandas_dataframe()\n",
    "df.describe()"
   ]
  },
  {
   "cell_type": "markdown",
   "metadata": {},
   "source": [
    "### Create a compute cluster\n",
    "\n",
    "We create here a compute cluster to run the experiment. In this cluster, we provise 2-10 machines with the \"STANDARD_DS12_V2\" configuration."
   ]
  },
  {
   "cell_type": "code",
   "execution_count": 3,
   "metadata": {},
   "outputs": [
    {
     "name": "stdout",
     "output_type": "stream",
     "text": [
      "Found existing cluster, use it.\n",
      "Succeeded\n",
      "AmlCompute wait for completion finished\n",
      "\n",
      "Minimum number of nodes requested have been provisioned\n"
     ]
    }
   ],
   "source": [
    "from azureml.core.compute import AmlCompute\n",
    "from azureml.core.compute import ComputeTarget\n",
    "from azureml.core.compute_target import ComputeTargetException\n",
    "\n",
    "# NOTE: update the cluster name to match the existing cluster\n",
    "# Choose a name for your CPU cluster\n",
    "amlcompute_cluster_name = \"cluster-1\"\n",
    "\n",
    "# Verify that cluster does not exist already\n",
    "try:\n",
    "    compute_target = ComputeTarget(workspace=ws, name=amlcompute_cluster_name)\n",
    "    print('Found existing cluster, use it.')\n",
    "except ComputeTargetException:\n",
    "    compute_config = AmlCompute.provisioning_configuration(vm_size='STANDARD_DS12_V2',# for GPU, use \"STANDARD_NC6\"\n",
    "                                                           #vm_priority = 'lowpriority', # optional\n",
    "                                                           max_nodes=10)\n",
    "    compute_target = ComputeTarget.create(ws, amlcompute_cluster_name, compute_config)\n",
    "\n",
    "compute_target.wait_for_completion(show_output=True, min_node_count = 2, timeout_in_minutes = 10)"
   ]
  },
  {
   "cell_type": "markdown",
   "metadata": {},
   "source": [
    "## AutoML Configuration\n",
    "\n",
    "The task here is to classify if each passenger survived the Titanic shipwreck or not, what led us to provide the column \"Survived\" as the classification target.\n",
    "Because we have 10 nodes in our cluster, we are able to run up to 9 concurrent iterations in our experiment (1 node is meant to be used by the \"parent\" experiment). We have chosen accuracy as the primary metric to be optimized. Featurization is set to auto, leaving data to be automatically scaled and normalized by AutoML. "
   ]
  },
  {
   "cell_type": "code",
   "execution_count": 4,
   "metadata": {
    "gather": {
     "logged": 1598429217746
    },
    "jupyter": {
     "outputs_hidden": false,
     "source_hidden": false
    },
    "nteract": {
     "transient": {
      "deleting": false
     }
    }
   },
   "outputs": [],
   "source": [
    "# TODO: Put your automl settings here\n",
    "automl_settings = {\"max_concurrent_iterations\": 9,\n",
    "                   \"primary_metric\" : 'accuracy'\n",
    "}\n",
    "project_folder = './capstone-project'\n",
    "\n",
    "# TODO: Put your automl config here\n",
    "automl_config = AutoMLConfig(compute_target=compute_target,\n",
    "                             task = \"classification\",\n",
    "                             experiment_timeout_minutes = 20,\n",
    "                             training_data=dataset,\n",
    "                             label_column_name=\"Survived\",   \n",
    "                             path = project_folder,\n",
    "                             enable_early_stopping= True,\n",
    "                             featurization= 'auto',\n",
    "                             debug_log = \"automl_errors.log\",\n",
    "                             **automl_settings)"
   ]
  },
  {
   "cell_type": "code",
   "execution_count": 5,
   "metadata": {
    "gather": {
     "logged": 1598431107951
    },
    "jupyter": {
     "outputs_hidden": false,
     "source_hidden": false
    },
    "nteract": {
     "transient": {
      "deleting": false
     }
    }
   },
   "outputs": [
    {
     "name": "stdout",
     "output_type": "stream",
     "text": [
      "Running on remote.\n"
     ]
    }
   ],
   "source": [
    "# TODO: Submit your experiment\n",
    "# RemoteRun is an object of type AutoMLRun\n",
    "remote_run = experiment.submit(automl_config, show_output=False)"
   ]
  },
  {
   "cell_type": "markdown",
   "metadata": {},
   "source": [
    "## Run Details\n",
    "\n",
    "`RunDetails` widget shows the run status per job."
   ]
  },
  {
   "cell_type": "code",
   "execution_count": 6,
   "metadata": {
    "gather": {
     "logged": 1598431121770
    },
    "jupyter": {
     "outputs_hidden": false,
     "source_hidden": false
    },
    "nteract": {
     "transient": {
      "deleting": false
     }
    },
    "scrolled": true
   },
   "outputs": [
    {
     "data": {
      "application/vnd.jupyter.widget-view+json": {
       "model_id": "36b169b1070f4dd98bbfaffb21513925",
       "version_major": 2,
       "version_minor": 0
      },
      "text/plain": [
       "_AutoMLWidget(widget_settings={'childWidgetDisplay': 'popup', 'send_telemetry': False, 'log_level': 'INFO', 's…"
      ]
     },
     "metadata": {},
     "output_type": "display_data"
    },
    {
     "data": {
      "application/aml.mini.widget.v1": "{\"status\": \"Completed\", \"workbench_run_details_uri\": \"https://ml.azure.com/experiments/titanic-automl-experiment/runs/AutoML_739a486b-b636-4691-9b3a-c587d6d1cc47?wsid=/subscriptions/81cefad3-d2c9-4f77-a466-99a7f541c7bb/resourcegroups/aml-quickstarts-135129/workspaces/quick-starts-ws-135129\", \"run_id\": \"AutoML_739a486b-b636-4691-9b3a-c587d6d1cc47\", \"run_properties\": {\"run_id\": \"AutoML_739a486b-b636-4691-9b3a-c587d6d1cc47\", \"created_utc\": \"2021-01-17T22:00:32.600145Z\", \"properties\": {\"num_iterations\": \"1000\", \"training_type\": \"TrainFull\", \"acquisition_function\": \"EI\", \"primary_metric\": \"accuracy\", \"train_split\": \"0\", \"acquisition_parameter\": \"0\", \"num_cross_validation\": null, \"target\": \"cluster-1\", \"AMLSettingsJsonString\": \"{\\\"path\\\":null,\\\"name\\\":\\\"titanic-automl-experiment\\\",\\\"subscription_id\\\":\\\"81cefad3-d2c9-4f77-a466-99a7f541c7bb\\\",\\\"resource_group\\\":\\\"aml-quickstarts-135129\\\",\\\"workspace_name\\\":\\\"quick-starts-ws-135129\\\",\\\"region\\\":\\\"southcentralus\\\",\\\"compute_target\\\":\\\"cluster-1\\\",\\\"spark_service\\\":null,\\\"azure_service\\\":\\\"remote\\\",\\\"many_models\\\":false,\\\"pipeline_fetch_max_batch_size\\\":1,\\\"iterations\\\":1000,\\\"primary_metric\\\":\\\"accuracy\\\",\\\"task_type\\\":\\\"classification\\\",\\\"data_script\\\":null,\\\"validation_size\\\":0.0,\\\"n_cross_validations\\\":null,\\\"y_min\\\":null,\\\"y_max\\\":null,\\\"num_classes\\\":null,\\\"featurization\\\":\\\"auto\\\",\\\"_ignore_package_version_incompatibilities\\\":false,\\\"is_timeseries\\\":false,\\\"max_cores_per_iteration\\\":1,\\\"max_concurrent_iterations\\\":9,\\\"iteration_timeout_minutes\\\":null,\\\"mem_in_mb\\\":null,\\\"enforce_time_on_windows\\\":false,\\\"experiment_timeout_minutes\\\":20,\\\"experiment_exit_score\\\":null,\\\"whitelist_models\\\":null,\\\"blacklist_algos\\\":[\\\"TensorFlowLinearClassifier\\\",\\\"TensorFlowDNN\\\"],\\\"supported_models\\\":[\\\"SGD\\\",\\\"ExtremeRandomTrees\\\",\\\"RandomForest\\\",\\\"DecisionTree\\\",\\\"GradientBoosting\\\",\\\"LinearSVM\\\",\\\"AveragedPerceptronClassifier\\\",\\\"LogisticRegression\\\",\\\"SVM\\\",\\\"XGBoostClassifier\\\",\\\"LightGBM\\\",\\\"KNN\\\",\\\"TensorFlowLinearClassifier\\\",\\\"MultinomialNaiveBayes\\\",\\\"TensorFlowDNN\\\",\\\"BernoulliNaiveBayes\\\"],\\\"auto_blacklist\\\":true,\\\"blacklist_samples_reached\\\":false,\\\"exclude_nan_labels\\\":true,\\\"verbosity\\\":20,\\\"_debug_log\\\":\\\"azureml_automl.log\\\",\\\"show_warnings\\\":false,\\\"model_explainability\\\":true,\\\"service_url\\\":null,\\\"sdk_url\\\":null,\\\"sdk_packages\\\":null,\\\"enable_onnx_compatible_models\\\":false,\\\"enable_split_onnx_featurizer_estimator_models\\\":false,\\\"vm_type\\\":\\\"STANDARD_D12_V2\\\",\\\"telemetry_verbosity\\\":20,\\\"send_telemetry\\\":true,\\\"enable_dnn\\\":false,\\\"scenario\\\":\\\"SDK-1.13.0\\\",\\\"environment_label\\\":null,\\\"force_text_dnn\\\":false,\\\"enable_feature_sweeping\\\":true,\\\"enable_early_stopping\\\":true,\\\"early_stopping_n_iters\\\":10,\\\"metrics\\\":null,\\\"enable_ensembling\\\":true,\\\"enable_stack_ensembling\\\":true,\\\"ensemble_iterations\\\":15,\\\"enable_tf\\\":false,\\\"enable_subsampling\\\":null,\\\"subsample_seed\\\":null,\\\"enable_nimbusml\\\":false,\\\"enable_streaming\\\":false,\\\"force_streaming\\\":false,\\\"track_child_runs\\\":true,\\\"allowed_private_models\\\":[],\\\"label_column_name\\\":\\\"Survived\\\",\\\"weight_column_name\\\":null,\\\"cv_split_column_names\\\":null,\\\"enable_local_managed\\\":false,\\\"_local_managed_run_id\\\":null,\\\"cost_mode\\\":1,\\\"lag_length\\\":0,\\\"metric_operation\\\":\\\"maximize\\\",\\\"preprocess\\\":true}\", \"DataPrepJsonString\": \"{\\\\\\\"training_data\\\\\\\": \\\\\\\"{\\\\\\\\\\\\\\\"blocks\\\\\\\\\\\\\\\": [{\\\\\\\\\\\\\\\"id\\\\\\\\\\\\\\\": \\\\\\\\\\\\\\\"f8f4e77a-9341-4a75-bc4d-9c283e0663e0\\\\\\\\\\\\\\\", \\\\\\\\\\\\\\\"type\\\\\\\\\\\\\\\": \\\\\\\\\\\\\\\"Microsoft.DPrep.GetFilesBlock\\\\\\\\\\\\\\\", \\\\\\\\\\\\\\\"arguments\\\\\\\\\\\\\\\": {\\\\\\\\\\\\\\\"isArchive\\\\\\\\\\\\\\\": false, \\\\\\\\\\\\\\\"path\\\\\\\\\\\\\\\": {\\\\\\\\\\\\\\\"target\\\\\\\\\\\\\\\": 4, \\\\\\\\\\\\\\\"resourceDetails\\\\\\\\\\\\\\\": [{\\\\\\\\\\\\\\\"path\\\\\\\\\\\\\\\": \\\\\\\\\\\\\\\"https://raw.githubusercontent.com/clasimoes/nd00333-capstone/master/titanic_data/full_capstone.csv\\\\\\\\\\\\\\\"}]}}, \\\\\\\\\\\\\\\"localData\\\\\\\\\\\\\\\": {}, \\\\\\\\\\\\\\\"isEnabled\\\\\\\\\\\\\\\": true, \\\\\\\\\\\\\\\"name\\\\\\\\\\\\\\\": null, \\\\\\\\\\\\\\\"annotation\\\\\\\\\\\\\\\": null}, {\\\\\\\\\\\\\\\"id\\\\\\\\\\\\\\\": \\\\\\\\\\\\\\\"16aa7ad2-42e4-44d2-8619-806c9e21f3df\\\\\\\\\\\\\\\", \\\\\\\\\\\\\\\"type\\\\\\\\\\\\\\\": \\\\\\\\\\\\\\\"Microsoft.DPrep.ParseDelimitedBlock\\\\\\\\\\\\\\\", \\\\\\\\\\\\\\\"arguments\\\\\\\\\\\\\\\": {\\\\\\\\\\\\\\\"columnHeadersMode\\\\\\\\\\\\\\\": 3, \\\\\\\\\\\\\\\"fileEncoding\\\\\\\\\\\\\\\": 0, \\\\\\\\\\\\\\\"handleQuotedLineBreaks\\\\\\\\\\\\\\\": false, \\\\\\\\\\\\\\\"preview\\\\\\\\\\\\\\\": false, \\\\\\\\\\\\\\\"separator\\\\\\\\\\\\\\\": \\\\\\\\\\\\\\\",\\\\\\\\\\\\\\\", \\\\\\\\\\\\\\\"skipRows\\\\\\\\\\\\\\\": 0, \\\\\\\\\\\\\\\"skipRowsMode\\\\\\\\\\\\\\\": 0}, \\\\\\\\\\\\\\\"localData\\\\\\\\\\\\\\\": {}, \\\\\\\\\\\\\\\"isEnabled\\\\\\\\\\\\\\\": true, \\\\\\\\\\\\\\\"name\\\\\\\\\\\\\\\": null, \\\\\\\\\\\\\\\"annotation\\\\\\\\\\\\\\\": null}, {\\\\\\\\\\\\\\\"id\\\\\\\\\\\\\\\": \\\\\\\\\\\\\\\"a03b0600-4227-45ff-b027-8a82955cd9fd\\\\\\\\\\\\\\\", \\\\\\\\\\\\\\\"type\\\\\\\\\\\\\\\": \\\\\\\\\\\\\\\"Microsoft.DPrep.DropColumnsBlock\\\\\\\\\\\\\\\", \\\\\\\\\\\\\\\"arguments\\\\\\\\\\\\\\\": {\\\\\\\\\\\\\\\"columns\\\\\\\\\\\\\\\": {\\\\\\\\\\\\\\\"type\\\\\\\\\\\\\\\": 0, \\\\\\\\\\\\\\\"details\\\\\\\\\\\\\\\": {\\\\\\\\\\\\\\\"selectedColumns\\\\\\\\\\\\\\\": [\\\\\\\\\\\\\\\"Path\\\\\\\\\\\\\\\"]}}}, \\\\\\\\\\\\\\\"localData\\\\\\\\\\\\\\\": {}, \\\\\\\\\\\\\\\"isEnabled\\\\\\\\\\\\\\\": true, \\\\\\\\\\\\\\\"name\\\\\\\\\\\\\\\": null, \\\\\\\\\\\\\\\"annotation\\\\\\\\\\\\\\\": null}, {\\\\\\\\\\\\\\\"id\\\\\\\\\\\\\\\": \\\\\\\\\\\\\\\"7f37325c-b749-4593-8ef6-f56beee1ede8\\\\\\\\\\\\\\\", \\\\\\\\\\\\\\\"type\\\\\\\\\\\\\\\": \\\\\\\\\\\\\\\"Microsoft.DPrep.SetColumnTypesBlock\\\\\\\\\\\\\\\", \\\\\\\\\\\\\\\"arguments\\\\\\\\\\\\\\\": {\\\\\\\\\\\\\\\"columnConversion\\\\\\\\\\\\\\\": [{\\\\\\\\\\\\\\\"column\\\\\\\\\\\\\\\": {\\\\\\\\\\\\\\\"type\\\\\\\\\\\\\\\": 2, \\\\\\\\\\\\\\\"details\\\\\\\\\\\\\\\": {\\\\\\\\\\\\\\\"selectedColumn\\\\\\\\\\\\\\\": \\\\\\\\\\\\\\\"PassengerId\\\\\\\\\\\\\\\"}}, \\\\\\\\\\\\\\\"typeProperty\\\\\\\\\\\\\\\": 2}, {\\\\\\\\\\\\\\\"column\\\\\\\\\\\\\\\": {\\\\\\\\\\\\\\\"type\\\\\\\\\\\\\\\": 2, \\\\\\\\\\\\\\\"details\\\\\\\\\\\\\\\": {\\\\\\\\\\\\\\\"selectedColumn\\\\\\\\\\\\\\\": \\\\\\\\\\\\\\\"Survived\\\\\\\\\\\\\\\"}}, \\\\\\\\\\\\\\\"typeProperty\\\\\\\\\\\\\\\": 3}, {\\\\\\\\\\\\\\\"column\\\\\\\\\\\\\\\": {\\\\\\\\\\\\\\\"type\\\\\\\\\\\\\\\": 2, \\\\\\\\\\\\\\\"details\\\\\\\\\\\\\\\": {\\\\\\\\\\\\\\\"selectedColumn\\\\\\\\\\\\\\\": \\\\\\\\\\\\\\\"Pclass\\\\\\\\\\\\\\\"}}, \\\\\\\\\\\\\\\"typeProperty\\\\\\\\\\\\\\\": 2}, {\\\\\\\\\\\\\\\"column\\\\\\\\\\\\\\\": {\\\\\\\\\\\\\\\"type\\\\\\\\\\\\\\\": 2, \\\\\\\\\\\\\\\"details\\\\\\\\\\\\\\\": {\\\\\\\\\\\\\\\"selectedColumn\\\\\\\\\\\\\\\": \\\\\\\\\\\\\\\"Name\\\\\\\\\\\\\\\"}}, \\\\\\\\\\\\\\\"typeProperty\\\\\\\\\\\\\\\": 0}, {\\\\\\\\\\\\\\\"column\\\\\\\\\\\\\\\": {\\\\\\\\\\\\\\\"type\\\\\\\\\\\\\\\": 2, \\\\\\\\\\\\\\\"details\\\\\\\\\\\\\\\": {\\\\\\\\\\\\\\\"selectedColumn\\\\\\\\\\\\\\\": \\\\\\\\\\\\\\\"Age\\\\\\\\\\\\\\\"}}, \\\\\\\\\\\\\\\"typeProperty\\\\\\\\\\\\\\\": 3}, {\\\\\\\\\\\\\\\"column\\\\\\\\\\\\\\\": {\\\\\\\\\\\\\\\"type\\\\\\\\\\\\\\\": 2, \\\\\\\\\\\\\\\"details\\\\\\\\\\\\\\\": {\\\\\\\\\\\\\\\"selectedColumn\\\\\\\\\\\\\\\": \\\\\\\\\\\\\\\"SibSp\\\\\\\\\\\\\\\"}}, \\\\\\\\\\\\\\\"typeProperty\\\\\\\\\\\\\\\": 2}, {\\\\\\\\\\\\\\\"column\\\\\\\\\\\\\\\": {\\\\\\\\\\\\\\\"type\\\\\\\\\\\\\\\": 2, \\\\\\\\\\\\\\\"details\\\\\\\\\\\\\\\": {\\\\\\\\\\\\\\\"selectedColumn\\\\\\\\\\\\\\\": \\\\\\\\\\\\\\\"Parch\\\\\\\\\\\\\\\"}}, \\\\\\\\\\\\\\\"typeProperty\\\\\\\\\\\\\\\": 2}, {\\\\\\\\\\\\\\\"column\\\\\\\\\\\\\\\": {\\\\\\\\\\\\\\\"type\\\\\\\\\\\\\\\": 2, \\\\\\\\\\\\\\\"details\\\\\\\\\\\\\\\": {\\\\\\\\\\\\\\\"selectedColumn\\\\\\\\\\\\\\\": \\\\\\\\\\\\\\\"Ticket\\\\\\\\\\\\\\\"}}, \\\\\\\\\\\\\\\"typeProperty\\\\\\\\\\\\\\\": 0}, {\\\\\\\\\\\\\\\"column\\\\\\\\\\\\\\\": {\\\\\\\\\\\\\\\"type\\\\\\\\\\\\\\\": 2, \\\\\\\\\\\\\\\"details\\\\\\\\\\\\\\\": {\\\\\\\\\\\\\\\"selectedColumn\\\\\\\\\\\\\\\": \\\\\\\\\\\\\\\"Fare\\\\\\\\\\\\\\\"}}, \\\\\\\\\\\\\\\"typeProperty\\\\\\\\\\\\\\\": 3}, {\\\\\\\\\\\\\\\"column\\\\\\\\\\\\\\\": {\\\\\\\\\\\\\\\"type\\\\\\\\\\\\\\\": 2, \\\\\\\\\\\\\\\"details\\\\\\\\\\\\\\\": {\\\\\\\\\\\\\\\"selectedColumn\\\\\\\\\\\\\\\": \\\\\\\\\\\\\\\"Cabin\\\\\\\\\\\\\\\"}}, \\\\\\\\\\\\\\\"typeProperty\\\\\\\\\\\\\\\": 0}, {\\\\\\\\\\\\\\\"column\\\\\\\\\\\\\\\": {\\\\\\\\\\\\\\\"type\\\\\\\\\\\\\\\": 2, \\\\\\\\\\\\\\\"details\\\\\\\\\\\\\\\": {\\\\\\\\\\\\\\\"selectedColumn\\\\\\\\\\\\\\\": \\\\\\\\\\\\\\\"Q\\\\\\\\\\\\\\\"}}, \\\\\\\\\\\\\\\"typeProperty\\\\\\\\\\\\\\\": 2}, {\\\\\\\\\\\\\\\"column\\\\\\\\\\\\\\\": {\\\\\\\\\\\\\\\"type\\\\\\\\\\\\\\\": 2, \\\\\\\\\\\\\\\"details\\\\\\\\\\\\\\\": {\\\\\\\\\\\\\\\"selectedColumn\\\\\\\\\\\\\\\": \\\\\\\\\\\\\\\"S\\\\\\\\\\\\\\\"}}, \\\\\\\\\\\\\\\"typeProperty\\\\\\\\\\\\\\\": 2}, {\\\\\\\\\\\\\\\"column\\\\\\\\\\\\\\\": {\\\\\\\\\\\\\\\"type\\\\\\\\\\\\\\\": 2, \\\\\\\\\\\\\\\"details\\\\\\\\\\\\\\\": {\\\\\\\\\\\\\\\"selectedColumn\\\\\\\\\\\\\\\": \\\\\\\\\\\\\\\"male\\\\\\\\\\\\\\\"}}, \\\\\\\\\\\\\\\"typeProperty\\\\\\\\\\\\\\\": 2}]}, \\\\\\\\\\\\\\\"localData\\\\\\\\\\\\\\\": {}, \\\\\\\\\\\\\\\"isEnabled\\\\\\\\\\\\\\\": true, \\\\\\\\\\\\\\\"name\\\\\\\\\\\\\\\": null, \\\\\\\\\\\\\\\"annotation\\\\\\\\\\\\\\\": null}], \\\\\\\\\\\\\\\"inspectors\\\\\\\\\\\\\\\": [], \\\\\\\\\\\\\\\"meta\\\\\\\\\\\\\\\": {\\\\\\\\\\\\\\\"savedDatasetId\\\\\\\\\\\\\\\": \\\\\\\\\\\\\\\"b0208d69-b240-4d03-9562-f17fe0fbd5e8\\\\\\\\\\\\\\\", \\\\\\\\\\\\\\\"datasetType\\\\\\\\\\\\\\\": \\\\\\\\\\\\\\\"tabular\\\\\\\\\\\\\\\", \\\\\\\\\\\\\\\"subscriptionId\\\\\\\\\\\\\\\": \\\\\\\\\\\\\\\"81cefad3-d2c9-4f77-a466-99a7f541c7bb\\\\\\\\\\\\\\\", \\\\\\\\\\\\\\\"workspaceId\\\\\\\\\\\\\\\": \\\\\\\\\\\\\\\"13e52a54-1380-47e5-b370-50af83c1f08d\\\\\\\\\\\\\\\", \\\\\\\\\\\\\\\"workspaceLocation\\\\\\\\\\\\\\\": \\\\\\\\\\\\\\\"southcentralus\\\\\\\\\\\\\\\"}}\\\\\\\", \\\\\\\"activities\\\\\\\": 0}\", \"EnableSubsampling\": null, \"runTemplate\": \"AutoML\", \"azureml.runsource\": \"automl\", \"display_task_type\": \"classification\", \"dependencies_versions\": \"{\\\"azureml-widgets\\\": \\\"1.19.0\\\", \\\"azureml-train\\\": \\\"1.19.0\\\", \\\"azureml-train-restclients-hyperdrive\\\": \\\"1.19.0\\\", \\\"azureml-train-core\\\": \\\"1.19.0\\\", \\\"azureml-train-automl\\\": \\\"1.19.0\\\", \\\"azureml-train-automl-runtime\\\": \\\"1.19.0\\\", \\\"azureml-train-automl-client\\\": \\\"1.19.0\\\", \\\"azureml-tensorboard\\\": \\\"1.19.0\\\", \\\"azureml-telemetry\\\": \\\"1.19.0\\\", \\\"azureml-sdk\\\": \\\"1.19.0\\\", \\\"azureml-samples\\\": \\\"0+unknown\\\", \\\"azureml-pipeline\\\": \\\"1.19.0\\\", \\\"azureml-pipeline-steps\\\": \\\"1.19.0\\\", \\\"azureml-pipeline-core\\\": \\\"1.19.0\\\", \\\"azureml-opendatasets\\\": \\\"1.19.0\\\", \\\"azureml-model-management-sdk\\\": \\\"1.0.1b6.post1\\\", \\\"azureml-mlflow\\\": \\\"1.19.0\\\", \\\"azureml-interpret\\\": \\\"1.19.0\\\", \\\"azureml-explain-model\\\": \\\"1.19.0\\\", \\\"azureml-defaults\\\": \\\"1.19.0\\\", \\\"azureml-dataset-runtime\\\": \\\"1.19.0.post1\\\", \\\"azureml-dataprep\\\": \\\"2.6.1\\\", \\\"azureml-dataprep-rslex\\\": \\\"1.4.0\\\", \\\"azureml-dataprep-native\\\": \\\"26.0.0\\\", \\\"azureml-datadrift\\\": \\\"1.19.0\\\", \\\"azureml-core\\\": \\\"1.19.0\\\", \\\"azureml-contrib-services\\\": \\\"1.19.0\\\", \\\"azureml-contrib-server\\\": \\\"1.19.0\\\", \\\"azureml-contrib-reinforcementlearning\\\": \\\"1.19.0\\\", \\\"azureml-contrib-pipeline-steps\\\": \\\"1.19.0\\\", \\\"azureml-contrib-notebook\\\": \\\"1.19.0\\\", \\\"azureml-contrib-interpret\\\": \\\"1.19.0\\\", \\\"azureml-contrib-gbdt\\\": \\\"1.19.0\\\", \\\"azureml-contrib-fairness\\\": \\\"1.19.0\\\", \\\"azureml-contrib-dataset\\\": \\\"1.19.0\\\", \\\"azureml-cli-common\\\": \\\"1.19.0\\\", \\\"azureml-automl-runtime\\\": \\\"1.19.0\\\", \\\"azureml-automl-core\\\": \\\"1.19.0\\\", \\\"azureml-accel-models\\\": \\\"1.19.0\\\"}\", \"_aml_system_scenario_identification\": \"Remote.Parent\", \"ClientType\": \"SDK\", \"environment_cpu_name\": \"AzureML-AutoML\", \"environment_cpu_label\": \"prod\", \"environment_gpu_name\": \"AzureML-AutoML-GPU\", \"environment_gpu_label\": \"prod\", \"root_attribution\": \"automl\", \"attribution\": \"AutoML\", \"Orchestrator\": \"AutoML\", \"CancelUri\": \"https://southcentralus.experiments.azureml.net/jasmine/v1.0/subscriptions/81cefad3-d2c9-4f77-a466-99a7f541c7bb/resourceGroups/aml-quickstarts-135129/providers/Microsoft.MachineLearningServices/workspaces/quick-starts-ws-135129/experimentids/709f16fd-4f6e-4473-9272-b03974c367ce/cancel/AutoML_739a486b-b636-4691-9b3a-c587d6d1cc47\", \"ClientSdkVersion\": \"1.19.0\", \"snapshotId\": \"00000000-0000-0000-0000-000000000000\", \"SetupRunId\": \"AutoML_739a486b-b636-4691-9b3a-c587d6d1cc47_setup\", \"SetupRunContainerId\": \"dcid.AutoML_739a486b-b636-4691-9b3a-c587d6d1cc47_setup\", \"FeaturizationRunJsonPath\": \"featurizer_container.json\", \"FeaturizationRunId\": \"AutoML_739a486b-b636-4691-9b3a-c587d6d1cc47_featurize\", \"ProblemInfoJsonString\": \"{\\\"dataset_num_categorical\\\": 0, \\\"is_sparse\\\": true, \\\"subsampling\\\": false, \\\"dataset_classes\\\": 2, \\\"dataset_features\\\": 6971, \\\"dataset_samples\\\": 891, \\\"single_frequency_class_detected\\\": false}\", \"ModelExplainRunId\": \"AutoML_739a486b-b636-4691-9b3a-c587d6d1cc47_ModelExplain\"}, \"tags\": {\"model_explain_run\": \"best_run\", \"_aml_system_azureml.automlComponent\": \"AutoML\", \"pipeline_id\": \"\", \"score\": \"\", \"predicted_cost\": \"\", \"fit_time\": \"\", \"training_percent\": \"\", \"iteration\": \"\", \"run_preprocessor\": \"\", \"run_algorithm\": \"\", \"dynamic_whitelisting_iterations\": \"<22>;\", \"automl_best_child_run_id\": \"AutoML_739a486b-b636-4691-9b3a-c587d6d1cc47_29\", \"model_explain_best_run_child_id\": \"AutoML_739a486b-b636-4691-9b3a-c587d6d1cc47_29\"}, \"end_time_utc\": \"2021-01-17T22:53:44.867606Z\", \"status\": \"Completed\", \"log_files\": {}, \"log_groups\": [], \"run_duration\": \"0:53:12\"}, \"child_runs\": [{\"run_id\": \"AutoML_739a486b-b636-4691-9b3a-c587d6d1cc47_0\", \"run_number\": 5, \"metric\": null, \"status\": \"Completed\", \"run_type\": \"azureml.scriptrun\", \"training_percent\": \"100\", \"start_time\": \"2021-01-17T22:27:28.001611Z\", \"end_time\": \"2021-01-17T22:34:26.488004Z\", \"created_time\": \"2021-01-17T22:23:29.29025Z\", \"created_time_dt\": \"2021-01-17T22:23:29.29025Z\", \"duration\": \"0:10:57\", \"iteration\": \"0\", \"goal\": \"accuracy_max\", \"run_name\": \"MaxAbsScaler, LightGBM\", \"run_properties\": \"copy=True\", \"primary_metric\": 0.82267166, \"best_metric\": 0.82267166}, {\"run_id\": \"AutoML_739a486b-b636-4691-9b3a-c587d6d1cc47_2\", \"run_number\": 6, \"metric\": null, \"status\": \"Completed\", \"run_type\": \"azureml.scriptrun\", \"training_percent\": \"100\", \"start_time\": \"2021-01-17T22:27:30.599466Z\", \"end_time\": \"2021-01-17T22:34:17.624153Z\", \"created_time\": \"2021-01-17T22:23:29.332731Z\", \"created_time_dt\": \"2021-01-17T22:23:29.332731Z\", \"duration\": \"0:10:48\", \"iteration\": \"2\", \"goal\": \"accuracy_max\", \"run_name\": \"MaxAbsScaler, RandomForest\", \"run_properties\": \"copy=True\", \"primary_metric\": 0.78449438, \"best_metric\": 0.82267166}, {\"run_id\": \"AutoML_739a486b-b636-4691-9b3a-c587d6d1cc47_5\", \"run_number\": 7, \"metric\": null, \"status\": \"Completed\", \"run_type\": \"azureml.scriptrun\", \"training_percent\": \"100\", \"start_time\": \"2021-01-17T22:27:32.427079Z\", \"end_time\": \"2021-01-17T22:34:18.689993Z\", \"created_time\": \"2021-01-17T22:23:29.352204Z\", \"created_time_dt\": \"2021-01-17T22:23:29.352204Z\", \"duration\": \"0:10:49\", \"iteration\": \"5\", \"goal\": \"accuracy_max\", \"run_name\": \"MaxAbsScaler, RandomForest\", \"run_properties\": \"copy=True\", \"primary_metric\": 0.78675406, \"best_metric\": 0.82267166}, {\"run_id\": \"AutoML_739a486b-b636-4691-9b3a-c587d6d1cc47_7\", \"run_number\": 8, \"metric\": null, \"status\": \"Completed\", \"run_type\": \"azureml.scriptrun\", \"training_percent\": \"100\", \"start_time\": \"2021-01-17T22:27:30.89977Z\", \"end_time\": \"2021-01-17T22:34:30.896668Z\", \"created_time\": \"2021-01-17T22:23:29.377101Z\", \"created_time_dt\": \"2021-01-17T22:23:29.377101Z\", \"duration\": \"0:11:01\", \"iteration\": \"7\", \"goal\": \"accuracy_max\", \"run_name\": \"StandardScalerWrapper, XGBoostClassifier\", \"run_properties\": \"<azureml.automl.runtime.shared.model_wrappers.StandardScalerWrapper object at 0x7f6b2740fdd8\", \"primary_metric\": 0.76765293, \"best_metric\": 0.82267166}, {\"run_id\": \"AutoML_739a486b-b636-4691-9b3a-c587d6d1cc47_6\", \"run_number\": 9, \"metric\": null, \"status\": \"Completed\", \"run_type\": \"azureml.scriptrun\", \"training_percent\": \"100\", \"start_time\": \"2021-01-17T22:23:40.120705Z\", \"end_time\": \"2021-01-17T22:28:59.945273Z\", \"created_time\": \"2021-01-17T22:23:29.390229Z\", \"created_time_dt\": \"2021-01-17T22:23:29.390229Z\", \"duration\": \"0:05:30\", \"iteration\": \"6\", \"goal\": \"accuracy_max\", \"run_name\": \"MaxAbsScaler, LogisticRegression\", \"run_properties\": \"copy=True\", \"primary_metric\": 0.80581773, \"best_metric\": 0.82267166}, {\"run_id\": \"AutoML_739a486b-b636-4691-9b3a-c587d6d1cc47_1\", \"run_number\": 10, \"metric\": null, \"status\": \"Completed\", \"run_type\": \"azureml.scriptrun\", \"training_percent\": \"100\", \"start_time\": \"2021-01-17T22:24:13.803767Z\", \"end_time\": \"2021-01-17T22:30:08.863622Z\", \"created_time\": \"2021-01-17T22:23:29.417163Z\", \"created_time_dt\": \"2021-01-17T22:23:29.417163Z\", \"duration\": \"0:06:39\", \"iteration\": \"1\", \"goal\": \"accuracy_max\", \"run_name\": \"MaxAbsScaler, XGBoostClassifier\", \"run_properties\": \"copy=True\", \"primary_metric\": 0.81031211, \"best_metric\": 0.82267166}, {\"run_id\": \"AutoML_739a486b-b636-4691-9b3a-c587d6d1cc47_4\", \"run_number\": 11, \"metric\": null, \"status\": \"Completed\", \"run_type\": \"azureml.scriptrun\", \"training_percent\": \"100\", \"start_time\": \"2021-01-17T22:27:29.491934Z\", \"end_time\": \"2021-01-17T22:34:25.805766Z\", \"created_time\": \"2021-01-17T22:23:29.381538Z\", \"created_time_dt\": \"2021-01-17T22:23:29.381538Z\", \"duration\": \"0:10:56\", \"iteration\": \"4\", \"goal\": \"accuracy_max\", \"run_name\": \"MaxAbsScaler, RandomForest\", \"run_properties\": \"copy=True\", \"primary_metric\": 0.61409488, \"best_metric\": 0.82267166}, {\"run_id\": \"AutoML_739a486b-b636-4691-9b3a-c587d6d1cc47_8\", \"run_number\": 12, \"metric\": null, \"status\": \"Completed\", \"run_type\": \"azureml.scriptrun\", \"training_percent\": \"100\", \"start_time\": \"2021-01-17T22:27:42.410723Z\", \"end_time\": \"2021-01-17T22:34:53.721595Z\", \"created_time\": \"2021-01-17T22:23:29.418466Z\", \"created_time_dt\": \"2021-01-17T22:23:29.418466Z\", \"duration\": \"0:11:24\", \"iteration\": \"8\", \"goal\": \"accuracy_max\", \"run_name\": \"TruncatedSVDWrapper, XGBoostClassifier\", \"run_properties\": \"n_components=0.5542105263157895, random_state=None\", \"primary_metric\": 0.81142322, \"best_metric\": 0.82267166}, {\"run_id\": \"AutoML_739a486b-b636-4691-9b3a-c587d6d1cc47_3\", \"run_number\": 13, \"metric\": null, \"status\": \"Completed\", \"run_type\": \"azureml.scriptrun\", \"training_percent\": \"100\", \"start_time\": \"2021-01-17T22:27:35.417057Z\", \"end_time\": \"2021-01-17T22:34:39.601488Z\", \"created_time\": \"2021-01-17T22:23:29.380138Z\", \"created_time_dt\": \"2021-01-17T22:23:29.380138Z\", \"duration\": \"0:11:10\", \"iteration\": \"3\", \"goal\": \"accuracy_max\", \"run_name\": \"MaxAbsScaler, RandomForest\", \"run_properties\": \"copy=True\", \"primary_metric\": 0.62846442, \"best_metric\": 0.82267166}, {\"run_id\": \"AutoML_739a486b-b636-4691-9b3a-c587d6d1cc47_9\", \"run_number\": 14, \"metric\": null, \"status\": \"Completed\", \"run_type\": \"azureml.scriptrun\", \"training_percent\": \"100\", \"start_time\": \"2021-01-17T22:29:49.461653Z\", \"end_time\": \"2021-01-17T22:35:16.881917Z\", \"created_time\": \"2021-01-17T22:29:04.259188Z\", \"created_time_dt\": \"2021-01-17T22:29:04.259188Z\", \"duration\": \"0:06:12\", \"iteration\": \"9\", \"goal\": \"accuracy_max\", \"run_name\": \"MaxAbsScaler, LightGBM\", \"run_properties\": \"copy=True\", \"primary_metric\": 0.80466916, \"best_metric\": 0.82267166}, {\"run_id\": \"AutoML_739a486b-b636-4691-9b3a-c587d6d1cc47_10\", \"run_number\": 15, \"metric\": null, \"status\": \"Completed\", \"run_type\": \"azureml.scriptrun\", \"training_percent\": \"100\", \"start_time\": \"2021-01-17T22:30:55.258769Z\", \"end_time\": \"2021-01-17T22:36:22.117136Z\", \"created_time\": \"2021-01-17T22:30:13.679572Z\", \"created_time_dt\": \"2021-01-17T22:30:13.679572Z\", \"duration\": \"0:06:08\", \"iteration\": \"10\", \"goal\": \"accuracy_max\", \"run_name\": \"MaxAbsScaler, LightGBM\", \"run_properties\": \"copy=True\", \"primary_metric\": 0.81931336, \"best_metric\": 0.82267166}, {\"run_id\": \"AutoML_739a486b-b636-4691-9b3a-c587d6d1cc47_11\", \"run_number\": 16, \"metric\": null, \"status\": \"Completed\", \"run_type\": \"azureml.scriptrun\", \"training_percent\": \"100\", \"start_time\": \"2021-01-17T22:34:33.085756Z\", \"end_time\": \"2021-01-17T22:41:35.536615Z\", \"created_time\": \"2021-01-17T22:34:20.445022Z\", \"created_time_dt\": \"2021-01-17T22:34:20.445022Z\", \"duration\": \"0:07:15\", \"iteration\": \"11\", \"goal\": \"accuracy_max\", \"run_name\": \"MaxAbsScaler, RandomForest\", \"run_properties\": \"copy=True\", \"primary_metric\": 0.78449438, \"best_metric\": 0.82267166}, {\"run_id\": \"AutoML_739a486b-b636-4691-9b3a-c587d6d1cc47_12\", \"run_number\": 17, \"metric\": null, \"status\": \"Completed\", \"run_type\": \"azureml.scriptrun\", \"training_percent\": \"100\", \"start_time\": \"2021-01-17T22:35:01.197699Z\", \"end_time\": \"2021-01-17T22:40:32.817485Z\", \"created_time\": \"2021-01-17T22:34:25.990451Z\", \"created_time_dt\": \"2021-01-17T22:34:25.990451Z\", \"duration\": \"0:06:06\", \"iteration\": \"12\", \"goal\": \"accuracy_max\", \"run_name\": \"SparseNormalizer, XGBoostClassifier\", \"run_properties\": \"<azureml.automl.runtime.shared.model_wrappers.SparseNormalizer object at 0x7ffb0c3ec4e0\", \"primary_metric\": 0.81143571, \"best_metric\": 0.82267166}, {\"run_id\": \"AutoML_739a486b-b636-4691-9b3a-c587d6d1cc47_13\", \"run_number\": 18, \"metric\": null, \"status\": \"Completed\", \"run_type\": \"azureml.scriptrun\", \"training_percent\": \"100\", \"start_time\": \"2021-01-17T22:35:05.015147Z\", \"end_time\": \"2021-01-17T22:40:28.523456Z\", \"created_time\": \"2021-01-17T22:34:30.252192Z\", \"created_time_dt\": \"2021-01-17T22:34:30.252192Z\", \"duration\": \"0:05:58\", \"iteration\": \"13\", \"goal\": \"accuracy_max\", \"run_name\": \"SparseNormalizer, LightGBM\", \"run_properties\": \"<azureml.automl.runtime.shared.model_wrappers.SparseNormalizer object at 0x7fa0bb7feba8\", \"primary_metric\": 0.80357054, \"best_metric\": 0.82267166}, {\"run_id\": \"AutoML_739a486b-b636-4691-9b3a-c587d6d1cc47_14\", \"run_number\": 19, \"metric\": null, \"status\": \"Completed\", \"run_type\": \"azureml.scriptrun\", \"training_percent\": \"100\", \"start_time\": \"2021-01-17T22:35:14.028724Z\", \"end_time\": \"2021-01-17T22:40:44.92426Z\", \"created_time\": \"2021-01-17T22:34:30.267685Z\", \"created_time_dt\": \"2021-01-17T22:34:30.267685Z\", \"duration\": \"0:06:14\", \"iteration\": \"14\", \"goal\": \"accuracy_max\", \"run_name\": \"SparseNormalizer, XGBoostClassifier\", \"run_properties\": \"<azureml.automl.runtime.shared.model_wrappers.SparseNormalizer object at 0x7f952a554908\", \"primary_metric\": 0.81818976, \"best_metric\": 0.82267166}, {\"run_id\": \"AutoML_739a486b-b636-4691-9b3a-c587d6d1cc47_15\", \"run_number\": 20, \"metric\": null, \"status\": \"Completed\", \"run_type\": \"azureml.scriptrun\", \"training_percent\": \"100\", \"start_time\": \"2021-01-17T22:35:16.163786Z\", \"end_time\": \"2021-01-17T22:40:47.116214Z\", \"created_time\": \"2021-01-17T22:34:34.18076Z\", \"created_time_dt\": \"2021-01-17T22:34:34.18076Z\", \"duration\": \"0:06:12\", \"iteration\": \"15\", \"goal\": \"accuracy_max\", \"run_name\": \"MaxAbsScaler, LightGBM\", \"run_properties\": \"copy=True\", \"primary_metric\": 0.81816479, \"best_metric\": 0.82267166}, {\"run_id\": \"AutoML_739a486b-b636-4691-9b3a-c587d6d1cc47_16\", \"run_number\": 21, \"metric\": null, \"status\": \"Completed\", \"run_type\": \"azureml.scriptrun\", \"training_percent\": \"100\", \"start_time\": \"2021-01-17T22:35:20.290649Z\", \"end_time\": \"2021-01-17T22:40:53.242167Z\", \"created_time\": \"2021-01-17T22:34:41.66329Z\", \"created_time_dt\": \"2021-01-17T22:34:41.66329Z\", \"duration\": \"0:06:11\", \"iteration\": \"16\", \"goal\": \"accuracy_max\", \"run_name\": \"MaxAbsScaler, LightGBM\", \"run_properties\": \"copy=True\", \"primary_metric\": 0.80917603, \"best_metric\": 0.82267166}, {\"run_id\": \"AutoML_739a486b-b636-4691-9b3a-c587d6d1cc47_17\", \"run_number\": 22, \"metric\": null, \"status\": \"Completed\", \"run_type\": \"azureml.scriptrun\", \"training_percent\": \"100\", \"start_time\": \"2021-01-17T22:35:19.28867Z\", \"end_time\": \"2021-01-17T22:40:48.727277Z\", \"created_time\": \"2021-01-17T22:34:55.644422Z\", \"created_time_dt\": \"2021-01-17T22:34:55.644422Z\", \"duration\": \"0:05:53\", \"iteration\": \"17\", \"goal\": \"accuracy_max\", \"run_name\": \"StandardScalerWrapper, RandomForest\", \"run_properties\": \"<azureml.automl.runtime.shared.model_wrappers.StandardScalerWrapper object at 0x7f925f376048\", \"primary_metric\": 0.80917603, \"best_metric\": 0.82267166}, {\"run_id\": \"AutoML_739a486b-b636-4691-9b3a-c587d6d1cc47_18\", \"run_number\": 23, \"metric\": null, \"status\": \"Completed\", \"run_type\": \"azureml.scriptrun\", \"training_percent\": \"100\", \"start_time\": \"2021-01-17T22:35:37.428698Z\", \"end_time\": \"2021-01-17T22:41:08.21481Z\", \"created_time\": \"2021-01-17T22:35:18.768344Z\", \"created_time_dt\": \"2021-01-17T22:35:18.768344Z\", \"duration\": \"0:05:49\", \"iteration\": \"18\", \"goal\": \"accuracy_max\", \"run_name\": \"SparseNormalizer, XGBoostClassifier\", \"run_properties\": \"<azureml.automl.runtime.shared.model_wrappers.SparseNormalizer object at 0x7fae8b19c160\", \"primary_metric\": 0.809201, \"best_metric\": 0.82267166}, {\"run_id\": \"AutoML_739a486b-b636-4691-9b3a-c587d6d1cc47_19\", \"run_number\": 24, \"metric\": null, \"status\": \"Completed\", \"run_type\": \"azureml.scriptrun\", \"training_percent\": \"100\", \"start_time\": \"2021-01-17T22:36:37.381048Z\", \"end_time\": \"2021-01-17T22:42:03.467196Z\", \"created_time\": \"2021-01-17T22:36:24.032327Z\", \"created_time_dt\": \"2021-01-17T22:36:24.032327Z\", \"duration\": \"0:05:39\", \"iteration\": \"19\", \"goal\": \"accuracy_max\", \"run_name\": \"StandardScalerWrapper, XGBoostClassifier\", \"run_properties\": \"<azureml.automl.runtime.shared.model_wrappers.StandardScalerWrapper object at 0x7f495728cf60\", \"primary_metric\": 0.79912609, \"best_metric\": 0.82267166}, {\"run_id\": \"AutoML_739a486b-b636-4691-9b3a-c587d6d1cc47_20\", \"run_number\": 25, \"metric\": null, \"status\": \"Completed\", \"run_type\": \"azureml.scriptrun\", \"training_percent\": \"100\", \"start_time\": \"2021-01-17T22:40:45.615289Z\", \"end_time\": \"2021-01-17T22:46:18.099549Z\", \"created_time\": \"2021-01-17T22:40:32.741743Z\", \"created_time_dt\": \"2021-01-17T22:40:32.741743Z\", \"duration\": \"0:05:45\", \"iteration\": \"20\", \"goal\": \"accuracy_max\", \"run_name\": \"SparseNormalizer, XGBoostClassifier\", \"run_properties\": \"<azureml.automl.runtime.shared.model_wrappers.SparseNormalizer object at 0x7f3aa9fb1c50\", \"primary_metric\": 0.80917603, \"best_metric\": 0.82267166}, {\"run_id\": \"AutoML_739a486b-b636-4691-9b3a-c587d6d1cc47_21\", \"run_number\": 26, \"metric\": null, \"status\": \"Canceled\", \"run_type\": \"azureml.scriptrun\", \"training_percent\": \"100\", \"start_time\": \"2021-01-17T22:41:25.070449Z\", \"end_time\": \"2021-01-17T22:46:28.197218Z\", \"created_time\": \"2021-01-17T22:40:40.371134Z\", \"created_time_dt\": \"2021-01-17T22:40:40.371134Z\", \"duration\": \"0:05:47\", \"iteration\": \"21\", \"goal\": \"accuracy_max\", \"run_name\": \"MaxAbsScaler, RandomForest\", \"run_properties\": \"copy=True\", \"primary_metric\": 0.78675406, \"best_metric\": 0.82267166}, {\"run_id\": \"AutoML_739a486b-b636-4691-9b3a-c587d6d1cc47_22\", \"run_number\": 27, \"metric\": null, \"status\": \"Canceled\", \"run_type\": \"azureml.scriptrun\", \"training_percent\": \"100\", \"start_time\": \"2021-01-17T22:42:04.234573Z\", \"end_time\": \"2021-01-17T22:46:27.98645Z\", \"created_time\": \"2021-01-17T22:41:50.201797Z\", \"created_time_dt\": \"2021-01-17T22:41:50.201797Z\", \"duration\": \"0:04:37\", \"iteration\": \"22\", \"goal\": \"accuracy_max\", \"run_name\": \"MaxAbsScaler, LightGBM\", \"run_properties\": \"copy=True\", \"primary_metric\": 0.81480649, \"best_metric\": 0.82267166}, {\"run_id\": \"AutoML_739a486b-b636-4691-9b3a-c587d6d1cc47_27\", \"run_number\": 28, \"metric\": null, \"status\": \"Canceled\", \"run_type\": \"azureml.scriptrun\", \"training_percent\": \"100\", \"start_time\": \"2021-01-17T22:42:03.804079Z\", \"end_time\": \"2021-01-17T22:46:27.140558Z\", \"created_time\": \"2021-01-17T22:41:50.24872Z\", \"created_time_dt\": \"2021-01-17T22:41:50.24872Z\", \"duration\": \"0:04:36\", \"iteration\": \"27\", \"goal\": \"accuracy_max\", \"run_name\": \"StandardScalerWrapper, LightGBM\", \"run_properties\": \"<azureml.automl.runtime.shared.model_wrappers.StandardScalerWrapper object at 0x7f90eb2c9ef0\", \"primary_metric\": 0.81144819, \"best_metric\": 0.82267166}, {\"run_id\": \"AutoML_739a486b-b636-4691-9b3a-c587d6d1cc47_23\", \"run_number\": 29, \"metric\": null, \"status\": \"Canceled\", \"run_type\": \"azureml.scriptrun\", \"training_percent\": \"100\", \"start_time\": \"2021-01-17T22:42:15.74046Z\", \"end_time\": \"2021-01-17T22:46:26.462623Z\", \"created_time\": \"2021-01-17T22:41:50.265533Z\", \"created_time_dt\": \"2021-01-17T22:41:50.265533Z\", \"duration\": \"0:04:36\", \"iteration\": \"23\", \"goal\": \"accuracy_max\", \"run_name\": \"MaxAbsScaler, LogisticRegression\", \"run_properties\": \"copy=True\", \"primary_metric\": 0.80358302, \"best_metric\": 0.82267166}, {\"run_id\": \"AutoML_739a486b-b636-4691-9b3a-c587d6d1cc47_24\", \"run_number\": 30, \"metric\": null, \"status\": \"Canceled\", \"run_type\": \"azureml.scriptrun\", \"training_percent\": \"100\", \"start_time\": \"2021-01-17T22:42:04.090426Z\", \"end_time\": \"2021-01-17T22:46:27.624356Z\", \"created_time\": \"2021-01-17T22:41:50.275625Z\", \"created_time_dt\": \"2021-01-17T22:41:50.275625Z\", \"duration\": \"0:04:37\", \"iteration\": \"24\", \"goal\": \"accuracy_max\", \"run_name\": \"MaxAbsScaler, LightGBM\", \"run_properties\": \"copy=True\", \"primary_metric\": 0.79459426, \"best_metric\": 0.82267166}, {\"run_id\": \"AutoML_739a486b-b636-4691-9b3a-c587d6d1cc47_25\", \"run_number\": 31, \"metric\": null, \"status\": \"Canceled\", \"run_type\": \"azureml.scriptrun\", \"training_percent\": \"100\", \"start_time\": \"2021-01-17T22:42:03.932956Z\", \"end_time\": \"2021-01-17T22:46:27.253923Z\", \"created_time\": \"2021-01-17T22:41:50.241594Z\", \"created_time_dt\": \"2021-01-17T22:41:50.241594Z\", \"duration\": \"0:04:37\", \"iteration\": \"25\", \"goal\": \"accuracy_max\", \"run_name\": \"MaxAbsScaler, LogisticRegression\", \"run_properties\": \"copy=True\", \"primary_metric\": 0.80583021, \"best_metric\": 0.82267166}, {\"run_id\": \"AutoML_739a486b-b636-4691-9b3a-c587d6d1cc47_26\", \"run_number\": 32, \"metric\": null, \"status\": \"Canceled\", \"run_type\": \"azureml.scriptrun\", \"training_percent\": \"100\", \"start_time\": \"2021-01-17T22:42:01.860358Z\", \"end_time\": \"2021-01-17T22:46:28.664183Z\", \"created_time\": \"2021-01-17T22:41:50.2723Z\", \"created_time_dt\": \"2021-01-17T22:41:50.2723Z\", \"duration\": \"0:04:38\", \"iteration\": \"26\", \"goal\": \"accuracy_max\", \"run_name\": \"MaxAbsScaler, LightGBM\", \"run_properties\": \"copy=True\", \"primary_metric\": 0.80806492, \"best_metric\": 0.82267166}, {\"run_id\": \"AutoML_739a486b-b636-4691-9b3a-c587d6d1cc47_28\", \"run_number\": 33, \"metric\": null, \"status\": \"Canceled\", \"run_type\": \"azureml.scriptrun\", \"training_percent\": \"100\", \"start_time\": \"2021-01-17T22:42:27.17905Z\", \"end_time\": \"2021-01-17T22:46:25.805757Z\", \"created_time\": \"2021-01-17T22:42:09.614661Z\", \"created_time_dt\": \"2021-01-17T22:42:09.614661Z\", \"duration\": \"0:04:16\", \"iteration\": \"28\", \"goal\": \"accuracy_max\", \"run_name\": \"SparseNormalizer, LightGBM\", \"run_properties\": \"<azureml.automl.runtime.shared.model_wrappers.SparseNormalizer object at 0x7f95b71d0278\", \"primary_metric\": 0.81257179, \"best_metric\": 0.82267166}, {\"run_id\": \"AutoML_739a486b-b636-4691-9b3a-c587d6d1cc47_29\", \"run_number\": 34, \"metric\": null, \"status\": \"Completed\", \"run_type\": \"azureml.scriptrun\", \"training_percent\": \"100\", \"start_time\": \"2021-01-17T22:46:43.24175Z\", \"end_time\": \"2021-01-17T22:53:27.635397Z\", \"created_time\": \"2021-01-17T22:46:29.728997Z\", \"created_time_dt\": \"2021-01-17T22:46:29.728997Z\", \"duration\": \"0:06:57\", \"iteration\": \"29\", \"goal\": \"accuracy_max\", \"run_name\": \"VotingEnsemble\", \"run_properties\": \"classification_labels=None,\\n                              estimators=[('0',\\n                                           Pipeline(memory=None,\\n                                                    steps=[('maxabsscaler',\\n                                                            MaxAbsScaler(copy=True\", \"primary_metric\": 0.8339201, \"best_metric\": 0.8339201}, {\"run_id\": \"AutoML_739a486b-b636-4691-9b3a-c587d6d1cc47_30\", \"run_number\": 35, \"metric\": null, \"status\": \"Completed\", \"run_type\": \"azureml.scriptrun\", \"training_percent\": \"100\", \"start_time\": \"2021-01-17T22:46:43.273424Z\", \"end_time\": \"2021-01-17T22:53:27.335822Z\", \"created_time\": \"2021-01-17T22:46:29.759465Z\", \"created_time_dt\": \"2021-01-17T22:46:29.759465Z\", \"duration\": \"0:06:57\", \"iteration\": \"30\", \"goal\": \"accuracy_max\", \"run_name\": \"StackEnsemble\", \"run_properties\": \"base_learners=[('0',\\n                                        Pipeline(memory=None,\\n                                                 steps=[('maxabsscaler',\\n                                                         MaxAbsScaler(copy=True\", \"primary_metric\": 0.82491885, \"best_metric\": 0.8339201}], \"children_metrics\": {\"categories\": [0], \"series\": {\"balanced_accuracy\": [{\"categories\": [\"0\", \"1\", \"2\", \"3\", \"4\", \"5\", \"6\", \"7\", \"8\", \"9\", \"10\", \"11\", \"12\", \"13\", \"14\", \"15\", \"16\", \"17\", \"18\", \"19\", \"20\", \"21\", \"22\", \"23\", \"24\", \"25\", \"26\", \"27\", \"28\", \"29\", \"30\"], \"mode\": \"markers\", \"name\": \"balanced_accuracy\", \"stepped\": false, \"type\": \"scatter\", \"data\": [0.8034269223219136, 0.788019929269227, 0.7684727627851785, 0.5187087342010941, 0.6385658569973209, 0.7816957881156213, 0.784444468640829, 0.7480486907613788, 0.7835122789411257, 0.7674031596850762, 0.7980180805781047, 0.7690455846490265, 0.7812670539449086, 0.7811242203728227, 0.794065984012203, 0.7916563108599192, 0.7873598743819489, 0.7893947200739687, 0.783476637521521, 0.777340296107381, 0.7842644352065425, 0.7763878531146355, 0.7926419882627622, 0.7834406679586154, 0.7725720122793087, 0.7859187187823118, 0.7861689536400694, 0.7938832251723821, 0.790765498901951, 0.8116031726162211, 0.8011525362213122]}, {\"categories\": [\"0\", \"1\", \"2\", \"3\", \"4\", \"5\", \"6\", \"7\", \"8\", \"9\", \"10\", \"11\", \"12\", \"13\", \"14\", \"15\", \"16\", \"17\", \"18\", \"19\", \"20\", \"21\", \"22\", \"23\", \"24\", \"25\", \"26\", \"27\", \"28\", \"29\", \"30\"], \"mode\": \"lines\", \"name\": \"balanced_accuracy_max\", \"stepped\": true, \"type\": \"scatter\", \"data\": [0.8034269223219136, 0.8034269223219136, 0.8034269223219136, 0.8034269223219136, 0.8034269223219136, 0.8034269223219136, 0.8034269223219136, 0.8034269223219136, 0.8034269223219136, 0.8034269223219136, 0.8034269223219136, 0.8034269223219136, 0.8034269223219136, 0.8034269223219136, 0.8034269223219136, 0.8034269223219136, 0.8034269223219136, 0.8034269223219136, 0.8034269223219136, 0.8034269223219136, 0.8034269223219136, 0.8034269223219136, 0.8034269223219136, 0.8034269223219136, 0.8034269223219136, 0.8034269223219136, 0.8034269223219136, 0.8034269223219136, 0.8034269223219136, 0.8116031726162211, 0.8116031726162211]}], \"precision_score_micro\": [{\"categories\": [\"0\", \"1\", \"2\", \"3\", \"4\", \"5\", \"6\", \"7\", \"8\", \"9\", \"10\", \"11\", \"12\", \"13\", \"14\", \"15\", \"16\", \"17\", \"18\", \"19\", \"20\", \"21\", \"22\", \"23\", \"24\", \"25\", \"26\", \"27\", \"28\", \"29\", \"30\"], \"mode\": \"markers\", \"name\": \"precision_score_micro\", \"stepped\": false, \"type\": \"scatter\", \"data\": [0.8226716604244695, 0.8103121098626715, 0.7844943820224719, 0.6284644194756555, 0.6140948813982522, 0.7867540574282147, 0.8058177278401997, 0.7676529338327092, 0.8114232209737826, 0.8046691635455678, 0.8193133583021224, 0.7844943820224719, 0.8114357053682897, 0.8035705368289637, 0.8181897627965045, 0.8181647940074905, 0.8091760299625468, 0.8091760299625468, 0.8092009987515606, 0.7991260923845193, 0.8091760299625468, 0.7867540574282147, 0.8148064918851435, 0.8035830212234707, 0.7945942571785268, 0.8058302122347067, 0.8080649188514357, 0.8114481897627964, 0.8125717852684143, 0.8339200998751559, 0.8249188514357053]}, {\"categories\": [\"0\", \"1\", \"2\", \"3\", \"4\", \"5\", \"6\", \"7\", \"8\", \"9\", \"10\", \"11\", \"12\", \"13\", \"14\", \"15\", \"16\", \"17\", \"18\", \"19\", \"20\", \"21\", \"22\", \"23\", \"24\", \"25\", \"26\", \"27\", \"28\", \"29\", \"30\"], \"mode\": \"lines\", \"name\": \"precision_score_micro_max\", \"stepped\": true, \"type\": \"scatter\", \"data\": [0.8226716604244695, 0.8226716604244695, 0.8226716604244695, 0.8226716604244695, 0.8226716604244695, 0.8226716604244695, 0.8226716604244695, 0.8226716604244695, 0.8226716604244695, 0.8226716604244695, 0.8226716604244695, 0.8226716604244695, 0.8226716604244695, 0.8226716604244695, 0.8226716604244695, 0.8226716604244695, 0.8226716604244695, 0.8226716604244695, 0.8226716604244695, 0.8226716604244695, 0.8226716604244695, 0.8226716604244695, 0.8226716604244695, 0.8226716604244695, 0.8226716604244695, 0.8226716604244695, 0.8226716604244695, 0.8226716604244695, 0.8226716604244695, 0.8339200998751559, 0.8339200998751559]}], \"accuracy\": [{\"categories\": [\"0\", \"1\", \"2\", \"3\", \"4\", \"5\", \"6\", \"7\", \"8\", \"9\", \"10\", \"11\", \"12\", \"13\", \"14\", \"15\", \"16\", \"17\", \"18\", \"19\", \"20\", \"21\", \"22\", \"23\", \"24\", \"25\", \"26\", \"27\", \"28\", \"29\", \"30\"], \"mode\": \"markers\", \"name\": \"accuracy\", \"stepped\": false, \"type\": \"scatter\", \"data\": [0.8226716604244695, 0.8103121098626715, 0.7844943820224719, 0.6284644194756555, 0.6140948813982522, 0.7867540574282147, 0.8058177278401997, 0.7676529338327092, 0.8114232209737826, 0.8046691635455678, 0.8193133583021224, 0.7844943820224719, 0.8114357053682897, 0.8035705368289637, 0.8181897627965045, 0.8181647940074905, 0.8091760299625468, 0.8091760299625468, 0.8092009987515606, 0.7991260923845193, 0.8091760299625468, 0.7867540574282147, 0.8148064918851435, 0.8035830212234707, 0.7945942571785268, 0.8058302122347067, 0.8080649188514357, 0.8114481897627964, 0.8125717852684143, 0.8339200998751559, 0.8249188514357053]}, {\"categories\": [\"0\", \"1\", \"2\", \"3\", \"4\", \"5\", \"6\", \"7\", \"8\", \"9\", \"10\", \"11\", \"12\", \"13\", \"14\", \"15\", \"16\", \"17\", \"18\", \"19\", \"20\", \"21\", \"22\", \"23\", \"24\", \"25\", \"26\", \"27\", \"28\", \"29\", \"30\"], \"mode\": \"lines\", \"name\": \"accuracy_max\", \"stepped\": true, \"type\": \"scatter\", \"data\": [0.8226716604244695, 0.8226716604244695, 0.8226716604244695, 0.8226716604244695, 0.8226716604244695, 0.8226716604244695, 0.8226716604244695, 0.8226716604244695, 0.8226716604244695, 0.8226716604244695, 0.8226716604244695, 0.8226716604244695, 0.8226716604244695, 0.8226716604244695, 0.8226716604244695, 0.8226716604244695, 0.8226716604244695, 0.8226716604244695, 0.8226716604244695, 0.8226716604244695, 0.8226716604244695, 0.8226716604244695, 0.8226716604244695, 0.8226716604244695, 0.8226716604244695, 0.8226716604244695, 0.8226716604244695, 0.8226716604244695, 0.8226716604244695, 0.8339200998751559, 0.8339200998751559]}], \"average_precision_score_macro\": [{\"categories\": [\"0\", \"1\", \"2\", \"3\", \"4\", \"5\", \"6\", \"7\", \"8\", \"9\", \"10\", \"11\", \"12\", \"13\", \"14\", \"15\", \"16\", \"17\", \"18\", \"19\", \"20\", \"21\", \"22\", \"23\", \"24\", \"25\", \"26\", \"27\", \"28\", \"29\", \"30\"], \"mode\": \"markers\", \"name\": \"average_precision_score_macro\", \"stepped\": false, \"type\": \"scatter\", \"data\": [0.8379638518089463, 0.8514237299995164, 0.799246141418113, 0.7178084006744504, 0.6641687470613435, 0.7951181642400499, 0.8321204475237092, 0.8150018166090816, 0.8280777678610785, 0.8523627608143869, 0.8508950770711119, 0.8452150058777963, 0.8428420160004617, 0.8440724105386639, 0.8454883747370131, 0.8550009896446173, 0.855330241780327, 0.8566677459677374, 0.8468197387412353, 0.8500293303475047, 0.8502106710224627, 0.834983262854684, 0.8486884949290701, 0.8336495494042466, 0.8514020423362952, 0.8357752495993711, 0.8508070182355446, 0.8424442636034343, 0.8296174169161535, 0.8579209555236739, 0.8583417326540825]}, {\"categories\": [\"0\", \"1\", \"2\", \"3\", \"4\", \"5\", \"6\", \"7\", \"8\", \"9\", \"10\", \"11\", \"12\", \"13\", \"14\", \"15\", \"16\", \"17\", \"18\", \"19\", \"20\", \"21\", \"22\", \"23\", \"24\", \"25\", \"26\", \"27\", \"28\", \"29\", \"30\"], \"mode\": \"lines\", \"name\": \"average_precision_score_macro_max\", \"stepped\": true, \"type\": \"scatter\", \"data\": [0.8379638518089463, 0.8514237299995164, 0.8514237299995164, 0.8514237299995164, 0.8514237299995164, 0.8514237299995164, 0.8514237299995164, 0.8514237299995164, 0.8514237299995164, 0.8523627608143869, 0.8523627608143869, 0.8523627608143869, 0.8523627608143869, 0.8523627608143869, 0.8523627608143869, 0.8550009896446173, 0.855330241780327, 0.8566677459677374, 0.8566677459677374, 0.8566677459677374, 0.8566677459677374, 0.8566677459677374, 0.8566677459677374, 0.8566677459677374, 0.8566677459677374, 0.8566677459677374, 0.8566677459677374, 0.8566677459677374, 0.8566677459677374, 0.8579209555236739, 0.8583417326540825]}], \"f1_score_micro\": [{\"categories\": [\"0\", \"1\", \"2\", \"3\", \"4\", \"5\", \"6\", \"7\", \"8\", \"9\", \"10\", \"11\", \"12\", \"13\", \"14\", \"15\", \"16\", \"17\", \"18\", \"19\", \"20\", \"21\", \"22\", \"23\", \"24\", \"25\", \"26\", \"27\", \"28\", \"29\", \"30\"], \"mode\": \"markers\", \"name\": \"f1_score_micro\", \"stepped\": false, \"type\": \"scatter\", \"data\": [0.8226716604244695, 0.8103121098626715, 0.7844943820224719, 0.6284644194756555, 0.6140948813982522, 0.7867540574282147, 0.8058177278401997, 0.7676529338327092, 0.8114232209737826, 0.8046691635455681, 0.8193133583021224, 0.784494382022472, 0.8114357053682897, 0.8035705368289637, 0.8181897627965042, 0.8181647940074906, 0.8091760299625467, 0.8091760299625468, 0.8092009987515606, 0.7991260923845193, 0.809176029962547, 0.7867540574282147, 0.8148064918851435, 0.8035830212234707, 0.7945942571785268, 0.8058302122347065, 0.8080649188514357, 0.8114481897627964, 0.8125717852684143, 0.8339200998751561, 0.8249188514357053]}, {\"categories\": [\"0\", \"1\", \"2\", \"3\", \"4\", \"5\", \"6\", \"7\", \"8\", \"9\", \"10\", \"11\", \"12\", \"13\", \"14\", \"15\", \"16\", \"17\", \"18\", \"19\", \"20\", \"21\", \"22\", \"23\", \"24\", \"25\", \"26\", \"27\", \"28\", \"29\", \"30\"], \"mode\": \"lines\", \"name\": \"f1_score_micro_max\", \"stepped\": true, \"type\": \"scatter\", \"data\": [0.8226716604244695, 0.8226716604244695, 0.8226716604244695, 0.8226716604244695, 0.8226716604244695, 0.8226716604244695, 0.8226716604244695, 0.8226716604244695, 0.8226716604244695, 0.8226716604244695, 0.8226716604244695, 0.8226716604244695, 0.8226716604244695, 0.8226716604244695, 0.8226716604244695, 0.8226716604244695, 0.8226716604244695, 0.8226716604244695, 0.8226716604244695, 0.8226716604244695, 0.8226716604244695, 0.8226716604244695, 0.8226716604244695, 0.8226716604244695, 0.8226716604244695, 0.8226716604244695, 0.8226716604244695, 0.8226716604244695, 0.8226716604244695, 0.8339200998751561, 0.8339200998751561]}], \"recall_score_macro\": [{\"categories\": [\"0\", \"1\", \"2\", \"3\", \"4\", \"5\", \"6\", \"7\", \"8\", \"9\", \"10\", \"11\", \"12\", \"13\", \"14\", \"15\", \"16\", \"17\", \"18\", \"19\", \"20\", \"21\", \"22\", \"23\", \"24\", \"25\", \"26\", \"27\", \"28\", \"29\", \"30\"], \"mode\": \"markers\", \"name\": \"recall_score_macro\", \"stepped\": false, \"type\": \"scatter\", \"data\": [0.8034269223219136, 0.788019929269227, 0.7684727627851785, 0.5187087342010941, 0.6385658569973209, 0.7816957881156213, 0.784444468640829, 0.7480486907613788, 0.7835122789411257, 0.7674031596850762, 0.7980180805781047, 0.7690455846490265, 0.7812670539449086, 0.7811242203728227, 0.794065984012203, 0.7916563108599192, 0.7873598743819489, 0.7893947200739687, 0.783476637521521, 0.777340296107381, 0.7842644352065425, 0.7763878531146355, 0.7926419882627622, 0.7834406679586154, 0.7725720122793087, 0.7859187187823118, 0.7861689536400694, 0.7938832251723821, 0.790765498901951, 0.8116031726162211, 0.8011525362213122]}, {\"categories\": [\"0\", \"1\", \"2\", \"3\", \"4\", \"5\", \"6\", \"7\", \"8\", \"9\", \"10\", \"11\", \"12\", \"13\", \"14\", \"15\", \"16\", \"17\", \"18\", \"19\", \"20\", \"21\", \"22\", \"23\", \"24\", \"25\", \"26\", \"27\", \"28\", \"29\", \"30\"], \"mode\": \"lines\", \"name\": \"recall_score_macro_max\", \"stepped\": true, \"type\": \"scatter\", \"data\": [0.8034269223219136, 0.8034269223219136, 0.8034269223219136, 0.8034269223219136, 0.8034269223219136, 0.8034269223219136, 0.8034269223219136, 0.8034269223219136, 0.8034269223219136, 0.8034269223219136, 0.8034269223219136, 0.8034269223219136, 0.8034269223219136, 0.8034269223219136, 0.8034269223219136, 0.8034269223219136, 0.8034269223219136, 0.8034269223219136, 0.8034269223219136, 0.8034269223219136, 0.8034269223219136, 0.8034269223219136, 0.8034269223219136, 0.8034269223219136, 0.8034269223219136, 0.8034269223219136, 0.8034269223219136, 0.8034269223219136, 0.8034269223219136, 0.8116031726162211, 0.8116031726162211]}], \"average_precision_score_weighted\": [{\"categories\": [\"0\", \"1\", \"2\", \"3\", \"4\", \"5\", \"6\", \"7\", \"8\", \"9\", \"10\", \"11\", \"12\", \"13\", \"14\", \"15\", \"16\", \"17\", \"18\", \"19\", \"20\", \"21\", \"22\", \"23\", \"24\", \"25\", \"26\", \"27\", \"28\", \"29\", \"30\"], \"mode\": \"markers\", \"name\": \"average_precision_score_weighted\", \"stepped\": false, \"type\": \"scatter\", \"data\": [0.8471088847546036, 0.8611033593366635, 0.8117368771421702, 0.7412527316688255, 0.6880504682652921, 0.8136556893821927, 0.8422649701148656, 0.8272227993376792, 0.8415827486515622, 0.8596831063321628, 0.8611666330557866, 0.853691938474973, 0.8486606978082936, 0.8507010626188481, 0.8547830404441505, 0.8625023817348054, 0.8628336730283136, 0.8644134666516221, 0.8521923552608996, 0.8579198849103044, 0.8584925966309903, 0.8427286835964667, 0.8589823581009595, 0.8441780756038249, 0.8584466133367649, 0.8459959771360959, 0.857412993799976, 0.8524162679757756, 0.838345983857488, 0.8648082957690917, 0.8651983235801562]}, {\"categories\": [\"0\", \"1\", \"2\", \"3\", \"4\", \"5\", \"6\", \"7\", \"8\", \"9\", \"10\", \"11\", \"12\", \"13\", \"14\", \"15\", \"16\", \"17\", \"18\", \"19\", \"20\", \"21\", \"22\", \"23\", \"24\", \"25\", \"26\", \"27\", \"28\", \"29\", \"30\"], \"mode\": \"lines\", \"name\": \"average_precision_score_weighted_max\", \"stepped\": true, \"type\": \"scatter\", \"data\": [0.8471088847546036, 0.8611033593366635, 0.8611033593366635, 0.8611033593366635, 0.8611033593366635, 0.8611033593366635, 0.8611033593366635, 0.8611033593366635, 0.8611033593366635, 0.8611033593366635, 0.8611666330557866, 0.8611666330557866, 0.8611666330557866, 0.8611666330557866, 0.8611666330557866, 0.8625023817348054, 0.8628336730283136, 0.8644134666516221, 0.8644134666516221, 0.8644134666516221, 0.8644134666516221, 0.8644134666516221, 0.8644134666516221, 0.8644134666516221, 0.8644134666516221, 0.8644134666516221, 0.8644134666516221, 0.8644134666516221, 0.8644134666516221, 0.8648082957690917, 0.8651983235801562]}], \"f1_score_macro\": [{\"categories\": [\"0\", \"1\", \"2\", \"3\", \"4\", \"5\", \"6\", \"7\", \"8\", \"9\", \"10\", \"11\", \"12\", \"13\", \"14\", \"15\", \"16\", \"17\", \"18\", \"19\", \"20\", \"21\", \"22\", \"23\", \"24\", \"25\", \"26\", \"27\", \"28\", \"29\", \"30\"], \"mode\": \"markers\", \"name\": \"f1_score_macro\", \"stepped\": false, \"type\": \"scatter\", \"data\": [0.806610992798257, 0.7914717505129815, 0.7675540293049233, 0.41606999505178344, 0.595232653189891, 0.775664049946548, 0.7876690675846258, 0.7445561429244998, 0.7900474380411447, 0.7768593849589893, 0.8019084115368598, 0.7683386295441073, 0.7886994406022648, 0.7837185543398337, 0.798817347743802, 0.7977492619298261, 0.7908350717746073, 0.7920295417288308, 0.7882575666975492, 0.7800691077734722, 0.7888870779070338, 0.772952677443117, 0.7969354068781761, 0.7856306906961007, 0.7751350729037361, 0.7882057857026215, 0.7891613956015051, 0.7954571150854376, 0.7943044529770503, 0.8166566864405407, 0.8063585525739704]}, {\"categories\": [\"0\", \"1\", \"2\", \"3\", \"4\", \"5\", \"6\", \"7\", \"8\", \"9\", \"10\", \"11\", \"12\", \"13\", \"14\", \"15\", \"16\", \"17\", \"18\", \"19\", \"20\", \"21\", \"22\", \"23\", \"24\", \"25\", \"26\", \"27\", \"28\", \"29\", \"30\"], \"mode\": \"lines\", \"name\": \"f1_score_macro_max\", \"stepped\": true, \"type\": \"scatter\", \"data\": [0.806610992798257, 0.806610992798257, 0.806610992798257, 0.806610992798257, 0.806610992798257, 0.806610992798257, 0.806610992798257, 0.806610992798257, 0.806610992798257, 0.806610992798257, 0.806610992798257, 0.806610992798257, 0.806610992798257, 0.806610992798257, 0.806610992798257, 0.806610992798257, 0.806610992798257, 0.806610992798257, 0.806610992798257, 0.806610992798257, 0.806610992798257, 0.806610992798257, 0.806610992798257, 0.806610992798257, 0.806610992798257, 0.806610992798257, 0.806610992798257, 0.806610992798257, 0.806610992798257, 0.8166566864405407, 0.8166566864405407]}], \"AUC_macro\": [{\"categories\": [\"0\", \"1\", \"2\", \"3\", \"4\", \"5\", \"6\", \"7\", \"8\", \"9\", \"10\", \"11\", \"12\", \"13\", \"14\", \"15\", \"16\", \"17\", \"18\", \"19\", \"20\", \"21\", \"22\", \"23\", \"24\", \"25\", \"26\", \"27\", \"28\", \"29\", \"30\"], \"mode\": \"markers\", \"name\": \"AUC_macro\", \"stepped\": false, \"type\": \"scatter\", \"data\": [0.8483799494780955, 0.8600749162497359, 0.8167588425308102, 0.7500450437212538, 0.6899078175211452, 0.8142732872559939, 0.8393848453668269, 0.8412282635514498, 0.8366382524078517, 0.8593365317715908, 0.8607154580265807, 0.8495736602829623, 0.8452782097954618, 0.8510948175794363, 0.855783972794276, 0.8647449595119475, 0.8615998208616176, 0.859092090673599, 0.8512441781698696, 0.8573872303235707, 0.851206575979257, 0.8407982592236646, 0.8579595750901404, 0.8410462180987557, 0.8533661426055643, 0.8425286587777869, 0.8600814830126906, 0.8545417562668908, 0.8377707497359003, 0.8647392376143779, 0.8643216961640213]}, {\"categories\": [\"0\", \"1\", \"2\", \"3\", \"4\", \"5\", \"6\", \"7\", \"8\", \"9\", \"10\", \"11\", \"12\", \"13\", \"14\", \"15\", \"16\", \"17\", \"18\", \"19\", \"20\", \"21\", \"22\", \"23\", \"24\", \"25\", \"26\", \"27\", \"28\", \"29\", \"30\"], \"mode\": \"lines\", \"name\": \"AUC_macro_max\", \"stepped\": true, \"type\": \"scatter\", \"data\": [0.8483799494780955, 0.8600749162497359, 0.8600749162497359, 0.8600749162497359, 0.8600749162497359, 0.8600749162497359, 0.8600749162497359, 0.8600749162497359, 0.8600749162497359, 0.8600749162497359, 0.8607154580265807, 0.8607154580265807, 0.8607154580265807, 0.8607154580265807, 0.8607154580265807, 0.8647449595119475, 0.8647449595119475, 0.8647449595119475, 0.8647449595119475, 0.8647449595119475, 0.8647449595119475, 0.8647449595119475, 0.8647449595119475, 0.8647449595119475, 0.8647449595119475, 0.8647449595119475, 0.8647449595119475, 0.8647449595119475, 0.8647449595119475, 0.8647449595119475, 0.8647449595119475]}], \"average_precision_score_micro\": [{\"categories\": [\"0\", \"1\", \"2\", \"3\", \"4\", \"5\", \"6\", \"7\", \"8\", \"9\", \"10\", \"11\", \"12\", \"13\", \"14\", \"15\", \"16\", \"17\", \"18\", \"19\", \"20\", \"21\", \"22\", \"23\", \"24\", \"25\", \"26\", \"27\", \"28\", \"29\", \"30\"], \"mode\": \"markers\", \"name\": \"average_precision_score_micro\", \"stepped\": false, \"type\": \"scatter\", \"data\": [0.8461595511174709, 0.8558675633375803, 0.8119053958991526, 0.7240427051379903, 0.6583668791259022, 0.7967352545456728, 0.8408428582803491, 0.8452212105509904, 0.839271105944357, 0.8462906872906082, 0.8598049148260432, 0.8432473349184789, 0.8498126370245653, 0.8451658263680919, 0.8560828738319415, 0.8589068349166252, 0.8568002091113991, 0.8606719164297341, 0.8643068422007912, 0.859756656995106, 0.8625315193250733, 0.839490641855116, 0.8597867227017598, 0.8423424545201386, 0.8481336127346086, 0.8436222226028122, 0.8504412960499967, 0.8514314416362556, 0.8381957037599328, 0.8654519394430285, 0.863117498037486]}, {\"categories\": [\"0\", \"1\", \"2\", \"3\", \"4\", \"5\", \"6\", \"7\", \"8\", \"9\", \"10\", \"11\", \"12\", \"13\", \"14\", \"15\", \"16\", \"17\", \"18\", \"19\", \"20\", \"21\", \"22\", \"23\", \"24\", \"25\", \"26\", \"27\", \"28\", \"29\", \"30\"], \"mode\": \"lines\", \"name\": \"average_precision_score_micro_max\", \"stepped\": true, \"type\": \"scatter\", \"data\": [0.8461595511174709, 0.8558675633375803, 0.8558675633375803, 0.8558675633375803, 0.8558675633375803, 0.8558675633375803, 0.8558675633375803, 0.8558675633375803, 0.8558675633375803, 0.8558675633375803, 0.8598049148260432, 0.8598049148260432, 0.8598049148260432, 0.8598049148260432, 0.8598049148260432, 0.8598049148260432, 0.8598049148260432, 0.8606719164297341, 0.8643068422007912, 0.8643068422007912, 0.8643068422007912, 0.8643068422007912, 0.8643068422007912, 0.8643068422007912, 0.8643068422007912, 0.8643068422007912, 0.8643068422007912, 0.8643068422007912, 0.8643068422007912, 0.8654519394430285, 0.8654519394430285]}], \"f1_score_weighted\": [{\"categories\": [\"0\", \"1\", \"2\", \"3\", \"4\", \"5\", \"6\", \"7\", \"8\", \"9\", \"10\", \"11\", \"12\", \"13\", \"14\", \"15\", \"16\", \"17\", \"18\", \"19\", \"20\", \"21\", \"22\", \"23\", \"24\", \"25\", \"26\", \"27\", \"28\", \"29\", \"30\"], \"mode\": \"markers\", \"name\": \"f1_score_weighted\", \"stepped\": false, \"type\": \"scatter\", \"data\": [0.8210996782814632, 0.8078113114849879, 0.7832032043274894, 0.4982318235089326, 0.5954929566392281, 0.7885887158022833, 0.8035101195531167, 0.7622150429979249, 0.8063004644404153, 0.7966340323837142, 0.8172146059202572, 0.7840684778909119, 0.8064694199893729, 0.8004215536623747, 0.8145321677756623, 0.8141433750052982, 0.8064041330991334, 0.8072707089502584, 0.8055388304696773, 0.7970133997432702, 0.8055870768358201, 0.7875717599966825, 0.812432564067118, 0.801597263773256, 0.7918157090604723, 0.8039908611330209, 0.805383723952494, 0.8104426960514568, 0.8096483187733267, 0.8316123569939812, 0.8221749127000209]}, {\"categories\": [\"0\", \"1\", \"2\", \"3\", \"4\", \"5\", \"6\", \"7\", \"8\", \"9\", \"10\", \"11\", \"12\", \"13\", \"14\", \"15\", \"16\", \"17\", \"18\", \"19\", \"20\", \"21\", \"22\", \"23\", \"24\", \"25\", \"26\", \"27\", \"28\", \"29\", \"30\"], \"mode\": \"lines\", \"name\": \"f1_score_weighted_max\", \"stepped\": true, \"type\": \"scatter\", \"data\": [0.8210996782814632, 0.8210996782814632, 0.8210996782814632, 0.8210996782814632, 0.8210996782814632, 0.8210996782814632, 0.8210996782814632, 0.8210996782814632, 0.8210996782814632, 0.8210996782814632, 0.8210996782814632, 0.8210996782814632, 0.8210996782814632, 0.8210996782814632, 0.8210996782814632, 0.8210996782814632, 0.8210996782814632, 0.8210996782814632, 0.8210996782814632, 0.8210996782814632, 0.8210996782814632, 0.8210996782814632, 0.8210996782814632, 0.8210996782814632, 0.8210996782814632, 0.8210996782814632, 0.8210996782814632, 0.8210996782814632, 0.8210996782814632, 0.8316123569939812, 0.8316123569939812]}], \"matthews_correlation\": [{\"categories\": [\"0\", \"1\", \"2\", \"3\", \"4\", \"5\", \"6\", \"7\", \"8\", \"9\", \"10\", \"11\", \"12\", \"13\", \"14\", \"15\", \"16\", \"17\", \"18\", \"19\", \"20\", \"21\", \"22\", \"23\", \"24\", \"25\", \"26\", \"27\", \"28\", \"29\", \"30\"], \"mode\": \"markers\", \"name\": \"matthews_correlation\", \"stepped\": false, \"type\": \"scatter\", \"data\": [0.6182293788928346, 0.5905915140357153, 0.5461311327231202, 0.06438065137645646, 0.28768913765372617, 0.5577673696327938, 0.5827102921894672, 0.5180716608044474, 0.5962896205656023, 0.5792312955556298, 0.6097028704792141, 0.5423987706027454, 0.5918404124938881, 0.579151277163185, 0.6126789558413892, 0.607475783353467, 0.5917007412905125, 0.5896264370234698, 0.5879423601858604, 0.5659373326635297, 0.5885774296826326, 0.5503979755326687, 0.6004384759859662, 0.5783507597003883, 0.5611221716971794, 0.5832354016607283, 0.5881821698572377, 0.5949504772137783, 0.598579625579785, 0.6413881069599816, 0.6220991050157233]}, {\"categories\": [\"0\", \"1\", \"2\", \"3\", \"4\", \"5\", \"6\", \"7\", \"8\", \"9\", \"10\", \"11\", \"12\", \"13\", \"14\", \"15\", \"16\", \"17\", \"18\", \"19\", \"20\", \"21\", \"22\", \"23\", \"24\", \"25\", \"26\", \"27\", \"28\", \"29\", \"30\"], \"mode\": \"lines\", \"name\": \"matthews_correlation_max\", \"stepped\": true, \"type\": \"scatter\", \"data\": [0.6182293788928346, 0.6182293788928346, 0.6182293788928346, 0.6182293788928346, 0.6182293788928346, 0.6182293788928346, 0.6182293788928346, 0.6182293788928346, 0.6182293788928346, 0.6182293788928346, 0.6182293788928346, 0.6182293788928346, 0.6182293788928346, 0.6182293788928346, 0.6182293788928346, 0.6182293788928346, 0.6182293788928346, 0.6182293788928346, 0.6182293788928346, 0.6182293788928346, 0.6182293788928346, 0.6182293788928346, 0.6182293788928346, 0.6182293788928346, 0.6182293788928346, 0.6182293788928346, 0.6182293788928346, 0.6182293788928346, 0.6182293788928346, 0.6413881069599816, 0.6413881069599816]}], \"norm_macro_recall\": [{\"categories\": [\"0\", \"1\", \"2\", \"3\", \"4\", \"5\", \"6\", \"7\", \"8\", \"9\", \"10\", \"11\", \"12\", \"13\", \"14\", \"15\", \"16\", \"17\", \"18\", \"19\", \"20\", \"21\", \"22\", \"23\", \"24\", \"25\", \"26\", \"27\", \"28\", \"29\", \"30\"], \"mode\": \"markers\", \"name\": \"norm_macro_recall\", \"stepped\": false, \"type\": \"scatter\", \"data\": [0.6068538446438272, 0.5760398585384541, 0.536945525570357, 0.03741746840218827, 0.277131713994642, 0.5633915762312426, 0.5688889372816577, 0.4960973815227576, 0.5670245578822516, 0.5348063193701524, 0.5960361611562096, 0.538091169298053, 0.5625341078898172, 0.5622484407456455, 0.5881319680244059, 0.5833126217198384, 0.5747197487638979, 0.5787894401479374, 0.5669532750430418, 0.554680592214762, 0.5685288704130852, 0.5527757062292711, 0.5852839765255243, 0.566881335917231, 0.5451440245586173, 0.5718374375646234, 0.572337907280139, 0.5877664503447642, 0.581530997803902, 0.6232063452324421, 0.6023050724426244]}, {\"categories\": [\"0\", \"1\", \"2\", \"3\", \"4\", \"5\", \"6\", \"7\", \"8\", \"9\", \"10\", \"11\", \"12\", \"13\", \"14\", \"15\", \"16\", \"17\", \"18\", \"19\", \"20\", \"21\", \"22\", \"23\", \"24\", \"25\", \"26\", \"27\", \"28\", \"29\", \"30\"], \"mode\": \"lines\", \"name\": \"norm_macro_recall_max\", \"stepped\": true, \"type\": \"scatter\", \"data\": [0.6068538446438272, 0.6068538446438272, 0.6068538446438272, 0.6068538446438272, 0.6068538446438272, 0.6068538446438272, 0.6068538446438272, 0.6068538446438272, 0.6068538446438272, 0.6068538446438272, 0.6068538446438272, 0.6068538446438272, 0.6068538446438272, 0.6068538446438272, 0.6068538446438272, 0.6068538446438272, 0.6068538446438272, 0.6068538446438272, 0.6068538446438272, 0.6068538446438272, 0.6068538446438272, 0.6068538446438272, 0.6068538446438272, 0.6068538446438272, 0.6068538446438272, 0.6068538446438272, 0.6068538446438272, 0.6068538446438272, 0.6068538446438272, 0.6232063452324421, 0.6232063452324421]}], \"AUC_micro\": [{\"categories\": [\"0\", \"1\", \"2\", \"3\", \"4\", \"5\", \"6\", \"7\", \"8\", \"9\", \"10\", \"11\", \"12\", \"13\", \"14\", \"15\", \"16\", \"17\", \"18\", \"19\", \"20\", \"21\", \"22\", \"23\", \"24\", \"25\", \"26\", \"27\", \"28\", \"29\", \"30\"], \"mode\": \"markers\", \"name\": \"AUC_micro\", \"stepped\": false, \"type\": \"scatter\", \"data\": [0.8664022593480996, 0.8730080314712726, 0.8351620633384298, 0.7342772860391426, 0.6611357993519336, 0.8144509765414953, 0.8570740257574412, 0.8648731423423591, 0.851313899136691, 0.8665855648604041, 0.8753313897578089, 0.860092437511787, 0.8665540374781212, 0.8695199976309265, 0.8714778670856186, 0.8804847670125202, 0.8762100261689119, 0.8748646261461562, 0.874708108310305, 0.8742268356813657, 0.8730009195746264, 0.8609201559847944, 0.8750913823388679, 0.8580853941935874, 0.8667058124909406, 0.8591879953429, 0.8741389524018821, 0.8722389039293891, 0.8577479445948495, 0.8829369514698386, 0.8807203105980197]}, {\"categories\": [\"0\", \"1\", \"2\", \"3\", \"4\", \"5\", \"6\", \"7\", \"8\", \"9\", \"10\", \"11\", \"12\", \"13\", \"14\", \"15\", \"16\", \"17\", \"18\", \"19\", \"20\", \"21\", \"22\", \"23\", \"24\", \"25\", \"26\", \"27\", \"28\", \"29\", \"30\"], \"mode\": \"lines\", \"name\": \"AUC_micro_max\", \"stepped\": true, \"type\": \"scatter\", \"data\": [0.8664022593480996, 0.8730080314712726, 0.8730080314712726, 0.8730080314712726, 0.8730080314712726, 0.8730080314712726, 0.8730080314712726, 0.8730080314712726, 0.8730080314712726, 0.8730080314712726, 0.8753313897578089, 0.8753313897578089, 0.8753313897578089, 0.8753313897578089, 0.8753313897578089, 0.8804847670125202, 0.8804847670125202, 0.8804847670125202, 0.8804847670125202, 0.8804847670125202, 0.8804847670125202, 0.8804847670125202, 0.8804847670125202, 0.8804847670125202, 0.8804847670125202, 0.8804847670125202, 0.8804847670125202, 0.8804847670125202, 0.8804847670125202, 0.8829369514698386, 0.8829369514698386]}], \"recall_score_micro\": [{\"categories\": [\"0\", \"1\", \"2\", \"3\", \"4\", \"5\", \"6\", \"7\", \"8\", \"9\", \"10\", \"11\", \"12\", \"13\", \"14\", \"15\", \"16\", \"17\", \"18\", \"19\", \"20\", \"21\", \"22\", \"23\", \"24\", \"25\", \"26\", \"27\", \"28\", \"29\", \"30\"], \"mode\": \"markers\", \"name\": \"recall_score_micro\", \"stepped\": false, \"type\": \"scatter\", \"data\": [0.8226716604244695, 0.8103121098626715, 0.7844943820224719, 0.6284644194756555, 0.6140948813982522, 0.7867540574282147, 0.8058177278401997, 0.7676529338327092, 0.8114232209737826, 0.8046691635455678, 0.8193133583021224, 0.7844943820224719, 0.8114357053682897, 0.8035705368289637, 0.8181897627965045, 0.8181647940074905, 0.8091760299625468, 0.8091760299625468, 0.8092009987515606, 0.7991260923845193, 0.8091760299625468, 0.7867540574282147, 0.8148064918851435, 0.8035830212234707, 0.7945942571785268, 0.8058302122347067, 0.8080649188514357, 0.8114481897627964, 0.8125717852684143, 0.8339200998751559, 0.8249188514357053]}, {\"categories\": [\"0\", \"1\", \"2\", \"3\", \"4\", \"5\", \"6\", \"7\", \"8\", \"9\", \"10\", \"11\", \"12\", \"13\", \"14\", \"15\", \"16\", \"17\", \"18\", \"19\", \"20\", \"21\", \"22\", \"23\", \"24\", \"25\", \"26\", \"27\", \"28\", \"29\", \"30\"], \"mode\": \"lines\", \"name\": \"recall_score_micro_max\", \"stepped\": true, \"type\": \"scatter\", \"data\": [0.8226716604244695, 0.8226716604244695, 0.8226716604244695, 0.8226716604244695, 0.8226716604244695, 0.8226716604244695, 0.8226716604244695, 0.8226716604244695, 0.8226716604244695, 0.8226716604244695, 0.8226716604244695, 0.8226716604244695, 0.8226716604244695, 0.8226716604244695, 0.8226716604244695, 0.8226716604244695, 0.8226716604244695, 0.8226716604244695, 0.8226716604244695, 0.8226716604244695, 0.8226716604244695, 0.8226716604244695, 0.8226716604244695, 0.8226716604244695, 0.8226716604244695, 0.8226716604244695, 0.8226716604244695, 0.8226716604244695, 0.8226716604244695, 0.8339200998751559, 0.8339200998751559]}], \"log_loss\": [{\"categories\": [\"0\", \"1\", \"2\", \"3\", \"4\", \"5\", \"6\", \"7\", \"8\", \"9\", \"10\", \"11\", \"12\", \"13\", \"14\", \"15\", \"16\", \"17\", \"18\", \"19\", \"20\", \"21\", \"22\", \"23\", \"24\", \"25\", \"26\", \"27\", \"28\", \"29\", \"30\"], \"mode\": \"markers\", \"name\": \"log_loss\", \"stepped\": false, \"type\": \"scatter\", \"data\": [0.5617422357556074, 0.44408379912619395, 0.5079500719312453, 0.6243166583214733, 0.6830174592825726, 0.5501891416338406, 0.8716046974959655, 0.5102665061868756, 0.5770784344647562, 0.49610256793238355, 0.4647847178861516, 0.4739809585755463, 0.48846990267400214, 0.4439379010196787, 0.47868510205067183, 0.4301566307443732, 0.45284736584173624, 0.4449460299332035, 0.43854501720878386, 0.4447686519174482, 0.4421790991231635, 0.4521551485600675, 0.4470969629808773, 0.800481786083008, 0.46702716527966875, 0.7978987861224652, 0.451894424164524, 0.4458903975628359, 0.49695360725491283, 0.4525316807348322, 0.42284560075285704]}, {\"categories\": [\"0\", \"1\", \"2\", \"3\", \"4\", \"5\", \"6\", \"7\", \"8\", \"9\", \"10\", \"11\", \"12\", \"13\", \"14\", \"15\", \"16\", \"17\", \"18\", \"19\", \"20\", \"21\", \"22\", \"23\", \"24\", \"25\", \"26\", \"27\", \"28\", \"29\", \"30\"], \"mode\": \"lines\", \"name\": \"log_loss_min\", \"stepped\": true, \"type\": \"scatter\", \"data\": [0.5617422357556074, 0.44408379912619395, 0.44408379912619395, 0.44408379912619395, 0.44408379912619395, 0.44408379912619395, 0.44408379912619395, 0.44408379912619395, 0.44408379912619395, 0.44408379912619395, 0.44408379912619395, 0.44408379912619395, 0.44408379912619395, 0.4439379010196787, 0.4439379010196787, 0.4301566307443732, 0.4301566307443732, 0.4301566307443732, 0.4301566307443732, 0.4301566307443732, 0.4301566307443732, 0.4301566307443732, 0.4301566307443732, 0.4301566307443732, 0.4301566307443732, 0.4301566307443732, 0.4301566307443732, 0.4301566307443732, 0.4301566307443732, 0.4301566307443732, 0.42284560075285704]}], \"weighted_accuracy\": [{\"categories\": [\"0\", \"1\", \"2\", \"3\", \"4\", \"5\", \"6\", \"7\", \"8\", \"9\", \"10\", \"11\", \"12\", \"13\", \"14\", \"15\", \"16\", \"17\", \"18\", \"19\", \"20\", \"21\", \"22\", \"23\", \"24\", \"25\", \"26\", \"27\", \"28\", \"29\", \"30\"], \"mode\": \"markers\", \"name\": \"weighted_accuracy\", \"stepped\": false, \"type\": \"scatter\", \"data\": [0.8389156247580558, 0.8291514333183727, 0.7988509918143174, 0.7212701381234858, 0.5939448449050889, 0.7914631316313037, 0.8237920228582907, 0.7853368140939334, 0.8351031370910367, 0.8360668100095563, 0.8372219629933287, 0.7979673334375966, 0.8367924361788699, 0.8228138240260128, 0.8388079724614365, 0.8406103503221999, 0.8279280387903969, 0.82604075372931, 0.8309498347149544, 0.8172288207717544, 0.8304452583267998, 0.7958352101899581, 0.833631239450162, 0.8205607035391915, 0.8135936680227402, 0.8225701527045757, 0.8268861223845796, 0.8262599047068214, 0.8311996879507706, 0.8527992298886623, 0.8451039554654042]}, {\"categories\": [\"0\", \"1\", \"2\", \"3\", \"4\", \"5\", \"6\", \"7\", \"8\", \"9\", \"10\", \"11\", \"12\", \"13\", \"14\", \"15\", \"16\", \"17\", \"18\", \"19\", \"20\", \"21\", \"22\", \"23\", \"24\", \"25\", \"26\", \"27\", \"28\", \"29\", \"30\"], \"mode\": \"lines\", \"name\": \"weighted_accuracy_max\", \"stepped\": true, \"type\": \"scatter\", \"data\": [0.8389156247580558, 0.8389156247580558, 0.8389156247580558, 0.8389156247580558, 0.8389156247580558, 0.8389156247580558, 0.8389156247580558, 0.8389156247580558, 0.8389156247580558, 0.8389156247580558, 0.8389156247580558, 0.8389156247580558, 0.8389156247580558, 0.8389156247580558, 0.8389156247580558, 0.8406103503221999, 0.8406103503221999, 0.8406103503221999, 0.8406103503221999, 0.8406103503221999, 0.8406103503221999, 0.8406103503221999, 0.8406103503221999, 0.8406103503221999, 0.8406103503221999, 0.8406103503221999, 0.8406103503221999, 0.8406103503221999, 0.8406103503221999, 0.8527992298886623, 0.8527992298886623]}], \"AUC_weighted\": [{\"categories\": [\"0\", \"1\", \"2\", \"3\", \"4\", \"5\", \"6\", \"7\", \"8\", \"9\", \"10\", \"11\", \"12\", \"13\", \"14\", \"15\", \"16\", \"17\", \"18\", \"19\", \"20\", \"21\", \"22\", \"23\", \"24\", \"25\", \"26\", \"27\", \"28\", \"29\", \"30\"], \"mode\": \"markers\", \"name\": \"AUC_weighted\", \"stepped\": false, \"type\": \"scatter\", \"data\": [0.8483799494780955, 0.8600749162497359, 0.8167588425308102, 0.7500450437212539, 0.6899078175211452, 0.8142732872559939, 0.8393848453668269, 0.8412282635514498, 0.8366382524078517, 0.8593365317715908, 0.8607154580265807, 0.8495736602829622, 0.8452782097954618, 0.8510948175794362, 0.855783972794276, 0.8647449595119477, 0.8615998208616176, 0.859092090673599, 0.8512441781698696, 0.8573872303235707, 0.851206575979257, 0.8407982592236646, 0.8579595750901404, 0.8410462180987557, 0.8533661426055641, 0.842528658777787, 0.8600814830126906, 0.8545417562668908, 0.8377707497359002, 0.8647392376143779, 0.8643216961640213]}, {\"categories\": [\"0\", \"1\", \"2\", \"3\", \"4\", \"5\", \"6\", \"7\", \"8\", \"9\", \"10\", \"11\", \"12\", \"13\", \"14\", \"15\", \"16\", \"17\", \"18\", \"19\", \"20\", \"21\", \"22\", \"23\", \"24\", \"25\", \"26\", \"27\", \"28\", \"29\", \"30\"], \"mode\": \"lines\", \"name\": \"AUC_weighted_max\", \"stepped\": true, \"type\": \"scatter\", \"data\": [0.8483799494780955, 0.8600749162497359, 0.8600749162497359, 0.8600749162497359, 0.8600749162497359, 0.8600749162497359, 0.8600749162497359, 0.8600749162497359, 0.8600749162497359, 0.8600749162497359, 0.8607154580265807, 0.8607154580265807, 0.8607154580265807, 0.8607154580265807, 0.8607154580265807, 0.8647449595119477, 0.8647449595119477, 0.8647449595119477, 0.8647449595119477, 0.8647449595119477, 0.8647449595119477, 0.8647449595119477, 0.8647449595119477, 0.8647449595119477, 0.8647449595119477, 0.8647449595119477, 0.8647449595119477, 0.8647449595119477, 0.8647449595119477, 0.8647449595119477, 0.8647449595119477]}], \"recall_score_weighted\": [{\"categories\": [\"0\", \"1\", \"2\", \"3\", \"4\", \"5\", \"6\", \"7\", \"8\", \"9\", \"10\", \"11\", \"12\", \"13\", \"14\", \"15\", \"16\", \"17\", \"18\", \"19\", \"20\", \"21\", \"22\", \"23\", \"24\", \"25\", \"26\", \"27\", \"28\", \"29\", \"30\"], \"mode\": \"markers\", \"name\": \"recall_score_weighted\", \"stepped\": false, \"type\": \"scatter\", \"data\": [0.8226716604244695, 0.8103121098626715, 0.7844943820224719, 0.6284644194756555, 0.6140948813982522, 0.7867540574282147, 0.8058177278401997, 0.7676529338327092, 0.8114232209737826, 0.8046691635455678, 0.8193133583021224, 0.7844943820224719, 0.8114357053682897, 0.8035705368289637, 0.8181897627965045, 0.8181647940074905, 0.8091760299625468, 0.8091760299625468, 0.8092009987515606, 0.7991260923845193, 0.8091760299625468, 0.7867540574282147, 0.8148064918851435, 0.8035830212234707, 0.7945942571785268, 0.8058302122347067, 0.8080649188514357, 0.8114481897627964, 0.8125717852684143, 0.8339200998751559, 0.8249188514357053]}, {\"categories\": [\"0\", \"1\", \"2\", \"3\", \"4\", \"5\", \"6\", \"7\", \"8\", \"9\", \"10\", \"11\", \"12\", \"13\", \"14\", \"15\", \"16\", \"17\", \"18\", \"19\", \"20\", \"21\", \"22\", \"23\", \"24\", \"25\", \"26\", \"27\", \"28\", \"29\", \"30\"], \"mode\": \"lines\", \"name\": \"recall_score_weighted_max\", \"stepped\": true, \"type\": \"scatter\", \"data\": [0.8226716604244695, 0.8226716604244695, 0.8226716604244695, 0.8226716604244695, 0.8226716604244695, 0.8226716604244695, 0.8226716604244695, 0.8226716604244695, 0.8226716604244695, 0.8226716604244695, 0.8226716604244695, 0.8226716604244695, 0.8226716604244695, 0.8226716604244695, 0.8226716604244695, 0.8226716604244695, 0.8226716604244695, 0.8226716604244695, 0.8226716604244695, 0.8226716604244695, 0.8226716604244695, 0.8226716604244695, 0.8226716604244695, 0.8226716604244695, 0.8226716604244695, 0.8226716604244695, 0.8226716604244695, 0.8226716604244695, 0.8226716604244695, 0.8339200998751559, 0.8339200998751559]}], \"precision_score_weighted\": [{\"categories\": [\"0\", \"1\", \"2\", \"3\", \"4\", \"5\", \"6\", \"7\", \"8\", \"9\", \"10\", \"11\", \"12\", \"13\", \"14\", \"15\", \"16\", \"17\", \"18\", \"19\", \"20\", \"21\", \"22\", \"23\", \"24\", \"25\", \"26\", \"27\", \"28\", \"29\", \"30\"], \"mode\": \"markers\", \"name\": \"precision_score_weighted\", \"stepped\": false, \"type\": \"scatter\", \"data\": [0.824371565251884, 0.8128308980539174, 0.7924015031748021, 0.45374496196462194, 0.682946198618201, 0.796225291341294, 0.8082932403840128, 0.7855369199424955, 0.8170333019723852, 0.8132717538379097, 0.8208733179969352, 0.7889769319141487, 0.8152754935111058, 0.8087679199456568, 0.8253884311391886, 0.8217115279147359, 0.8135038849265136, 0.8107037135885731, 0.8129064174277559, 0.8005220537965672, 0.8124499794167221, 0.7924853128496224, 0.816447937200449, 0.8064488486551016, 0.799539572681822, 0.8087175402181602, 0.8122760434006773, 0.8133816560390315, 0.8165398891867808, 0.8371311768646155, 0.8285593607555908]}, {\"categories\": [\"0\", \"1\", \"2\", \"3\", \"4\", \"5\", \"6\", \"7\", \"8\", \"9\", \"10\", \"11\", \"12\", \"13\", \"14\", \"15\", \"16\", \"17\", \"18\", \"19\", \"20\", \"21\", \"22\", \"23\", \"24\", \"25\", \"26\", \"27\", \"28\", \"29\", \"30\"], \"mode\": \"lines\", \"name\": \"precision_score_weighted_max\", \"stepped\": true, \"type\": \"scatter\", \"data\": [0.824371565251884, 0.824371565251884, 0.824371565251884, 0.824371565251884, 0.824371565251884, 0.824371565251884, 0.824371565251884, 0.824371565251884, 0.824371565251884, 0.824371565251884, 0.824371565251884, 0.824371565251884, 0.824371565251884, 0.824371565251884, 0.8253884311391886, 0.8253884311391886, 0.8253884311391886, 0.8253884311391886, 0.8253884311391886, 0.8253884311391886, 0.8253884311391886, 0.8253884311391886, 0.8253884311391886, 0.8253884311391886, 0.8253884311391886, 0.8253884311391886, 0.8253884311391886, 0.8253884311391886, 0.8253884311391886, 0.8371311768646155, 0.8371311768646155]}], \"precision_score_macro\": [{\"categories\": [\"0\", \"1\", \"2\", \"3\", \"4\", \"5\", \"6\", \"7\", \"8\", \"9\", \"10\", \"11\", \"12\", \"13\", \"14\", \"15\", \"16\", \"17\", \"18\", \"19\", \"20\", \"21\", \"22\", \"23\", \"24\", \"25\", \"26\", \"27\", \"28\", \"29\", \"30\"], \"mode\": \"markers\", \"name\": \"precision_score_macro\", \"stepped\": false, \"type\": \"scatter\", \"data\": [0.815104961598912, 0.8029206702232392, 0.7782634201138586, 0.40020388640215987, 0.650977147181153, 0.7763519275731798, 0.7988138701629397, 0.7722683219107989, 0.8137557753114496, 0.8141500299207192, 0.8120339686017584, 0.7736269840818573, 0.8117986156036512, 0.7990227687092857, 0.8198574679765009, 0.8166926644597556, 0.8048710539747477, 0.8005155555509047, 0.805296053723454, 0.7889340652640607, 0.8049517352642661, 0.7742229255978277, 0.8081206884632005, 0.7954480921611491, 0.7892867897592466, 0.7978246148606247, 0.8026633110403643, 0.8012431078564122, 0.8083674144050637, 0.8303054836131103, 0.8215810011898557]}, {\"categories\": [\"0\", \"1\", \"2\", \"3\", \"4\", \"5\", \"6\", \"7\", \"8\", \"9\", \"10\", \"11\", \"12\", \"13\", \"14\", \"15\", \"16\", \"17\", \"18\", \"19\", \"20\", \"21\", \"22\", \"23\", \"24\", \"25\", \"26\", \"27\", \"28\", \"29\", \"30\"], \"mode\": \"lines\", \"name\": \"precision_score_macro_max\", \"stepped\": true, \"type\": \"scatter\", \"data\": [0.815104961598912, 0.815104961598912, 0.815104961598912, 0.815104961598912, 0.815104961598912, 0.815104961598912, 0.815104961598912, 0.815104961598912, 0.815104961598912, 0.815104961598912, 0.815104961598912, 0.815104961598912, 0.815104961598912, 0.815104961598912, 0.8198574679765009, 0.8198574679765009, 0.8198574679765009, 0.8198574679765009, 0.8198574679765009, 0.8198574679765009, 0.8198574679765009, 0.8198574679765009, 0.8198574679765009, 0.8198574679765009, 0.8198574679765009, 0.8198574679765009, 0.8198574679765009, 0.8198574679765009, 0.8198574679765009, 0.8303054836131103, 0.8303054836131103]}]}, \"metricName\": null, \"primaryMetricName\": \"accuracy\", \"showLegend\": false}, \"run_metrics\": [{\"name\": \"experiment_status\", \"run_id\": \"AutoML_739a486b-b636-4691-9b3a-c587d6d1cc47\", \"categories\": [0, 1, 2, 3, 4, 5, 6, 7, 8, 9, 10, 11, 12, 13], \"series\": [{\"data\": [\"DatasetEvaluation\", \"FeaturesGeneration\", \"DatasetFeaturization\", \"DatasetFeaturizationCompleted\", \"DatasetCrossValidationSplit\", \"ModelSelection\", \"BestRunExplainModel\", \"ModelExplanationDataSetSetup\", \"PickSurrogateModel\", \"EngineeredFeatureExplanations\", \"EngineeredFeatureExplanations\", \"RawFeaturesExplanations\", \"RawFeaturesExplanations\", \"BestRunExplainModel\"]}]}, {\"name\": \"experiment_status_description\", \"run_id\": \"AutoML_739a486b-b636-4691-9b3a-c587d6d1cc47\", \"categories\": [0, 1, 2, 3, 4, 5, 6, 7, 8, 9, 10, 11, 12, 13], \"series\": [{\"data\": [\"Gathering dataset statistics.\", \"Generating features for the dataset.\", \"Beginning to fit featurizers and featurize the dataset.\", \"Completed fit featurizers and featurizing the dataset.\", \"Generating individually featurized CV splits.\", \"Beginning model selection.\", \"Best run model explanations started\", \"Model explanations data setup completed\", \"Choosing LinearModel as the surrogate model for explanations\", \"Computation of engineered features started\", \"Computation of engineered features completed\", \"Computation of raw features started\", \"Computation of raw features completed\", \"Best run model explanations completed\"]}]}, {\"name\": \"balanced_accuracy\", \"run_id\": \"AutoML_739a486b-b636-4691-9b3a-c587d6d1cc47\", \"categories\": [0], \"series\": [{\"data\": [0.8116031726162211]}]}, {\"name\": \"precision_score_macro\", \"run_id\": \"AutoML_739a486b-b636-4691-9b3a-c587d6d1cc47\", \"categories\": [0], \"series\": [{\"data\": [0.8303054836131103]}]}, {\"name\": \"recall_score_micro\", \"run_id\": \"AutoML_739a486b-b636-4691-9b3a-c587d6d1cc47\", \"categories\": [0], \"series\": [{\"data\": [0.8339200998751559]}]}, {\"name\": \"AUC_weighted\", \"run_id\": \"AutoML_739a486b-b636-4691-9b3a-c587d6d1cc47\", \"categories\": [0], \"series\": [{\"data\": [0.8647392376143779]}]}, {\"name\": \"f1_score_weighted\", \"run_id\": \"AutoML_739a486b-b636-4691-9b3a-c587d6d1cc47\", \"categories\": [0], \"series\": [{\"data\": [0.8316123569939812]}]}, {\"name\": \"log_loss\", \"run_id\": \"AutoML_739a486b-b636-4691-9b3a-c587d6d1cc47\", \"categories\": [0], \"series\": [{\"data\": [0.4525316807348322]}]}, {\"name\": \"recall_score_macro\", \"run_id\": \"AutoML_739a486b-b636-4691-9b3a-c587d6d1cc47\", \"categories\": [0], \"series\": [{\"data\": [0.8116031726162211]}]}, {\"name\": \"average_precision_score_micro\", \"run_id\": \"AutoML_739a486b-b636-4691-9b3a-c587d6d1cc47\", \"categories\": [0], \"series\": [{\"data\": [0.8654519394430285]}]}, {\"name\": \"average_precision_score_macro\", \"run_id\": \"AutoML_739a486b-b636-4691-9b3a-c587d6d1cc47\", \"categories\": [0], \"series\": [{\"data\": [0.8579209555236739]}]}, {\"name\": \"f1_score_macro\", \"run_id\": \"AutoML_739a486b-b636-4691-9b3a-c587d6d1cc47\", \"categories\": [0], \"series\": [{\"data\": [0.8166566864405407]}]}, {\"name\": \"precision_score_micro\", \"run_id\": \"AutoML_739a486b-b636-4691-9b3a-c587d6d1cc47\", \"categories\": [0], \"series\": [{\"data\": [0.8339200998751559]}]}, {\"name\": \"matthews_correlation\", \"run_id\": \"AutoML_739a486b-b636-4691-9b3a-c587d6d1cc47\", \"categories\": [0], \"series\": [{\"data\": [0.6413881069599816]}]}, {\"name\": \"recall_score_weighted\", \"run_id\": \"AutoML_739a486b-b636-4691-9b3a-c587d6d1cc47\", \"categories\": [0], \"series\": [{\"data\": [0.8339200998751559]}]}, {\"name\": \"accuracy\", \"run_id\": \"AutoML_739a486b-b636-4691-9b3a-c587d6d1cc47\", \"categories\": [0], \"series\": [{\"data\": [0.8339200998751559]}]}, {\"name\": \"AUC_micro\", \"run_id\": \"AutoML_739a486b-b636-4691-9b3a-c587d6d1cc47\", \"categories\": [0], \"series\": [{\"data\": [0.8829369514698386]}]}, {\"name\": \"AUC_macro\", \"run_id\": \"AutoML_739a486b-b636-4691-9b3a-c587d6d1cc47\", \"categories\": [0], \"series\": [{\"data\": [0.8647392376143779]}]}, {\"name\": \"precision_score_weighted\", \"run_id\": \"AutoML_739a486b-b636-4691-9b3a-c587d6d1cc47\", \"categories\": [0], \"series\": [{\"data\": [0.8371311768646155]}]}, {\"name\": \"norm_macro_recall\", \"run_id\": \"AutoML_739a486b-b636-4691-9b3a-c587d6d1cc47\", \"categories\": [0], \"series\": [{\"data\": [0.6232063452324421]}]}, {\"name\": \"weighted_accuracy\", \"run_id\": \"AutoML_739a486b-b636-4691-9b3a-c587d6d1cc47\", \"categories\": [0], \"series\": [{\"data\": [0.8527992298886623]}]}, {\"name\": \"average_precision_score_weighted\", \"run_id\": \"AutoML_739a486b-b636-4691-9b3a-c587d6d1cc47\", \"categories\": [0], \"series\": [{\"data\": [0.8648082957690917]}]}, {\"name\": \"f1_score_micro\", \"run_id\": \"AutoML_739a486b-b636-4691-9b3a-c587d6d1cc47\", \"categories\": [0], \"series\": [{\"data\": [0.8339200998751561]}]}], \"run_logs\": \"\\nRun is completed.\", \"graph\": {}, \"widget_settings\": {\"childWidgetDisplay\": \"popup\", \"send_telemetry\": false, \"log_level\": \"INFO\", \"sdk_version\": \"1.19.0\"}, \"loading\": false}"
     },
     "metadata": {},
     "output_type": "display_data"
    }
   ],
   "source": [
    "from azureml.widgets import RunDetails\n",
    "RunDetails(remote_run).show()"
   ]
  },
  {
   "cell_type": "markdown",
   "metadata": {},
   "source": [
    "## Best Model\n",
    "\n",
    "Here get the best model from the automl experiments and display all the properties of the model.\n",
    "\n"
   ]
  },
  {
   "cell_type": "code",
   "execution_count": 7,
   "metadata": {
    "gather": {
     "logged": 1598431425670
    },
    "jupyter": {
     "outputs_hidden": false,
     "source_hidden": false
    },
    "nteract": {
     "transient": {
      "deleting": false
     }
    }
   },
   "outputs": [],
   "source": [
    "best_run_automl, fitted_model_automl = remote_run.get_output()\n",
    "model_name = best_run_automl.properties['model_name']"
   ]
  },
  {
   "cell_type": "code",
   "execution_count": 8,
   "metadata": {
    "scrolled": true
   },
   "outputs": [
    {
     "name": "stdout",
     "output_type": "stream",
     "text": [
      "Run(Experiment: titanic-automl-experiment,\n",
      "Id: AutoML_739a486b-b636-4691-9b3a-c587d6d1cc47_29,\n",
      "Type: azureml.scriptrun,\n",
      "Status: Completed)\n"
     ]
    }
   ],
   "source": [
    "# run\n",
    "print(best_run_automl)"
   ]
  },
  {
   "cell_type": "code",
   "execution_count": 9,
   "metadata": {},
   "outputs": [
    {
     "data": {
      "text/plain": [
       "[('datatransformer',\n",
       "  DataTransformer(enable_dnn=None, enable_feature_sweeping=None,\n",
       "                  feature_sweeping_config=None, feature_sweeping_timeout=None,\n",
       "                  featurization_config=None, force_text_dnn=None,\n",
       "                  is_cross_validation=None, is_onnx_compatible=None, logger=None,\n",
       "                  observer=None, task=None, working_dir=None)),\n",
       " ('prefittedsoftvotingclassifier',\n",
       "  PreFittedSoftVotingClassifier(classification_labels=None,\n",
       "                                estimators=[('0',\n",
       "                                             Pipeline(memory=None,\n",
       "                                                      steps=[('maxabsscaler',\n",
       "                                                              MaxAbsScaler(copy=True)),\n",
       "                                                             ('lightgbmclassifier',\n",
       "                                                              LightGBMClassifier(boosting_type='gbdt',\n",
       "                                                                                 class_weight=None,\n",
       "                                                                                 colsample_bytree=1.0,\n",
       "                                                                                 importance_type='split',\n",
       "                                                                                 learning_rate=0.1,\n",
       "                                                                                 max_depth=-1,\n",
       "                                                                                 min_child_samples=20,\n",
       "                                                                                 min_child_weight=0.001,\n",
       "                                                                                 min_spl...\n",
       "                                                                                     min_samples_leaf=0.01,\n",
       "                                                                                     min_samples_split=0.01,\n",
       "                                                                                     min_weight_fraction_leaf=0.0,\n",
       "                                                                                     n_estimators=25,\n",
       "                                                                                     n_jobs=1,\n",
       "                                                                                     oob_score=True,\n",
       "                                                                                     random_state=None,\n",
       "                                                                                     verbose=0,\n",
       "                                                                                     warm_start=False))],\n",
       "                                                      verbose=False))],\n",
       "                                flatten_transform=None,\n",
       "                                weights=[0.2, 0.06666666666666667,\n",
       "                                         0.06666666666666667, 0.13333333333333333,\n",
       "                                         0.06666666666666667, 0.13333333333333333,\n",
       "                                         0.06666666666666667, 0.06666666666666667,\n",
       "                                         0.2]))]"
      ]
     },
     "execution_count": 9,
     "metadata": {},
     "output_type": "execute_result"
    }
   ],
   "source": [
    "fitted_model_automl.steps"
   ]
  },
  {
   "cell_type": "code",
   "execution_count": 10,
   "metadata": {},
   "outputs": [
    {
     "name": "stdout",
     "output_type": "stream",
     "text": [
      "datatransformer\n",
      "{'enable_dnn': None,\n",
      " 'enable_feature_sweeping': None,\n",
      " 'feature_sweeping_config': None,\n",
      " 'feature_sweeping_timeout': None,\n",
      " 'featurization_config': None,\n",
      " 'force_text_dnn': None,\n",
      " 'is_cross_validation': None,\n",
      " 'is_onnx_compatible': None,\n",
      " 'logger': None,\n",
      " 'observer': None,\n",
      " 'task': None,\n",
      " 'working_dir': None}\n",
      "\n",
      "prefittedsoftvotingclassifier\n",
      "{'estimators': ['0', '10', '14', '15', '22', '12', '1', '7', '4'],\n",
      " 'weights': [0.2,\n",
      "             0.06666666666666667,\n",
      "             0.06666666666666667,\n",
      "             0.13333333333333333,\n",
      "             0.06666666666666667,\n",
      "             0.13333333333333333,\n",
      "             0.06666666666666667,\n",
      "             0.06666666666666667,\n",
      "             0.2]}\n",
      "\n",
      "0 - maxabsscaler\n",
      "{'copy': True}\n",
      "\n",
      "0 - lightgbmclassifier\n",
      "{'boosting_type': 'gbdt',\n",
      " 'class_weight': None,\n",
      " 'colsample_bytree': 1.0,\n",
      " 'importance_type': 'split',\n",
      " 'learning_rate': 0.1,\n",
      " 'max_depth': -1,\n",
      " 'min_child_samples': 20,\n",
      " 'min_child_weight': 0.001,\n",
      " 'min_split_gain': 0.0,\n",
      " 'n_estimators': 100,\n",
      " 'n_jobs': 1,\n",
      " 'num_leaves': 31,\n",
      " 'objective': None,\n",
      " 'random_state': None,\n",
      " 'reg_alpha': 0.0,\n",
      " 'reg_lambda': 0.0,\n",
      " 'silent': True,\n",
      " 'subsample': 1.0,\n",
      " 'subsample_for_bin': 200000,\n",
      " 'subsample_freq': 0,\n",
      " 'verbose': -10}\n",
      "\n",
      "10 - maxabsscaler\n",
      "{'copy': True}\n",
      "\n",
      "10 - lightgbmclassifier\n",
      "{'boosting_type': 'goss',\n",
      " 'class_weight': None,\n",
      " 'colsample_bytree': 0.8911111111111111,\n",
      " 'importance_type': 'split',\n",
      " 'learning_rate': 0.04211105263157895,\n",
      " 'max_bin': 360,\n",
      " 'max_depth': 6,\n",
      " 'min_child_samples': 4,\n",
      " 'min_child_weight': 8,\n",
      " 'min_split_gain': 0.7368421052631579,\n",
      " 'n_estimators': 800,\n",
      " 'n_jobs': 1,\n",
      " 'num_leaves': 131,\n",
      " 'objective': None,\n",
      " 'random_state': None,\n",
      " 'reg_alpha': 0.47368421052631576,\n",
      " 'reg_lambda': 0.3157894736842105,\n",
      " 'silent': True,\n",
      " 'subsample': 1,\n",
      " 'subsample_for_bin': 200000,\n",
      " 'subsample_freq': 0,\n",
      " 'verbose': -10}\n",
      "\n",
      "14 - sparsenormalizer\n",
      "{'copy': True, 'norm': 'l1'}\n",
      "\n",
      "14 - xgboostclassifier\n",
      "{'base_score': 0.5,\n",
      " 'booster': 'gbtree',\n",
      " 'colsample_bylevel': 1,\n",
      " 'colsample_bynode': 1,\n",
      " 'colsample_bytree': 0.7,\n",
      " 'eta': 0.2,\n",
      " 'gamma': 0,\n",
      " 'learning_rate': 0.1,\n",
      " 'max_delta_step': 0,\n",
      " 'max_depth': 7,\n",
      " 'max_leaves': 31,\n",
      " 'min_child_weight': 1,\n",
      " 'missing': nan,\n",
      " 'n_estimators': 10,\n",
      " 'n_jobs': 1,\n",
      " 'nthread': None,\n",
      " 'objective': 'reg:logistic',\n",
      " 'random_state': 0,\n",
      " 'reg_alpha': 0,\n",
      " 'reg_lambda': 0.625,\n",
      " 'scale_pos_weight': 1,\n",
      " 'seed': None,\n",
      " 'silent': None,\n",
      " 'subsample': 1,\n",
      " 'tree_method': 'auto',\n",
      " 'verbose': -10,\n",
      " 'verbosity': 0}\n",
      "\n",
      "15 - maxabsscaler\n",
      "{'copy': True}\n",
      "\n",
      "15 - lightgbmclassifier\n",
      "{'boosting_type': 'gbdt',\n",
      " 'class_weight': None,\n",
      " 'colsample_bytree': 0.8911111111111111,\n",
      " 'importance_type': 'split',\n",
      " 'learning_rate': 0.0842121052631579,\n",
      " 'max_bin': 240,\n",
      " 'max_depth': 9,\n",
      " 'min_child_samples': 53,\n",
      " 'min_child_weight': 3,\n",
      " 'min_split_gain': 0.15789473684210525,\n",
      " 'n_estimators': 25,\n",
      " 'n_jobs': 1,\n",
      " 'num_leaves': 191,\n",
      " 'objective': None,\n",
      " 'random_state': None,\n",
      " 'reg_alpha': 0.3684210526315789,\n",
      " 'reg_lambda': 0.3684210526315789,\n",
      " 'silent': True,\n",
      " 'subsample': 0.3963157894736842,\n",
      " 'subsample_for_bin': 200000,\n",
      " 'subsample_freq': 0,\n",
      " 'verbose': -10}\n",
      "\n",
      "22 - maxabsscaler\n",
      "{'copy': True}\n",
      "\n",
      "22 - lightgbmclassifier\n",
      "{'boosting_type': 'goss',\n",
      " 'class_weight': None,\n",
      " 'colsample_bytree': 0.3966666666666666,\n",
      " 'importance_type': 'split',\n",
      " 'learning_rate': 0.08947473684210526,\n",
      " 'max_bin': 10,\n",
      " 'max_depth': 8,\n",
      " 'min_child_samples': 47,\n",
      " 'min_child_weight': 7,\n",
      " 'min_split_gain': 0.5789473684210527,\n",
      " 'n_estimators': 600,\n",
      " 'n_jobs': 1,\n",
      " 'num_leaves': 185,\n",
      " 'objective': None,\n",
      " 'random_state': None,\n",
      " 'reg_alpha': 0.47368421052631576,\n",
      " 'reg_lambda': 0.47368421052631576,\n",
      " 'silent': True,\n",
      " 'subsample': 1,\n",
      " 'subsample_for_bin': 200000,\n",
      " 'subsample_freq': 0,\n",
      " 'verbose': -10}\n",
      "\n",
      "12 - sparsenormalizer\n",
      "{'copy': True, 'norm': 'l2'}\n",
      "\n",
      "12 - xgboostclassifier\n",
      "{'base_score': 0.5,\n",
      " 'booster': 'gbtree',\n",
      " 'colsample_bylevel': 1,\n",
      " 'colsample_bynode': 1,\n",
      " 'colsample_bytree': 0.7,\n",
      " 'eta': 0.3,\n",
      " 'gamma': 0.1,\n",
      " 'learning_rate': 0.1,\n",
      " 'max_delta_step': 0,\n",
      " 'max_depth': 8,\n",
      " 'max_leaves': 0,\n",
      " 'min_child_weight': 1,\n",
      " 'missing': nan,\n",
      " 'n_estimators': 10,\n",
      " 'n_jobs': 1,\n",
      " 'nthread': None,\n",
      " 'objective': 'reg:logistic',\n",
      " 'random_state': 0,\n",
      " 'reg_alpha': 0,\n",
      " 'reg_lambda': 1.5625,\n",
      " 'scale_pos_weight': 1,\n",
      " 'seed': None,\n",
      " 'silent': None,\n",
      " 'subsample': 0.5,\n",
      " 'tree_method': 'auto',\n",
      " 'verbose': -10,\n",
      " 'verbosity': 0}\n",
      "\n",
      "1 - maxabsscaler\n",
      "{'copy': True}\n",
      "\n",
      "1 - xgboostclassifier\n",
      "{'base_score': 0.5,\n",
      " 'booster': 'gbtree',\n",
      " 'colsample_bylevel': 1,\n",
      " 'colsample_bynode': 1,\n",
      " 'colsample_bytree': 1,\n",
      " 'gamma': 0,\n",
      " 'learning_rate': 0.1,\n",
      " 'max_delta_step': 0,\n",
      " 'max_depth': 3,\n",
      " 'min_child_weight': 1,\n",
      " 'missing': nan,\n",
      " 'n_estimators': 100,\n",
      " 'n_jobs': 1,\n",
      " 'nthread': None,\n",
      " 'objective': 'binary:logistic',\n",
      " 'random_state': 0,\n",
      " 'reg_alpha': 0,\n",
      " 'reg_lambda': 1,\n",
      " 'scale_pos_weight': 1,\n",
      " 'seed': None,\n",
      " 'silent': None,\n",
      " 'subsample': 1,\n",
      " 'tree_method': 'auto',\n",
      " 'verbose': -10,\n",
      " 'verbosity': 0}\n",
      "\n",
      "7 - standardscalerwrapper\n",
      "{'class_name': 'StandardScaler',\n",
      " 'copy': True,\n",
      " 'module_name': 'sklearn.preprocessing._data',\n",
      " 'with_mean': False,\n",
      " 'with_std': False}\n",
      "\n",
      "7 - xgboostclassifier\n",
      "{'base_score': 0.5,\n",
      " 'booster': 'gbtree',\n",
      " 'colsample_bylevel': 1,\n",
      " 'colsample_bynode': 1,\n",
      " 'colsample_bytree': 1,\n",
      " 'eta': 0.5,\n",
      " 'gamma': 0,\n",
      " 'grow_policy': 'lossguide',\n",
      " 'learning_rate': 0.1,\n",
      " 'max_bin': 1023,\n",
      " 'max_delta_step': 0,\n",
      " 'max_depth': 6,\n",
      " 'max_leaves': 3,\n",
      " 'min_child_weight': 1,\n",
      " 'missing': nan,\n",
      " 'n_estimators': 10,\n",
      " 'n_jobs': 1,\n",
      " 'nthread': None,\n",
      " 'objective': 'reg:logistic',\n",
      " 'random_state': 0,\n",
      " 'reg_alpha': 0.3125,\n",
      " 'reg_lambda': 1.4583333333333335,\n",
      " 'scale_pos_weight': 1,\n",
      " 'seed': None,\n",
      " 'silent': None,\n",
      " 'subsample': 0.9,\n",
      " 'tree_method': 'hist',\n",
      " 'verbose': -10,\n",
      " 'verbosity': 0}\n",
      "\n",
      "4 - maxabsscaler\n",
      "{'copy': True}\n",
      "\n",
      "4 - randomforestclassifier\n",
      "{'bootstrap': True,\n",
      " 'ccp_alpha': 0.0,\n",
      " 'class_weight': 'balanced',\n",
      " 'criterion': 'gini',\n",
      " 'max_depth': None,\n",
      " 'max_features': 'log2',\n",
      " 'max_leaf_nodes': None,\n",
      " 'max_samples': None,\n",
      " 'min_impurity_decrease': 0.0,\n",
      " 'min_impurity_split': None,\n",
      " 'min_samples_leaf': 0.01,\n",
      " 'min_samples_split': 0.01,\n",
      " 'min_weight_fraction_leaf': 0.0,\n",
      " 'n_estimators': 25,\n",
      " 'n_jobs': 1,\n",
      " 'oob_score': True,\n",
      " 'random_state': None,\n",
      " 'verbose': 0,\n",
      " 'warm_start': False}\n",
      "\n"
     ]
    }
   ],
   "source": [
    "from pprint import pprint\n",
    "\n",
    "def print_model(model, prefix=\"\"):\n",
    "    for step in model.steps:\n",
    "        print(prefix + step[0])\n",
    "        if hasattr(step[1], 'estimators') and hasattr(step[1], 'weights'):\n",
    "            pprint({'estimators': list(\n",
    "                e[0] for e in step[1].estimators), 'weights': step[1].weights})\n",
    "            print()\n",
    "            for estimator in step[1].estimators:\n",
    "                print_model(estimator[1], estimator[0] + ' - ')\n",
    "        else:\n",
    "            pprint(step[1].get_params())\n",
    "            print()\n",
    "\n",
    "print_model(fitted_model_automl)"
   ]
  },
  {
   "cell_type": "code",
   "execution_count": 11,
   "metadata": {
    "scrolled": true
   },
   "outputs": [
    {
     "data": {
      "text/plain": [
       "['accuracy_table',\n",
       " 'automl_driver.py',\n",
       " 'azureml-logs/55_azureml-execution-tvmps_c7349d0b954bca8d8df97b6404ab402473835b75e5fa4d19bc85cadbdee52ca5_d.txt',\n",
       " 'azureml-logs/65_job_prep-tvmps_c7349d0b954bca8d8df97b6404ab402473835b75e5fa4d19bc85cadbdee52ca5_d.txt',\n",
       " 'azureml-logs/70_driver_log.txt',\n",
       " 'azureml-logs/75_job_post-tvmps_c7349d0b954bca8d8df97b6404ab402473835b75e5fa4d19bc85cadbdee52ca5_d.txt',\n",
       " 'confusion_matrix',\n",
       " 'logs/azureml/104_azureml.log',\n",
       " 'logs/azureml/azureml_automl.log',\n",
       " 'logs/azureml/dataprep/python_span_4ac9aff9-41e0-46ef-9311-fc7232c29264.jsonl',\n",
       " 'logs/azureml/dataprep/python_span_d9be1712-d1f5-4af3-b347-fc9440dca7b6.jsonl',\n",
       " 'logs/azureml/job_prep_azureml.log',\n",
       " 'logs/azureml/job_release_azureml.log',\n",
       " 'outputs/conda_env_v_1_0_0.yml',\n",
       " 'outputs/env_dependencies.json',\n",
       " 'outputs/model.pkl',\n",
       " 'outputs/pipeline_graph.json',\n",
       " 'outputs/scoring_file_v_1_0_0.py']"
      ]
     },
     "execution_count": 11,
     "metadata": {},
     "output_type": "execute_result"
    }
   ],
   "source": [
    "best_run_automl.get_file_names()"
   ]
  },
  {
   "cell_type": "code",
   "execution_count": 12,
   "metadata": {},
   "outputs": [
    {
     "data": {
      "text/plain": [
       "{'f1_score_micro': 0.8339200998751561,\n",
       " 'average_precision_score_weighted': 0.8648082957690917,\n",
       " 'confusion_matrix': 'aml://artifactId/ExperimentRun/dcid.AutoML_739a486b-b636-4691-9b3a-c587d6d1cc47_29/confusion_matrix',\n",
       " 'accuracy_table': 'aml://artifactId/ExperimentRun/dcid.AutoML_739a486b-b636-4691-9b3a-c587d6d1cc47_29/accuracy_table',\n",
       " 'matthews_correlation': 0.6413881069599816,\n",
       " 'AUC_macro': 0.8647392376143779,\n",
       " 'recall_score_weighted': 0.8339200998751559,\n",
       " 'AUC_weighted': 0.8647392376143779,\n",
       " 'recall_score_micro': 0.8339200998751559,\n",
       " 'precision_score_weighted': 0.8371311768646155,\n",
       " 'f1_score_weighted': 0.8316123569939812,\n",
       " 'log_loss': 0.4525316807348322,\n",
       " 'f1_score_macro': 0.8166566864405407,\n",
       " 'precision_score_micro': 0.8339200998751559,\n",
       " 'recall_score_macro': 0.8116031726162211,\n",
       " 'average_precision_score_macro': 0.8579209555236739,\n",
       " 'accuracy': 0.8339200998751559,\n",
       " 'weighted_accuracy': 0.8527992298886623,\n",
       " 'AUC_micro': 0.8829369514698386,\n",
       " 'average_precision_score_micro': 0.8654519394430285,\n",
       " 'precision_score_macro': 0.8303054836131103,\n",
       " 'balanced_accuracy': 0.8116031726162211,\n",
       " 'norm_macro_recall': 0.6232063452324421}"
      ]
     },
     "execution_count": 12,
     "metadata": {},
     "output_type": "execute_result"
    }
   ],
   "source": [
    "best_run_automl.get_metrics()"
   ]
  },
  {
   "cell_type": "code",
   "execution_count": 13,
   "metadata": {},
   "outputs": [
    {
     "data": {
      "text/plain": [
       "{'runTemplate': 'automl_child',\n",
       " 'pipeline_id': '__AutoML_Ensemble__',\n",
       " 'pipeline_spec': '{\"pipeline_id\":\"__AutoML_Ensemble__\",\"objects\":[{\"module\":\"azureml.train.automl.ensemble\",\"class_name\":\"Ensemble\",\"spec_class\":\"sklearn\",\"param_args\":[],\"param_kwargs\":{\"automl_settings\":\"{\\'task_type\\':\\'classification\\',\\'primary_metric\\':\\'accuracy\\',\\'verbosity\\':20,\\'ensemble_iterations\\':15,\\'is_timeseries\\':False,\\'name\\':\\'titanic-automl-experiment\\',\\'compute_target\\':\\'cluster-1\\',\\'subscription_id\\':\\'81cefad3-d2c9-4f77-a466-99a7f541c7bb\\',\\'region\\':\\'southcentralus\\',\\'spark_service\\':None}\",\"ensemble_run_id\":\"AutoML_739a486b-b636-4691-9b3a-c587d6d1cc47_29\",\"experiment_name\":\"titanic-automl-experiment\",\"workspace_name\":\"quick-starts-ws-135129\",\"subscription_id\":\"81cefad3-d2c9-4f77-a466-99a7f541c7bb\",\"resource_group_name\":\"aml-quickstarts-135129\"}}]}',\n",
       " 'training_percent': '100',\n",
       " 'predicted_cost': None,\n",
       " 'iteration': '29',\n",
       " '_aml_system_scenario_identification': 'Remote.Child',\n",
       " '_azureml.ComputeTargetType': 'amlcompute',\n",
       " 'ContentSnapshotId': 'a64b7626-fb9a-4b74-b6b6-fd36fcefd03c',\n",
       " 'ProcessInfoFile': 'azureml-logs/process_info.json',\n",
       " 'ProcessStatusFile': 'azureml-logs/process_status.json',\n",
       " 'run_template': 'automl_child',\n",
       " 'run_preprocessor': '',\n",
       " 'run_algorithm': 'VotingEnsemble',\n",
       " 'conda_env_data_location': 'aml://artifact/ExperimentRun/dcid.AutoML_739a486b-b636-4691-9b3a-c587d6d1cc47_29/outputs/conda_env_v_1_0_0.yml',\n",
       " 'model_data_location': 'aml://artifact/ExperimentRun/dcid.AutoML_739a486b-b636-4691-9b3a-c587d6d1cc47_29/outputs/model.pkl',\n",
       " 'model_size_on_disk': '3760505',\n",
       " 'scoring_data_location': 'aml://artifact/ExperimentRun/dcid.AutoML_739a486b-b636-4691-9b3a-c587d6d1cc47_29/outputs/scoring_file_v_1_0_0.py',\n",
       " 'model_exp_support': 'True',\n",
       " 'pipeline_graph_version': '1.0.0',\n",
       " 'model_name': 'AutoML739a486bb29',\n",
       " 'staticProperties': '{}',\n",
       " 'score': '0.8339200998751559',\n",
       " 'run_properties': \"classification_labels=None,\\n                              estimators=[('0',\\n                                           Pipeline(memory=None,\\n                                                    steps=[('maxabsscaler',\\n                                                            MaxAbsScaler(copy=True\",\n",
       " 'pipeline_script': '{\"pipeline_id\":\"__AutoML_Ensemble__\",\"objects\":[{\"module\":\"azureml.train.automl.ensemble\",\"class_name\":\"Ensemble\",\"spec_class\":\"sklearn\",\"param_args\":[],\"param_kwargs\":{\"automl_settings\":\"{\\'task_type\\':\\'classification\\',\\'primary_metric\\':\\'accuracy\\',\\'verbosity\\':20,\\'ensemble_iterations\\':15,\\'is_timeseries\\':False,\\'name\\':\\'titanic-automl-experiment\\',\\'compute_target\\':\\'cluster-1\\',\\'subscription_id\\':\\'81cefad3-d2c9-4f77-a466-99a7f541c7bb\\',\\'region\\':\\'southcentralus\\',\\'spark_service\\':None}\",\"ensemble_run_id\":\"AutoML_739a486b-b636-4691-9b3a-c587d6d1cc47_29\",\"experiment_name\":\"titanic-automl-experiment\",\"workspace_name\":\"quick-starts-ws-135129\",\"subscription_id\":\"81cefad3-d2c9-4f77-a466-99a7f541c7bb\",\"resource_group_name\":\"aml-quickstarts-135129\"}}]}',\n",
       " 'training_type': 'MeanCrossValidation',\n",
       " 'num_classes': '',\n",
       " 'framework': 'sklearn',\n",
       " 'fit_time': '51',\n",
       " 'goal': 'accuracy_max',\n",
       " 'class_labels': '',\n",
       " 'primary_metric': 'accuracy',\n",
       " 'errors': '{}',\n",
       " 'fitted_pipeline': \"Pipeline(memory=None,\\n         steps=[('datatransformer',\\n                 DataTransformer(enable_dnn=None, enable_feature_sweeping=None,\\n                                 feature_sweeping_config=None,\\n                                 feature_sweeping_timeout=None,\\n                                 featurization_config=None, force_text_dnn=None,\\n                                 is_cross_validation=None,\\n                                 is_onnx_compatible=None, logger=None,\\n                                 observer=None, task=None, working_dir=None)),\\n                ('prefittedsoftvotingclassifier',...\\n                                                                                                    min_samples_split=0.01,\\n                                                                                                    min_weight_fraction_leaf=0.0,\\n                                                                                                    n_estimators=25,\\n                                                                                                    n_jobs=1,\\n                                                                                                    oob_score=True,\\n                                                                                                    random_state=None,\\n                                                                                                    verbose=0,\\n                                                                                                    warm_start=False))],\\n                                                                     verbose=False))],\\n                                               flatten_transform=None,\\n                                               weights=[0.2,\\n                                                        0.06666666666666667,\\n                                                        0.06666666666666667,\\n                                                        0.13333333333333333,\\n                                                        0.06666666666666667,\\n                                                        0.13333333333333333,\\n                                                        0.06666666666666667,\\n                                                        0.06666666666666667,\\n                                                        0.2]))],\\n         verbose=False)\\nY_transformer(['LabelEncoder', LabelEncoder()])\",\n",
       " 'friendly_errors': '{}',\n",
       " 'onnx_model_resource': '{}',\n",
       " 'error_code': '',\n",
       " 'failure_reason': '',\n",
       " 'feature_skus': 'automatedml_sdk_guardrails',\n",
       " 'dependencies_versions': '{\"azureml-train-automl-runtime\": \"1.19.0\", \"azureml-train-automl-client\": \"1.19.0\", \"azureml-telemetry\": \"1.19.0\", \"azureml-pipeline-core\": \"1.19.0\", \"azureml-model-management-sdk\": \"1.0.1b6.post1\", \"azureml-interpret\": \"1.19.0\", \"azureml-defaults\": \"1.19.0\", \"azureml-dataset-runtime\": \"1.19.0\", \"azureml-dataprep\": \"2.6.1\", \"azureml-dataprep-rslex\": \"1.4.0\", \"azureml-dataprep-native\": \"26.0.0\", \"azureml-core\": \"1.19.0\", \"azureml-automl-runtime\": \"1.19.0\", \"azureml-automl-core\": \"1.19.0\"}',\n",
       " 'num_cores': '4',\n",
       " 'num_logical_cores': '4',\n",
       " 'peak_memory_usage': '1025712',\n",
       " 'vm_configuration': 'Intel(R) Xeon(R) Platinum 8171M CPU @ 2.60GHz',\n",
       " 'core_hours': '0.0296008325'}"
      ]
     },
     "execution_count": 13,
     "metadata": {},
     "output_type": "execute_result"
    }
   ],
   "source": [
    "best_run_automl.properties"
   ]
  },
  {
   "cell_type": "code",
   "execution_count": 14,
   "metadata": {},
   "outputs": [
    {
     "data": {
      "text/plain": [
       "'VotingEnsemble'"
      ]
     },
     "execution_count": 14,
     "metadata": {},
     "output_type": "execute_result"
    }
   ],
   "source": [
    "best_run_automl.properties['run_algorithm']"
   ]
  },
  {
   "cell_type": "code",
   "execution_count": 15,
   "metadata": {},
   "outputs": [
    {
     "data": {
      "text/plain": [
       "\"classification_labels=None,\\n                              estimators=[('0',\\n                                           Pipeline(memory=None,\\n                                                    steps=[('maxabsscaler',\\n                                                            MaxAbsScaler(copy=True\""
      ]
     },
     "execution_count": 15,
     "metadata": {},
     "output_type": "execute_result"
    }
   ],
   "source": [
    "best_run_automl.properties['run_properties']"
   ]
  },
  {
   "cell_type": "code",
   "execution_count": 16,
   "metadata": {},
   "outputs": [
    {
     "data": {
      "text/plain": [
       "\"Pipeline(memory=None,\\n         steps=[('datatransformer',\\n                 DataTransformer(enable_dnn=None, enable_feature_sweeping=None,\\n                                 feature_sweeping_config=None,\\n                                 feature_sweeping_timeout=None,\\n                                 featurization_config=None, force_text_dnn=None,\\n                                 is_cross_validation=None,\\n                                 is_onnx_compatible=None, logger=None,\\n                                 observer=None, task=None, working_dir=None)),\\n                ('prefittedsoftvotingclassifier',...\\n                                                                                                    min_samples_split=0.01,\\n                                                                                                    min_weight_fraction_leaf=0.0,\\n                                                                                                    n_estimators=25,\\n                                                                                                    n_jobs=1,\\n                                                                                                    oob_score=True,\\n                                                                                                    random_state=None,\\n                                                                                                    verbose=0,\\n                                                                                                    warm_start=False))],\\n                                                                     verbose=False))],\\n                                               flatten_transform=None,\\n                                               weights=[0.2,\\n                                                        0.06666666666666667,\\n                                                        0.06666666666666667,\\n                                                        0.13333333333333333,\\n                                                        0.06666666666666667,\\n                                                        0.13333333333333333,\\n                                                        0.06666666666666667,\\n                                                        0.06666666666666667,\\n                                                        0.2]))],\\n         verbose=False)\\nY_transformer(['LabelEncoder', LabelEncoder()])\""
      ]
     },
     "execution_count": 16,
     "metadata": {},
     "output_type": "execute_result"
    }
   ],
   "source": [
    "best_run_automl.properties['fitted_pipeline']"
   ]
  },
  {
   "cell_type": "code",
   "execution_count": 17,
   "metadata": {
    "gather": {
     "logged": 1598431426111
    },
    "jupyter": {
     "outputs_hidden": false,
     "source_hidden": false
    },
    "nteract": {
     "transient": {
      "deleting": false
     }
    }
   },
   "outputs": [],
   "source": [
    "#Save the best model - download pkl and register model in Azure\n",
    "model_name = 'best_model_titanic'\n",
    "model = best_run_automl.register_model(model_name, model_path='outputs/model.pkl')"
   ]
  },
  {
   "cell_type": "code",
   "execution_count": 18,
   "metadata": {},
   "outputs": [],
   "source": [
    "best_run_automl.download_file('outputs/scoring_file_v_1_0_0.py', 'automl_output/score.py')\n",
    "best_run_automl.download_file('outputs/model.pkl', 'automl_output/model.pkl')"
   ]
  },
  {
   "cell_type": "code",
   "execution_count": 19,
   "metadata": {},
   "outputs": [
    {
     "name": "stdout",
     "output_type": "stream",
     "text": [
      "Model(workspace=Workspace.create(name='quick-starts-ws-135129', subscription_id='81cefad3-d2c9-4f77-a466-99a7f541c7bb', resource_group='aml-quickstarts-135129'), name=best_model_titanic, id=best_model_titanic:1, version=1, tags={}, properties={})\n"
     ]
    }
   ],
   "source": [
    "print(model)"
   ]
  },
  {
   "cell_type": "markdown",
   "metadata": {},
   "source": [
    "## Model Deployment\n",
    "\n",
    "Create an inference config and deploy the model as a web service."
   ]
  },
  {
   "cell_type": "code",
   "execution_count": 20,
   "metadata": {
    "gather": {
     "logged": 1598431435189
    },
    "jupyter": {
     "outputs_hidden": false,
     "source_hidden": false
    },
    "nteract": {
     "transient": {
      "deleting": false
     }
    }
   },
   "outputs": [
    {
     "name": "stdout",
     "output_type": "stream",
     "text": [
      "Tips: You can try get_logs(): https://aka.ms/debugimage#dockerlog or local deployment: https://aka.ms/debugimage#debug-locally to debug if deployment takes longer than 10 minutes.\n",
      "Running.................................................\n",
      "Succeeded\n",
      "ACI service creation operation finished, operation \"Succeeded\"\n"
     ]
    }
   ],
   "source": [
    "service_name = 'my-titanic-automl-service'\n",
    "inference_config = InferenceConfig(entry_script='automl_output/score.py')\n",
    "service = Model.deploy(ws, service_name, [model], inference_config, overwrite=True)\n",
    "service.wait_for_deployment(show_output=True)"
   ]
  },
  {
   "cell_type": "code",
   "execution_count": 21,
   "metadata": {},
   "outputs": [
    {
     "name": "stdout",
     "output_type": "stream",
     "text": [
      "Healthy\n"
     ]
    }
   ],
   "source": [
    "print(service.state)"
   ]
  },
  {
   "cell_type": "markdown",
   "metadata": {
    "collapsed": true,
    "gather": {
     "logged": 1598431657736
    },
    "jupyter": {
     "outputs_hidden": false,
     "source_hidden": false
    },
    "nteract": {
     "transient": {
      "deleting": false
     }
    }
   },
   "source": [
    "Send a request to the web service you deployed to test it."
   ]
  },
  {
   "cell_type": "code",
   "execution_count": 22,
   "metadata": {
    "gather": {
     "logged": 1598432707604
    },
    "jupyter": {
     "outputs_hidden": false,
     "source_hidden": false
    },
    "nteract": {
     "transient": {
      "deleting": false
     }
    }
   },
   "outputs": [],
   "source": [
    "import json\n",
    "\n",
    "data = {\"data\":\n",
    "        [\n",
    "          {\n",
    "            \"PassengerId\": 812,\n",
    "            \"Pclass\": 2,\n",
    "            \"Name\": \"Berriman, Mr. William John\",\n",
    "            \"Age\": 23.0,\n",
    "            \"SibSp\": 0,\n",
    "            \"Parch\": 0, \n",
    "            \"Ticket\": \"28425\",\n",
    "            \"Fare\": 13.0,\n",
    "            \"Cabin\": \"\",\n",
    "            \"Q\": 0,\n",
    "            \"S\": 1,\n",
    "            \"male\": 1\n",
    "          },\n",
    "          {\n",
    "            \"PassengerId\": 813,\n",
    "            \"Pclass\": 1,\n",
    "            \"Name\": \"Lesurer, Mr. Gustave J\",\n",
    "            \"Age\": 35.0,\n",
    "            \"SibSp\": 0,\n",
    "            \"Parch\": 0, \n",
    "            \"Ticket\": \"PC 17755\",\n",
    "            \"Fare\": 512.3292,\n",
    "            \"Cabin\": \"B101\",\n",
    "            \"Q\": 0,\n",
    "            \"S\": 0,\n",
    "            \"male\": 1\n",
    "          }\n",
    "      ]\n",
    "    }\n",
    "\n",
    "# Convert to JSON string\n",
    "input_data = json.dumps(data)"
   ]
  },
  {
   "cell_type": "markdown",
   "metadata": {
    "collapsed": true,
    "gather": {
     "logged": 1598432765711
    },
    "jupyter": {
     "outputs_hidden": false,
     "source_hidden": false
    },
    "nteract": {
     "transient": {
      "deleting": false
     }
    }
   },
   "source": [
    "Print the logs of the web service and delete the service"
   ]
  },
  {
   "cell_type": "code",
   "execution_count": 23,
   "metadata": {
    "gather": {
     "logged": 1610405031401
    },
    "jupyter": {
     "outputs_hidden": false,
     "source_hidden": false
    },
    "nteract": {
     "transient": {
      "deleting": false
     }
    }
   },
   "outputs": [],
   "source": [
    "output = service.run(input_data)"
   ]
  },
  {
   "cell_type": "code",
   "execution_count": 24,
   "metadata": {
    "gather": {
     "logged": 1610405037385
    },
    "jupyter": {
     "outputs_hidden": false,
     "source_hidden": false
    },
    "nteract": {
     "transient": {
      "deleting": false
     }
    }
   },
   "outputs": [
    {
     "name": "stdout",
     "output_type": "stream",
     "text": [
      "{\"result\": [0.0, 1.0]}\n"
     ]
    }
   ],
   "source": [
    "print(output)"
   ]
  },
  {
   "cell_type": "markdown",
   "metadata": {},
   "source": [
    "Delete the service:"
   ]
  },
  {
   "cell_type": "code",
   "execution_count": 25,
   "metadata": {
    "gather": {
     "logged": 1610405049049
    },
    "jupyter": {
     "outputs_hidden": false,
     "source_hidden": false
    },
    "nteract": {
     "transient": {
      "deleting": false
     }
    }
   },
   "outputs": [],
   "source": [
    "service.delete()"
   ]
  },
  {
   "cell_type": "code",
   "execution_count": 26,
   "metadata": {
    "jupyter": {
     "outputs_hidden": false,
     "source_hidden": false
    },
    "nteract": {
     "transient": {
      "deleting": false
     }
    }
   },
   "outputs": [
    {
     "name": "stdout",
     "output_type": "stream",
     "text": [
      "Deleting\n"
     ]
    }
   ],
   "source": [
    "print(service.state)"
   ]
  },
  {
   "cell_type": "code",
   "execution_count": null,
   "metadata": {},
   "outputs": [],
   "source": []
  }
 ],
 "metadata": {
  "kernel_info": {
   "name": "python3-azureml"
  },
  "kernelspec": {
   "display_name": "Python 3",
   "language": "python",
   "name": "python3"
  },
  "language_info": {
   "codemirror_mode": {
    "name": "ipython",
    "version": 3
   },
   "file_extension": ".py",
   "mimetype": "text/x-python",
   "name": "python",
   "nbconvert_exporter": "python",
   "pygments_lexer": "ipython3",
   "version": "3.6.9"
  },
  "nteract": {
   "version": "nteract-front-end@1.0.0"
  }
 },
 "nbformat": 4,
 "nbformat_minor": 2
}
