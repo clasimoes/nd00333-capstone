{
 "cells": [
  {
   "cell_type": "markdown",
   "metadata": {},
   "source": [
    "# Automated ML"
   ]
  },
  {
   "cell_type": "code",
   "execution_count": 2,
   "metadata": {},
   "outputs": [
    {
     "name": "stdout",
     "output_type": "stream",
     "text": [
      "SDK version: 1.19.0\n"
     ]
    }
   ],
   "source": [
    "import azureml.core\n",
    "from azureml.core.experiment import Experiment\n",
    "from azureml.core.workspace import Workspace\n",
    "from azureml.train.automl import AutoMLConfig\n",
    "from azureml.core.dataset import Dataset\n",
    "from azureml.core.webservice import Webservice\n",
    "from azureml.core.webservice import AciWebservice\n",
    "from azureml.core.model import InferenceConfig\n",
    "from azureml.core.model import Model\n",
    "\n",
    "print(\"SDK version:\", azureml.core.VERSION)"
   ]
  },
  {
   "cell_type": "markdown",
   "metadata": {},
   "source": [
    "## Dataset\n",
    "\n",
    "### Overview\n",
    "The dataset chosen for this project is the one from [Kaggle Titanic Challenge](https://www.kaggle.com/c/titanic). \n",
    "In the famous Titanic shipwreck, some passengers were more likely to survive than others. The dataset presents information about 871 passengers and a column that states if they have survived or not. The model that we will create using automated ML predicts which passengers survived the Titanic shipwreck."
   ]
  },
  {
   "cell_type": "code",
   "execution_count": 3,
   "metadata": {
    "gather": {
     "logged": 1598423890461
    },
    "jupyter": {
     "outputs_hidden": false,
     "source_hidden": false
    },
    "nteract": {
     "transient": {
      "deleting": false
     }
    }
   },
   "outputs": [
    {
     "data": {
      "text/html": [
       "<div>\n",
       "<style scoped>\n",
       "    .dataframe tbody tr th:only-of-type {\n",
       "        vertical-align: middle;\n",
       "    }\n",
       "\n",
       "    .dataframe tbody tr th {\n",
       "        vertical-align: top;\n",
       "    }\n",
       "\n",
       "    .dataframe thead th {\n",
       "        text-align: right;\n",
       "    }\n",
       "</style>\n",
       "<table border=\"1\" class=\"dataframe\">\n",
       "  <thead>\n",
       "    <tr style=\"text-align: right;\">\n",
       "      <th></th>\n",
       "      <th>PassengerId</th>\n",
       "      <th>Survived</th>\n",
       "      <th>Pclass</th>\n",
       "      <th>Age</th>\n",
       "      <th>SibSp</th>\n",
       "      <th>Parch</th>\n",
       "      <th>Fare</th>\n",
       "      <th>Q</th>\n",
       "      <th>S</th>\n",
       "      <th>male</th>\n",
       "    </tr>\n",
       "  </thead>\n",
       "  <tbody>\n",
       "    <tr>\n",
       "      <th>count</th>\n",
       "      <td>891.000000</td>\n",
       "      <td>891.000000</td>\n",
       "      <td>891.000000</td>\n",
       "      <td>891.000000</td>\n",
       "      <td>891.000000</td>\n",
       "      <td>891.000000</td>\n",
       "      <td>891.000000</td>\n",
       "      <td>891.000000</td>\n",
       "      <td>891.000000</td>\n",
       "      <td>891.000000</td>\n",
       "    </tr>\n",
       "    <tr>\n",
       "      <th>mean</th>\n",
       "      <td>446.000000</td>\n",
       "      <td>0.383838</td>\n",
       "      <td>2.308642</td>\n",
       "      <td>29.066409</td>\n",
       "      <td>0.523008</td>\n",
       "      <td>0.381594</td>\n",
       "      <td>32.204208</td>\n",
       "      <td>0.086420</td>\n",
       "      <td>0.725028</td>\n",
       "      <td>0.647587</td>\n",
       "    </tr>\n",
       "    <tr>\n",
       "      <th>std</th>\n",
       "      <td>257.353842</td>\n",
       "      <td>0.486592</td>\n",
       "      <td>0.836071</td>\n",
       "      <td>13.244532</td>\n",
       "      <td>1.102743</td>\n",
       "      <td>0.806057</td>\n",
       "      <td>49.693429</td>\n",
       "      <td>0.281141</td>\n",
       "      <td>0.446751</td>\n",
       "      <td>0.477990</td>\n",
       "    </tr>\n",
       "    <tr>\n",
       "      <th>min</th>\n",
       "      <td>1.000000</td>\n",
       "      <td>0.000000</td>\n",
       "      <td>1.000000</td>\n",
       "      <td>0.420000</td>\n",
       "      <td>0.000000</td>\n",
       "      <td>0.000000</td>\n",
       "      <td>0.000000</td>\n",
       "      <td>0.000000</td>\n",
       "      <td>0.000000</td>\n",
       "      <td>0.000000</td>\n",
       "    </tr>\n",
       "    <tr>\n",
       "      <th>25%</th>\n",
       "      <td>223.500000</td>\n",
       "      <td>0.000000</td>\n",
       "      <td>2.000000</td>\n",
       "      <td>22.000000</td>\n",
       "      <td>0.000000</td>\n",
       "      <td>0.000000</td>\n",
       "      <td>7.910400</td>\n",
       "      <td>0.000000</td>\n",
       "      <td>0.000000</td>\n",
       "      <td>0.000000</td>\n",
       "    </tr>\n",
       "    <tr>\n",
       "      <th>50%</th>\n",
       "      <td>446.000000</td>\n",
       "      <td>0.000000</td>\n",
       "      <td>3.000000</td>\n",
       "      <td>26.000000</td>\n",
       "      <td>0.000000</td>\n",
       "      <td>0.000000</td>\n",
       "      <td>14.454200</td>\n",
       "      <td>0.000000</td>\n",
       "      <td>1.000000</td>\n",
       "      <td>1.000000</td>\n",
       "    </tr>\n",
       "    <tr>\n",
       "      <th>75%</th>\n",
       "      <td>668.500000</td>\n",
       "      <td>1.000000</td>\n",
       "      <td>3.000000</td>\n",
       "      <td>37.000000</td>\n",
       "      <td>1.000000</td>\n",
       "      <td>0.000000</td>\n",
       "      <td>31.000000</td>\n",
       "      <td>0.000000</td>\n",
       "      <td>1.000000</td>\n",
       "      <td>1.000000</td>\n",
       "    </tr>\n",
       "    <tr>\n",
       "      <th>max</th>\n",
       "      <td>891.000000</td>\n",
       "      <td>1.000000</td>\n",
       "      <td>3.000000</td>\n",
       "      <td>80.000000</td>\n",
       "      <td>8.000000</td>\n",
       "      <td>6.000000</td>\n",
       "      <td>512.329200</td>\n",
       "      <td>1.000000</td>\n",
       "      <td>1.000000</td>\n",
       "      <td>1.000000</td>\n",
       "    </tr>\n",
       "  </tbody>\n",
       "</table>\n",
       "</div>"
      ],
      "text/plain": [
       "       PassengerId    Survived      Pclass         Age       SibSp  \\\n",
       "count   891.000000  891.000000  891.000000  891.000000  891.000000   \n",
       "mean    446.000000    0.383838    2.308642   29.066409    0.523008   \n",
       "std     257.353842    0.486592    0.836071   13.244532    1.102743   \n",
       "min       1.000000    0.000000    1.000000    0.420000    0.000000   \n",
       "25%     223.500000    0.000000    2.000000   22.000000    0.000000   \n",
       "50%     446.000000    0.000000    3.000000   26.000000    0.000000   \n",
       "75%     668.500000    1.000000    3.000000   37.000000    1.000000   \n",
       "max     891.000000    1.000000    3.000000   80.000000    8.000000   \n",
       "\n",
       "            Parch        Fare           Q           S        male  \n",
       "count  891.000000  891.000000  891.000000  891.000000  891.000000  \n",
       "mean     0.381594   32.204208    0.086420    0.725028    0.647587  \n",
       "std      0.806057   49.693429    0.281141    0.446751    0.477990  \n",
       "min      0.000000    0.000000    0.000000    0.000000    0.000000  \n",
       "25%      0.000000    7.910400    0.000000    0.000000    0.000000  \n",
       "50%      0.000000   14.454200    0.000000    1.000000    1.000000  \n",
       "75%      0.000000   31.000000    0.000000    1.000000    1.000000  \n",
       "max      6.000000  512.329200    1.000000    1.000000    1.000000  "
      ]
     },
     "execution_count": 3,
     "metadata": {},
     "output_type": "execute_result"
    }
   ],
   "source": [
    "ws = Workspace.from_config()\n",
    "\n",
    "# Name of the experiment\n",
    "experiment_name = 'titanic-automl-experiment'\n",
    "experiment=Experiment(ws, experiment_name)\n",
    "\n",
    "# Get the data of Kaggle Titanic Dataset\n",
    "key = \"titanic-modified\"\n",
    "description_text = \"Kaggle Titanic Challenge dataset with some changes made by myself\"\n",
    "found = False\n",
    "\n",
    "if key in ws.datasets.keys(): \n",
    "    found = True\n",
    "    dataset = ws.datasets[key] \n",
    "\n",
    "if not found:\n",
    "    # Create AML Dataset and register it into Workspace\n",
    "    example_data = 'https://raw.githubusercontent.com/clasimoes/nd00333-capstone/master/titanic_data/full_capstone.csv'\n",
    "    dataset = Dataset.Tabular.from_delimited_files(example_data)\n",
    "    #Register Dataset in Workspace\n",
    "    dataset = dataset.register(workspace=ws,\n",
    "                               name=key,\n",
    "                               description=description_text)\n",
    "\n",
    "\n",
    "df = dataset.to_pandas_dataframe()\n",
    "df.describe()"
   ]
  },
  {
   "cell_type": "markdown",
   "metadata": {},
   "source": [
    "### Create a compute cluster\n",
    "\n",
    "We create here a compute cluster to run the experiment. In this cluster, we provise 2-10 machines with the \"STANDARD_DS12_V2\" configuration."
   ]
  },
  {
   "cell_type": "code",
   "execution_count": 4,
   "metadata": {},
   "outputs": [
    {
     "name": "stdout",
     "output_type": "stream",
     "text": [
      "Found existing cluster, use it.\n",
      "Succeeded\n",
      "AmlCompute wait for completion finished\n",
      "\n",
      "Minimum number of nodes requested have been provisioned\n"
     ]
    }
   ],
   "source": [
    "from azureml.core.compute import AmlCompute\n",
    "from azureml.core.compute import ComputeTarget\n",
    "from azureml.core.compute_target import ComputeTargetException\n",
    "\n",
    "# NOTE: update the cluster name to match the existing cluster\n",
    "# Choose a name for your CPU cluster\n",
    "amlcompute_cluster_name = \"cluster-2\"\n",
    "\n",
    "# Verify that cluster does not exist already\n",
    "try:\n",
    "    compute_target = ComputeTarget(workspace=ws, name=amlcompute_cluster_name)\n",
    "    print('Found existing cluster, use it.')\n",
    "except ComputeTargetException:\n",
    "    compute_config = AmlCompute.provisioning_configuration(vm_size='STANDARD_DS12_V2',# for GPU, use \"STANDARD_NC6\"\n",
    "                                                           #vm_priority = 'lowpriority', # optional\n",
    "                                                           max_nodes=10)\n",
    "    compute_target = ComputeTarget.create(ws, amlcompute_cluster_name, compute_config)\n",
    "\n",
    "compute_target.wait_for_completion(show_output=True, min_node_count = 2, timeout_in_minutes = 10)"
   ]
  },
  {
   "cell_type": "markdown",
   "metadata": {},
   "source": [
    "## AutoML Configuration\n",
    "\n",
    "The task here is to classify if each passenger survived the Titanic shipwreck or not, what led us to provide the column \"Survived\" as the classification target.\n",
    "Because we have 10 nodes in our cluster, we are able to run up to 9 concurrent iterations in our experiment (1 node is meant to be used by the \"parent\" experiment). We have chosen accuracy as the primary metric to be optimized. Featurization is set to auto, leaving data to be automatically scaled and normalized by AutoML. "
   ]
  },
  {
   "cell_type": "code",
   "execution_count": 5,
   "metadata": {
    "gather": {
     "logged": 1598429217746
    },
    "jupyter": {
     "outputs_hidden": false,
     "source_hidden": false
    },
    "nteract": {
     "transient": {
      "deleting": false
     }
    }
   },
   "outputs": [],
   "source": [
    "# TODO: Put your automl settings here\n",
    "automl_settings = {\"max_concurrent_iterations\": 9,\n",
    "                   \"primary_metric\" : 'accuracy'\n",
    "}\n",
    "project_folder = './capstone-project'\n",
    "\n",
    "# TODO: Put your automl config here\n",
    "automl_config = AutoMLConfig(compute_target=compute_target,\n",
    "                             task = \"classification\",\n",
    "                             experiment_timeout_minutes = 20,\n",
    "                             training_data=dataset,\n",
    "                             label_column_name=\"Survived\",   \n",
    "                             path = project_folder,\n",
    "                             enable_early_stopping= True,\n",
    "                             featurization= 'auto',\n",
    "                             debug_log = \"automl_errors.log\",\n",
    "                             **automl_settings)"
   ]
  },
  {
   "cell_type": "code",
   "execution_count": 6,
   "metadata": {
    "gather": {
     "logged": 1598431107951
    },
    "jupyter": {
     "outputs_hidden": false,
     "source_hidden": false
    },
    "nteract": {
     "transient": {
      "deleting": false
     }
    }
   },
   "outputs": [
    {
     "name": "stdout",
     "output_type": "stream",
     "text": [
      "Running on remote.\n"
     ]
    }
   ],
   "source": [
    "# TODO: Submit your experiment\n",
    "# RemoteRun is an object of type AutoMLRun\n",
    "remote_run = experiment.submit(automl_config, show_output=False)"
   ]
  },
  {
   "cell_type": "markdown",
   "metadata": {},
   "source": [
    "## Run Details\n",
    "\n",
    "`RunDetails` widget shows the run status per job."
   ]
  },
  {
   "cell_type": "code",
   "execution_count": 7,
   "metadata": {
    "gather": {
     "logged": 1598431121770
    },
    "jupyter": {
     "outputs_hidden": false,
     "source_hidden": false
    },
    "nteract": {
     "transient": {
      "deleting": false
     }
    },
    "scrolled": true
   },
   "outputs": [
    {
     "data": {
      "application/vnd.jupyter.widget-view+json": {
       "model_id": "c350aaa711ce43d98d0329b2e115af20",
       "version_major": 2,
       "version_minor": 0
      },
      "text/plain": [
       "_AutoMLWidget(widget_settings={'childWidgetDisplay': 'popup', 'send_telemetry': False, 'log_level': 'INFO', 's…"
      ]
     },
     "metadata": {},
     "output_type": "display_data"
    },
    {
     "data": {
      "application/aml.mini.widget.v1": "{\"status\": \"Completed\", \"workbench_run_details_uri\": \"https://ml.azure.com/experiments/titanic-automl-experiment/runs/AutoML_a389c44f-f32e-4d8e-93c3-f75565ec41bf?wsid=/subscriptions/a24a24d5-8d87-4c8a-99b6-91ed2d2df51f/resourcegroups/aml-quickstarts-134553/workspaces/quick-starts-ws-134553\", \"run_id\": \"AutoML_a389c44f-f32e-4d8e-93c3-f75565ec41bf\", \"run_properties\": {\"run_id\": \"AutoML_a389c44f-f32e-4d8e-93c3-f75565ec41bf\", \"created_utc\": \"2021-01-13T13:58:13.108438Z\", \"properties\": {\"num_iterations\": \"1000\", \"training_type\": \"TrainFull\", \"acquisition_function\": \"EI\", \"primary_metric\": \"accuracy\", \"train_split\": \"0\", \"acquisition_parameter\": \"0\", \"num_cross_validation\": null, \"target\": \"cluster-2\", \"AMLSettingsJsonString\": \"{\\\"path\\\":null,\\\"name\\\":\\\"titanic-automl-experiment\\\",\\\"subscription_id\\\":\\\"a24a24d5-8d87-4c8a-99b6-91ed2d2df51f\\\",\\\"resource_group\\\":\\\"aml-quickstarts-134553\\\",\\\"workspace_name\\\":\\\"quick-starts-ws-134553\\\",\\\"region\\\":\\\"southcentralus\\\",\\\"compute_target\\\":\\\"cluster-2\\\",\\\"spark_service\\\":null,\\\"azure_service\\\":\\\"remote\\\",\\\"many_models\\\":false,\\\"pipeline_fetch_max_batch_size\\\":1,\\\"iterations\\\":1000,\\\"primary_metric\\\":\\\"accuracy\\\",\\\"task_type\\\":\\\"classification\\\",\\\"data_script\\\":null,\\\"validation_size\\\":0.0,\\\"n_cross_validations\\\":null,\\\"y_min\\\":null,\\\"y_max\\\":null,\\\"num_classes\\\":null,\\\"featurization\\\":\\\"auto\\\",\\\"_ignore_package_version_incompatibilities\\\":false,\\\"is_timeseries\\\":false,\\\"max_cores_per_iteration\\\":1,\\\"max_concurrent_iterations\\\":9,\\\"iteration_timeout_minutes\\\":null,\\\"mem_in_mb\\\":null,\\\"enforce_time_on_windows\\\":false,\\\"experiment_timeout_minutes\\\":20,\\\"experiment_exit_score\\\":null,\\\"whitelist_models\\\":null,\\\"blacklist_algos\\\":[\\\"TensorFlowLinearClassifier\\\",\\\"TensorFlowDNN\\\"],\\\"supported_models\\\":[\\\"TensorFlowDNN\\\",\\\"AveragedPerceptronClassifier\\\",\\\"KNN\\\",\\\"ExtremeRandomTrees\\\",\\\"RandomForest\\\",\\\"TensorFlowLinearClassifier\\\",\\\"LinearSVM\\\",\\\"BernoulliNaiveBayes\\\",\\\"SVM\\\",\\\"DecisionTree\\\",\\\"GradientBoosting\\\",\\\"XGBoostClassifier\\\",\\\"LogisticRegression\\\",\\\"MultinomialNaiveBayes\\\",\\\"SGD\\\",\\\"LightGBM\\\"],\\\"auto_blacklist\\\":true,\\\"blacklist_samples_reached\\\":false,\\\"exclude_nan_labels\\\":true,\\\"verbosity\\\":20,\\\"_debug_log\\\":\\\"azureml_automl.log\\\",\\\"show_warnings\\\":false,\\\"model_explainability\\\":true,\\\"service_url\\\":null,\\\"sdk_url\\\":null,\\\"sdk_packages\\\":null,\\\"enable_onnx_compatible_models\\\":false,\\\"enable_split_onnx_featurizer_estimator_models\\\":false,\\\"vm_type\\\":\\\"STANDARD_D12_V2\\\",\\\"telemetry_verbosity\\\":20,\\\"send_telemetry\\\":true,\\\"enable_dnn\\\":false,\\\"scenario\\\":\\\"SDK-1.13.0\\\",\\\"environment_label\\\":null,\\\"force_text_dnn\\\":false,\\\"enable_feature_sweeping\\\":true,\\\"enable_early_stopping\\\":true,\\\"early_stopping_n_iters\\\":10,\\\"metrics\\\":null,\\\"enable_ensembling\\\":true,\\\"enable_stack_ensembling\\\":true,\\\"ensemble_iterations\\\":15,\\\"enable_tf\\\":false,\\\"enable_subsampling\\\":null,\\\"subsample_seed\\\":null,\\\"enable_nimbusml\\\":false,\\\"enable_streaming\\\":false,\\\"force_streaming\\\":false,\\\"track_child_runs\\\":true,\\\"allowed_private_models\\\":[],\\\"label_column_name\\\":\\\"Survived\\\",\\\"weight_column_name\\\":null,\\\"cv_split_column_names\\\":null,\\\"enable_local_managed\\\":false,\\\"_local_managed_run_id\\\":null,\\\"cost_mode\\\":1,\\\"lag_length\\\":0,\\\"metric_operation\\\":\\\"maximize\\\",\\\"preprocess\\\":true}\", \"DataPrepJsonString\": \"{\\\\\\\"training_data\\\\\\\": \\\\\\\"{\\\\\\\\\\\\\\\"blocks\\\\\\\\\\\\\\\": [{\\\\\\\\\\\\\\\"id\\\\\\\\\\\\\\\": \\\\\\\\\\\\\\\"938b1afb-2fa9-438f-b14e-05b382f97d3e\\\\\\\\\\\\\\\", \\\\\\\\\\\\\\\"type\\\\\\\\\\\\\\\": \\\\\\\\\\\\\\\"Microsoft.DPrep.GetFilesBlock\\\\\\\\\\\\\\\", \\\\\\\\\\\\\\\"arguments\\\\\\\\\\\\\\\": {\\\\\\\\\\\\\\\"isArchive\\\\\\\\\\\\\\\": false, \\\\\\\\\\\\\\\"path\\\\\\\\\\\\\\\": {\\\\\\\\\\\\\\\"target\\\\\\\\\\\\\\\": 4, \\\\\\\\\\\\\\\"resourceDetails\\\\\\\\\\\\\\\": [{\\\\\\\\\\\\\\\"path\\\\\\\\\\\\\\\": \\\\\\\\\\\\\\\"https://raw.githubusercontent.com/clasimoes/nd00333-capstone/master/titanic_data/full_capstone.csv\\\\\\\\\\\\\\\"}]}}, \\\\\\\\\\\\\\\"localData\\\\\\\\\\\\\\\": {}, \\\\\\\\\\\\\\\"isEnabled\\\\\\\\\\\\\\\": true, \\\\\\\\\\\\\\\"name\\\\\\\\\\\\\\\": null, \\\\\\\\\\\\\\\"annotation\\\\\\\\\\\\\\\": null}, {\\\\\\\\\\\\\\\"id\\\\\\\\\\\\\\\": \\\\\\\\\\\\\\\"297edfa4-b898-43dc-8ab6-43f3253a7ba0\\\\\\\\\\\\\\\", \\\\\\\\\\\\\\\"type\\\\\\\\\\\\\\\": \\\\\\\\\\\\\\\"Microsoft.DPrep.ParseDelimitedBlock\\\\\\\\\\\\\\\", \\\\\\\\\\\\\\\"arguments\\\\\\\\\\\\\\\": {\\\\\\\\\\\\\\\"columnHeadersMode\\\\\\\\\\\\\\\": 3, \\\\\\\\\\\\\\\"fileEncoding\\\\\\\\\\\\\\\": 0, \\\\\\\\\\\\\\\"handleQuotedLineBreaks\\\\\\\\\\\\\\\": false, \\\\\\\\\\\\\\\"preview\\\\\\\\\\\\\\\": false, \\\\\\\\\\\\\\\"separator\\\\\\\\\\\\\\\": \\\\\\\\\\\\\\\",\\\\\\\\\\\\\\\", \\\\\\\\\\\\\\\"skipRows\\\\\\\\\\\\\\\": 0, \\\\\\\\\\\\\\\"skipRowsMode\\\\\\\\\\\\\\\": 0}, \\\\\\\\\\\\\\\"localData\\\\\\\\\\\\\\\": {}, \\\\\\\\\\\\\\\"isEnabled\\\\\\\\\\\\\\\": true, \\\\\\\\\\\\\\\"name\\\\\\\\\\\\\\\": null, \\\\\\\\\\\\\\\"annotation\\\\\\\\\\\\\\\": null}, {\\\\\\\\\\\\\\\"id\\\\\\\\\\\\\\\": \\\\\\\\\\\\\\\"91dda2c6-b4bf-4dfd-ae74-af7b0ba2ee3c\\\\\\\\\\\\\\\", \\\\\\\\\\\\\\\"type\\\\\\\\\\\\\\\": \\\\\\\\\\\\\\\"Microsoft.DPrep.DropColumnsBlock\\\\\\\\\\\\\\\", \\\\\\\\\\\\\\\"arguments\\\\\\\\\\\\\\\": {\\\\\\\\\\\\\\\"columns\\\\\\\\\\\\\\\": {\\\\\\\\\\\\\\\"type\\\\\\\\\\\\\\\": 0, \\\\\\\\\\\\\\\"details\\\\\\\\\\\\\\\": {\\\\\\\\\\\\\\\"selectedColumns\\\\\\\\\\\\\\\": [\\\\\\\\\\\\\\\"Path\\\\\\\\\\\\\\\"]}}}, \\\\\\\\\\\\\\\"localData\\\\\\\\\\\\\\\": {}, \\\\\\\\\\\\\\\"isEnabled\\\\\\\\\\\\\\\": true, \\\\\\\\\\\\\\\"name\\\\\\\\\\\\\\\": null, \\\\\\\\\\\\\\\"annotation\\\\\\\\\\\\\\\": null}, {\\\\\\\\\\\\\\\"id\\\\\\\\\\\\\\\": \\\\\\\\\\\\\\\"047e0c79-d80a-4360-96c6-601ecdf76459\\\\\\\\\\\\\\\", \\\\\\\\\\\\\\\"type\\\\\\\\\\\\\\\": \\\\\\\\\\\\\\\"Microsoft.DPrep.SetColumnTypesBlock\\\\\\\\\\\\\\\", \\\\\\\\\\\\\\\"arguments\\\\\\\\\\\\\\\": {\\\\\\\\\\\\\\\"columnConversion\\\\\\\\\\\\\\\": [{\\\\\\\\\\\\\\\"column\\\\\\\\\\\\\\\": {\\\\\\\\\\\\\\\"type\\\\\\\\\\\\\\\": 2, \\\\\\\\\\\\\\\"details\\\\\\\\\\\\\\\": {\\\\\\\\\\\\\\\"selectedColumn\\\\\\\\\\\\\\\": \\\\\\\\\\\\\\\"PassengerId\\\\\\\\\\\\\\\"}}, \\\\\\\\\\\\\\\"typeProperty\\\\\\\\\\\\\\\": 2}, {\\\\\\\\\\\\\\\"column\\\\\\\\\\\\\\\": {\\\\\\\\\\\\\\\"type\\\\\\\\\\\\\\\": 2, \\\\\\\\\\\\\\\"details\\\\\\\\\\\\\\\": {\\\\\\\\\\\\\\\"selectedColumn\\\\\\\\\\\\\\\": \\\\\\\\\\\\\\\"Survived\\\\\\\\\\\\\\\"}}, \\\\\\\\\\\\\\\"typeProperty\\\\\\\\\\\\\\\": 3}, {\\\\\\\\\\\\\\\"column\\\\\\\\\\\\\\\": {\\\\\\\\\\\\\\\"type\\\\\\\\\\\\\\\": 2, \\\\\\\\\\\\\\\"details\\\\\\\\\\\\\\\": {\\\\\\\\\\\\\\\"selectedColumn\\\\\\\\\\\\\\\": \\\\\\\\\\\\\\\"Pclass\\\\\\\\\\\\\\\"}}, \\\\\\\\\\\\\\\"typeProperty\\\\\\\\\\\\\\\": 2}, {\\\\\\\\\\\\\\\"column\\\\\\\\\\\\\\\": {\\\\\\\\\\\\\\\"type\\\\\\\\\\\\\\\": 2, \\\\\\\\\\\\\\\"details\\\\\\\\\\\\\\\": {\\\\\\\\\\\\\\\"selectedColumn\\\\\\\\\\\\\\\": \\\\\\\\\\\\\\\"Name\\\\\\\\\\\\\\\"}}, \\\\\\\\\\\\\\\"typeProperty\\\\\\\\\\\\\\\": 0}, {\\\\\\\\\\\\\\\"column\\\\\\\\\\\\\\\": {\\\\\\\\\\\\\\\"type\\\\\\\\\\\\\\\": 2, \\\\\\\\\\\\\\\"details\\\\\\\\\\\\\\\": {\\\\\\\\\\\\\\\"selectedColumn\\\\\\\\\\\\\\\": \\\\\\\\\\\\\\\"Age\\\\\\\\\\\\\\\"}}, \\\\\\\\\\\\\\\"typeProperty\\\\\\\\\\\\\\\": 3}, {\\\\\\\\\\\\\\\"column\\\\\\\\\\\\\\\": {\\\\\\\\\\\\\\\"type\\\\\\\\\\\\\\\": 2, \\\\\\\\\\\\\\\"details\\\\\\\\\\\\\\\": {\\\\\\\\\\\\\\\"selectedColumn\\\\\\\\\\\\\\\": \\\\\\\\\\\\\\\"SibSp\\\\\\\\\\\\\\\"}}, \\\\\\\\\\\\\\\"typeProperty\\\\\\\\\\\\\\\": 2}, {\\\\\\\\\\\\\\\"column\\\\\\\\\\\\\\\": {\\\\\\\\\\\\\\\"type\\\\\\\\\\\\\\\": 2, \\\\\\\\\\\\\\\"details\\\\\\\\\\\\\\\": {\\\\\\\\\\\\\\\"selectedColumn\\\\\\\\\\\\\\\": \\\\\\\\\\\\\\\"Parch\\\\\\\\\\\\\\\"}}, \\\\\\\\\\\\\\\"typeProperty\\\\\\\\\\\\\\\": 2}, {\\\\\\\\\\\\\\\"column\\\\\\\\\\\\\\\": {\\\\\\\\\\\\\\\"type\\\\\\\\\\\\\\\": 2, \\\\\\\\\\\\\\\"details\\\\\\\\\\\\\\\": {\\\\\\\\\\\\\\\"selectedColumn\\\\\\\\\\\\\\\": \\\\\\\\\\\\\\\"Ticket\\\\\\\\\\\\\\\"}}, \\\\\\\\\\\\\\\"typeProperty\\\\\\\\\\\\\\\": 0}, {\\\\\\\\\\\\\\\"column\\\\\\\\\\\\\\\": {\\\\\\\\\\\\\\\"type\\\\\\\\\\\\\\\": 2, \\\\\\\\\\\\\\\"details\\\\\\\\\\\\\\\": {\\\\\\\\\\\\\\\"selectedColumn\\\\\\\\\\\\\\\": \\\\\\\\\\\\\\\"Fare\\\\\\\\\\\\\\\"}}, \\\\\\\\\\\\\\\"typeProperty\\\\\\\\\\\\\\\": 3}, {\\\\\\\\\\\\\\\"column\\\\\\\\\\\\\\\": {\\\\\\\\\\\\\\\"type\\\\\\\\\\\\\\\": 2, \\\\\\\\\\\\\\\"details\\\\\\\\\\\\\\\": {\\\\\\\\\\\\\\\"selectedColumn\\\\\\\\\\\\\\\": \\\\\\\\\\\\\\\"Cabin\\\\\\\\\\\\\\\"}}, \\\\\\\\\\\\\\\"typeProperty\\\\\\\\\\\\\\\": 0}, {\\\\\\\\\\\\\\\"column\\\\\\\\\\\\\\\": {\\\\\\\\\\\\\\\"type\\\\\\\\\\\\\\\": 2, \\\\\\\\\\\\\\\"details\\\\\\\\\\\\\\\": {\\\\\\\\\\\\\\\"selectedColumn\\\\\\\\\\\\\\\": \\\\\\\\\\\\\\\"Q\\\\\\\\\\\\\\\"}}, \\\\\\\\\\\\\\\"typeProperty\\\\\\\\\\\\\\\": 2}, {\\\\\\\\\\\\\\\"column\\\\\\\\\\\\\\\": {\\\\\\\\\\\\\\\"type\\\\\\\\\\\\\\\": 2, \\\\\\\\\\\\\\\"details\\\\\\\\\\\\\\\": {\\\\\\\\\\\\\\\"selectedColumn\\\\\\\\\\\\\\\": \\\\\\\\\\\\\\\"S\\\\\\\\\\\\\\\"}}, \\\\\\\\\\\\\\\"typeProperty\\\\\\\\\\\\\\\": 2}, {\\\\\\\\\\\\\\\"column\\\\\\\\\\\\\\\": {\\\\\\\\\\\\\\\"type\\\\\\\\\\\\\\\": 2, \\\\\\\\\\\\\\\"details\\\\\\\\\\\\\\\": {\\\\\\\\\\\\\\\"selectedColumn\\\\\\\\\\\\\\\": \\\\\\\\\\\\\\\"male\\\\\\\\\\\\\\\"}}, \\\\\\\\\\\\\\\"typeProperty\\\\\\\\\\\\\\\": 2}]}, \\\\\\\\\\\\\\\"localData\\\\\\\\\\\\\\\": {}, \\\\\\\\\\\\\\\"isEnabled\\\\\\\\\\\\\\\": true, \\\\\\\\\\\\\\\"name\\\\\\\\\\\\\\\": null, \\\\\\\\\\\\\\\"annotation\\\\\\\\\\\\\\\": null}], \\\\\\\\\\\\\\\"inspectors\\\\\\\\\\\\\\\": [], \\\\\\\\\\\\\\\"meta\\\\\\\\\\\\\\\": {\\\\\\\\\\\\\\\"savedDatasetId\\\\\\\\\\\\\\\": \\\\\\\\\\\\\\\"83c82a8b-4620-4673-b4b4-6b0e63c68180\\\\\\\\\\\\\\\", \\\\\\\\\\\\\\\"datasetType\\\\\\\\\\\\\\\": \\\\\\\\\\\\\\\"tabular\\\\\\\\\\\\\\\", \\\\\\\\\\\\\\\"subscriptionId\\\\\\\\\\\\\\\": \\\\\\\\\\\\\\\"a24a24d5-8d87-4c8a-99b6-91ed2d2df51f\\\\\\\\\\\\\\\", \\\\\\\\\\\\\\\"workspaceId\\\\\\\\\\\\\\\": \\\\\\\\\\\\\\\"d7d477b2-9c79-4a8d-b15d-630bee3329dc\\\\\\\\\\\\\\\", \\\\\\\\\\\\\\\"workspaceLocation\\\\\\\\\\\\\\\": \\\\\\\\\\\\\\\"southcentralus\\\\\\\\\\\\\\\"}}\\\\\\\", \\\\\\\"activities\\\\\\\": 0}\", \"EnableSubsampling\": null, \"runTemplate\": \"AutoML\", \"azureml.runsource\": \"automl\", \"display_task_type\": \"classification\", \"dependencies_versions\": \"{\\\"azureml-widgets\\\": \\\"1.19.0\\\", \\\"azureml-train\\\": \\\"1.19.0\\\", \\\"azureml-train-restclients-hyperdrive\\\": \\\"1.19.0\\\", \\\"azureml-train-core\\\": \\\"1.19.0\\\", \\\"azureml-train-automl\\\": \\\"1.19.0\\\", \\\"azureml-train-automl-runtime\\\": \\\"1.19.0\\\", \\\"azureml-train-automl-client\\\": \\\"1.19.0\\\", \\\"azureml-tensorboard\\\": \\\"1.19.0\\\", \\\"azureml-telemetry\\\": \\\"1.19.0\\\", \\\"azureml-sdk\\\": \\\"1.19.0\\\", \\\"azureml-samples\\\": \\\"0+unknown\\\", \\\"azureml-pipeline\\\": \\\"1.19.0\\\", \\\"azureml-pipeline-steps\\\": \\\"1.19.0\\\", \\\"azureml-pipeline-core\\\": \\\"1.19.0\\\", \\\"azureml-opendatasets\\\": \\\"1.19.0\\\", \\\"azureml-model-management-sdk\\\": \\\"1.0.1b6.post1\\\", \\\"azureml-mlflow\\\": \\\"1.19.0\\\", \\\"azureml-interpret\\\": \\\"1.19.0\\\", \\\"azureml-explain-model\\\": \\\"1.19.0\\\", \\\"azureml-defaults\\\": \\\"1.19.0\\\", \\\"azureml-dataset-runtime\\\": \\\"1.19.0\\\", \\\"azureml-dataprep\\\": \\\"2.6.1\\\", \\\"azureml-dataprep-rslex\\\": \\\"1.4.0\\\", \\\"azureml-dataprep-native\\\": \\\"26.0.0\\\", \\\"azureml-datadrift\\\": \\\"1.19.0\\\", \\\"azureml-core\\\": \\\"1.19.0\\\", \\\"azureml-contrib-services\\\": \\\"1.19.0\\\", \\\"azureml-contrib-server\\\": \\\"1.19.0\\\", \\\"azureml-contrib-reinforcementlearning\\\": \\\"1.19.0\\\", \\\"azureml-contrib-pipeline-steps\\\": \\\"1.19.0\\\", \\\"azureml-contrib-notebook\\\": \\\"1.19.0\\\", \\\"azureml-contrib-interpret\\\": \\\"1.19.0\\\", \\\"azureml-contrib-gbdt\\\": \\\"1.19.0\\\", \\\"azureml-contrib-fairness\\\": \\\"1.19.0\\\", \\\"azureml-contrib-dataset\\\": \\\"1.19.0\\\", \\\"azureml-cli-common\\\": \\\"1.19.0\\\", \\\"azureml-automl-runtime\\\": \\\"1.19.0\\\", \\\"azureml-automl-core\\\": \\\"1.19.0\\\", \\\"azureml-accel-models\\\": \\\"1.19.0\\\"}\", \"_aml_system_scenario_identification\": \"Remote.Parent\", \"ClientType\": \"SDK\", \"environment_cpu_name\": \"AzureML-AutoML\", \"environment_cpu_label\": \"prod\", \"environment_gpu_name\": \"AzureML-AutoML-GPU\", \"environment_gpu_label\": \"prod\", \"root_attribution\": \"automl\", \"attribution\": \"AutoML\", \"Orchestrator\": \"AutoML\", \"CancelUri\": \"https://southcentralus.experiments.azureml.net/jasmine/v1.0/subscriptions/a24a24d5-8d87-4c8a-99b6-91ed2d2df51f/resourceGroups/aml-quickstarts-134553/providers/Microsoft.MachineLearningServices/workspaces/quick-starts-ws-134553/experimentids/13f9a95a-8516-481e-af5a-a4cac5529885/cancel/AutoML_a389c44f-f32e-4d8e-93c3-f75565ec41bf\", \"azureml.git.repository_uri\": \"https://github.com/clasimoes/nd00333-capstone.git\", \"mlflow.source.git.repoURL\": \"https://github.com/clasimoes/nd00333-capstone.git\", \"azureml.git.branch\": \"master\", \"mlflow.source.git.branch\": \"master\", \"azureml.git.commit\": \"aa298275d09a908f8299b527187396ac55631fe4\", \"mlflow.source.git.commit\": \"aa298275d09a908f8299b527187396ac55631fe4\", \"azureml.git.dirty\": \"False\", \"ClientSdkVersion\": \"1.19.0\", \"snapshotId\": \"00000000-0000-0000-0000-000000000000\", \"SetupRunId\": \"AutoML_a389c44f-f32e-4d8e-93c3-f75565ec41bf_setup\", \"SetupRunContainerId\": \"dcid.AutoML_a389c44f-f32e-4d8e-93c3-f75565ec41bf_setup\", \"FeaturizationRunJsonPath\": \"featurizer_container.json\", \"FeaturizationRunId\": \"AutoML_a389c44f-f32e-4d8e-93c3-f75565ec41bf_featurize\", \"ProblemInfoJsonString\": \"{\\\"dataset_num_categorical\\\": 0, \\\"is_sparse\\\": true, \\\"subsampling\\\": false, \\\"dataset_classes\\\": 2, \\\"dataset_features\\\": 6971, \\\"dataset_samples\\\": 891, \\\"single_frequency_class_detected\\\": false}\", \"ModelExplainRunId\": \"AutoML_a389c44f-f32e-4d8e-93c3-f75565ec41bf_ModelExplain\"}, \"tags\": {\"model_explain_run\": \"best_run\", \"_aml_system_azureml.automlComponent\": \"AutoML\", \"pipeline_id\": \"\", \"score\": \"\", \"predicted_cost\": \"\", \"fit_time\": \"\", \"training_percent\": \"\", \"iteration\": \"\", \"run_preprocessor\": \"\", \"run_algorithm\": \"\", \"dynamic_whitelisting_iterations\": \"<25>;<30>;<35>;<40>;<44>;\", \"automl_best_child_run_id\": \"AutoML_a389c44f-f32e-4d8e-93c3-f75565ec41bf_46\", \"model_explain_best_run_child_id\": \"AutoML_a389c44f-f32e-4d8e-93c3-f75565ec41bf_46\"}, \"end_time_utc\": \"2021-01-13T14:16:16.724907Z\", \"status\": \"Completed\", \"log_files\": {}, \"log_groups\": [], \"run_duration\": \"0:18:03\"}, \"child_runs\": [{\"run_id\": \"AutoML_a389c44f-f32e-4d8e-93c3-f75565ec41bf_0\", \"run_number\": 5, \"metric\": null, \"status\": \"Completed\", \"run_type\": \"azureml.scriptrun\", \"training_percent\": \"100\", \"start_time\": \"2021-01-13T14:05:10.256464Z\", \"end_time\": \"2021-01-13T14:06:02.14373Z\", \"created_time\": \"2021-01-13T14:04:03.693916Z\", \"created_time_dt\": \"2021-01-13T14:04:03.693916Z\", \"duration\": \"0:01:58\", \"iteration\": \"0\", \"goal\": \"accuracy_max\", \"run_name\": \"MaxAbsScaler, LightGBM\", \"run_properties\": \"copy=True\", \"primary_metric\": 0.82267166, \"best_metric\": 0.82267166}, {\"run_id\": \"AutoML_a389c44f-f32e-4d8e-93c3-f75565ec41bf_2\", \"run_number\": 6, \"metric\": null, \"status\": \"Completed\", \"run_type\": \"azureml.scriptrun\", \"training_percent\": \"100\", \"start_time\": \"2021-01-13T14:04:15.690854Z\", \"end_time\": \"2021-01-13T14:06:27.311059Z\", \"created_time\": \"2021-01-13T14:04:03.86173Z\", \"created_time_dt\": \"2021-01-13T14:04:03.86173Z\", \"duration\": \"0:02:23\", \"iteration\": \"2\", \"goal\": \"accuracy_max\", \"run_name\": \"MaxAbsScaler, RandomForest\", \"run_properties\": \"copy=True\", \"primary_metric\": 0.7889638, \"best_metric\": 0.82267166}, {\"run_id\": \"AutoML_a389c44f-f32e-4d8e-93c3-f75565ec41bf_8\", \"run_number\": 7, \"metric\": null, \"status\": \"Completed\", \"run_type\": \"azureml.scriptrun\", \"training_percent\": \"100\", \"start_time\": \"2021-01-13T14:04:15.262423Z\", \"end_time\": \"2021-01-13T14:05:08.556682Z\", \"created_time\": \"2021-01-13T14:04:03.894516Z\", \"created_time_dt\": \"2021-01-13T14:04:03.894516Z\", \"duration\": \"0:01:04\", \"iteration\": \"8\", \"goal\": \"accuracy_max\", \"run_name\": \"SparseNormalizer, XGBoostClassifier\", \"run_properties\": \"<azureml.automl.runtime.shared.model_wrappers.SparseNormalizer object at 0x7fbd1aa72a90\", \"primary_metric\": 0.80805243, \"best_metric\": 0.82267166}, {\"run_id\": \"AutoML_a389c44f-f32e-4d8e-93c3-f75565ec41bf_5\", \"run_number\": 8, \"metric\": null, \"status\": \"Completed\", \"run_type\": \"azureml.scriptrun\", \"training_percent\": \"100\", \"start_time\": \"2021-01-13T14:06:59.144033Z\", \"end_time\": \"2021-01-13T14:09:09.773815Z\", \"created_time\": \"2021-01-13T14:04:03.911741Z\", \"created_time_dt\": \"2021-01-13T14:04:03.911741Z\", \"duration\": \"0:05:05\", \"iteration\": \"5\", \"goal\": \"accuracy_max\", \"run_name\": \"MaxAbsScaler, RandomForest\", \"run_properties\": \"copy=True\", \"primary_metric\": 0.78676654, \"best_metric\": 0.82267166}, {\"run_id\": \"AutoML_a389c44f-f32e-4d8e-93c3-f75565ec41bf_1\", \"run_number\": 9, \"metric\": null, \"status\": \"Completed\", \"run_type\": \"azureml.scriptrun\", \"training_percent\": \"100\", \"start_time\": \"2021-01-13T14:07:02.299167Z\", \"end_time\": \"2021-01-13T14:09:48.238352Z\", \"created_time\": \"2021-01-13T14:04:04.047176Z\", \"created_time_dt\": \"2021-01-13T14:04:04.047176Z\", \"duration\": \"0:05:44\", \"iteration\": \"1\", \"goal\": \"accuracy_max\", \"run_name\": \"MaxAbsScaler, XGBoostClassifier\", \"run_properties\": \"copy=True\", \"primary_metric\": 0.81031211, \"best_metric\": 0.82267166}, {\"run_id\": \"AutoML_a389c44f-f32e-4d8e-93c3-f75565ec41bf_3\", \"run_number\": 10, \"metric\": null, \"status\": \"Completed\", \"run_type\": \"azureml.scriptrun\", \"training_percent\": \"100\", \"start_time\": \"2021-01-13T14:07:02.442991Z\", \"end_time\": \"2021-01-13T14:09:17.871864Z\", \"created_time\": \"2021-01-13T14:04:04.081812Z\", \"created_time_dt\": \"2021-01-13T14:04:04.081812Z\", \"duration\": \"0:05:13\", \"iteration\": \"3\", \"goal\": \"accuracy_max\", \"run_name\": \"MaxAbsScaler, RandomForest\", \"run_properties\": \"copy=True\", \"primary_metric\": 0.64746567, \"best_metric\": 0.82267166}, {\"run_id\": \"AutoML_a389c44f-f32e-4d8e-93c3-f75565ec41bf_4\", \"run_number\": 11, \"metric\": null, \"status\": \"Completed\", \"run_type\": \"azureml.scriptrun\", \"training_percent\": \"100\", \"start_time\": \"2021-01-13T14:06:32.551176Z\", \"end_time\": \"2021-01-13T14:07:23.469508Z\", \"created_time\": \"2021-01-13T14:04:04.108339Z\", \"created_time_dt\": \"2021-01-13T14:04:04.108339Z\", \"duration\": \"0:03:19\", \"iteration\": \"4\", \"goal\": \"accuracy_max\", \"run_name\": \"MaxAbsScaler, RandomForest\", \"run_properties\": \"copy=True\", \"primary_metric\": 0.66888889, \"best_metric\": 0.82267166}, {\"run_id\": \"AutoML_a389c44f-f32e-4d8e-93c3-f75565ec41bf_6\", \"run_number\": 12, \"metric\": null, \"status\": \"Completed\", \"run_type\": \"azureml.scriptrun\", \"training_percent\": \"100\", \"start_time\": \"2021-01-13T14:06:03.447205Z\", \"end_time\": \"2021-01-13T14:10:36.572832Z\", \"created_time\": \"2021-01-13T14:04:04.188349Z\", \"created_time_dt\": \"2021-01-13T14:04:04.188349Z\", \"duration\": \"0:06:32\", \"iteration\": \"6\", \"goal\": \"accuracy_max\", \"run_name\": \"StandardScalerWrapper, XGBoostClassifier\", \"run_properties\": \"<azureml.automl.runtime.shared.model_wrappers.StandardScalerWrapper object at 0x7fd0babd9828\", \"primary_metric\": 0.81480649, \"best_metric\": 0.82267166}, {\"run_id\": \"AutoML_a389c44f-f32e-4d8e-93c3-f75565ec41bf_7\", \"run_number\": 13, \"metric\": null, \"status\": \"Completed\", \"run_type\": \"azureml.scriptrun\", \"training_percent\": \"100\", \"start_time\": \"2021-01-13T14:07:00.486518Z\", \"end_time\": \"2021-01-13T14:10:53.540638Z\", \"created_time\": \"2021-01-13T14:04:04.220785Z\", \"created_time_dt\": \"2021-01-13T14:04:04.220785Z\", \"duration\": \"0:06:49\", \"iteration\": \"7\", \"goal\": \"accuracy_max\", \"run_name\": \"StandardScalerWrapper, XGBoostClassifier\", \"run_properties\": \"<azureml.automl.runtime.shared.model_wrappers.StandardScalerWrapper object at 0x7fad4c305780\", \"primary_metric\": 0.82046192, \"best_metric\": 0.82267166}, {\"run_id\": \"AutoML_a389c44f-f32e-4d8e-93c3-f75565ec41bf_9\", \"run_number\": 14, \"metric\": null, \"status\": \"Completed\", \"run_type\": \"azureml.scriptrun\", \"training_percent\": \"100\", \"start_time\": \"2021-01-13T14:07:03.327365Z\", \"end_time\": \"2021-01-13T14:09:23.495853Z\", \"created_time\": \"2021-01-13T14:05:14.413973Z\", \"created_time_dt\": \"2021-01-13T14:05:14.413973Z\", \"duration\": \"0:04:09\", \"iteration\": \"9\", \"goal\": \"accuracy_max\", \"run_name\": \"StandardScalerWrapper, XGBoostClassifier\", \"run_properties\": \"<azureml.automl.runtime.shared.model_wrappers.StandardScalerWrapper object at 0x7f5b460dfa58\", \"primary_metric\": 0.8080774, \"best_metric\": 0.82267166}, {\"run_id\": \"AutoML_a389c44f-f32e-4d8e-93c3-f75565ec41bf_10\", \"run_number\": 15, \"metric\": null, \"status\": \"Completed\", \"run_type\": \"azureml.scriptrun\", \"training_percent\": \"100\", \"start_time\": \"2021-01-13T14:07:02.05958Z\", \"end_time\": \"2021-01-13T14:10:54.926464Z\", \"created_time\": \"2021-01-13T14:06:07.72525Z\", \"created_time_dt\": \"2021-01-13T14:06:07.72525Z\", \"duration\": \"0:04:47\", \"iteration\": \"10\", \"goal\": \"accuracy_max\", \"run_name\": \"StandardScalerWrapper, XGBoostClassifier\", \"run_properties\": \"<azureml.automl.runtime.shared.model_wrappers.StandardScalerWrapper object at 0x7f6408321400\", \"primary_metric\": 0.81370787, \"best_metric\": 0.82267166}, {\"run_id\": \"AutoML_a389c44f-f32e-4d8e-93c3-f75565ec41bf_11\", \"run_number\": 16, \"metric\": null, \"status\": \"Completed\", \"run_type\": \"azureml.scriptrun\", \"training_percent\": \"100\", \"start_time\": \"2021-01-13T14:07:28.28428Z\", \"end_time\": \"2021-01-13T14:08:30.996164Z\", \"created_time\": \"2021-01-13T14:06:31.604742Z\", \"created_time_dt\": \"2021-01-13T14:06:31.604742Z\", \"duration\": \"0:01:59\", \"iteration\": \"11\", \"goal\": \"accuracy_max\", \"run_name\": \"SparseNormalizer, XGBoostClassifier\", \"run_properties\": \"<azureml.automl.runtime.shared.model_wrappers.SparseNormalizer object at 0x7f861eff1be0\", \"primary_metric\": 0.81253433, \"best_metric\": 0.82267166}, {\"run_id\": \"AutoML_a389c44f-f32e-4d8e-93c3-f75565ec41bf_12\", \"run_number\": 17, \"metric\": null, \"status\": \"Completed\", \"run_type\": \"azureml.scriptrun\", \"training_percent\": \"100\", \"start_time\": \"2021-01-13T14:08:35.09745Z\", \"end_time\": \"2021-01-13T14:09:31.366126Z\", \"created_time\": \"2021-01-13T14:07:27.185186Z\", \"created_time_dt\": \"2021-01-13T14:07:27.185186Z\", \"duration\": \"0:02:04\", \"iteration\": \"12\", \"goal\": \"accuracy_max\", \"run_name\": \"SparseNormalizer, XGBoostClassifier\", \"run_properties\": \"<azureml.automl.runtime.shared.model_wrappers.SparseNormalizer object at 0x7fa31bb5bfd0\", \"primary_metric\": 0.809201, \"best_metric\": 0.82267166}, {\"run_id\": \"AutoML_a389c44f-f32e-4d8e-93c3-f75565ec41bf_13\", \"run_number\": 18, \"metric\": null, \"status\": \"Completed\", \"run_type\": \"azureml.scriptrun\", \"training_percent\": \"100\", \"start_time\": \"2021-01-13T14:09:10.46309Z\", \"end_time\": \"2021-01-13T14:09:56.854392Z\", \"created_time\": \"2021-01-13T14:08:35.009261Z\", \"created_time_dt\": \"2021-01-13T14:08:35.009261Z\", \"duration\": \"0:01:21\", \"iteration\": \"13\", \"goal\": \"accuracy_max\", \"run_name\": \"MaxAbsScaler, RandomForest\", \"run_properties\": \"copy=True\", \"primary_metric\": 0.76428215, \"best_metric\": 0.82267166}, {\"run_id\": \"AutoML_a389c44f-f32e-4d8e-93c3-f75565ec41bf_14\", \"run_number\": 19, \"metric\": null, \"status\": \"Completed\", \"run_type\": \"azureml.scriptrun\", \"training_percent\": \"100\", \"start_time\": \"2021-01-13T14:09:26.857732Z\", \"end_time\": \"2021-01-13T14:10:26.384623Z\", \"created_time\": \"2021-01-13T14:09:13.384971Z\", \"created_time_dt\": \"2021-01-13T14:09:13.384971Z\", \"duration\": \"0:01:12\", \"iteration\": \"14\", \"goal\": \"accuracy_max\", \"run_name\": \"MaxAbsScaler, RandomForest\", \"run_properties\": \"copy=True\", \"primary_metric\": 0.78675406, \"best_metric\": 0.82267166}, {\"run_id\": \"AutoML_a389c44f-f32e-4d8e-93c3-f75565ec41bf_15\", \"run_number\": 20, \"metric\": null, \"status\": \"Completed\", \"run_type\": \"azureml.scriptrun\", \"training_percent\": \"100\", \"start_time\": \"2021-01-13T14:09:35.354261Z\", \"end_time\": \"2021-01-13T14:10:21.038099Z\", \"created_time\": \"2021-01-13T14:09:21.066006Z\", \"created_time_dt\": \"2021-01-13T14:09:21.066006Z\", \"duration\": \"0:00:59\", \"iteration\": \"15\", \"goal\": \"accuracy_max\", \"run_name\": \"SparseNormalizer, XGBoostClassifier\", \"run_properties\": \"<azureml.automl.runtime.shared.model_wrappers.SparseNormalizer object at 0x7fd77ce44b00\", \"primary_metric\": 0.78789014, \"best_metric\": 0.82267166}, {\"run_id\": \"AutoML_a389c44f-f32e-4d8e-93c3-f75565ec41bf_16\", \"run_number\": 21, \"metric\": null, \"status\": \"Completed\", \"run_type\": \"azureml.scriptrun\", \"training_percent\": \"100\", \"start_time\": \"2021-01-13T14:09:44.173922Z\", \"end_time\": \"2021-01-13T14:10:24.340526Z\", \"created_time\": \"2021-01-13T14:09:27.847578Z\", \"created_time_dt\": \"2021-01-13T14:09:27.847578Z\", \"duration\": \"0:00:56\", \"iteration\": \"16\", \"goal\": \"accuracy_max\", \"run_name\": \"MaxAbsScaler, LightGBM\", \"run_properties\": \"copy=True\", \"primary_metric\": 0.80917603, \"best_metric\": 0.82267166}, {\"run_id\": \"AutoML_a389c44f-f32e-4d8e-93c3-f75565ec41bf_17\", \"run_number\": 22, \"metric\": null, \"status\": \"Completed\", \"run_type\": \"azureml.scriptrun\", \"training_percent\": \"100\", \"start_time\": \"2021-01-13T14:09:52.348842Z\", \"end_time\": \"2021-01-13T14:10:30.639555Z\", \"created_time\": \"2021-01-13T14:09:33.919154Z\", \"created_time_dt\": \"2021-01-13T14:09:33.919154Z\", \"duration\": \"0:00:56\", \"iteration\": \"17\", \"goal\": \"accuracy_max\", \"run_name\": \"StandardScalerWrapper, RandomForest\", \"run_properties\": \"<azureml.automl.runtime.shared.model_wrappers.StandardScalerWrapper object at 0x7f2d6907b828\", \"primary_metric\": 0.81480649, \"best_metric\": 0.82267166}, {\"run_id\": \"AutoML_a389c44f-f32e-4d8e-93c3-f75565ec41bf_18\", \"run_number\": 23, \"metric\": null, \"status\": \"Completed\", \"run_type\": \"azureml.scriptrun\", \"training_percent\": \"100\", \"start_time\": \"2021-01-13T14:10:03.334385Z\", \"end_time\": \"2021-01-13T14:10:44.107098Z\", \"created_time\": \"2021-01-13T14:09:51.451334Z\", \"created_time_dt\": \"2021-01-13T14:09:51.451334Z\", \"duration\": \"0:00:52\", \"iteration\": \"18\", \"goal\": \"accuracy_max\", \"run_name\": \"MaxAbsScaler, LightGBM\", \"run_properties\": \"copy=True\", \"primary_metric\": 0.78450687, \"best_metric\": 0.82267166}, {\"run_id\": \"AutoML_a389c44f-f32e-4d8e-93c3-f75565ec41bf_19\", \"run_number\": 24, \"metric\": null, \"status\": \"Completed\", \"run_type\": \"azureml.scriptrun\", \"training_percent\": \"100\", \"start_time\": \"2021-01-13T14:10:09.693048Z\", \"end_time\": \"2021-01-13T14:12:24.823745Z\", \"created_time\": \"2021-01-13T14:09:59.046598Z\", \"created_time_dt\": \"2021-01-13T14:09:59.046598Z\", \"duration\": \"0:02:25\", \"iteration\": \"19\", \"goal\": \"accuracy_max\", \"run_name\": \"MaxAbsScaler, LightGBM\", \"run_properties\": \"copy=True\", \"primary_metric\": 0.79459426, \"best_metric\": 0.82267166}, {\"run_id\": \"AutoML_a389c44f-f32e-4d8e-93c3-f75565ec41bf_20\", \"run_number\": 25, \"metric\": null, \"status\": \"Completed\", \"run_type\": \"azureml.scriptrun\", \"training_percent\": \"100\", \"start_time\": \"2021-01-13T14:10:37.410735Z\", \"end_time\": \"2021-01-13T14:11:20.257179Z\", \"created_time\": \"2021-01-13T14:10:23.34996Z\", \"created_time_dt\": \"2021-01-13T14:10:23.34996Z\", \"duration\": \"0:00:56\", \"iteration\": \"20\", \"goal\": \"accuracy_max\", \"run_name\": \"MaxAbsScaler, LogisticRegression\", \"run_properties\": \"copy=True\", \"primary_metric\": 0.80580524, \"best_metric\": 0.82267166}, {\"run_id\": \"AutoML_a389c44f-f32e-4d8e-93c3-f75565ec41bf_21\", \"run_number\": 26, \"metric\": null, \"status\": \"Completed\", \"run_type\": \"azureml.scriptrun\", \"training_percent\": \"100\", \"start_time\": \"2021-01-13T14:10:41.42028Z\", \"end_time\": \"2021-01-13T14:11:21.036969Z\", \"created_time\": \"2021-01-13T14:10:29.489818Z\", \"created_time_dt\": \"2021-01-13T14:10:29.489818Z\", \"duration\": \"0:00:51\", \"iteration\": \"21\", \"goal\": \"accuracy_max\", \"run_name\": \"MaxAbsScaler, LogisticRegression\", \"run_properties\": \"copy=True\", \"primary_metric\": 0.80691635, \"best_metric\": 0.82267166}, {\"run_id\": \"AutoML_a389c44f-f32e-4d8e-93c3-f75565ec41bf_22\", \"run_number\": 27, \"metric\": null, \"status\": \"Completed\", \"run_type\": \"azureml.scriptrun\", \"training_percent\": \"100\", \"start_time\": \"2021-01-13T14:10:41.340876Z\", \"end_time\": \"2021-01-13T14:11:28.848741Z\", \"created_time\": \"2021-01-13T14:10:29.606621Z\", \"created_time_dt\": \"2021-01-13T14:10:29.606621Z\", \"duration\": \"0:00:59\", \"iteration\": \"22\", \"goal\": \"accuracy_max\", \"run_name\": \"MaxAbsScaler, LogisticRegression\", \"run_properties\": \"copy=True\", \"primary_metric\": 0.80355805, \"best_metric\": 0.82267166}, {\"run_id\": \"AutoML_a389c44f-f32e-4d8e-93c3-f75565ec41bf_23\", \"run_number\": 28, \"metric\": null, \"status\": \"Completed\", \"run_type\": \"azureml.scriptrun\", \"training_percent\": \"100\", \"start_time\": \"2021-01-13T14:10:46.930519Z\", \"end_time\": \"2021-01-13T14:12:49.48621Z\", \"created_time\": \"2021-01-13T14:10:34.828314Z\", \"created_time_dt\": \"2021-01-13T14:10:34.828314Z\", \"duration\": \"0:02:14\", \"iteration\": \"23\", \"goal\": \"accuracy_max\", \"run_name\": \"MaxAbsScaler, LogisticRegression\", \"run_properties\": \"copy=True\", \"primary_metric\": 0.80358302, \"best_metric\": 0.82267166}, {\"run_id\": \"AutoML_a389c44f-f32e-4d8e-93c3-f75565ec41bf_24\", \"run_number\": 29, \"metric\": null, \"status\": \"Completed\", \"run_type\": \"azureml.scriptrun\", \"training_percent\": \"100\", \"start_time\": \"2021-01-13T14:10:49.971135Z\", \"end_time\": \"2021-01-13T14:11:58.648516Z\", \"created_time\": \"2021-01-13T14:10:39.270992Z\", \"created_time_dt\": \"2021-01-13T14:10:39.270992Z\", \"duration\": \"0:01:19\", \"iteration\": \"24\", \"goal\": \"accuracy_max\", \"run_name\": \"MaxAbsScaler, LogisticRegression\", \"run_properties\": \"copy=True\", \"primary_metric\": 0.80468165, \"best_metric\": 0.82267166}, {\"run_id\": \"AutoML_a389c44f-f32e-4d8e-93c3-f75565ec41bf_25\", \"run_number\": 30, \"metric\": null, \"status\": \"Completed\", \"run_type\": \"azureml.scriptrun\", \"training_percent\": \"100\", \"start_time\": \"2021-01-13T14:11:00.069189Z\", \"end_time\": \"2021-01-13T14:11:48.99875Z\", \"created_time\": \"2021-01-13T14:10:47.27446Z\", \"created_time_dt\": \"2021-01-13T14:10:47.27446Z\", \"duration\": \"0:01:01\", \"iteration\": \"25\", \"goal\": \"accuracy_max\", \"run_name\": \"MaxAbsScaler, LightGBM\", \"run_properties\": \"copy=True\", \"primary_metric\": 0.77888889, \"best_metric\": 0.82267166}, {\"run_id\": \"AutoML_a389c44f-f32e-4d8e-93c3-f75565ec41bf_26\", \"run_number\": 31, \"metric\": null, \"status\": \"Completed\", \"run_type\": \"azureml.scriptrun\", \"training_percent\": \"100\", \"start_time\": \"2021-01-13T14:11:07.170602Z\", \"end_time\": \"2021-01-13T14:12:06.644371Z\", \"created_time\": \"2021-01-13T14:10:55.720177Z\", \"created_time_dt\": \"2021-01-13T14:10:55.720177Z\", \"duration\": \"0:01:10\", \"iteration\": \"26\", \"goal\": \"accuracy_max\", \"run_name\": \"SparseNormalizer, XGBoostClassifier\", \"run_properties\": \"<azureml.automl.runtime.shared.model_wrappers.SparseNormalizer object at 0x7f852d633cc0\", \"primary_metric\": 0.80468165, \"best_metric\": 0.82267166}, {\"run_id\": \"AutoML_a389c44f-f32e-4d8e-93c3-f75565ec41bf_27\", \"run_number\": 32, \"metric\": null, \"status\": \"Completed\", \"run_type\": \"azureml.scriptrun\", \"training_percent\": \"100\", \"start_time\": \"2021-01-13T14:11:12.78352Z\", \"end_time\": \"2021-01-13T14:11:55.595093Z\", \"created_time\": \"2021-01-13T14:11:00.353511Z\", \"created_time_dt\": \"2021-01-13T14:11:00.353511Z\", \"duration\": \"0:00:55\", \"iteration\": \"27\", \"goal\": \"accuracy_max\", \"run_name\": \"MaxAbsScaler, RandomForest\", \"run_properties\": \"copy=True\", \"primary_metric\": 0.61610487, \"best_metric\": 0.82267166}, {\"run_id\": \"AutoML_a389c44f-f32e-4d8e-93c3-f75565ec41bf_28\", \"run_number\": 33, \"metric\": null, \"status\": \"Completed\", \"run_type\": \"azureml.scriptrun\", \"training_percent\": \"100\", \"start_time\": \"2021-01-13T14:11:34.732875Z\", \"end_time\": \"2021-01-13T14:12:35.641484Z\", \"created_time\": \"2021-01-13T14:11:22.89948Z\", \"created_time_dt\": \"2021-01-13T14:11:22.89948Z\", \"duration\": \"0:01:12\", \"iteration\": \"28\", \"goal\": \"accuracy_max\", \"run_name\": \"SparseNormalizer, XGBoostClassifier\", \"run_properties\": \"<azureml.automl.runtime.shared.model_wrappers.SparseNormalizer object at 0x7f9670306198\", \"primary_metric\": 0.81029963, \"best_metric\": 0.82267166}, {\"run_id\": \"AutoML_a389c44f-f32e-4d8e-93c3-f75565ec41bf_29\", \"run_number\": 34, \"metric\": null, \"status\": \"Completed\", \"run_type\": \"azureml.scriptrun\", \"training_percent\": \"100\", \"start_time\": \"2021-01-13T14:11:38.461319Z\", \"end_time\": \"2021-01-13T14:12:20.276017Z\", \"created_time\": \"2021-01-13T14:11:27.103524Z\", \"created_time_dt\": \"2021-01-13T14:11:27.103524Z\", \"duration\": \"0:00:53\", \"iteration\": \"29\", \"goal\": \"accuracy_max\", \"run_name\": \"SparseNormalizer, LightGBM\", \"run_properties\": \"<azureml.automl.runtime.shared.model_wrappers.SparseNormalizer object at 0x7f97704ace48\", \"primary_metric\": 0.79571785, \"best_metric\": 0.82267166}, {\"run_id\": \"AutoML_a389c44f-f32e-4d8e-93c3-f75565ec41bf_30\", \"run_number\": 35, \"metric\": null, \"status\": \"Completed\", \"run_type\": \"azureml.scriptrun\", \"training_percent\": \"100\", \"start_time\": \"2021-01-13T14:11:45.321801Z\", \"end_time\": \"2021-01-13T14:12:28.261401Z\", \"created_time\": \"2021-01-13T14:11:33.009096Z\", \"created_time_dt\": \"2021-01-13T14:11:33.009096Z\", \"duration\": \"0:00:55\", \"iteration\": \"30\", \"goal\": \"accuracy_max\", \"run_name\": \"StandardScalerWrapper, LightGBM\", \"run_properties\": \"<azureml.automl.runtime.shared.model_wrappers.StandardScalerWrapper object at 0x7f7e39fc32e8\", \"primary_metric\": 0.78449438, \"best_metric\": 0.82267166}, {\"run_id\": \"AutoML_a389c44f-f32e-4d8e-93c3-f75565ec41bf_31\", \"run_number\": 36, \"metric\": null, \"status\": \"Completed\", \"run_type\": \"azureml.scriptrun\", \"training_percent\": \"100\", \"start_time\": \"2021-01-13T14:12:04.099513Z\", \"end_time\": \"2021-01-13T14:12:55.537622Z\", \"created_time\": \"2021-01-13T14:11:51.635234Z\", \"created_time_dt\": \"2021-01-13T14:11:51.635234Z\", \"duration\": \"0:01:03\", \"iteration\": \"31\", \"goal\": \"accuracy_max\", \"run_name\": \"SparseNormalizer, XGBoostClassifier\", \"run_properties\": \"<azureml.automl.runtime.shared.model_wrappers.SparseNormalizer object at 0x7fd5bc0509b0\", \"primary_metric\": 0.81479401, \"best_metric\": 0.82267166}, {\"run_id\": \"AutoML_a389c44f-f32e-4d8e-93c3-f75565ec41bf_32\", \"run_number\": 37, \"metric\": null, \"status\": \"Completed\", \"run_type\": \"azureml.scriptrun\", \"training_percent\": \"100\", \"start_time\": \"2021-01-13T14:12:09.828074Z\", \"end_time\": \"2021-01-13T14:13:38.644517Z\", \"created_time\": \"2021-01-13T14:11:57.678722Z\", \"created_time_dt\": \"2021-01-13T14:11:57.678722Z\", \"duration\": \"0:01:40\", \"iteration\": \"32\", \"goal\": \"accuracy_max\", \"run_name\": \"SparseNormalizer, XGBoostClassifier\", \"run_properties\": \"<azureml.automl.runtime.shared.model_wrappers.SparseNormalizer object at 0x7f2141566da0\", \"primary_metric\": 0.8002372, \"best_metric\": 0.82267166}, {\"run_id\": \"AutoML_a389c44f-f32e-4d8e-93c3-f75565ec41bf_33\", \"run_number\": 38, \"metric\": null, \"status\": \"Completed\", \"run_type\": \"azureml.scriptrun\", \"training_percent\": \"100\", \"start_time\": \"2021-01-13T14:12:14.255377Z\", \"end_time\": \"2021-01-13T14:13:33.225066Z\", \"created_time\": \"2021-01-13T14:12:03.006636Z\", \"created_time_dt\": \"2021-01-13T14:12:03.006636Z\", \"duration\": \"0:01:30\", \"iteration\": \"33\", \"goal\": \"accuracy_max\", \"run_name\": \"SparseNormalizer, XGBoostClassifier\", \"run_properties\": \"<azureml.automl.runtime.shared.model_wrappers.SparseNormalizer object at 0x7fce8d6405f8\", \"primary_metric\": 0.80918851, \"best_metric\": 0.82267166}, {\"run_id\": \"AutoML_a389c44f-f32e-4d8e-93c3-f75565ec41bf_34\", \"run_number\": 39, \"metric\": null, \"status\": \"Completed\", \"run_type\": \"azureml.scriptrun\", \"training_percent\": \"100\", \"start_time\": \"2021-01-13T14:12:20.616277Z\", \"end_time\": \"2021-01-13T14:13:11.053898Z\", \"created_time\": \"2021-01-13T14:12:08.763758Z\", \"created_time_dt\": \"2021-01-13T14:12:08.763758Z\", \"duration\": \"0:01:02\", \"iteration\": \"34\", \"goal\": \"accuracy_max\", \"run_name\": \"SparseNormalizer, XGBoostClassifier\", \"run_properties\": \"<azureml.automl.runtime.shared.model_wrappers.SparseNormalizer object at 0x7f277383ef28\", \"primary_metric\": 0.80808989, \"best_metric\": 0.82267166}, {\"run_id\": \"AutoML_a389c44f-f32e-4d8e-93c3-f75565ec41bf_35\", \"run_number\": 40, \"metric\": null, \"status\": \"Completed\", \"run_type\": \"azureml.scriptrun\", \"training_percent\": \"100\", \"start_time\": \"2021-01-13T14:12:36.617398Z\", \"end_time\": \"2021-01-13T14:13:31.094823Z\", \"created_time\": \"2021-01-13T14:12:23.442206Z\", \"created_time_dt\": \"2021-01-13T14:12:23.442206Z\", \"duration\": \"0:01:07\", \"iteration\": \"35\", \"goal\": \"accuracy_max\", \"run_name\": \"TruncatedSVDWrapper, LightGBM\", \"run_properties\": \"n_components=0.2573684210526316, random_state=None\", \"primary_metric\": 0.80468165, \"best_metric\": 0.82267166}, {\"run_id\": \"AutoML_a389c44f-f32e-4d8e-93c3-f75565ec41bf_36\", \"run_number\": 41, \"metric\": null, \"status\": \"Completed\", \"run_type\": \"azureml.scriptrun\", \"training_percent\": \"100\", \"start_time\": \"2021-01-13T14:12:38.823402Z\", \"end_time\": \"2021-01-13T14:13:23.415768Z\", \"created_time\": \"2021-01-13T14:12:28.505119Z\", \"created_time_dt\": \"2021-01-13T14:12:28.505119Z\", \"duration\": \"0:00:54\", \"iteration\": \"36\", \"goal\": \"accuracy_max\", \"run_name\": \"SparseNormalizer, XGBoostClassifier\", \"run_properties\": \"<azureml.automl.runtime.shared.model_wrappers.SparseNormalizer object at 0x7f5c740a6630\", \"primary_metric\": 0.81812734, \"best_metric\": 0.82267166}, {\"run_id\": \"AutoML_a389c44f-f32e-4d8e-93c3-f75565ec41bf_37\", \"run_number\": 42, \"metric\": null, \"status\": \"Canceled\", \"run_type\": \"azureml.scriptrun\", \"training_percent\": \"100\", \"start_time\": \"2021-01-13T14:12:44.79716Z\", \"end_time\": \"2021-01-13T14:13:54.048243Z\", \"created_time\": \"2021-01-13T14:12:32.384257Z\", \"created_time_dt\": \"2021-01-13T14:12:32.384257Z\", \"duration\": \"0:01:21\", \"iteration\": \"37\", \"goal\": null, \"run_name\": \"SparseNormalizer, XGBoostClassifier\", \"run_properties\": null}, {\"run_id\": \"AutoML_a389c44f-f32e-4d8e-93c3-f75565ec41bf_38\", \"run_number\": 43, \"metric\": null, \"status\": \"Completed\", \"run_type\": \"azureml.scriptrun\", \"training_percent\": \"100\", \"start_time\": \"2021-01-13T14:12:50.258502Z\", \"end_time\": \"2021-01-13T14:13:44.666022Z\", \"created_time\": \"2021-01-13T14:12:37.938745Z\", \"created_time_dt\": \"2021-01-13T14:12:37.938745Z\", \"duration\": \"0:01:06\", \"iteration\": \"38\", \"goal\": \"accuracy_max\", \"run_name\": \"StandardScalerWrapper, XGBoostClassifier\", \"run_properties\": \"<azureml.automl.runtime.shared.model_wrappers.StandardScalerWrapper object at 0x7f4e4fb2d4a8\", \"primary_metric\": 0.81369538, \"best_metric\": 0.82267166}, {\"run_id\": \"AutoML_a389c44f-f32e-4d8e-93c3-f75565ec41bf_39\", \"run_number\": 44, \"metric\": null, \"status\": \"Canceled\", \"run_type\": \"azureml.scriptrun\", \"training_percent\": \"100\", \"start_time\": \"2021-01-13T14:13:03.490901Z\", \"end_time\": \"2021-01-13T14:13:54.048079Z\", \"created_time\": \"2021-01-13T14:12:51.850566Z\", \"created_time_dt\": \"2021-01-13T14:12:51.850566Z\", \"duration\": \"0:01:02\", \"iteration\": \"39\", \"goal\": \"accuracy_max\", \"run_name\": \"SparseNormalizer, XGBoostClassifier\", \"run_properties\": \"<azureml.automl.runtime.shared.model_wrappers.SparseNormalizer object at 0x7f813c175d68\", \"primary_metric\": 0.81033708, \"best_metric\": 0.82267166}, {\"run_id\": \"AutoML_a389c44f-f32e-4d8e-93c3-f75565ec41bf_40\", \"run_number\": 45, \"metric\": null, \"status\": \"Canceled\", \"run_type\": \"azureml.scriptrun\", \"training_percent\": \"100\", \"start_time\": \"2021-01-13T14:13:10.420407Z\", \"end_time\": \"2021-01-13T14:13:51.975171Z\", \"created_time\": \"2021-01-13T14:12:59.554467Z\", \"created_time_dt\": \"2021-01-13T14:12:59.554467Z\", \"duration\": \"0:00:52\", \"iteration\": \"40\", \"goal\": \"accuracy_max\", \"run_name\": \"MaxAbsScaler, LightGBM\", \"run_properties\": \"copy=True\", \"primary_metric\": 0.61610487, \"best_metric\": 0.82267166}, {\"run_id\": \"AutoML_a389c44f-f32e-4d8e-93c3-f75565ec41bf_41\", \"run_number\": 46, \"metric\": null, \"status\": \"Canceled\", \"run_type\": \"azureml.scriptrun\", \"training_percent\": \"100\", \"start_time\": \"2021-01-13T14:13:26.126768Z\", \"end_time\": \"2021-01-13T14:13:53.697258Z\", \"created_time\": \"2021-01-13T14:13:13.326144Z\", \"created_time_dt\": \"2021-01-13T14:13:13.326144Z\", \"duration\": \"0:00:40\", \"iteration\": \"41\", \"goal\": null, \"run_name\": \"SparseNormalizer, XGBoostClassifier\", \"run_properties\": null}, {\"run_id\": \"AutoML_a389c44f-f32e-4d8e-93c3-f75565ec41bf_42\", \"run_number\": 47, \"metric\": null, \"status\": \"Canceled\", \"run_type\": \"azureml.scriptrun\", \"training_percent\": \"100\", \"start_time\": \"2021-01-13T14:13:38.014525Z\", \"end_time\": \"2021-01-13T14:13:52.538404Z\", \"created_time\": \"2021-01-13T14:13:25.646884Z\", \"created_time_dt\": \"2021-01-13T14:13:25.646884Z\", \"duration\": \"0:00:26\", \"iteration\": \"42\", \"goal\": null, \"run_name\": \"Canceled\", \"run_properties\": null}, {\"run_id\": \"AutoML_a389c44f-f32e-4d8e-93c3-f75565ec41bf_43\", \"run_number\": 48, \"metric\": null, \"status\": \"Canceled\", \"run_type\": \"azureml.scriptrun\", \"training_percent\": \"100\", \"start_time\": \"2021-01-13T14:13:36.749028Z\", \"end_time\": \"2021-01-13T14:13:52.577844Z\", \"created_time\": \"2021-01-13T14:13:36.749028Z\", \"created_time_dt\": \"2021-01-13T14:13:36.749028Z\", \"duration\": \"0:00:15\", \"iteration\": \"43\", \"goal\": null, \"run_name\": \"Canceled\", \"run_properties\": null}, {\"run_id\": \"AutoML_a389c44f-f32e-4d8e-93c3-f75565ec41bf_44\", \"run_number\": 49, \"metric\": null, \"status\": \"Canceled\", \"run_type\": \"azureml.scriptrun\", \"training_percent\": \"100\", \"start_time\": \"2021-01-13T14:13:41.625026Z\", \"end_time\": \"2021-01-13T14:13:57.742638Z\", \"created_time\": \"2021-01-13T14:13:41.625026Z\", \"created_time_dt\": \"2021-01-13T14:13:41.625026Z\", \"duration\": \"0:00:16\", \"iteration\": \"44\", \"goal\": null, \"run_name\": \"Canceled\", \"run_properties\": null}, {\"run_id\": \"AutoML_a389c44f-f32e-4d8e-93c3-f75565ec41bf_45\", \"run_number\": 50, \"metric\": null, \"status\": \"Canceled\", \"run_type\": \"azureml.scriptrun\", \"training_percent\": \"100\", \"start_time\": \"2021-01-13T14:13:41.794578Z\", \"end_time\": \"2021-01-13T14:13:58.999198Z\", \"created_time\": \"2021-01-13T14:13:41.794578Z\", \"created_time_dt\": \"2021-01-13T14:13:41.794578Z\", \"duration\": \"0:00:17\", \"iteration\": \"45\", \"goal\": null, \"run_name\": \"Canceled\", \"run_properties\": null}, {\"run_id\": \"AutoML_a389c44f-f32e-4d8e-93c3-f75565ec41bf_47\", \"run_number\": 51, \"metric\": null, \"status\": \"Completed\", \"run_type\": \"azureml.scriptrun\", \"training_percent\": \"100\", \"start_time\": \"2021-01-13T14:14:13.733928Z\", \"end_time\": \"2021-01-13T14:16:08.142306Z\", \"created_time\": \"2021-01-13T14:14:00.142993Z\", \"created_time_dt\": \"2021-01-13T14:14:00.142993Z\", \"duration\": \"0:02:07\", \"iteration\": \"47\", \"goal\": \"accuracy_max\", \"run_name\": \"StackEnsemble\", \"run_properties\": \"base_learners=[('0',\\n                                        Pipeline(memory=None,\\n                                                 steps=[('maxabsscaler',\\n                                                         MaxAbsScaler(copy=True\", \"primary_metric\": 0.83615481, \"best_metric\": 0.83838951}, {\"run_id\": \"AutoML_a389c44f-f32e-4d8e-93c3-f75565ec41bf_46\", \"run_number\": 52, \"metric\": null, \"status\": \"Completed\", \"run_type\": \"azureml.scriptrun\", \"training_percent\": \"100\", \"start_time\": \"2021-01-13T14:14:11.773935Z\", \"end_time\": \"2021-01-13T14:16:06.706895Z\", \"created_time\": \"2021-01-13T14:14:00.144618Z\", \"created_time_dt\": \"2021-01-13T14:14:00.144618Z\", \"duration\": \"0:02:06\", \"iteration\": \"46\", \"goal\": \"accuracy_max\", \"run_name\": \"VotingEnsemble\", \"run_properties\": \"classification_labels=None,\\n                              estimators=[('0',\\n                                           Pipeline(memory=None,\\n                                                    steps=[('maxabsscaler',\\n                                                            MaxAbsScaler(copy=True\", \"primary_metric\": 0.83838951, \"best_metric\": 0.83838951}], \"children_metrics\": {\"categories\": [0], \"series\": {\"AUC_macro\": [{\"categories\": [\"0\", \"1\", \"2\", \"3\", \"4\", \"5\", \"6\", \"7\", \"8\", \"9\", \"10\", \"11\", \"12\", \"13\", \"14\", \"15\", \"16\", \"17\", \"18\", \"19\", \"20\", \"21\", \"22\", \"23\", \"24\", \"25\", \"26\", \"27\", \"28\", \"29\", \"30\", \"31\", \"32\", \"33\", \"34\", \"35\", \"36\", \"38\", \"39\", \"40\", \"46\", \"47\"], \"mode\": \"markers\", \"name\": \"AUC_macro\", \"stepped\": false, \"type\": \"scatter\", \"data\": [0.8483799494780955, 0.8600749162497359, 0.8338807612220845, 0.7583466048224567, 0.70750552100136, 0.8182161123064319, 0.8592325229625276, 0.8585147979737304, 0.8515843013371999, 0.8616462616797005, 0.8720511702042598, 0.8547522070155635, 0.8512441781698696, 0.8505462924482545, 0.8417850031768899, 0.8435263321504192, 0.8615998208616176, 0.8565807688732591, 0.8492606333342861, 0.8533661426055643, 0.843446357450355, 0.8437175776610925, 0.8407916770656328, 0.8421261743036201, 0.8447508861628134, 0.8466727669911446, 0.8548455324625509, 0.6827825512482576, 0.8485498809443092, 0.8307334654685927, 0.8528103391317531, 0.8616144027673178, 0.8383543190340343, 0.8529648393164138, 0.8596505146117275, 0.8299940316536597, 0.8548481981679009, 0.8580831099164486, 0.8556754198427086, 0.8555391024766607, 0.8662091324417831, 0.8659775244840546]}, {\"categories\": [\"0\", \"1\", \"2\", \"3\", \"4\", \"5\", \"6\", \"7\", \"8\", \"9\", \"10\", \"11\", \"12\", \"13\", \"14\", \"15\", \"16\", \"17\", \"18\", \"19\", \"20\", \"21\", \"22\", \"23\", \"24\", \"25\", \"26\", \"27\", \"28\", \"29\", \"30\", \"31\", \"32\", \"33\", \"34\", \"35\", \"36\", \"38\", \"39\", \"40\", \"46\", \"47\"], \"mode\": \"lines\", \"name\": \"AUC_macro_max\", \"stepped\": true, \"type\": \"scatter\", \"data\": [0.8483799494780955, 0.8600749162497359, 0.8600749162497359, 0.8600749162497359, 0.8600749162497359, 0.8600749162497359, 0.8600749162497359, 0.8600749162497359, 0.8600749162497359, 0.8616462616797005, 0.8720511702042598, 0.8720511702042598, 0.8720511702042598, 0.8720511702042598, 0.8720511702042598, 0.8720511702042598, 0.8720511702042598, 0.8720511702042598, 0.8720511702042598, 0.8720511702042598, 0.8720511702042598, 0.8720511702042598, 0.8720511702042598, 0.8720511702042598, 0.8720511702042598, 0.8720511702042598, 0.8720511702042598, 0.8720511702042598, 0.8720511702042598, 0.8720511702042598, 0.8720511702042598, 0.8720511702042598, 0.8720511702042598, 0.8720511702042598, 0.8720511702042598, 0.8720511702042598, 0.8720511702042598, 0.8720511702042598, 0.8720511702042598, 0.8720511702042598, 0.8720511702042598, 0.8720511702042598]}], \"f1_score_micro\": [{\"categories\": [\"0\", \"1\", \"2\", \"3\", \"4\", \"5\", \"6\", \"7\", \"8\", \"9\", \"10\", \"11\", \"12\", \"13\", \"14\", \"15\", \"16\", \"17\", \"18\", \"19\", \"20\", \"21\", \"22\", \"23\", \"24\", \"25\", \"26\", \"27\", \"28\", \"29\", \"30\", \"31\", \"32\", \"33\", \"34\", \"35\", \"36\", \"38\", \"39\", \"40\", \"46\", \"47\"], \"mode\": \"markers\", \"name\": \"f1_score_micro\", \"stepped\": false, \"type\": \"scatter\", \"data\": [0.8226716604244695, 0.8103121098626715, 0.7889637952559301, 0.6474656679151061, 0.6688888888888889, 0.7867665418227217, 0.8148064918851435, 0.8204619225967541, 0.8080524344569288, 0.8080774032459427, 0.8137078651685392, 0.8125343320848938, 0.8092009987515606, 0.7642821473158552, 0.7867540574282147, 0.7878901373283396, 0.8091760299625467, 0.8148064918851435, 0.7845068664169788, 0.7945942571785268, 0.8058052434456929, 0.8069163545568039, 0.8035580524344569, 0.8035830212234707, 0.804681647940075, 0.7788888888888889, 0.8046816479400748, 0.6161048689138577, 0.8102996254681647, 0.7957178526841449, 0.784494382022472, 0.8147940074906368, 0.8002372034956305, 0.8091885143570536, 0.8080898876404495, 0.8046816479400748, 0.8181273408239701, 0.8136953807740326, 0.8103370786516855, 0.6161048689138577, 0.8383895131086142, 0.8361548064918851]}, {\"categories\": [\"0\", \"1\", \"2\", \"3\", \"4\", \"5\", \"6\", \"7\", \"8\", \"9\", \"10\", \"11\", \"12\", \"13\", \"14\", \"15\", \"16\", \"17\", \"18\", \"19\", \"20\", \"21\", \"22\", \"23\", \"24\", \"25\", \"26\", \"27\", \"28\", \"29\", \"30\", \"31\", \"32\", \"33\", \"34\", \"35\", \"36\", \"38\", \"39\", \"40\", \"46\", \"47\"], \"mode\": \"lines\", \"name\": \"f1_score_micro_max\", \"stepped\": true, \"type\": \"scatter\", \"data\": [0.8226716604244695, 0.8226716604244695, 0.8226716604244695, 0.8226716604244695, 0.8226716604244695, 0.8226716604244695, 0.8226716604244695, 0.8226716604244695, 0.8226716604244695, 0.8226716604244695, 0.8226716604244695, 0.8226716604244695, 0.8226716604244695, 0.8226716604244695, 0.8226716604244695, 0.8226716604244695, 0.8226716604244695, 0.8226716604244695, 0.8226716604244695, 0.8226716604244695, 0.8226716604244695, 0.8226716604244695, 0.8226716604244695, 0.8226716604244695, 0.8226716604244695, 0.8226716604244695, 0.8226716604244695, 0.8226716604244695, 0.8226716604244695, 0.8226716604244695, 0.8226716604244695, 0.8226716604244695, 0.8226716604244695, 0.8226716604244695, 0.8226716604244695, 0.8226716604244695, 0.8226716604244695, 0.8226716604244695, 0.8226716604244695, 0.8226716604244695, 0.8383895131086142, 0.8383895131086142]}], \"average_precision_score_weighted\": [{\"categories\": [\"0\", \"1\", \"2\", \"3\", \"4\", \"5\", \"6\", \"7\", \"8\", \"9\", \"10\", \"11\", \"12\", \"13\", \"14\", \"15\", \"16\", \"17\", \"18\", \"19\", \"20\", \"21\", \"22\", \"23\", \"24\", \"25\", \"26\", \"27\", \"28\", \"29\", \"30\", \"31\", \"32\", \"33\", \"34\", \"35\", \"36\", \"38\", \"39\", \"40\", \"46\", \"47\"], \"mode\": \"markers\", \"name\": \"average_precision_score_weighted\", \"stepped\": false, \"type\": \"scatter\", \"data\": [0.8471088847546036, 0.8611033593366635, 0.8350736529474995, 0.7497683488090254, 0.6994330587174181, 0.8134822120950629, 0.8591826721545142, 0.8581431716924106, 0.8529385333166808, 0.8657416064928084, 0.8731834926027784, 0.8558520730970243, 0.8521923552608996, 0.8449920304406225, 0.8425429182513996, 0.8303413049245909, 0.8628336730283136, 0.8562288908047382, 0.8522366325342254, 0.8584466133367649, 0.8464452030117503, 0.8467606149349518, 0.8438523608374753, 0.8451116383952053, 0.8479801873096953, 0.8354675578950246, 0.8548704795645593, 0.6752092298807577, 0.8524685020307711, 0.8354946326991849, 0.8558475281356653, 0.8658170799415507, 0.8401185502537857, 0.854900857796425, 0.8549519854830996, 0.8356506111704691, 0.8567163641118322, 0.8613494224237026, 0.8627978702632355, 0.8599242076757794, 0.8642575782003764, 0.8641719349219764]}, {\"categories\": [\"0\", \"1\", \"2\", \"3\", \"4\", \"5\", \"6\", \"7\", \"8\", \"9\", \"10\", \"11\", \"12\", \"13\", \"14\", \"15\", \"16\", \"17\", \"18\", \"19\", \"20\", \"21\", \"22\", \"23\", \"24\", \"25\", \"26\", \"27\", \"28\", \"29\", \"30\", \"31\", \"32\", \"33\", \"34\", \"35\", \"36\", \"38\", \"39\", \"40\", \"46\", \"47\"], \"mode\": \"lines\", \"name\": \"average_precision_score_weighted_max\", \"stepped\": true, \"type\": \"scatter\", \"data\": [0.8471088847546036, 0.8611033593366635, 0.8611033593366635, 0.8611033593366635, 0.8611033593366635, 0.8611033593366635, 0.8611033593366635, 0.8611033593366635, 0.8611033593366635, 0.8657416064928084, 0.8731834926027784, 0.8731834926027784, 0.8731834926027784, 0.8731834926027784, 0.8731834926027784, 0.8731834926027784, 0.8731834926027784, 0.8731834926027784, 0.8731834926027784, 0.8731834926027784, 0.8731834926027784, 0.8731834926027784, 0.8731834926027784, 0.8731834926027784, 0.8731834926027784, 0.8731834926027784, 0.8731834926027784, 0.8731834926027784, 0.8731834926027784, 0.8731834926027784, 0.8731834926027784, 0.8731834926027784, 0.8731834926027784, 0.8731834926027784, 0.8731834926027784, 0.8731834926027784, 0.8731834926027784, 0.8731834926027784, 0.8731834926027784, 0.8731834926027784, 0.8731834926027784, 0.8731834926027784]}], \"accuracy\": [{\"categories\": [\"0\", \"1\", \"2\", \"3\", \"4\", \"5\", \"6\", \"7\", \"8\", \"9\", \"10\", \"11\", \"12\", \"13\", \"14\", \"15\", \"16\", \"17\", \"18\", \"19\", \"20\", \"21\", \"22\", \"23\", \"24\", \"25\", \"26\", \"27\", \"28\", \"29\", \"30\", \"31\", \"32\", \"33\", \"34\", \"35\", \"36\", \"38\", \"39\", \"40\", \"46\", \"47\"], \"mode\": \"markers\", \"name\": \"accuracy\", \"stepped\": false, \"type\": \"scatter\", \"data\": [0.8226716604244695, 0.8103121098626715, 0.7889637952559301, 0.6474656679151061, 0.6688888888888889, 0.7867665418227217, 0.8148064918851435, 0.8204619225967541, 0.8080524344569289, 0.8080774032459426, 0.8137078651685392, 0.8125343320848938, 0.8092009987515606, 0.7642821473158551, 0.7867540574282147, 0.7878901373283396, 0.8091760299625468, 0.8148064918851435, 0.7845068664169788, 0.7945942571785268, 0.8058052434456929, 0.806916354556804, 0.8035580524344569, 0.8035830212234707, 0.804681647940075, 0.7788888888888889, 0.804681647940075, 0.6161048689138577, 0.8102996254681647, 0.7957178526841449, 0.7844943820224719, 0.8147940074906368, 0.8002372034956304, 0.8091885143570536, 0.8080898876404493, 0.804681647940075, 0.8181273408239701, 0.8136953807740325, 0.8103370786516854, 0.6161048689138577, 0.8383895131086142, 0.8361548064918851]}, {\"categories\": [\"0\", \"1\", \"2\", \"3\", \"4\", \"5\", \"6\", \"7\", \"8\", \"9\", \"10\", \"11\", \"12\", \"13\", \"14\", \"15\", \"16\", \"17\", \"18\", \"19\", \"20\", \"21\", \"22\", \"23\", \"24\", \"25\", \"26\", \"27\", \"28\", \"29\", \"30\", \"31\", \"32\", \"33\", \"34\", \"35\", \"36\", \"38\", \"39\", \"40\", \"46\", \"47\"], \"mode\": \"lines\", \"name\": \"accuracy_max\", \"stepped\": true, \"type\": \"scatter\", \"data\": [0.8226716604244695, 0.8226716604244695, 0.8226716604244695, 0.8226716604244695, 0.8226716604244695, 0.8226716604244695, 0.8226716604244695, 0.8226716604244695, 0.8226716604244695, 0.8226716604244695, 0.8226716604244695, 0.8226716604244695, 0.8226716604244695, 0.8226716604244695, 0.8226716604244695, 0.8226716604244695, 0.8226716604244695, 0.8226716604244695, 0.8226716604244695, 0.8226716604244695, 0.8226716604244695, 0.8226716604244695, 0.8226716604244695, 0.8226716604244695, 0.8226716604244695, 0.8226716604244695, 0.8226716604244695, 0.8226716604244695, 0.8226716604244695, 0.8226716604244695, 0.8226716604244695, 0.8226716604244695, 0.8226716604244695, 0.8226716604244695, 0.8226716604244695, 0.8226716604244695, 0.8226716604244695, 0.8226716604244695, 0.8226716604244695, 0.8226716604244695, 0.8383895131086142, 0.8383895131086142]}], \"average_precision_score_micro\": [{\"categories\": [\"0\", \"1\", \"2\", \"3\", \"4\", \"5\", \"6\", \"7\", \"8\", \"9\", \"10\", \"11\", \"12\", \"13\", \"14\", \"15\", \"16\", \"17\", \"18\", \"19\", \"20\", \"21\", \"22\", \"23\", \"24\", \"25\", \"26\", \"27\", \"28\", \"29\", \"30\", \"31\", \"32\", \"33\", \"34\", \"35\", \"36\", \"38\", \"39\", \"40\", \"46\", \"47\"], \"mode\": \"markers\", \"name\": \"average_precision_score_micro\", \"stepped\": false, \"type\": \"scatter\", \"data\": [0.8461595511174709, 0.8558675633375803, 0.8336501655282893, 0.7298681511106985, 0.6961974415317299, 0.8008747942731608, 0.8595823488037903, 0.8584724496462787, 0.851157670852146, 0.8658940035315869, 0.8752690354160576, 0.8530392826111516, 0.8643068422007912, 0.8468836336218504, 0.8384844627105273, 0.8428928116406738, 0.8568002091113991, 0.8531572359368041, 0.8452866105129845, 0.8481336127346086, 0.8438893947047479, 0.8443000039602728, 0.8421181544319332, 0.8426908603063488, 0.8454592892003634, 0.8303122780011643, 0.8626470457575829, 0.6804596313712334, 0.8529384400353226, 0.8385827915577029, 0.8457920509982916, 0.8755088971415367, 0.8436308799440966, 0.8610710293996432, 0.8617588961838759, 0.8319657665383158, 0.8606636860449989, 0.8628565607841807, 0.865094525842921, 0.7840699676941795, 0.8649129087688637, 0.8640665284245272]}, {\"categories\": [\"0\", \"1\", \"2\", \"3\", \"4\", \"5\", \"6\", \"7\", \"8\", \"9\", \"10\", \"11\", \"12\", \"13\", \"14\", \"15\", \"16\", \"17\", \"18\", \"19\", \"20\", \"21\", \"22\", \"23\", \"24\", \"25\", \"26\", \"27\", \"28\", \"29\", \"30\", \"31\", \"32\", \"33\", \"34\", \"35\", \"36\", \"38\", \"39\", \"40\", \"46\", \"47\"], \"mode\": \"lines\", \"name\": \"average_precision_score_micro_max\", \"stepped\": true, \"type\": \"scatter\", \"data\": [0.8461595511174709, 0.8558675633375803, 0.8558675633375803, 0.8558675633375803, 0.8558675633375803, 0.8558675633375803, 0.8595823488037903, 0.8595823488037903, 0.8595823488037903, 0.8658940035315869, 0.8752690354160576, 0.8752690354160576, 0.8752690354160576, 0.8752690354160576, 0.8752690354160576, 0.8752690354160576, 0.8752690354160576, 0.8752690354160576, 0.8752690354160576, 0.8752690354160576, 0.8752690354160576, 0.8752690354160576, 0.8752690354160576, 0.8752690354160576, 0.8752690354160576, 0.8752690354160576, 0.8752690354160576, 0.8752690354160576, 0.8752690354160576, 0.8752690354160576, 0.8752690354160576, 0.8755088971415367, 0.8755088971415367, 0.8755088971415367, 0.8755088971415367, 0.8755088971415367, 0.8755088971415367, 0.8755088971415367, 0.8755088971415367, 0.8755088971415367, 0.8755088971415367, 0.8755088971415367]}], \"balanced_accuracy\": [{\"categories\": [\"0\", \"1\", \"2\", \"3\", \"4\", \"5\", \"6\", \"7\", \"8\", \"9\", \"10\", \"11\", \"12\", \"13\", \"14\", \"15\", \"16\", \"17\", \"18\", \"19\", \"20\", \"21\", \"22\", \"23\", \"24\", \"25\", \"26\", \"27\", \"28\", \"29\", \"30\", \"31\", \"32\", \"33\", \"34\", \"35\", \"36\", \"38\", \"39\", \"40\", \"46\", \"47\"], \"mode\": \"markers\", \"name\": \"balanced_accuracy\", \"stepped\": false, \"type\": \"scatter\", \"data\": [0.8034269223219136, 0.788019929269227, 0.7729220971735974, 0.554072221958115, 0.6614528125889918, 0.7810631408464882, 0.794701492206037, 0.8022335996764538, 0.785304681926382, 0.7896982690636017, 0.7935318134599253, 0.7916349184535554, 0.783476637521521, 0.7405910636427346, 0.7763878531146355, 0.7762330181233125, 0.7873598743819489, 0.7966760969988383, 0.7724327447555024, 0.7725720122793087, 0.7867726681719147, 0.7876328832256781, 0.7853090853363708, 0.7832088383846807, 0.7857308403827217, 0.7668786634738669, 0.7784505745367969, 0.5, 0.7871051023938119, 0.7708552288036733, 0.7674581997375014, 0.7858418787835537, 0.7776753022203218, 0.7832208001348968, 0.7810906192216164, 0.7765897615572598, 0.7897993760105294, 0.7923379084840703, 0.7877688752358607, 0.5, 0.8155208543736088, 0.8124652988180532]}, {\"categories\": [\"0\", \"1\", \"2\", \"3\", \"4\", \"5\", \"6\", \"7\", \"8\", \"9\", \"10\", \"11\", \"12\", \"13\", \"14\", \"15\", \"16\", \"17\", \"18\", \"19\", \"20\", \"21\", \"22\", \"23\", \"24\", \"25\", \"26\", \"27\", \"28\", \"29\", \"30\", \"31\", \"32\", \"33\", \"34\", \"35\", \"36\", \"38\", \"39\", \"40\", \"46\", \"47\"], \"mode\": \"lines\", \"name\": \"balanced_accuracy_max\", \"stepped\": true, \"type\": \"scatter\", \"data\": [0.8034269223219136, 0.8034269223219136, 0.8034269223219136, 0.8034269223219136, 0.8034269223219136, 0.8034269223219136, 0.8034269223219136, 0.8034269223219136, 0.8034269223219136, 0.8034269223219136, 0.8034269223219136, 0.8034269223219136, 0.8034269223219136, 0.8034269223219136, 0.8034269223219136, 0.8034269223219136, 0.8034269223219136, 0.8034269223219136, 0.8034269223219136, 0.8034269223219136, 0.8034269223219136, 0.8034269223219136, 0.8034269223219136, 0.8034269223219136, 0.8034269223219136, 0.8034269223219136, 0.8034269223219136, 0.8034269223219136, 0.8034269223219136, 0.8034269223219136, 0.8034269223219136, 0.8034269223219136, 0.8034269223219136, 0.8034269223219136, 0.8034269223219136, 0.8034269223219136, 0.8034269223219136, 0.8034269223219136, 0.8034269223219136, 0.8034269223219136, 0.8155208543736088, 0.8155208543736088]}], \"AUC_weighted\": [{\"categories\": [\"0\", \"1\", \"2\", \"3\", \"4\", \"5\", \"6\", \"7\", \"8\", \"9\", \"10\", \"11\", \"12\", \"13\", \"14\", \"15\", \"16\", \"17\", \"18\", \"19\", \"20\", \"21\", \"22\", \"23\", \"24\", \"25\", \"26\", \"27\", \"28\", \"29\", \"30\", \"31\", \"32\", \"33\", \"34\", \"35\", \"36\", \"38\", \"39\", \"40\", \"46\", \"47\"], \"mode\": \"markers\", \"name\": \"AUC_weighted\", \"stepped\": false, \"type\": \"scatter\", \"data\": [0.8483799494780955, 0.8600749162497359, 0.8338807612220845, 0.7583466048224567, 0.70750552100136, 0.818216112306432, 0.8592325229625276, 0.8585147979737304, 0.8515843013371999, 0.8616462616797005, 0.8720511702042598, 0.8547522070155635, 0.8512441781698696, 0.8505462924482545, 0.84178500317689, 0.8435263321504192, 0.8615998208616176, 0.8565807688732591, 0.8492606333342861, 0.8533661426055641, 0.843446357450355, 0.8437175776610925, 0.8407916770656328, 0.8421261743036201, 0.8447508861628134, 0.8466727669911446, 0.8548455324625511, 0.6827825512482576, 0.848549880944309, 0.8307334654685927, 0.8528103391317531, 0.8616144027673178, 0.8383543190340343, 0.8529648393164138, 0.8596505146117275, 0.8299940316536597, 0.8548481981679009, 0.8580831099164486, 0.8556754198427086, 0.8555391024766607, 0.8662091324417831, 0.8659775244840546]}, {\"categories\": [\"0\", \"1\", \"2\", \"3\", \"4\", \"5\", \"6\", \"7\", \"8\", \"9\", \"10\", \"11\", \"12\", \"13\", \"14\", \"15\", \"16\", \"17\", \"18\", \"19\", \"20\", \"21\", \"22\", \"23\", \"24\", \"25\", \"26\", \"27\", \"28\", \"29\", \"30\", \"31\", \"32\", \"33\", \"34\", \"35\", \"36\", \"38\", \"39\", \"40\", \"46\", \"47\"], \"mode\": \"lines\", \"name\": \"AUC_weighted_max\", \"stepped\": true, \"type\": \"scatter\", \"data\": [0.8483799494780955, 0.8600749162497359, 0.8600749162497359, 0.8600749162497359, 0.8600749162497359, 0.8600749162497359, 0.8600749162497359, 0.8600749162497359, 0.8600749162497359, 0.8616462616797005, 0.8720511702042598, 0.8720511702042598, 0.8720511702042598, 0.8720511702042598, 0.8720511702042598, 0.8720511702042598, 0.8720511702042598, 0.8720511702042598, 0.8720511702042598, 0.8720511702042598, 0.8720511702042598, 0.8720511702042598, 0.8720511702042598, 0.8720511702042598, 0.8720511702042598, 0.8720511702042598, 0.8720511702042598, 0.8720511702042598, 0.8720511702042598, 0.8720511702042598, 0.8720511702042598, 0.8720511702042598, 0.8720511702042598, 0.8720511702042598, 0.8720511702042598, 0.8720511702042598, 0.8720511702042598, 0.8720511702042598, 0.8720511702042598, 0.8720511702042598, 0.8720511702042598, 0.8720511702042598]}], \"norm_macro_recall\": [{\"categories\": [\"0\", \"1\", \"2\", \"3\", \"4\", \"5\", \"6\", \"7\", \"8\", \"9\", \"10\", \"11\", \"12\", \"13\", \"14\", \"15\", \"16\", \"17\", \"18\", \"19\", \"20\", \"21\", \"22\", \"23\", \"24\", \"25\", \"26\", \"27\", \"28\", \"29\", \"30\", \"31\", \"32\", \"33\", \"34\", \"35\", \"36\", \"38\", \"39\", \"40\", \"46\", \"47\"], \"mode\": \"markers\", \"name\": \"norm_macro_recall\", \"stepped\": false, \"type\": \"scatter\", \"data\": [0.6068538446438272, 0.5760398585384541, 0.5458441943471947, 0.10814444391623017, 0.3229056251779838, 0.5621262816929764, 0.5894029844120741, 0.6044671993529075, 0.5706093638527638, 0.5793965381272034, 0.5870636269198506, 0.5832698369071109, 0.5669532750430418, 0.48118212728546944, 0.5527757062292711, 0.5524660362466249, 0.5747197487638979, 0.5933521939976765, 0.5448654895110047, 0.5451440245586173, 0.5735453363438294, 0.5752657664513563, 0.5706181706727416, 0.5664176767693613, 0.5714616807654433, 0.5337573269477338, 0.556901149073594, 0.0, 0.5742102047876241, 0.5417104576073466, 0.5349163994750027, 0.5716837575671074, 0.5553506044406434, 0.5664416002697936, 0.5621812384432326, 0.5531795231145198, 0.5795987520210588, 0.5846758169681403, 0.5755377504717215, 0.0, 0.6310417087472178, 0.6249305976361066]}, {\"categories\": [\"0\", \"1\", \"2\", \"3\", \"4\", \"5\", \"6\", \"7\", \"8\", \"9\", \"10\", \"11\", \"12\", \"13\", \"14\", \"15\", \"16\", \"17\", \"18\", \"19\", \"20\", \"21\", \"22\", \"23\", \"24\", \"25\", \"26\", \"27\", \"28\", \"29\", \"30\", \"31\", \"32\", \"33\", \"34\", \"35\", \"36\", \"38\", \"39\", \"40\", \"46\", \"47\"], \"mode\": \"lines\", \"name\": \"norm_macro_recall_max\", \"stepped\": true, \"type\": \"scatter\", \"data\": [0.6068538446438272, 0.6068538446438272, 0.6068538446438272, 0.6068538446438272, 0.6068538446438272, 0.6068538446438272, 0.6068538446438272, 0.6068538446438272, 0.6068538446438272, 0.6068538446438272, 0.6068538446438272, 0.6068538446438272, 0.6068538446438272, 0.6068538446438272, 0.6068538446438272, 0.6068538446438272, 0.6068538446438272, 0.6068538446438272, 0.6068538446438272, 0.6068538446438272, 0.6068538446438272, 0.6068538446438272, 0.6068538446438272, 0.6068538446438272, 0.6068538446438272, 0.6068538446438272, 0.6068538446438272, 0.6068538446438272, 0.6068538446438272, 0.6068538446438272, 0.6068538446438272, 0.6068538446438272, 0.6068538446438272, 0.6068538446438272, 0.6068538446438272, 0.6068538446438272, 0.6068538446438272, 0.6068538446438272, 0.6068538446438272, 0.6068538446438272, 0.6310417087472178, 0.6310417087472178]}], \"precision_score_macro\": [{\"categories\": [\"0\", \"1\", \"2\", \"3\", \"4\", \"5\", \"6\", \"7\", \"8\", \"9\", \"10\", \"11\", \"12\", \"13\", \"14\", \"15\", \"16\", \"17\", \"18\", \"19\", \"20\", \"21\", \"22\", \"23\", \"24\", \"25\", \"26\", \"27\", \"28\", \"29\", \"30\", \"31\", \"32\", \"33\", \"34\", \"35\", \"36\", \"38\", \"39\", \"40\", \"46\", \"47\"], \"mode\": \"markers\", \"name\": \"precision_score_macro\", \"stepped\": false, \"type\": \"scatter\", \"data\": [0.815104961598912, 0.8029206702232392, 0.7782456485443191, 0.5204268005244892, 0.6742967854910005, 0.7758989095256948, 0.8079197028359981, 0.8139248468455905, 0.8017930497151478, 0.7998317885962758, 0.8062987150604414, 0.8061492928617051, 0.805296053723454, 0.7701918601416834, 0.7742229255978277, 0.7774648150728368, 0.8048710539747477, 0.8060702182027322, 0.7724987983166243, 0.7892867897592466, 0.798108716462065, 0.7993035525574856, 0.7942975715121597, 0.7956633153867729, 0.7963451367069984, 0.7666108234141233, 0.8021455296101294, 0.30805243445692887, 0.8049911708065782, 0.7891530104893314, 0.7749024501083813, 0.8167394370446862, 0.7931832582392346, 0.8058149274473078, 0.8042861937767875, 0.8048994711569396, 0.8224461246799455, 0.8062246629648095, 0.8068044438416078, 0.30805243445692887, 0.8369747044893497, 0.834834313145526]}, {\"categories\": [\"0\", \"1\", \"2\", \"3\", \"4\", \"5\", \"6\", \"7\", \"8\", \"9\", \"10\", \"11\", \"12\", \"13\", \"14\", \"15\", \"16\", \"17\", \"18\", \"19\", \"20\", \"21\", \"22\", \"23\", \"24\", \"25\", \"26\", \"27\", \"28\", \"29\", \"30\", \"31\", \"32\", \"33\", \"34\", \"35\", \"36\", \"38\", \"39\", \"40\", \"46\", \"47\"], \"mode\": \"lines\", \"name\": \"precision_score_macro_max\", \"stepped\": true, \"type\": \"scatter\", \"data\": [0.815104961598912, 0.815104961598912, 0.815104961598912, 0.815104961598912, 0.815104961598912, 0.815104961598912, 0.815104961598912, 0.815104961598912, 0.815104961598912, 0.815104961598912, 0.815104961598912, 0.815104961598912, 0.815104961598912, 0.815104961598912, 0.815104961598912, 0.815104961598912, 0.815104961598912, 0.815104961598912, 0.815104961598912, 0.815104961598912, 0.815104961598912, 0.815104961598912, 0.815104961598912, 0.815104961598912, 0.815104961598912, 0.815104961598912, 0.815104961598912, 0.815104961598912, 0.815104961598912, 0.815104961598912, 0.815104961598912, 0.8167394370446862, 0.8167394370446862, 0.8167394370446862, 0.8167394370446862, 0.8167394370446862, 0.8224461246799455, 0.8224461246799455, 0.8224461246799455, 0.8224461246799455, 0.8369747044893497, 0.8369747044893497]}], \"weighted_accuracy\": [{\"categories\": [\"0\", \"1\", \"2\", \"3\", \"4\", \"5\", \"6\", \"7\", \"8\", \"9\", \"10\", \"11\", \"12\", \"13\", \"14\", \"15\", \"16\", \"17\", \"18\", \"19\", \"20\", \"21\", \"22\", \"23\", \"24\", \"25\", \"26\", \"27\", \"28\", \"29\", \"30\", \"31\", \"32\", \"33\", \"34\", \"35\", \"36\", \"38\", \"39\", \"40\", \"46\", \"47\"], \"mode\": \"markers\", \"name\": \"weighted_accuracy\", \"stepped\": false, \"type\": \"scatter\", \"data\": [0.8389156247580558, 0.8291514333183727, 0.8029004299963619, 0.7265403730046219, 0.6744015072169104, 0.7918479458947305, 0.8317148672939693, 0.8358839605846488, 0.8273100282232335, 0.8238884773277612, 0.8308100479668198, 0.8301380803220152, 0.8309498347149544, 0.7852683365773847, 0.7958352101899581, 0.79812531128591, 0.8279280387903969, 0.8303709045160413, 0.7950702325312594, 0.8135936680227402, 0.8219021820875844, 0.823230778533123, 0.8189873696185399, 0.8207369106659629, 0.8207240410643623, 0.7894585944780379, 0.826995277526939, 0.7138631539899801, 0.8299228784406336, 0.8167405128398458, 0.7993686304800189, 0.8392340224139551, 0.8194767799668101, 0.8309726174236106, 0.8308392407340307, 0.82854043453428, 0.8419316602097741, 0.8316534343368691, 0.8295599951829018, 0.7138631539899801, 0.8576032369163329, 0.8560595909561218]}, {\"categories\": [\"0\", \"1\", \"2\", \"3\", \"4\", \"5\", \"6\", \"7\", \"8\", \"9\", \"10\", \"11\", \"12\", \"13\", \"14\", \"15\", \"16\", \"17\", \"18\", \"19\", \"20\", \"21\", \"22\", \"23\", \"24\", \"25\", \"26\", \"27\", \"28\", \"29\", \"30\", \"31\", \"32\", \"33\", \"34\", \"35\", \"36\", \"38\", \"39\", \"40\", \"46\", \"47\"], \"mode\": \"lines\", \"name\": \"weighted_accuracy_max\", \"stepped\": true, \"type\": \"scatter\", \"data\": [0.8389156247580558, 0.8389156247580558, 0.8389156247580558, 0.8389156247580558, 0.8389156247580558, 0.8389156247580558, 0.8389156247580558, 0.8389156247580558, 0.8389156247580558, 0.8389156247580558, 0.8389156247580558, 0.8389156247580558, 0.8389156247580558, 0.8389156247580558, 0.8389156247580558, 0.8389156247580558, 0.8389156247580558, 0.8389156247580558, 0.8389156247580558, 0.8389156247580558, 0.8389156247580558, 0.8389156247580558, 0.8389156247580558, 0.8389156247580558, 0.8389156247580558, 0.8389156247580558, 0.8389156247580558, 0.8389156247580558, 0.8389156247580558, 0.8389156247580558, 0.8389156247580558, 0.8392340224139551, 0.8392340224139551, 0.8392340224139551, 0.8392340224139551, 0.8392340224139551, 0.8419316602097741, 0.8419316602097741, 0.8419316602097741, 0.8419316602097741, 0.8576032369163329, 0.8576032369163329]}], \"log_loss\": [{\"categories\": [\"0\", \"1\", \"2\", \"3\", \"4\", \"5\", \"6\", \"7\", \"8\", \"9\", \"10\", \"11\", \"12\", \"13\", \"14\", \"15\", \"16\", \"17\", \"18\", \"19\", \"20\", \"21\", \"22\", \"23\", \"24\", \"25\", \"26\", \"27\", \"28\", \"29\", \"30\", \"31\", \"32\", \"33\", \"34\", \"35\", \"36\", \"38\", \"39\", \"40\", \"46\", \"47\"], \"mode\": \"markers\", \"name\": \"log_loss\", \"stepped\": false, \"type\": \"scatter\", \"data\": [0.5617422357556074, 0.44408379912619395, 0.5013505909457074, 0.6221366012289984, 0.6831998282345959, 0.5433271578226471, 0.49976858455909134, 0.5947171250652948, 0.4619446381131718, 0.43926411223628853, 0.4255098371233286, 0.45938149012739293, 0.43854501720878386, 0.44818220911133694, 0.45220606453895157, 0.5023694333382585, 0.45284736584173624, 0.4479069695035675, 0.4707339292835885, 0.46702716527966875, 0.6774121107271387, 0.7093074596106906, 0.7379237452625169, 0.7984086119283896, 0.7036074506249721, 0.4903968141040175, 0.44077419389784456, 0.6575612685512933, 0.45509141051011975, 0.49280129896763325, 0.4802689478503129, 0.4291102590883569, 0.5155564072512441, 0.4551348957600993, 0.47685568082892216, 0.520962464889088, 0.43622128527019316, 0.4344334981981433, 0.4481953157966666, 0.667008111600303, 0.42709466352594283, 0.4227822680801349]}, {\"categories\": [\"0\", \"1\", \"2\", \"3\", \"4\", \"5\", \"6\", \"7\", \"8\", \"9\", \"10\", \"11\", \"12\", \"13\", \"14\", \"15\", \"16\", \"17\", \"18\", \"19\", \"20\", \"21\", \"22\", \"23\", \"24\", \"25\", \"26\", \"27\", \"28\", \"29\", \"30\", \"31\", \"32\", \"33\", \"34\", \"35\", \"36\", \"38\", \"39\", \"40\", \"46\", \"47\"], \"mode\": \"lines\", \"name\": \"log_loss_min\", \"stepped\": true, \"type\": \"scatter\", \"data\": [0.5617422357556074, 0.44408379912619395, 0.44408379912619395, 0.44408379912619395, 0.44408379912619395, 0.44408379912619395, 0.44408379912619395, 0.44408379912619395, 0.44408379912619395, 0.43926411223628853, 0.4255098371233286, 0.4255098371233286, 0.4255098371233286, 0.4255098371233286, 0.4255098371233286, 0.4255098371233286, 0.4255098371233286, 0.4255098371233286, 0.4255098371233286, 0.4255098371233286, 0.4255098371233286, 0.4255098371233286, 0.4255098371233286, 0.4255098371233286, 0.4255098371233286, 0.4255098371233286, 0.4255098371233286, 0.4255098371233286, 0.4255098371233286, 0.4255098371233286, 0.4255098371233286, 0.4255098371233286, 0.4255098371233286, 0.4255098371233286, 0.4255098371233286, 0.4255098371233286, 0.4255098371233286, 0.4255098371233286, 0.4255098371233286, 0.4255098371233286, 0.4255098371233286, 0.4227822680801349]}], \"f1_score_macro\": [{\"categories\": [\"0\", \"1\", \"2\", \"3\", \"4\", \"5\", \"6\", \"7\", \"8\", \"9\", \"10\", \"11\", \"12\", \"13\", \"14\", \"15\", \"16\", \"17\", \"18\", \"19\", \"20\", \"21\", \"22\", \"23\", \"24\", \"25\", \"26\", \"27\", \"28\", \"29\", \"30\", \"31\", \"32\", \"33\", \"34\", \"35\", \"36\", \"38\", \"39\", \"40\", \"46\", \"47\"], \"mode\": \"markers\", \"name\": \"f1_score_macro\", \"stepped\": false, \"type\": \"scatter\", \"data\": [0.806610992798257, 0.7914717505129815, 0.772410125386531, 0.48073941148693633, 0.6399633145488146, 0.7750942874309924, 0.7975600874885791, 0.8046364266797144, 0.7893983910825227, 0.7914435503466275, 0.7962905567603734, 0.7949279630144719, 0.7882575666975492, 0.7382932797283739, 0.772952677443117, 0.7738017935692606, 0.7908350717746073, 0.7984675988846248, 0.7698180199515556, 0.7751350729037361, 0.7884070576896929, 0.7894978499961615, 0.7864954129478317, 0.7856314380776958, 0.7874503294001614, 0.764090758240523, 0.7835477063885002, 0.38055584981125273, 0.790339411426297, 0.7751137766358082, 0.766909777972077, 0.7917408973075656, 0.7801316120882742, 0.7877107119224503, 0.7868915277021017, 0.7827138760944781, 0.7965324515213182, 0.7956050488266531, 0.790790480424408, 0.38055584981125273, 0.8211877676105205, 0.8183971122879576]}, {\"categories\": [\"0\", \"1\", \"2\", \"3\", \"4\", \"5\", \"6\", \"7\", \"8\", \"9\", \"10\", \"11\", \"12\", \"13\", \"14\", \"15\", \"16\", \"17\", \"18\", \"19\", \"20\", \"21\", \"22\", \"23\", \"24\", \"25\", \"26\", \"27\", \"28\", \"29\", \"30\", \"31\", \"32\", \"33\", \"34\", \"35\", \"36\", \"38\", \"39\", \"40\", \"46\", \"47\"], \"mode\": \"lines\", \"name\": \"f1_score_macro_max\", \"stepped\": true, \"type\": \"scatter\", \"data\": [0.806610992798257, 0.806610992798257, 0.806610992798257, 0.806610992798257, 0.806610992798257, 0.806610992798257, 0.806610992798257, 0.806610992798257, 0.806610992798257, 0.806610992798257, 0.806610992798257, 0.806610992798257, 0.806610992798257, 0.806610992798257, 0.806610992798257, 0.806610992798257, 0.806610992798257, 0.806610992798257, 0.806610992798257, 0.806610992798257, 0.806610992798257, 0.806610992798257, 0.806610992798257, 0.806610992798257, 0.806610992798257, 0.806610992798257, 0.806610992798257, 0.806610992798257, 0.806610992798257, 0.806610992798257, 0.806610992798257, 0.806610992798257, 0.806610992798257, 0.806610992798257, 0.806610992798257, 0.806610992798257, 0.806610992798257, 0.806610992798257, 0.806610992798257, 0.806610992798257, 0.8211877676105205, 0.8211877676105205]}], \"precision_score_weighted\": [{\"categories\": [\"0\", \"1\", \"2\", \"3\", \"4\", \"5\", \"6\", \"7\", \"8\", \"9\", \"10\", \"11\", \"12\", \"13\", \"14\", \"15\", \"16\", \"17\", \"18\", \"19\", \"20\", \"21\", \"22\", \"23\", \"24\", \"25\", \"26\", \"27\", \"28\", \"29\", \"30\", \"31\", \"32\", \"33\", \"34\", \"35\", \"36\", \"38\", \"39\", \"40\", \"46\", \"47\"], \"mode\": \"markers\", \"name\": \"precision_score_weighted\", \"stepped\": false, \"type\": \"scatter\", \"data\": [0.824371565251884, 0.8128308980539174, 0.7932221438864224, 0.5442627686277131, 0.6978232197439456, 0.7954318983925449, 0.8175833612471924, 0.8239870283658757, 0.8103327072994819, 0.8114894194224066, 0.8162283255761524, 0.815343285820045, 0.8129064174277559, 0.7819411616418706, 0.7924853128496224, 0.7942721389306451, 0.8135038849265136, 0.8170624667853608, 0.789998642562548, 0.799539572681822, 0.8092716522524587, 0.8101838488446743, 0.8064010218492239, 0.8063027595862874, 0.8077049395437879, 0.7844258257729978, 0.8089649101929461, 0.38241944760061164, 0.8139478961523224, 0.7984622535143775, 0.7893332426152109, 0.8214574472527664, 0.8042836659744665, 0.8131950124047208, 0.8113730169924305, 0.8104850899770224, 0.8245727068569184, 0.8158944684105276, 0.8155907887834996, 0.38241944760061164, 0.8421310933602884, 0.8398398823876265]}, {\"categories\": [\"0\", \"1\", \"2\", \"3\", \"4\", \"5\", \"6\", \"7\", \"8\", \"9\", \"10\", \"11\", \"12\", \"13\", \"14\", \"15\", \"16\", \"17\", \"18\", \"19\", \"20\", \"21\", \"22\", \"23\", \"24\", \"25\", \"26\", \"27\", \"28\", \"29\", \"30\", \"31\", \"32\", \"33\", \"34\", \"35\", \"36\", \"38\", \"39\", \"40\", \"46\", \"47\"], \"mode\": \"lines\", \"name\": \"precision_score_weighted_max\", \"stepped\": true, \"type\": \"scatter\", \"data\": [0.824371565251884, 0.824371565251884, 0.824371565251884, 0.824371565251884, 0.824371565251884, 0.824371565251884, 0.824371565251884, 0.824371565251884, 0.824371565251884, 0.824371565251884, 0.824371565251884, 0.824371565251884, 0.824371565251884, 0.824371565251884, 0.824371565251884, 0.824371565251884, 0.824371565251884, 0.824371565251884, 0.824371565251884, 0.824371565251884, 0.824371565251884, 0.824371565251884, 0.824371565251884, 0.824371565251884, 0.824371565251884, 0.824371565251884, 0.824371565251884, 0.824371565251884, 0.824371565251884, 0.824371565251884, 0.824371565251884, 0.824371565251884, 0.824371565251884, 0.824371565251884, 0.824371565251884, 0.824371565251884, 0.8245727068569184, 0.8245727068569184, 0.8245727068569184, 0.8245727068569184, 0.8421310933602884, 0.8421310933602884]}], \"recall_score_micro\": [{\"categories\": [\"0\", \"1\", \"2\", \"3\", \"4\", \"5\", \"6\", \"7\", \"8\", \"9\", \"10\", \"11\", \"12\", \"13\", \"14\", \"15\", \"16\", \"17\", \"18\", \"19\", \"20\", \"21\", \"22\", \"23\", \"24\", \"25\", \"26\", \"27\", \"28\", \"29\", \"30\", \"31\", \"32\", \"33\", \"34\", \"35\", \"36\", \"38\", \"39\", \"40\", \"46\", \"47\"], \"mode\": \"markers\", \"name\": \"recall_score_micro\", \"stepped\": false, \"type\": \"scatter\", \"data\": [0.8226716604244695, 0.8103121098626715, 0.7889637952559301, 0.6474656679151061, 0.6688888888888889, 0.7867665418227217, 0.8148064918851435, 0.8204619225967541, 0.8080524344569289, 0.8080774032459426, 0.8137078651685392, 0.8125343320848938, 0.8092009987515606, 0.7642821473158551, 0.7867540574282147, 0.7878901373283396, 0.8091760299625468, 0.8148064918851435, 0.7845068664169788, 0.7945942571785268, 0.8058052434456929, 0.806916354556804, 0.8035580524344569, 0.8035830212234707, 0.804681647940075, 0.7788888888888889, 0.804681647940075, 0.6161048689138577, 0.8102996254681647, 0.7957178526841449, 0.7844943820224719, 0.8147940074906368, 0.8002372034956304, 0.8091885143570536, 0.8080898876404493, 0.804681647940075, 0.8181273408239701, 0.8136953807740325, 0.8103370786516854, 0.6161048689138577, 0.8383895131086142, 0.8361548064918851]}, {\"categories\": [\"0\", \"1\", \"2\", \"3\", \"4\", \"5\", \"6\", \"7\", \"8\", \"9\", \"10\", \"11\", \"12\", \"13\", \"14\", \"15\", \"16\", \"17\", \"18\", \"19\", \"20\", \"21\", \"22\", \"23\", \"24\", \"25\", \"26\", \"27\", \"28\", \"29\", \"30\", \"31\", \"32\", \"33\", \"34\", \"35\", \"36\", \"38\", \"39\", \"40\", \"46\", \"47\"], \"mode\": \"lines\", \"name\": \"recall_score_micro_max\", \"stepped\": true, \"type\": \"scatter\", \"data\": [0.8226716604244695, 0.8226716604244695, 0.8226716604244695, 0.8226716604244695, 0.8226716604244695, 0.8226716604244695, 0.8226716604244695, 0.8226716604244695, 0.8226716604244695, 0.8226716604244695, 0.8226716604244695, 0.8226716604244695, 0.8226716604244695, 0.8226716604244695, 0.8226716604244695, 0.8226716604244695, 0.8226716604244695, 0.8226716604244695, 0.8226716604244695, 0.8226716604244695, 0.8226716604244695, 0.8226716604244695, 0.8226716604244695, 0.8226716604244695, 0.8226716604244695, 0.8226716604244695, 0.8226716604244695, 0.8226716604244695, 0.8226716604244695, 0.8226716604244695, 0.8226716604244695, 0.8226716604244695, 0.8226716604244695, 0.8226716604244695, 0.8226716604244695, 0.8226716604244695, 0.8226716604244695, 0.8226716604244695, 0.8226716604244695, 0.8226716604244695, 0.8383895131086142, 0.8383895131086142]}], \"recall_score_weighted\": [{\"categories\": [\"0\", \"1\", \"2\", \"3\", \"4\", \"5\", \"6\", \"7\", \"8\", \"9\", \"10\", \"11\", \"12\", \"13\", \"14\", \"15\", \"16\", \"17\", \"18\", \"19\", \"20\", \"21\", \"22\", \"23\", \"24\", \"25\", \"26\", \"27\", \"28\", \"29\", \"30\", \"31\", \"32\", \"33\", \"34\", \"35\", \"36\", \"38\", \"39\", \"40\", \"46\", \"47\"], \"mode\": \"markers\", \"name\": \"recall_score_weighted\", \"stepped\": false, \"type\": \"scatter\", \"data\": [0.8226716604244695, 0.8103121098626715, 0.7889637952559301, 0.6474656679151061, 0.6688888888888889, 0.7867665418227217, 0.8148064918851435, 0.8204619225967541, 0.8080524344569289, 0.8080774032459426, 0.8137078651685392, 0.8125343320848938, 0.8092009987515606, 0.7642821473158551, 0.7867540574282147, 0.7878901373283396, 0.8091760299625468, 0.8148064918851435, 0.7845068664169788, 0.7945942571785268, 0.8058052434456929, 0.806916354556804, 0.8035580524344569, 0.8035830212234707, 0.804681647940075, 0.7788888888888889, 0.804681647940075, 0.6161048689138577, 0.8102996254681647, 0.7957178526841449, 0.7844943820224719, 0.8147940074906368, 0.8002372034956304, 0.8091885143570536, 0.8080898876404493, 0.804681647940075, 0.8181273408239701, 0.8136953807740325, 0.8103370786516854, 0.6161048689138577, 0.8383895131086142, 0.8361548064918851]}, {\"categories\": [\"0\", \"1\", \"2\", \"3\", \"4\", \"5\", \"6\", \"7\", \"8\", \"9\", \"10\", \"11\", \"12\", \"13\", \"14\", \"15\", \"16\", \"17\", \"18\", \"19\", \"20\", \"21\", \"22\", \"23\", \"24\", \"25\", \"26\", \"27\", \"28\", \"29\", \"30\", \"31\", \"32\", \"33\", \"34\", \"35\", \"36\", \"38\", \"39\", \"40\", \"46\", \"47\"], \"mode\": \"lines\", \"name\": \"recall_score_weighted_max\", \"stepped\": true, \"type\": \"scatter\", \"data\": [0.8226716604244695, 0.8226716604244695, 0.8226716604244695, 0.8226716604244695, 0.8226716604244695, 0.8226716604244695, 0.8226716604244695, 0.8226716604244695, 0.8226716604244695, 0.8226716604244695, 0.8226716604244695, 0.8226716604244695, 0.8226716604244695, 0.8226716604244695, 0.8226716604244695, 0.8226716604244695, 0.8226716604244695, 0.8226716604244695, 0.8226716604244695, 0.8226716604244695, 0.8226716604244695, 0.8226716604244695, 0.8226716604244695, 0.8226716604244695, 0.8226716604244695, 0.8226716604244695, 0.8226716604244695, 0.8226716604244695, 0.8226716604244695, 0.8226716604244695, 0.8226716604244695, 0.8226716604244695, 0.8226716604244695, 0.8226716604244695, 0.8226716604244695, 0.8226716604244695, 0.8226716604244695, 0.8226716604244695, 0.8226716604244695, 0.8226716604244695, 0.8383895131086142, 0.8383895131086142]}], \"f1_score_weighted\": [{\"categories\": [\"0\", \"1\", \"2\", \"3\", \"4\", \"5\", \"6\", \"7\", \"8\", \"9\", \"10\", \"11\", \"12\", \"13\", \"14\", \"15\", \"16\", \"17\", \"18\", \"19\", \"20\", \"21\", \"22\", \"23\", \"24\", \"25\", \"26\", \"27\", \"28\", \"29\", \"30\", \"31\", \"32\", \"33\", \"34\", \"35\", \"36\", \"38\", \"39\", \"40\", \"46\", \"47\"], \"mode\": \"markers\", \"name\": \"f1_score_weighted\", \"stepped\": false, \"type\": \"scatter\", \"data\": [0.8210996782814632, 0.8078113114849879, 0.7882293198696064, 0.5460357147354893, 0.6553118109034467, 0.7881282534584618, 0.8127369961188153, 0.8190673010803315, 0.805400493193978, 0.8067161370263285, 0.8116183819265942, 0.8103131447382349, 0.8055388304696773, 0.7575564915655446, 0.7875717599966825, 0.7884049378589204, 0.8064041330991334, 0.8132880177267923, 0.7849241599927727, 0.7918157090604723, 0.803906342043714, 0.8049703284814604, 0.8019944226482705, 0.8015230770970169, 0.8029772281628615, 0.7793266655424055, 0.8008541024995832, 0.47109803820520985, 0.8070800115387982, 0.7926039401674531, 0.7830614458739978, 0.8097736910285296, 0.7974983882030842, 0.8052800226854895, 0.804467064444982, 0.8002999617596004, 0.8130839804000974, 0.8114025177511139, 0.8071857904084666, 0.47109803820520985, 0.8357253888532586, 0.8332915389480465]}, {\"categories\": [\"0\", \"1\", \"2\", \"3\", \"4\", \"5\", \"6\", \"7\", \"8\", \"9\", \"10\", \"11\", \"12\", \"13\", \"14\", \"15\", \"16\", \"17\", \"18\", \"19\", \"20\", \"21\", \"22\", \"23\", \"24\", \"25\", \"26\", \"27\", \"28\", \"29\", \"30\", \"31\", \"32\", \"33\", \"34\", \"35\", \"36\", \"38\", \"39\", \"40\", \"46\", \"47\"], \"mode\": \"lines\", \"name\": \"f1_score_weighted_max\", \"stepped\": true, \"type\": \"scatter\", \"data\": [0.8210996782814632, 0.8210996782814632, 0.8210996782814632, 0.8210996782814632, 0.8210996782814632, 0.8210996782814632, 0.8210996782814632, 0.8210996782814632, 0.8210996782814632, 0.8210996782814632, 0.8210996782814632, 0.8210996782814632, 0.8210996782814632, 0.8210996782814632, 0.8210996782814632, 0.8210996782814632, 0.8210996782814632, 0.8210996782814632, 0.8210996782814632, 0.8210996782814632, 0.8210996782814632, 0.8210996782814632, 0.8210996782814632, 0.8210996782814632, 0.8210996782814632, 0.8210996782814632, 0.8210996782814632, 0.8210996782814632, 0.8210996782814632, 0.8210996782814632, 0.8210996782814632, 0.8210996782814632, 0.8210996782814632, 0.8210996782814632, 0.8210996782814632, 0.8210996782814632, 0.8210996782814632, 0.8210996782814632, 0.8210996782814632, 0.8210996782814632, 0.8357253888532586, 0.8357253888532586]}], \"AUC_micro\": [{\"categories\": [\"0\", \"1\", \"2\", \"3\", \"4\", \"5\", \"6\", \"7\", \"8\", \"9\", \"10\", \"11\", \"12\", \"13\", \"14\", \"15\", \"16\", \"17\", \"18\", \"19\", \"20\", \"21\", \"22\", \"23\", \"24\", \"25\", \"26\", \"27\", \"28\", \"29\", \"30\", \"31\", \"32\", \"33\", \"34\", \"35\", \"36\", \"38\", \"39\", \"40\", \"46\", \"47\"], \"mode\": \"markers\", \"name\": \"AUC_micro\", \"stepped\": false, \"type\": \"scatter\", \"data\": [0.8664022593480996, 0.8730080314712726, 0.8450712436545456, 0.7437420951650635, 0.7168186926142572, 0.8207018629958494, 0.875710549079568, 0.8747397042710345, 0.8670602087590262, 0.8778172649356843, 0.8850178600095697, 0.8704126520999811, 0.874708108310305, 0.864800672068778, 0.8611679065338116, 0.8662857102778829, 0.8762100261689119, 0.8731667126453979, 0.8629152027506191, 0.8667058124909406, 0.859971282775432, 0.860081835907363, 0.8575343726085215, 0.8587682422564802, 0.8610696289438451, 0.8556029385864423, 0.8753859345605758, 0.7013931555592963, 0.8679486799428304, 0.8531688183154327, 0.8637204617823226, 0.8822481744885062, 0.8619652135828965, 0.8735348510990475, 0.8791982353518776, 0.8478198646822557, 0.8760712935297793, 0.8770873346519098, 0.875575792431745, 0.782469834055745, 0.88315638379616, 0.8830770089198738]}, {\"categories\": [\"0\", \"1\", \"2\", \"3\", \"4\", \"5\", \"6\", \"7\", \"8\", \"9\", \"10\", \"11\", \"12\", \"13\", \"14\", \"15\", \"16\", \"17\", \"18\", \"19\", \"20\", \"21\", \"22\", \"23\", \"24\", \"25\", \"26\", \"27\", \"28\", \"29\", \"30\", \"31\", \"32\", \"33\", \"34\", \"35\", \"36\", \"38\", \"39\", \"40\", \"46\", \"47\"], \"mode\": \"lines\", \"name\": \"AUC_micro_max\", \"stepped\": true, \"type\": \"scatter\", \"data\": [0.8664022593480996, 0.8730080314712726, 0.8730080314712726, 0.8730080314712726, 0.8730080314712726, 0.8730080314712726, 0.875710549079568, 0.875710549079568, 0.875710549079568, 0.8778172649356843, 0.8850178600095697, 0.8850178600095697, 0.8850178600095697, 0.8850178600095697, 0.8850178600095697, 0.8850178600095697, 0.8850178600095697, 0.8850178600095697, 0.8850178600095697, 0.8850178600095697, 0.8850178600095697, 0.8850178600095697, 0.8850178600095697, 0.8850178600095697, 0.8850178600095697, 0.8850178600095697, 0.8850178600095697, 0.8850178600095697, 0.8850178600095697, 0.8850178600095697, 0.8850178600095697, 0.8850178600095697, 0.8850178600095697, 0.8850178600095697, 0.8850178600095697, 0.8850178600095697, 0.8850178600095697, 0.8850178600095697, 0.8850178600095697, 0.8850178600095697, 0.8850178600095697, 0.8850178600095697]}], \"recall_score_macro\": [{\"categories\": [\"0\", \"1\", \"2\", \"3\", \"4\", \"5\", \"6\", \"7\", \"8\", \"9\", \"10\", \"11\", \"12\", \"13\", \"14\", \"15\", \"16\", \"17\", \"18\", \"19\", \"20\", \"21\", \"22\", \"23\", \"24\", \"25\", \"26\", \"27\", \"28\", \"29\", \"30\", \"31\", \"32\", \"33\", \"34\", \"35\", \"36\", \"38\", \"39\", \"40\", \"46\", \"47\"], \"mode\": \"markers\", \"name\": \"recall_score_macro\", \"stepped\": false, \"type\": \"scatter\", \"data\": [0.8034269223219136, 0.788019929269227, 0.7729220971735974, 0.554072221958115, 0.6614528125889918, 0.7810631408464882, 0.794701492206037, 0.8022335996764538, 0.785304681926382, 0.7896982690636017, 0.7935318134599253, 0.7916349184535554, 0.783476637521521, 0.7405910636427346, 0.7763878531146355, 0.7762330181233125, 0.7873598743819489, 0.7966760969988383, 0.7724327447555024, 0.7725720122793087, 0.7867726681719147, 0.7876328832256781, 0.7853090853363708, 0.7832088383846807, 0.7857308403827217, 0.7668786634738669, 0.7784505745367969, 0.5, 0.7871051023938119, 0.7708552288036733, 0.7674581997375014, 0.7858418787835537, 0.7776753022203218, 0.7832208001348968, 0.7810906192216164, 0.7765897615572598, 0.7897993760105294, 0.7923379084840703, 0.7877688752358607, 0.5, 0.8155208543736088, 0.8124652988180532]}, {\"categories\": [\"0\", \"1\", \"2\", \"3\", \"4\", \"5\", \"6\", \"7\", \"8\", \"9\", \"10\", \"11\", \"12\", \"13\", \"14\", \"15\", \"16\", \"17\", \"18\", \"19\", \"20\", \"21\", \"22\", \"23\", \"24\", \"25\", \"26\", \"27\", \"28\", \"29\", \"30\", \"31\", \"32\", \"33\", \"34\", \"35\", \"36\", \"38\", \"39\", \"40\", \"46\", \"47\"], \"mode\": \"lines\", \"name\": \"recall_score_macro_max\", \"stepped\": true, \"type\": \"scatter\", \"data\": [0.8034269223219136, 0.8034269223219136, 0.8034269223219136, 0.8034269223219136, 0.8034269223219136, 0.8034269223219136, 0.8034269223219136, 0.8034269223219136, 0.8034269223219136, 0.8034269223219136, 0.8034269223219136, 0.8034269223219136, 0.8034269223219136, 0.8034269223219136, 0.8034269223219136, 0.8034269223219136, 0.8034269223219136, 0.8034269223219136, 0.8034269223219136, 0.8034269223219136, 0.8034269223219136, 0.8034269223219136, 0.8034269223219136, 0.8034269223219136, 0.8034269223219136, 0.8034269223219136, 0.8034269223219136, 0.8034269223219136, 0.8034269223219136, 0.8034269223219136, 0.8034269223219136, 0.8034269223219136, 0.8034269223219136, 0.8034269223219136, 0.8034269223219136, 0.8034269223219136, 0.8034269223219136, 0.8034269223219136, 0.8034269223219136, 0.8034269223219136, 0.8155208543736088, 0.8155208543736088]}], \"average_precision_score_macro\": [{\"categories\": [\"0\", \"1\", \"2\", \"3\", \"4\", \"5\", \"6\", \"7\", \"8\", \"9\", \"10\", \"11\", \"12\", \"13\", \"14\", \"15\", \"16\", \"17\", \"18\", \"19\", \"20\", \"21\", \"22\", \"23\", \"24\", \"25\", \"26\", \"27\", \"28\", \"29\", \"30\", \"31\", \"32\", \"33\", \"34\", \"35\", \"36\", \"38\", \"39\", \"40\", \"46\", \"47\"], \"mode\": \"markers\", \"name\": \"average_precision_score_macro\", \"stepped\": false, \"type\": \"scatter\", \"data\": [0.8379638518089463, 0.8514237299995164, 0.8185936191755113, 0.7279299587431783, 0.6758897081664125, 0.7961776697742677, 0.8503403632712802, 0.8485759343483933, 0.8434694077145105, 0.8577000779799455, 0.8655850605946945, 0.8480207118917041, 0.8468197387412353, 0.8337581116882322, 0.8356513212836469, 0.8190155720591598, 0.855330241780327, 0.8480683267588758, 0.8433264283028313, 0.8514020423362952, 0.8361481496781968, 0.8363223164291126, 0.8333872357031268, 0.834763264718412, 0.8378221503983492, 0.8242286387152928, 0.8463332717185026, 0.6485497217157385, 0.8449369336119356, 0.8251047408352565, 0.8470176789008486, 0.8589679505116468, 0.8336989397989976, 0.8491527367555538, 0.8458427245520104, 0.823089923808786, 0.851537372518429, 0.8534054244245037, 0.8563952370514496, 0.8513825233999297, 0.8581673798861476, 0.8579863593186217]}, {\"categories\": [\"0\", \"1\", \"2\", \"3\", \"4\", \"5\", \"6\", \"7\", \"8\", \"9\", \"10\", \"11\", \"12\", \"13\", \"14\", \"15\", \"16\", \"17\", \"18\", \"19\", \"20\", \"21\", \"22\", \"23\", \"24\", \"25\", \"26\", \"27\", \"28\", \"29\", \"30\", \"31\", \"32\", \"33\", \"34\", \"35\", \"36\", \"38\", \"39\", \"40\", \"46\", \"47\"], \"mode\": \"lines\", \"name\": \"average_precision_score_macro_max\", \"stepped\": true, \"type\": \"scatter\", \"data\": [0.8379638518089463, 0.8514237299995164, 0.8514237299995164, 0.8514237299995164, 0.8514237299995164, 0.8514237299995164, 0.8514237299995164, 0.8514237299995164, 0.8514237299995164, 0.8577000779799455, 0.8655850605946945, 0.8655850605946945, 0.8655850605946945, 0.8655850605946945, 0.8655850605946945, 0.8655850605946945, 0.8655850605946945, 0.8655850605946945, 0.8655850605946945, 0.8655850605946945, 0.8655850605946945, 0.8655850605946945, 0.8655850605946945, 0.8655850605946945, 0.8655850605946945, 0.8655850605946945, 0.8655850605946945, 0.8655850605946945, 0.8655850605946945, 0.8655850605946945, 0.8655850605946945, 0.8655850605946945, 0.8655850605946945, 0.8655850605946945, 0.8655850605946945, 0.8655850605946945, 0.8655850605946945, 0.8655850605946945, 0.8655850605946945, 0.8655850605946945, 0.8655850605946945, 0.8655850605946945]}], \"precision_score_micro\": [{\"categories\": [\"0\", \"1\", \"2\", \"3\", \"4\", \"5\", \"6\", \"7\", \"8\", \"9\", \"10\", \"11\", \"12\", \"13\", \"14\", \"15\", \"16\", \"17\", \"18\", \"19\", \"20\", \"21\", \"22\", \"23\", \"24\", \"25\", \"26\", \"27\", \"28\", \"29\", \"30\", \"31\", \"32\", \"33\", \"34\", \"35\", \"36\", \"38\", \"39\", \"40\", \"46\", \"47\"], \"mode\": \"markers\", \"name\": \"precision_score_micro\", \"stepped\": false, \"type\": \"scatter\", \"data\": [0.8226716604244695, 0.8103121098626715, 0.7889637952559301, 0.6474656679151061, 0.6688888888888889, 0.7867665418227217, 0.8148064918851435, 0.8204619225967541, 0.8080524344569289, 0.8080774032459426, 0.8137078651685392, 0.8125343320848938, 0.8092009987515606, 0.7642821473158551, 0.7867540574282147, 0.7878901373283396, 0.8091760299625468, 0.8148064918851435, 0.7845068664169788, 0.7945942571785268, 0.8058052434456929, 0.806916354556804, 0.8035580524344569, 0.8035830212234707, 0.804681647940075, 0.7788888888888889, 0.804681647940075, 0.6161048689138577, 0.8102996254681647, 0.7957178526841449, 0.7844943820224719, 0.8147940074906368, 0.8002372034956304, 0.8091885143570536, 0.8080898876404493, 0.804681647940075, 0.8181273408239701, 0.8136953807740325, 0.8103370786516854, 0.6161048689138577, 0.8383895131086142, 0.8361548064918851]}, {\"categories\": [\"0\", \"1\", \"2\", \"3\", \"4\", \"5\", \"6\", \"7\", \"8\", \"9\", \"10\", \"11\", \"12\", \"13\", \"14\", \"15\", \"16\", \"17\", \"18\", \"19\", \"20\", \"21\", \"22\", \"23\", \"24\", \"25\", \"26\", \"27\", \"28\", \"29\", \"30\", \"31\", \"32\", \"33\", \"34\", \"35\", \"36\", \"38\", \"39\", \"40\", \"46\", \"47\"], \"mode\": \"lines\", \"name\": \"precision_score_micro_max\", \"stepped\": true, \"type\": \"scatter\", \"data\": [0.8226716604244695, 0.8226716604244695, 0.8226716604244695, 0.8226716604244695, 0.8226716604244695, 0.8226716604244695, 0.8226716604244695, 0.8226716604244695, 0.8226716604244695, 0.8226716604244695, 0.8226716604244695, 0.8226716604244695, 0.8226716604244695, 0.8226716604244695, 0.8226716604244695, 0.8226716604244695, 0.8226716604244695, 0.8226716604244695, 0.8226716604244695, 0.8226716604244695, 0.8226716604244695, 0.8226716604244695, 0.8226716604244695, 0.8226716604244695, 0.8226716604244695, 0.8226716604244695, 0.8226716604244695, 0.8226716604244695, 0.8226716604244695, 0.8226716604244695, 0.8226716604244695, 0.8226716604244695, 0.8226716604244695, 0.8226716604244695, 0.8226716604244695, 0.8226716604244695, 0.8226716604244695, 0.8226716604244695, 0.8226716604244695, 0.8226716604244695, 0.8383895131086142, 0.8383895131086142]}], \"matthews_correlation\": [{\"categories\": [\"0\", \"1\", \"2\", \"3\", \"4\", \"5\", \"6\", \"7\", \"8\", \"9\", \"10\", \"11\", \"12\", \"13\", \"14\", \"15\", \"16\", \"17\", \"18\", \"19\", \"20\", \"21\", \"22\", \"23\", \"24\", \"25\", \"26\", \"27\", \"28\", \"29\", \"30\", \"31\", \"32\", \"33\", \"34\", \"35\", \"36\", \"38\", \"39\", \"40\", \"46\", \"47\"], \"mode\": \"markers\", \"name\": \"matthews_correlation\", \"stepped\": false, \"type\": \"scatter\", \"data\": [0.6182293788928346, 0.5905915140357153, 0.5508871981728996, 0.15922784418412178, 0.3340352707486919, 0.5567109528373546, 0.6021281732742203, 0.6157079947850178, 0.5866285883111306, 0.5892228177249376, 0.5994158048701199, 0.5973286473780054, 0.5879423601858604, 0.5081750084899836, 0.5503979755326687, 0.5534018365937416, 0.5917007412905125, 0.6024872485964058, 0.5446948279548555, 0.5611221716971794, 0.5843457067132082, 0.5864091522378253, 0.5791983333695588, 0.578353039406351, 0.5815865595790681, 0.5332559534740939, 0.5795726485271973, 0.0, 0.5912623612835715, 0.5594586890009144, 0.5419439867618718, 0.6009138431962809, 0.570182141444423, 0.5878695550483617, 0.5846430663163512, 0.5803491723432257, 0.6103721877027326, 0.5981723173461966, 0.5936146628595715, 0.0, 0.6517597038188496, 0.6465383956366423]}, {\"categories\": [\"0\", \"1\", \"2\", \"3\", \"4\", \"5\", \"6\", \"7\", \"8\", \"9\", \"10\", \"11\", \"12\", \"13\", \"14\", \"15\", \"16\", \"17\", \"18\", \"19\", \"20\", \"21\", \"22\", \"23\", \"24\", \"25\", \"26\", \"27\", \"28\", \"29\", \"30\", \"31\", \"32\", \"33\", \"34\", \"35\", \"36\", \"38\", \"39\", \"40\", \"46\", \"47\"], \"mode\": \"lines\", \"name\": \"matthews_correlation_max\", \"stepped\": true, \"type\": \"scatter\", \"data\": [0.6182293788928346, 0.6182293788928346, 0.6182293788928346, 0.6182293788928346, 0.6182293788928346, 0.6182293788928346, 0.6182293788928346, 0.6182293788928346, 0.6182293788928346, 0.6182293788928346, 0.6182293788928346, 0.6182293788928346, 0.6182293788928346, 0.6182293788928346, 0.6182293788928346, 0.6182293788928346, 0.6182293788928346, 0.6182293788928346, 0.6182293788928346, 0.6182293788928346, 0.6182293788928346, 0.6182293788928346, 0.6182293788928346, 0.6182293788928346, 0.6182293788928346, 0.6182293788928346, 0.6182293788928346, 0.6182293788928346, 0.6182293788928346, 0.6182293788928346, 0.6182293788928346, 0.6182293788928346, 0.6182293788928346, 0.6182293788928346, 0.6182293788928346, 0.6182293788928346, 0.6182293788928346, 0.6182293788928346, 0.6182293788928346, 0.6182293788928346, 0.6517597038188496, 0.6517597038188496]}]}, \"metricName\": null, \"primaryMetricName\": \"accuracy\", \"showLegend\": false}, \"run_metrics\": [{\"name\": \"experiment_status\", \"run_id\": \"AutoML_a389c44f-f32e-4d8e-93c3-f75565ec41bf\", \"categories\": [0, 1, 2, 3, 4, 5, 6, 7, 8, 9, 10, 11, 12, 13], \"series\": [{\"data\": [\"DatasetEvaluation\", \"FeaturesGeneration\", \"DatasetFeaturization\", \"DatasetFeaturizationCompleted\", \"DatasetCrossValidationSplit\", \"ModelSelection\", \"BestRunExplainModel\", \"ModelExplanationDataSetSetup\", \"PickSurrogateModel\", \"EngineeredFeatureExplanations\", \"EngineeredFeatureExplanations\", \"RawFeaturesExplanations\", \"RawFeaturesExplanations\", \"BestRunExplainModel\"]}]}, {\"name\": \"experiment_status_description\", \"run_id\": \"AutoML_a389c44f-f32e-4d8e-93c3-f75565ec41bf\", \"categories\": [0, 1, 2, 3, 4, 5, 6, 7, 8, 9, 10, 11, 12, 13], \"series\": [{\"data\": [\"Gathering dataset statistics.\", \"Generating features for the dataset.\", \"Beginning to fit featurizers and featurize the dataset.\", \"Completed fit featurizers and featurizing the dataset.\", \"Generating individually featurized CV splits.\", \"Beginning model selection.\", \"Best run model explanations started\", \"Model explanations data setup completed\", \"Choosing LinearModel as the surrogate model for explanations\", \"Computation of engineered features started\", \"Computation of engineered features completed\", \"Computation of raw features started\", \"Computation of raw features completed\", \"Best run model explanations completed\"]}]}, {\"name\": \"f1_score_micro\", \"run_id\": \"AutoML_a389c44f-f32e-4d8e-93c3-f75565ec41bf\", \"categories\": [0], \"series\": [{\"data\": [0.8383895131086142]}]}, {\"name\": \"average_precision_score_weighted\", \"run_id\": \"AutoML_a389c44f-f32e-4d8e-93c3-f75565ec41bf\", \"categories\": [0], \"series\": [{\"data\": [0.8642575782003764]}]}, {\"name\": \"precision_score_micro\", \"run_id\": \"AutoML_a389c44f-f32e-4d8e-93c3-f75565ec41bf\", \"categories\": [0], \"series\": [{\"data\": [0.8383895131086142]}]}, {\"name\": \"weighted_accuracy\", \"run_id\": \"AutoML_a389c44f-f32e-4d8e-93c3-f75565ec41bf\", \"categories\": [0], \"series\": [{\"data\": [0.8576032369163329]}]}, {\"name\": \"f1_score_macro\", \"run_id\": \"AutoML_a389c44f-f32e-4d8e-93c3-f75565ec41bf\", \"categories\": [0], \"series\": [{\"data\": [0.8211877676105205]}]}, {\"name\": \"AUC_micro\", \"run_id\": \"AutoML_a389c44f-f32e-4d8e-93c3-f75565ec41bf\", \"categories\": [0], \"series\": [{\"data\": [0.88315638379616]}]}, {\"name\": \"accuracy\", \"run_id\": \"AutoML_a389c44f-f32e-4d8e-93c3-f75565ec41bf\", \"categories\": [0], \"series\": [{\"data\": [0.8383895131086142]}]}, {\"name\": \"norm_macro_recall\", \"run_id\": \"AutoML_a389c44f-f32e-4d8e-93c3-f75565ec41bf\", \"categories\": [0], \"series\": [{\"data\": [0.6310417087472178]}]}, {\"name\": \"balanced_accuracy\", \"run_id\": \"AutoML_a389c44f-f32e-4d8e-93c3-f75565ec41bf\", \"categories\": [0], \"series\": [{\"data\": [0.8155208543736088]}]}, {\"name\": \"f1_score_weighted\", \"run_id\": \"AutoML_a389c44f-f32e-4d8e-93c3-f75565ec41bf\", \"categories\": [0], \"series\": [{\"data\": [0.8357253888532586]}]}, {\"name\": \"log_loss\", \"run_id\": \"AutoML_a389c44f-f32e-4d8e-93c3-f75565ec41bf\", \"categories\": [0], \"series\": [{\"data\": [0.42709466352594283]}]}, {\"name\": \"AUC_macro\", \"run_id\": \"AutoML_a389c44f-f32e-4d8e-93c3-f75565ec41bf\", \"categories\": [0], \"series\": [{\"data\": [0.8662091324417831]}]}, {\"name\": \"recall_score_macro\", \"run_id\": \"AutoML_a389c44f-f32e-4d8e-93c3-f75565ec41bf\", \"categories\": [0], \"series\": [{\"data\": [0.8155208543736088]}]}, {\"name\": \"recall_score_micro\", \"run_id\": \"AutoML_a389c44f-f32e-4d8e-93c3-f75565ec41bf\", \"categories\": [0], \"series\": [{\"data\": [0.8383895131086142]}]}, {\"name\": \"average_precision_score_macro\", \"run_id\": \"AutoML_a389c44f-f32e-4d8e-93c3-f75565ec41bf\", \"categories\": [0], \"series\": [{\"data\": [0.8581673798861476]}]}, {\"name\": \"AUC_weighted\", \"run_id\": \"AutoML_a389c44f-f32e-4d8e-93c3-f75565ec41bf\", \"categories\": [0], \"series\": [{\"data\": [0.8662091324417831]}]}, {\"name\": \"average_precision_score_micro\", \"run_id\": \"AutoML_a389c44f-f32e-4d8e-93c3-f75565ec41bf\", \"categories\": [0], \"series\": [{\"data\": [0.8649129087688637]}]}, {\"name\": \"recall_score_weighted\", \"run_id\": \"AutoML_a389c44f-f32e-4d8e-93c3-f75565ec41bf\", \"categories\": [0], \"series\": [{\"data\": [0.8383895131086142]}]}, {\"name\": \"precision_score_weighted\", \"run_id\": \"AutoML_a389c44f-f32e-4d8e-93c3-f75565ec41bf\", \"categories\": [0], \"series\": [{\"data\": [0.8421310933602884]}]}, {\"name\": \"matthews_correlation\", \"run_id\": \"AutoML_a389c44f-f32e-4d8e-93c3-f75565ec41bf\", \"categories\": [0], \"series\": [{\"data\": [0.6517597038188496]}]}, {\"name\": \"precision_score_macro\", \"run_id\": \"AutoML_a389c44f-f32e-4d8e-93c3-f75565ec41bf\", \"categories\": [0], \"series\": [{\"data\": [0.8369747044893497]}]}], \"run_logs\": \"\\nRun is completed.\", \"graph\": {}, \"widget_settings\": {\"childWidgetDisplay\": \"popup\", \"send_telemetry\": false, \"log_level\": \"INFO\", \"sdk_version\": \"1.19.0\"}, \"loading\": false}"
     },
     "metadata": {},
     "output_type": "display_data"
    }
   ],
   "source": [
    "from azureml.widgets import RunDetails\n",
    "RunDetails(remote_run).show()"
   ]
  },
  {
   "cell_type": "markdown",
   "metadata": {},
   "source": [
    "## Best Model\n",
    "\n",
    "Here get the best model from the automl experiments and display all the properties of the model.\n",
    "\n"
   ]
  },
  {
   "cell_type": "code",
   "execution_count": 9,
   "metadata": {
    "gather": {
     "logged": 1598431425670
    },
    "jupyter": {
     "outputs_hidden": false,
     "source_hidden": false
    },
    "nteract": {
     "transient": {
      "deleting": false
     }
    }
   },
   "outputs": [],
   "source": [
    "best_run_automl, fitted_model_automl = remote_run.get_output()\n",
    "model_name = best_run_automl.properties['model_name']"
   ]
  },
  {
   "cell_type": "code",
   "execution_count": 10,
   "metadata": {
    "scrolled": true
   },
   "outputs": [
    {
     "name": "stdout",
     "output_type": "stream",
     "text": [
      "Run(Experiment: titanic-automl-experiment,\n",
      "Id: AutoML_a389c44f-f32e-4d8e-93c3-f75565ec41bf_46,\n",
      "Type: azureml.scriptrun,\n",
      "Status: Completed)\n"
     ]
    }
   ],
   "source": [
    "# run\n",
    "print(best_run_automl)"
   ]
  },
  {
   "cell_type": "code",
   "execution_count": 12,
   "metadata": {
    "scrolled": true
   },
   "outputs": [
    {
     "data": {
      "text/plain": [
       "['accuracy_table',\n",
       " 'automl_driver.py',\n",
       " 'azureml-logs/55_azureml-execution-tvmps_c4afe6277d5e58e8625f946df952152b33c7dd36d96658430ebe94178484b0e5_d.txt',\n",
       " 'azureml-logs/65_job_prep-tvmps_c4afe6277d5e58e8625f946df952152b33c7dd36d96658430ebe94178484b0e5_d.txt',\n",
       " 'azureml-logs/70_driver_log.txt',\n",
       " 'azureml-logs/75_job_post-tvmps_c4afe6277d5e58e8625f946df952152b33c7dd36d96658430ebe94178484b0e5_d.txt',\n",
       " 'azureml-logs/process_info.json',\n",
       " 'azureml-logs/process_status.json',\n",
       " 'confusion_matrix',\n",
       " 'logs/azureml/104_azureml.log',\n",
       " 'logs/azureml/azureml_automl.log',\n",
       " 'logs/azureml/dataprep/python_span_3d7cab30-11fb-4e9c-a278-8292d9a14195.jsonl',\n",
       " 'logs/azureml/dataprep/python_span_c755ae9a-6ce5-46b5-910e-9baac2de047f.jsonl',\n",
       " 'logs/azureml/job_prep_azureml.log',\n",
       " 'logs/azureml/job_release_azureml.log',\n",
       " 'outputs/conda_env_v_1_0_0.yml',\n",
       " 'outputs/env_dependencies.json',\n",
       " 'outputs/model.pkl',\n",
       " 'outputs/pipeline_graph.json',\n",
       " 'outputs/scoring_file_v_1_0_0.py']"
      ]
     },
     "execution_count": 12,
     "metadata": {},
     "output_type": "execute_result"
    }
   ],
   "source": [
    "best_run_automl.get_file_names()"
   ]
  },
  {
   "cell_type": "code",
   "execution_count": 40,
   "metadata": {},
   "outputs": [
    {
     "data": {
      "text/plain": [
       "{'precision_score_macro': 0.8369747044893497,\n",
       " 'matthews_correlation': 0.6517597038188496,\n",
       " 'recall_score_micro': 0.8383895131086142,\n",
       " 'recall_score_macro': 0.8155208543736088,\n",
       " 'accuracy': 0.8383895131086142,\n",
       " 'AUC_weighted': 0.8662091324417831,\n",
       " 'average_precision_score_macro': 0.8581673798861476,\n",
       " 'f1_score_weighted': 0.8357253888532586,\n",
       " 'AUC_macro': 0.8662091324417831,\n",
       " 'precision_score_micro': 0.8383895131086142,\n",
       " 'weighted_accuracy': 0.8576032369163329,\n",
       " 'average_precision_score_weighted': 0.8642575782003764,\n",
       " 'f1_score_macro': 0.8211877676105205,\n",
       " 'AUC_micro': 0.88315638379616,\n",
       " 'log_loss': 0.42709466352594283,\n",
       " 'recall_score_weighted': 0.8383895131086142,\n",
       " 'f1_score_micro': 0.8383895131086142,\n",
       " 'norm_macro_recall': 0.6310417087472178,\n",
       " 'average_precision_score_micro': 0.8649129087688637,\n",
       " 'precision_score_weighted': 0.8421310933602884,\n",
       " 'balanced_accuracy': 0.8155208543736088,\n",
       " 'confusion_matrix': 'aml://artifactId/ExperimentRun/dcid.AutoML_a389c44f-f32e-4d8e-93c3-f75565ec41bf_46/confusion_matrix',\n",
       " 'accuracy_table': 'aml://artifactId/ExperimentRun/dcid.AutoML_a389c44f-f32e-4d8e-93c3-f75565ec41bf_46/accuracy_table'}"
      ]
     },
     "execution_count": 40,
     "metadata": {},
     "output_type": "execute_result"
    }
   ],
   "source": [
    "best_run_automl.get_metrics()"
   ]
  },
  {
   "cell_type": "code",
   "execution_count": 48,
   "metadata": {},
   "outputs": [
    {
     "data": {
      "text/plain": [
       "{'runTemplate': 'automl_child',\n",
       " 'pipeline_id': '__AutoML_Ensemble__',\n",
       " 'pipeline_spec': '{\"pipeline_id\":\"__AutoML_Ensemble__\",\"objects\":[{\"module\":\"azureml.train.automl.ensemble\",\"class_name\":\"Ensemble\",\"spec_class\":\"sklearn\",\"param_args\":[],\"param_kwargs\":{\"automl_settings\":\"{\\'task_type\\':\\'classification\\',\\'primary_metric\\':\\'accuracy\\',\\'verbosity\\':20,\\'ensemble_iterations\\':15,\\'is_timeseries\\':False,\\'name\\':\\'titanic-automl-experiment\\',\\'compute_target\\':\\'cluster-2\\',\\'subscription_id\\':\\'a24a24d5-8d87-4c8a-99b6-91ed2d2df51f\\',\\'region\\':\\'southcentralus\\',\\'spark_service\\':None}\",\"ensemble_run_id\":\"AutoML_a389c44f-f32e-4d8e-93c3-f75565ec41bf_46\",\"experiment_name\":\"titanic-automl-experiment\",\"workspace_name\":\"quick-starts-ws-134553\",\"subscription_id\":\"a24a24d5-8d87-4c8a-99b6-91ed2d2df51f\",\"resource_group_name\":\"aml-quickstarts-134553\"}}]}',\n",
       " 'training_percent': '100',\n",
       " 'predicted_cost': None,\n",
       " 'iteration': '46',\n",
       " '_aml_system_scenario_identification': 'Remote.Child',\n",
       " '_azureml.ComputeTargetType': 'amlcompute',\n",
       " 'ContentSnapshotId': '7d71e059-baae-4212-8840-3d7a3c4d148a',\n",
       " 'ProcessInfoFile': 'azureml-logs/process_info.json',\n",
       " 'ProcessStatusFile': 'azureml-logs/process_status.json',\n",
       " 'run_template': 'automl_child',\n",
       " 'run_preprocessor': '',\n",
       " 'run_algorithm': 'VotingEnsemble',\n",
       " 'conda_env_data_location': 'aml://artifact/ExperimentRun/dcid.AutoML_a389c44f-f32e-4d8e-93c3-f75565ec41bf_46/outputs/conda_env_v_1_0_0.yml',\n",
       " 'model_data_location': 'aml://artifact/ExperimentRun/dcid.AutoML_a389c44f-f32e-4d8e-93c3-f75565ec41bf_46/outputs/model.pkl',\n",
       " 'model_size_on_disk': '3896536',\n",
       " 'scoring_data_location': 'aml://artifact/ExperimentRun/dcid.AutoML_a389c44f-f32e-4d8e-93c3-f75565ec41bf_46/outputs/scoring_file_v_1_0_0.py',\n",
       " 'model_exp_support': 'True',\n",
       " 'pipeline_graph_version': '1.0.0',\n",
       " 'model_name': 'AutoMLa389c44ff46',\n",
       " 'staticProperties': '{}',\n",
       " 'score': '0.8383895131086142',\n",
       " 'run_properties': \"classification_labels=None,\\n                              estimators=[('0',\\n                                           Pipeline(memory=None,\\n                                                    steps=[('maxabsscaler',\\n                                                            MaxAbsScaler(copy=True\",\n",
       " 'pipeline_script': '{\"pipeline_id\":\"__AutoML_Ensemble__\",\"objects\":[{\"module\":\"azureml.train.automl.ensemble\",\"class_name\":\"Ensemble\",\"spec_class\":\"sklearn\",\"param_args\":[],\"param_kwargs\":{\"automl_settings\":\"{\\'task_type\\':\\'classification\\',\\'primary_metric\\':\\'accuracy\\',\\'verbosity\\':20,\\'ensemble_iterations\\':15,\\'is_timeseries\\':False,\\'name\\':\\'titanic-automl-experiment\\',\\'compute_target\\':\\'cluster-2\\',\\'subscription_id\\':\\'a24a24d5-8d87-4c8a-99b6-91ed2d2df51f\\',\\'region\\':\\'southcentralus\\',\\'spark_service\\':None}\",\"ensemble_run_id\":\"AutoML_a389c44f-f32e-4d8e-93c3-f75565ec41bf_46\",\"experiment_name\":\"titanic-automl-experiment\",\"workspace_name\":\"quick-starts-ws-134553\",\"subscription_id\":\"a24a24d5-8d87-4c8a-99b6-91ed2d2df51f\",\"resource_group_name\":\"aml-quickstarts-134553\"}}]}',\n",
       " 'training_type': 'MeanCrossValidation',\n",
       " 'num_classes': '',\n",
       " 'framework': 'sklearn',\n",
       " 'fit_time': '64',\n",
       " 'goal': 'accuracy_max',\n",
       " 'class_labels': '',\n",
       " 'primary_metric': 'accuracy',\n",
       " 'errors': '{}',\n",
       " 'fitted_pipeline': \"Pipeline(memory=None,\\n         steps=[('datatransformer',\\n                 DataTransformer(enable_dnn=None, enable_feature_sweeping=None,\\n                                 feature_sweeping_config=None,\\n                                 feature_sweeping_timeout=None,\\n                                 featurization_config=None, force_text_dnn=None,\\n                                 is_cross_validation=None,\\n                                 is_onnx_compatible=None, logger=None,\\n                                 observer=None, task=None, working_dir=None)),\\n                ('prefittedsoftvotingclassifier',...\\n                                                                                               n_estimators=50,\\n                                                                                               n_jobs=1,\\n                                                                                               nthread=None,\\n                                                                                               objective='reg:logistic',\\n                                                                                               random_state=0,\\n                                                                                               reg_alpha=1.6666666666666667,\\n                                                                                               reg_lambda=1.4583333333333335,\\n                                                                                               scale_pos_weight=1,\\n                                                                                               seed=None,\\n                                                                                               silent=None,\\n                                                                                               subsample=1,\\n                                                                                               tree_method='auto',\\n                                                                                               verbose=-10,\\n                                                                                               verbosity=0))],\\n                                                                     verbose=False))],\\n                                               flatten_transform=None,\\n                                               weights=[0.125, 0.125, 0.125,\\n                                                        0.125, 0.125, 0.125,\\n                                                        0.125, 0.125]))],\\n         verbose=False)\\nY_transformer(['LabelEncoder', LabelEncoder()])\",\n",
       " 'friendly_errors': '{}',\n",
       " 'onnx_model_resource': '{}',\n",
       " 'error_code': '',\n",
       " 'failure_reason': '',\n",
       " 'feature_skus': 'automatedml_sdk_guardrails',\n",
       " 'dependencies_versions': '{\"azureml-train-automl-runtime\": \"1.19.0\", \"azureml-train-automl-client\": \"1.19.0\", \"azureml-telemetry\": \"1.19.0\", \"azureml-pipeline-core\": \"1.19.0\", \"azureml-model-management-sdk\": \"1.0.1b6.post1\", \"azureml-interpret\": \"1.19.0\", \"azureml-defaults\": \"1.19.0\", \"azureml-dataset-runtime\": \"1.19.0\", \"azureml-dataprep\": \"2.6.1\", \"azureml-dataprep-rslex\": \"1.4.0\", \"azureml-dataprep-native\": \"26.0.0\", \"azureml-core\": \"1.19.0\", \"azureml-automl-runtime\": \"1.19.0\", \"azureml-automl-core\": \"1.19.0\"}',\n",
       " 'num_cores': '4',\n",
       " 'num_logical_cores': '4',\n",
       " 'peak_memory_usage': '1044348',\n",
       " 'vm_configuration': 'Intel(R) Xeon(R) Platinum 8171M CPU @ 2.60GHz',\n",
       " 'core_hours': '0.03527141777777778'}"
      ]
     },
     "execution_count": 48,
     "metadata": {},
     "output_type": "execute_result"
    }
   ],
   "source": [
    "best_run_automl.properties"
   ]
  },
  {
   "cell_type": "code",
   "execution_count": 46,
   "metadata": {},
   "outputs": [
    {
     "data": {
      "text/plain": [
       "'VotingEnsemble'"
      ]
     },
     "execution_count": 46,
     "metadata": {},
     "output_type": "execute_result"
    }
   ],
   "source": [
    "best_run_automl.properties['run_algorithm']"
   ]
  },
  {
   "cell_type": "code",
   "execution_count": 47,
   "metadata": {},
   "outputs": [
    {
     "data": {
      "text/plain": [
       "\"classification_labels=None,\\n                              estimators=[('0',\\n                                           Pipeline(memory=None,\\n                                                    steps=[('maxabsscaler',\\n                                                            MaxAbsScaler(copy=True\""
      ]
     },
     "execution_count": 47,
     "metadata": {},
     "output_type": "execute_result"
    }
   ],
   "source": [
    "best_run_automl.properties['run_properties']"
   ]
  },
  {
   "cell_type": "code",
   "execution_count": 49,
   "metadata": {},
   "outputs": [
    {
     "data": {
      "text/plain": [
       "\"Pipeline(memory=None,\\n         steps=[('datatransformer',\\n                 DataTransformer(enable_dnn=None, enable_feature_sweeping=None,\\n                                 feature_sweeping_config=None,\\n                                 feature_sweeping_timeout=None,\\n                                 featurization_config=None, force_text_dnn=None,\\n                                 is_cross_validation=None,\\n                                 is_onnx_compatible=None, logger=None,\\n                                 observer=None, task=None, working_dir=None)),\\n                ('prefittedsoftvotingclassifier',...\\n                                                                                               n_estimators=50,\\n                                                                                               n_jobs=1,\\n                                                                                               nthread=None,\\n                                                                                               objective='reg:logistic',\\n                                                                                               random_state=0,\\n                                                                                               reg_alpha=1.6666666666666667,\\n                                                                                               reg_lambda=1.4583333333333335,\\n                                                                                               scale_pos_weight=1,\\n                                                                                               seed=None,\\n                                                                                               silent=None,\\n                                                                                               subsample=1,\\n                                                                                               tree_method='auto',\\n                                                                                               verbose=-10,\\n                                                                                               verbosity=0))],\\n                                                                     verbose=False))],\\n                                               flatten_transform=None,\\n                                               weights=[0.125, 0.125, 0.125,\\n                                                        0.125, 0.125, 0.125,\\n                                                        0.125, 0.125]))],\\n         verbose=False)\\nY_transformer(['LabelEncoder', LabelEncoder()])\""
      ]
     },
     "execution_count": 49,
     "metadata": {},
     "output_type": "execute_result"
    }
   ],
   "source": [
    "best_run_automl.properties['fitted_pipeline']"
   ]
  },
  {
   "cell_type": "code",
   "execution_count": 13,
   "metadata": {
    "gather": {
     "logged": 1598431426111
    },
    "jupyter": {
     "outputs_hidden": false,
     "source_hidden": false
    },
    "nteract": {
     "transient": {
      "deleting": false
     }
    }
   },
   "outputs": [],
   "source": [
    "#Save the best model - download pkl and register model in Azure\n",
    "model_name = 'best_model_titanic'\n",
    "model = best_run_automl.register_model(model_name, model_path='outputs/model.pkl')"
   ]
  },
  {
   "cell_type": "code",
   "execution_count": 14,
   "metadata": {},
   "outputs": [],
   "source": [
    "best_run_automl.download_file('outputs/scoring_file_v_1_0_0.py', 'automl_output/score.py')\n",
    "best_run_automl.download_file('outputs/model.pkl', 'automl_output/model.pkl')"
   ]
  },
  {
   "cell_type": "code",
   "execution_count": 24,
   "metadata": {},
   "outputs": [
    {
     "name": "stdout",
     "output_type": "stream",
     "text": [
      "Model(workspace=Workspace.create(name='quick-starts-ws-134553', subscription_id='a24a24d5-8d87-4c8a-99b6-91ed2d2df51f', resource_group='aml-quickstarts-134553'), name=best_model_titanic, id=best_model_titanic:1, version=1, tags={}, properties={})\n"
     ]
    }
   ],
   "source": [
    "print(model)"
   ]
  },
  {
   "cell_type": "markdown",
   "metadata": {},
   "source": [
    "## Model Deployment\n",
    "\n",
    "Create an inference config and deploy the model as a web service."
   ]
  },
  {
   "cell_type": "code",
   "execution_count": 15,
   "metadata": {
    "gather": {
     "logged": 1598431435189
    },
    "jupyter": {
     "outputs_hidden": false,
     "source_hidden": false
    },
    "nteract": {
     "transient": {
      "deleting": false
     }
    }
   },
   "outputs": [
    {
     "name": "stdout",
     "output_type": "stream",
     "text": [
      "Tips: You can try get_logs(): https://aka.ms/debugimage#dockerlog or local deployment: https://aka.ms/debugimage#debug-locally to debug if deployment takes longer than 10 minutes.\n",
      "Running...............................................................\n",
      "Succeeded\n",
      "ACI service creation operation finished, operation \"Succeeded\"\n"
     ]
    }
   ],
   "source": [
    "service_name = 'my-titanic-automl-service'\n",
    "inference_config = InferenceConfig(entry_script='automl_output/score.py')\n",
    "service = Model.deploy(ws, service_name, [model], inference_config, overwrite=True)\n",
    "service.wait_for_deployment(show_output=True)"
   ]
  },
  {
   "cell_type": "code",
   "execution_count": 16,
   "metadata": {},
   "outputs": [
    {
     "name": "stdout",
     "output_type": "stream",
     "text": [
      "Healthy\n"
     ]
    }
   ],
   "source": [
    "print(service.state)"
   ]
  },
  {
   "cell_type": "markdown",
   "metadata": {
    "collapsed": true,
    "gather": {
     "logged": 1598431657736
    },
    "jupyter": {
     "outputs_hidden": false,
     "source_hidden": false
    },
    "nteract": {
     "transient": {
      "deleting": false
     }
    }
   },
   "source": [
    "Send a request to the web service you deployed to test it."
   ]
  },
  {
   "cell_type": "code",
   "execution_count": 17,
   "metadata": {
    "gather": {
     "logged": 1598432707604
    },
    "jupyter": {
     "outputs_hidden": false,
     "source_hidden": false
    },
    "nteract": {
     "transient": {
      "deleting": false
     }
    }
   },
   "outputs": [],
   "source": [
    "import json\n",
    "\n",
    "data = {\"data\":\n",
    "        [\n",
    "          {\n",
    "            \"PassengerId\": 812,\n",
    "            \"Pclass\": 2,\n",
    "            \"Name\": \"Berriman, Mr. William John\",\n",
    "            \"Age\": 23.0,\n",
    "            \"SibSp\": 0,\n",
    "            \"Parch\": 0, \n",
    "            \"Ticket\": \"28425\",\n",
    "            \"Fare\": 13.0,\n",
    "            \"Cabin\": \"\",\n",
    "            \"Q\": 0,\n",
    "            \"S\": 1,\n",
    "            \"male\": 1\n",
    "          },\n",
    "          {\n",
    "            \"PassengerId\": 813,\n",
    "            \"Pclass\": 1,\n",
    "            \"Name\": \"Lesurer, Mr. Gustave J\",\n",
    "            \"Age\": 35.0,\n",
    "            \"SibSp\": 0,\n",
    "            \"Parch\": 0, \n",
    "            \"Ticket\": \"PC 17755\",\n",
    "            \"Fare\": 512.3292,\n",
    "            \"Cabin\": \"B101\",\n",
    "            \"Q\": 0,\n",
    "            \"S\": 0,\n",
    "            \"male\": 1\n",
    "          }\n",
    "      ]\n",
    "    }\n",
    "\n",
    "# Convert to JSON string\n",
    "input_data = json.dumps(data)"
   ]
  },
  {
   "cell_type": "markdown",
   "metadata": {
    "collapsed": true,
    "gather": {
     "logged": 1598432765711
    },
    "jupyter": {
     "outputs_hidden": false,
     "source_hidden": false
    },
    "nteract": {
     "transient": {
      "deleting": false
     }
    }
   },
   "source": [
    "Print the logs of the web service and delete the service"
   ]
  },
  {
   "cell_type": "code",
   "execution_count": 18,
   "metadata": {
    "gather": {
     "logged": 1610405031401
    },
    "jupyter": {
     "outputs_hidden": false,
     "source_hidden": false
    },
    "nteract": {
     "transient": {
      "deleting": false
     }
    }
   },
   "outputs": [],
   "source": [
    "output = service.run(input_data)"
   ]
  },
  {
   "cell_type": "code",
   "execution_count": 19,
   "metadata": {
    "gather": {
     "logged": 1610405037385
    },
    "jupyter": {
     "outputs_hidden": false,
     "source_hidden": false
    },
    "nteract": {
     "transient": {
      "deleting": false
     }
    }
   },
   "outputs": [
    {
     "name": "stdout",
     "output_type": "stream",
     "text": [
      "{\"result\": [0.0, 1.0]}\n"
     ]
    }
   ],
   "source": [
    "print(output)"
   ]
  },
  {
   "cell_type": "markdown",
   "metadata": {},
   "source": [
    "Delete the service:"
   ]
  },
  {
   "cell_type": "code",
   "execution_count": 23,
   "metadata": {
    "gather": {
     "logged": 1610405049049
    },
    "jupyter": {
     "outputs_hidden": false,
     "source_hidden": false
    },
    "nteract": {
     "transient": {
      "deleting": false
     }
    }
   },
   "outputs": [],
   "source": [
    "service.delete()"
   ]
  },
  {
   "cell_type": "code",
   "execution_count": 25,
   "metadata": {
    "jupyter": {
     "outputs_hidden": false,
     "source_hidden": false
    },
    "nteract": {
     "transient": {
      "deleting": false
     }
    }
   },
   "outputs": [
    {
     "name": "stdout",
     "output_type": "stream",
     "text": [
      "Deleting\n"
     ]
    }
   ],
   "source": [
    "print(service.state)"
   ]
  },
  {
   "cell_type": "code",
   "execution_count": null,
   "metadata": {},
   "outputs": [],
   "source": []
  }
 ],
 "metadata": {
  "kernel_info": {
   "name": "python3-azureml"
  },
  "kernelspec": {
   "display_name": "Python 3",
   "language": "python",
   "name": "python3"
  },
  "language_info": {
   "codemirror_mode": {
    "name": "ipython",
    "version": 3
   },
   "file_extension": ".py",
   "mimetype": "text/x-python",
   "name": "python",
   "nbconvert_exporter": "python",
   "pygments_lexer": "ipython3",
   "version": "3.7.4"
  },
  "nteract": {
   "version": "nteract-front-end@1.0.0"
  }
 },
 "nbformat": 4,
 "nbformat_minor": 2
}
