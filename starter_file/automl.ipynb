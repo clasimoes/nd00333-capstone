{
 "cells": [
  {
   "cell_type": "markdown",
   "metadata": {},
   "source": [
    "# Automated ML\n",
    "\n",
    "TODO: Import Dependencies. In the cell below, import all the dependencies that you will need to complete the project."
   ]
  },
  {
   "cell_type": "code",
   "execution_count": 1,
   "metadata": {},
   "outputs": [
    {
     "name": "stdout",
     "output_type": "stream",
     "text": [
      "SDK version: 1.19.0\n"
     ]
    }
   ],
   "source": [
    "import azureml.core\n",
    "from azureml.core.experiment import Experiment\n",
    "from azureml.core.workspace import Workspace\n",
    "from azureml.train.automl import AutoMLConfig\n",
    "from azureml.core.dataset import Dataset\n",
    "from azureml.core.webservice import Webservice\n",
    "from azureml.core.webservice import AciWebservice\n",
    "from azureml.core.model import InferenceConfig\n",
    "from azureml.core.model import Model\n",
    "\n",
    "print(\"SDK version:\", azureml.core.VERSION)"
   ]
  },
  {
   "cell_type": "markdown",
   "metadata": {},
   "source": [
    "## Dataset\n",
    "\n",
    "### Overview\n",
    "TODO: In this markdown cell, give an overview of the dataset you are using. Also mention the task you will be performing.\n",
    "\n",
    "\n",
    "TODO: Get data. In the cell below, write code to access the data you will be using in this project. Remember that the dataset needs to be external."
   ]
  },
  {
   "cell_type": "code",
   "execution_count": 2,
   "metadata": {
    "gather": {
     "logged": 1598423890461
    },
    "jupyter": {
     "outputs_hidden": false,
     "source_hidden": false
    },
    "nteract": {
     "transient": {
      "deleting": false
     }
    }
   },
   "outputs": [
    {
     "data": {
      "text/html": [
       "<div>\n",
       "<style scoped>\n",
       "    .dataframe tbody tr th:only-of-type {\n",
       "        vertical-align: middle;\n",
       "    }\n",
       "\n",
       "    .dataframe tbody tr th {\n",
       "        vertical-align: top;\n",
       "    }\n",
       "\n",
       "    .dataframe thead th {\n",
       "        text-align: right;\n",
       "    }\n",
       "</style>\n",
       "<table border=\"1\" class=\"dataframe\">\n",
       "  <thead>\n",
       "    <tr style=\"text-align: right;\">\n",
       "      <th></th>\n",
       "      <th>PassengerId</th>\n",
       "      <th>Survived</th>\n",
       "      <th>Pclass</th>\n",
       "      <th>Age</th>\n",
       "      <th>SibSp</th>\n",
       "      <th>Parch</th>\n",
       "      <th>Fare</th>\n",
       "      <th>Q</th>\n",
       "      <th>S</th>\n",
       "      <th>male</th>\n",
       "    </tr>\n",
       "  </thead>\n",
       "  <tbody>\n",
       "    <tr>\n",
       "      <th>count</th>\n",
       "      <td>891.000000</td>\n",
       "      <td>891.000000</td>\n",
       "      <td>891.000000</td>\n",
       "      <td>891.000000</td>\n",
       "      <td>891.000000</td>\n",
       "      <td>891.000000</td>\n",
       "      <td>891.000000</td>\n",
       "      <td>891.000000</td>\n",
       "      <td>891.000000</td>\n",
       "      <td>891.000000</td>\n",
       "    </tr>\n",
       "    <tr>\n",
       "      <th>mean</th>\n",
       "      <td>446.000000</td>\n",
       "      <td>0.383838</td>\n",
       "      <td>2.308642</td>\n",
       "      <td>29.066409</td>\n",
       "      <td>0.523008</td>\n",
       "      <td>0.381594</td>\n",
       "      <td>32.204208</td>\n",
       "      <td>0.086420</td>\n",
       "      <td>0.725028</td>\n",
       "      <td>0.647587</td>\n",
       "    </tr>\n",
       "    <tr>\n",
       "      <th>std</th>\n",
       "      <td>257.353842</td>\n",
       "      <td>0.486592</td>\n",
       "      <td>0.836071</td>\n",
       "      <td>13.244532</td>\n",
       "      <td>1.102743</td>\n",
       "      <td>0.806057</td>\n",
       "      <td>49.693429</td>\n",
       "      <td>0.281141</td>\n",
       "      <td>0.446751</td>\n",
       "      <td>0.477990</td>\n",
       "    </tr>\n",
       "    <tr>\n",
       "      <th>min</th>\n",
       "      <td>1.000000</td>\n",
       "      <td>0.000000</td>\n",
       "      <td>1.000000</td>\n",
       "      <td>0.420000</td>\n",
       "      <td>0.000000</td>\n",
       "      <td>0.000000</td>\n",
       "      <td>0.000000</td>\n",
       "      <td>0.000000</td>\n",
       "      <td>0.000000</td>\n",
       "      <td>0.000000</td>\n",
       "    </tr>\n",
       "    <tr>\n",
       "      <th>25%</th>\n",
       "      <td>223.500000</td>\n",
       "      <td>0.000000</td>\n",
       "      <td>2.000000</td>\n",
       "      <td>22.000000</td>\n",
       "      <td>0.000000</td>\n",
       "      <td>0.000000</td>\n",
       "      <td>7.910400</td>\n",
       "      <td>0.000000</td>\n",
       "      <td>0.000000</td>\n",
       "      <td>0.000000</td>\n",
       "    </tr>\n",
       "    <tr>\n",
       "      <th>50%</th>\n",
       "      <td>446.000000</td>\n",
       "      <td>0.000000</td>\n",
       "      <td>3.000000</td>\n",
       "      <td>26.000000</td>\n",
       "      <td>0.000000</td>\n",
       "      <td>0.000000</td>\n",
       "      <td>14.454200</td>\n",
       "      <td>0.000000</td>\n",
       "      <td>1.000000</td>\n",
       "      <td>1.000000</td>\n",
       "    </tr>\n",
       "    <tr>\n",
       "      <th>75%</th>\n",
       "      <td>668.500000</td>\n",
       "      <td>1.000000</td>\n",
       "      <td>3.000000</td>\n",
       "      <td>37.000000</td>\n",
       "      <td>1.000000</td>\n",
       "      <td>0.000000</td>\n",
       "      <td>31.000000</td>\n",
       "      <td>0.000000</td>\n",
       "      <td>1.000000</td>\n",
       "      <td>1.000000</td>\n",
       "    </tr>\n",
       "    <tr>\n",
       "      <th>max</th>\n",
       "      <td>891.000000</td>\n",
       "      <td>1.000000</td>\n",
       "      <td>3.000000</td>\n",
       "      <td>80.000000</td>\n",
       "      <td>8.000000</td>\n",
       "      <td>6.000000</td>\n",
       "      <td>512.329200</td>\n",
       "      <td>1.000000</td>\n",
       "      <td>1.000000</td>\n",
       "      <td>1.000000</td>\n",
       "    </tr>\n",
       "  </tbody>\n",
       "</table>\n",
       "</div>"
      ],
      "text/plain": [
       "       PassengerId    Survived      Pclass         Age       SibSp  \\\n",
       "count   891.000000  891.000000  891.000000  891.000000  891.000000   \n",
       "mean    446.000000    0.383838    2.308642   29.066409    0.523008   \n",
       "std     257.353842    0.486592    0.836071   13.244532    1.102743   \n",
       "min       1.000000    0.000000    1.000000    0.420000    0.000000   \n",
       "25%     223.500000    0.000000    2.000000   22.000000    0.000000   \n",
       "50%     446.000000    0.000000    3.000000   26.000000    0.000000   \n",
       "75%     668.500000    1.000000    3.000000   37.000000    1.000000   \n",
       "max     891.000000    1.000000    3.000000   80.000000    8.000000   \n",
       "\n",
       "            Parch        Fare           Q           S        male  \n",
       "count  891.000000  891.000000  891.000000  891.000000  891.000000  \n",
       "mean     0.381594   32.204208    0.086420    0.725028    0.647587  \n",
       "std      0.806057   49.693429    0.281141    0.446751    0.477990  \n",
       "min      0.000000    0.000000    0.000000    0.000000    0.000000  \n",
       "25%      0.000000    7.910400    0.000000    0.000000    0.000000  \n",
       "50%      0.000000   14.454200    0.000000    1.000000    1.000000  \n",
       "75%      0.000000   31.000000    0.000000    1.000000    1.000000  \n",
       "max      6.000000  512.329200    1.000000    1.000000    1.000000  "
      ]
     },
     "execution_count": 2,
     "metadata": {},
     "output_type": "execute_result"
    }
   ],
   "source": [
    "ws = Workspace.from_config()\n",
    "\n",
    "# Name of the experiment\n",
    "experiment_name = 'titanic-automl-experiment'\n",
    "experiment=Experiment(ws, experiment_name)\n",
    "\n",
    "# Get the data of Kaggle Titanic Dataset\n",
    "key = \"titanic-modified\"\n",
    "description_text = \"Kaggle Titanic Challenge dataset with some changes made by myself\"\n",
    "found = False\n",
    "\n",
    "if key in ws.datasets.keys(): \n",
    "    found = True\n",
    "    dataset = ws.datasets[key] \n",
    "\n",
    "if not found:\n",
    "    # Create AML Dataset and register it into Workspace\n",
    "    example_data = 'https://raw.githubusercontent.com/clasimoes/nd00333-capstone/master/titanic_data/full_capstone.csv'\n",
    "    dataset = Dataset.Tabular.from_delimited_files(example_data)\n",
    "    #Register Dataset in Workspace\n",
    "    dataset = dataset.register(workspace=ws,\n",
    "                               name=key,\n",
    "                               description=description_text)\n",
    "\n",
    "\n",
    "df = dataset.to_pandas_dataframe()\n",
    "df.describe()"
   ]
  },
  {
   "cell_type": "markdown",
   "metadata": {},
   "source": [
    "### Create a compute cluster\n",
    "TODO: Describe the cluster here"
   ]
  },
  {
   "cell_type": "code",
   "execution_count": 3,
   "metadata": {},
   "outputs": [
    {
     "name": "stdout",
     "output_type": "stream",
     "text": [
      "Found existing cluster, use it.\n",
      "Succeeded\n",
      "AmlCompute wait for completion finished\n",
      "\n",
      "Minimum number of nodes requested have been provisioned\n"
     ]
    }
   ],
   "source": [
    "from azureml.core.compute import AmlCompute\n",
    "from azureml.core.compute import ComputeTarget\n",
    "from azureml.core.compute_target import ComputeTargetException\n",
    "\n",
    "# NOTE: update the cluster name to match the existing cluster\n",
    "# Choose a name for your CPU cluster\n",
    "amlcompute_cluster_name = \"cluster-1\"\n",
    "\n",
    "# Verify that cluster does not exist already\n",
    "try:\n",
    "    compute_target = ComputeTarget(workspace=ws, name=amlcompute_cluster_name)\n",
    "    print('Found existing cluster, use it.')\n",
    "except ComputeTargetException:\n",
    "    compute_config = AmlCompute.provisioning_configuration(vm_size='STANDARD_DS12_V2',# for GPU, use \"STANDARD_NC6\"\n",
    "                                                           #vm_priority = 'lowpriority', # optional\n",
    "                                                           max_nodes=10)\n",
    "    compute_target = ComputeTarget.create(ws, amlcompute_cluster_name, compute_config)\n",
    "\n",
    "compute_target.wait_for_completion(show_output=True, min_node_count = 2, timeout_in_minutes = 10)"
   ]
  },
  {
   "cell_type": "markdown",
   "metadata": {},
   "source": [
    "## AutoML Configuration\n",
    "\n",
    "TODO: Explain why you chose the automl settings and cofiguration you used below."
   ]
  },
  {
   "cell_type": "code",
   "execution_count": 4,
   "metadata": {
    "gather": {
     "logged": 1598429217746
    },
    "jupyter": {
     "outputs_hidden": false,
     "source_hidden": false
    },
    "nteract": {
     "transient": {
      "deleting": false
     }
    }
   },
   "outputs": [],
   "source": [
    "# TODO: Put your automl settings here\n",
    "automl_settings = {\"max_concurrent_iterations\": 9,\n",
    "                   \"primary_metric\" : 'accuracy'\n",
    "}\n",
    "project_folder = './capstone-project'\n",
    "\n",
    "# TODO: Put your automl config here\n",
    "automl_config = AutoMLConfig(compute_target=compute_target,\n",
    "                             task = \"classification\",\n",
    "                             experiment_timeout_minutes = 20,\n",
    "                             training_data=dataset,\n",
    "                             label_column_name=\"Survived\",   \n",
    "                             path = project_folder,\n",
    "                             enable_early_stopping= True,\n",
    "                             featurization= 'auto',\n",
    "                             debug_log = \"automl_errors.log\",\n",
    "                             **automl_settings)"
   ]
  },
  {
   "cell_type": "code",
   "execution_count": 5,
   "metadata": {
    "gather": {
     "logged": 1598431107951
    },
    "jupyter": {
     "outputs_hidden": false,
     "source_hidden": false
    },
    "nteract": {
     "transient": {
      "deleting": false
     }
    }
   },
   "outputs": [
    {
     "name": "stdout",
     "output_type": "stream",
     "text": [
      "Running on remote.\n"
     ]
    }
   ],
   "source": [
    "# TODO: Submit your experiment\n",
    "# RemoteRun is an object of type AutoMLRun\n",
    "remote_run = experiment.submit(automl_config, show_output=False)"
   ]
  },
  {
   "cell_type": "markdown",
   "metadata": {},
   "source": [
    "## Run Details\n",
    "\n",
    "OPTIONAL: Write about the different models trained and their performance. Why do you think some models did better than others?\n",
    "\n",
    "TODO: In the cell below, use the `RunDetails` widget to show the different experiments."
   ]
  },
  {
   "cell_type": "code",
   "execution_count": 6,
   "metadata": {
    "gather": {
     "logged": 1598431121770
    },
    "jupyter": {
     "outputs_hidden": false,
     "source_hidden": false
    },
    "nteract": {
     "transient": {
      "deleting": false
     }
    },
    "scrolled": true
   },
   "outputs": [
    {
     "data": {
      "application/vnd.jupyter.widget-view+json": {
       "model_id": "62085485baa543009a1024c11faa18d2",
       "version_major": 2,
       "version_minor": 0
      },
      "text/plain": [
       "_AutoMLWidget(widget_settings={'childWidgetDisplay': 'popup', 'send_telemetry': False, 'log_level': 'INFO', 's…"
      ]
     },
     "metadata": {},
     "output_type": "display_data"
    },
    {
     "data": {
      "application/aml.mini.widget.v1": "{\"status\": \"Completed\", \"workbench_run_details_uri\": \"https://ml.azure.com/experiments/titanic-automl-experiment/runs/AutoML_387a10e5-a092-4507-b203-d4967d0fcf1e?wsid=/subscriptions/6971f5ac-8af1-446e-8034-05acea24681f/resourcegroups/aml-quickstarts-134385/workspaces/quick-starts-ws-134385\", \"run_id\": \"AutoML_387a10e5-a092-4507-b203-d4967d0fcf1e\", \"run_properties\": {\"run_id\": \"AutoML_387a10e5-a092-4507-b203-d4967d0fcf1e\", \"created_utc\": \"2021-01-11T23:13:32.063397Z\", \"properties\": {\"num_iterations\": \"1000\", \"training_type\": \"TrainFull\", \"acquisition_function\": \"EI\", \"primary_metric\": \"accuracy\", \"train_split\": \"0\", \"acquisition_parameter\": \"0\", \"num_cross_validation\": null, \"target\": \"cluster-1\", \"AMLSettingsJsonString\": \"{\\\"path\\\":null,\\\"name\\\":\\\"titanic-automl-experiment\\\",\\\"subscription_id\\\":\\\"6971f5ac-8af1-446e-8034-05acea24681f\\\",\\\"resource_group\\\":\\\"aml-quickstarts-134385\\\",\\\"workspace_name\\\":\\\"quick-starts-ws-134385\\\",\\\"region\\\":\\\"southcentralus\\\",\\\"compute_target\\\":\\\"cluster-1\\\",\\\"spark_service\\\":null,\\\"azure_service\\\":\\\"remote\\\",\\\"many_models\\\":false,\\\"pipeline_fetch_max_batch_size\\\":1,\\\"iterations\\\":1000,\\\"primary_metric\\\":\\\"accuracy\\\",\\\"task_type\\\":\\\"classification\\\",\\\"data_script\\\":null,\\\"validation_size\\\":0.0,\\\"n_cross_validations\\\":null,\\\"y_min\\\":null,\\\"y_max\\\":null,\\\"num_classes\\\":null,\\\"featurization\\\":\\\"auto\\\",\\\"_ignore_package_version_incompatibilities\\\":false,\\\"is_timeseries\\\":false,\\\"max_cores_per_iteration\\\":1,\\\"max_concurrent_iterations\\\":9,\\\"iteration_timeout_minutes\\\":null,\\\"mem_in_mb\\\":null,\\\"enforce_time_on_windows\\\":false,\\\"experiment_timeout_minutes\\\":20,\\\"experiment_exit_score\\\":null,\\\"whitelist_models\\\":null,\\\"blacklist_algos\\\":[\\\"TensorFlowLinearClassifier\\\",\\\"TensorFlowDNN\\\"],\\\"supported_models\\\":[\\\"KNN\\\",\\\"XGBoostClassifier\\\",\\\"LinearSVM\\\",\\\"SGD\\\",\\\"TensorFlowLinearClassifier\\\",\\\"AveragedPerceptronClassifier\\\",\\\"MultinomialNaiveBayes\\\",\\\"ExtremeRandomTrees\\\",\\\"DecisionTree\\\",\\\"GradientBoosting\\\",\\\"RandomForest\\\",\\\"LightGBM\\\",\\\"LogisticRegression\\\",\\\"TensorFlowDNN\\\",\\\"BernoulliNaiveBayes\\\",\\\"SVM\\\"],\\\"auto_blacklist\\\":true,\\\"blacklist_samples_reached\\\":false,\\\"exclude_nan_labels\\\":true,\\\"verbosity\\\":20,\\\"_debug_log\\\":\\\"azureml_automl.log\\\",\\\"show_warnings\\\":false,\\\"model_explainability\\\":true,\\\"service_url\\\":null,\\\"sdk_url\\\":null,\\\"sdk_packages\\\":null,\\\"enable_onnx_compatible_models\\\":false,\\\"enable_split_onnx_featurizer_estimator_models\\\":false,\\\"vm_type\\\":\\\"STANDARD_DS12_V2\\\",\\\"telemetry_verbosity\\\":20,\\\"send_telemetry\\\":true,\\\"enable_dnn\\\":false,\\\"scenario\\\":\\\"SDK-1.13.0\\\",\\\"environment_label\\\":null,\\\"force_text_dnn\\\":false,\\\"enable_feature_sweeping\\\":true,\\\"enable_early_stopping\\\":true,\\\"early_stopping_n_iters\\\":10,\\\"metrics\\\":null,\\\"enable_ensembling\\\":true,\\\"enable_stack_ensembling\\\":true,\\\"ensemble_iterations\\\":15,\\\"enable_tf\\\":false,\\\"enable_subsampling\\\":null,\\\"subsample_seed\\\":null,\\\"enable_nimbusml\\\":false,\\\"enable_streaming\\\":false,\\\"force_streaming\\\":false,\\\"track_child_runs\\\":true,\\\"allowed_private_models\\\":[],\\\"label_column_name\\\":\\\"Survived\\\",\\\"weight_column_name\\\":null,\\\"cv_split_column_names\\\":null,\\\"enable_local_managed\\\":false,\\\"_local_managed_run_id\\\":null,\\\"cost_mode\\\":1,\\\"lag_length\\\":0,\\\"metric_operation\\\":\\\"maximize\\\",\\\"preprocess\\\":true}\", \"DataPrepJsonString\": \"{\\\\\\\"training_data\\\\\\\": \\\\\\\"{\\\\\\\\\\\\\\\"blocks\\\\\\\\\\\\\\\": [{\\\\\\\\\\\\\\\"id\\\\\\\\\\\\\\\": \\\\\\\\\\\\\\\"1528ed82-a1c0-405b-b49f-f5dacd8a11c1\\\\\\\\\\\\\\\", \\\\\\\\\\\\\\\"type\\\\\\\\\\\\\\\": \\\\\\\\\\\\\\\"Microsoft.DPrep.GetFilesBlock\\\\\\\\\\\\\\\", \\\\\\\\\\\\\\\"arguments\\\\\\\\\\\\\\\": {\\\\\\\\\\\\\\\"isArchive\\\\\\\\\\\\\\\": false, \\\\\\\\\\\\\\\"path\\\\\\\\\\\\\\\": {\\\\\\\\\\\\\\\"target\\\\\\\\\\\\\\\": 4, \\\\\\\\\\\\\\\"resourceDetails\\\\\\\\\\\\\\\": [{\\\\\\\\\\\\\\\"path\\\\\\\\\\\\\\\": \\\\\\\\\\\\\\\"https://raw.githubusercontent.com/clasimoes/nd00333-capstone/master/titanic_data/full_capstone.csv\\\\\\\\\\\\\\\"}]}}, \\\\\\\\\\\\\\\"localData\\\\\\\\\\\\\\\": {}, \\\\\\\\\\\\\\\"isEnabled\\\\\\\\\\\\\\\": true, \\\\\\\\\\\\\\\"name\\\\\\\\\\\\\\\": null, \\\\\\\\\\\\\\\"annotation\\\\\\\\\\\\\\\": null}, {\\\\\\\\\\\\\\\"id\\\\\\\\\\\\\\\": \\\\\\\\\\\\\\\"987a503d-5f43-4b23-8ef7-d0be448aa4f1\\\\\\\\\\\\\\\", \\\\\\\\\\\\\\\"type\\\\\\\\\\\\\\\": \\\\\\\\\\\\\\\"Microsoft.DPrep.ParseDelimitedBlock\\\\\\\\\\\\\\\", \\\\\\\\\\\\\\\"arguments\\\\\\\\\\\\\\\": {\\\\\\\\\\\\\\\"columnHeadersMode\\\\\\\\\\\\\\\": 3, \\\\\\\\\\\\\\\"fileEncoding\\\\\\\\\\\\\\\": 0, \\\\\\\\\\\\\\\"handleQuotedLineBreaks\\\\\\\\\\\\\\\": false, \\\\\\\\\\\\\\\"preview\\\\\\\\\\\\\\\": false, \\\\\\\\\\\\\\\"separator\\\\\\\\\\\\\\\": \\\\\\\\\\\\\\\",\\\\\\\\\\\\\\\", \\\\\\\\\\\\\\\"skipRows\\\\\\\\\\\\\\\": 0, \\\\\\\\\\\\\\\"skipRowsMode\\\\\\\\\\\\\\\": 0}, \\\\\\\\\\\\\\\"localData\\\\\\\\\\\\\\\": {}, \\\\\\\\\\\\\\\"isEnabled\\\\\\\\\\\\\\\": true, \\\\\\\\\\\\\\\"name\\\\\\\\\\\\\\\": null, \\\\\\\\\\\\\\\"annotation\\\\\\\\\\\\\\\": null}, {\\\\\\\\\\\\\\\"id\\\\\\\\\\\\\\\": \\\\\\\\\\\\\\\"85a128b2-fbc4-42a0-a55c-2e4dae74c297\\\\\\\\\\\\\\\", \\\\\\\\\\\\\\\"type\\\\\\\\\\\\\\\": \\\\\\\\\\\\\\\"Microsoft.DPrep.DropColumnsBlock\\\\\\\\\\\\\\\", \\\\\\\\\\\\\\\"arguments\\\\\\\\\\\\\\\": {\\\\\\\\\\\\\\\"columns\\\\\\\\\\\\\\\": {\\\\\\\\\\\\\\\"type\\\\\\\\\\\\\\\": 0, \\\\\\\\\\\\\\\"details\\\\\\\\\\\\\\\": {\\\\\\\\\\\\\\\"selectedColumns\\\\\\\\\\\\\\\": [\\\\\\\\\\\\\\\"Path\\\\\\\\\\\\\\\"]}}}, \\\\\\\\\\\\\\\"localData\\\\\\\\\\\\\\\": {}, \\\\\\\\\\\\\\\"isEnabled\\\\\\\\\\\\\\\": true, \\\\\\\\\\\\\\\"name\\\\\\\\\\\\\\\": null, \\\\\\\\\\\\\\\"annotation\\\\\\\\\\\\\\\": null}, {\\\\\\\\\\\\\\\"id\\\\\\\\\\\\\\\": \\\\\\\\\\\\\\\"de91c51b-bd36-4911-af11-53a0f5d0eb1b\\\\\\\\\\\\\\\", \\\\\\\\\\\\\\\"type\\\\\\\\\\\\\\\": \\\\\\\\\\\\\\\"Microsoft.DPrep.SetColumnTypesBlock\\\\\\\\\\\\\\\", \\\\\\\\\\\\\\\"arguments\\\\\\\\\\\\\\\": {\\\\\\\\\\\\\\\"columnConversion\\\\\\\\\\\\\\\": [{\\\\\\\\\\\\\\\"column\\\\\\\\\\\\\\\": {\\\\\\\\\\\\\\\"type\\\\\\\\\\\\\\\": 2, \\\\\\\\\\\\\\\"details\\\\\\\\\\\\\\\": {\\\\\\\\\\\\\\\"selectedColumn\\\\\\\\\\\\\\\": \\\\\\\\\\\\\\\"PassengerId\\\\\\\\\\\\\\\"}}, \\\\\\\\\\\\\\\"typeProperty\\\\\\\\\\\\\\\": 2}, {\\\\\\\\\\\\\\\"column\\\\\\\\\\\\\\\": {\\\\\\\\\\\\\\\"type\\\\\\\\\\\\\\\": 2, \\\\\\\\\\\\\\\"details\\\\\\\\\\\\\\\": {\\\\\\\\\\\\\\\"selectedColumn\\\\\\\\\\\\\\\": \\\\\\\\\\\\\\\"Survived\\\\\\\\\\\\\\\"}}, \\\\\\\\\\\\\\\"typeProperty\\\\\\\\\\\\\\\": 3}, {\\\\\\\\\\\\\\\"column\\\\\\\\\\\\\\\": {\\\\\\\\\\\\\\\"type\\\\\\\\\\\\\\\": 2, \\\\\\\\\\\\\\\"details\\\\\\\\\\\\\\\": {\\\\\\\\\\\\\\\"selectedColumn\\\\\\\\\\\\\\\": \\\\\\\\\\\\\\\"Pclass\\\\\\\\\\\\\\\"}}, \\\\\\\\\\\\\\\"typeProperty\\\\\\\\\\\\\\\": 2}, {\\\\\\\\\\\\\\\"column\\\\\\\\\\\\\\\": {\\\\\\\\\\\\\\\"type\\\\\\\\\\\\\\\": 2, \\\\\\\\\\\\\\\"details\\\\\\\\\\\\\\\": {\\\\\\\\\\\\\\\"selectedColumn\\\\\\\\\\\\\\\": \\\\\\\\\\\\\\\"Name\\\\\\\\\\\\\\\"}}, \\\\\\\\\\\\\\\"typeProperty\\\\\\\\\\\\\\\": 0}, {\\\\\\\\\\\\\\\"column\\\\\\\\\\\\\\\": {\\\\\\\\\\\\\\\"type\\\\\\\\\\\\\\\": 2, \\\\\\\\\\\\\\\"details\\\\\\\\\\\\\\\": {\\\\\\\\\\\\\\\"selectedColumn\\\\\\\\\\\\\\\": \\\\\\\\\\\\\\\"Age\\\\\\\\\\\\\\\"}}, \\\\\\\\\\\\\\\"typeProperty\\\\\\\\\\\\\\\": 3}, {\\\\\\\\\\\\\\\"column\\\\\\\\\\\\\\\": {\\\\\\\\\\\\\\\"type\\\\\\\\\\\\\\\": 2, \\\\\\\\\\\\\\\"details\\\\\\\\\\\\\\\": {\\\\\\\\\\\\\\\"selectedColumn\\\\\\\\\\\\\\\": \\\\\\\\\\\\\\\"SibSp\\\\\\\\\\\\\\\"}}, \\\\\\\\\\\\\\\"typeProperty\\\\\\\\\\\\\\\": 2}, {\\\\\\\\\\\\\\\"column\\\\\\\\\\\\\\\": {\\\\\\\\\\\\\\\"type\\\\\\\\\\\\\\\": 2, \\\\\\\\\\\\\\\"details\\\\\\\\\\\\\\\": {\\\\\\\\\\\\\\\"selectedColumn\\\\\\\\\\\\\\\": \\\\\\\\\\\\\\\"Parch\\\\\\\\\\\\\\\"}}, \\\\\\\\\\\\\\\"typeProperty\\\\\\\\\\\\\\\": 2}, {\\\\\\\\\\\\\\\"column\\\\\\\\\\\\\\\": {\\\\\\\\\\\\\\\"type\\\\\\\\\\\\\\\": 2, \\\\\\\\\\\\\\\"details\\\\\\\\\\\\\\\": {\\\\\\\\\\\\\\\"selectedColumn\\\\\\\\\\\\\\\": \\\\\\\\\\\\\\\"Ticket\\\\\\\\\\\\\\\"}}, \\\\\\\\\\\\\\\"typeProperty\\\\\\\\\\\\\\\": 0}, {\\\\\\\\\\\\\\\"column\\\\\\\\\\\\\\\": {\\\\\\\\\\\\\\\"type\\\\\\\\\\\\\\\": 2, \\\\\\\\\\\\\\\"details\\\\\\\\\\\\\\\": {\\\\\\\\\\\\\\\"selectedColumn\\\\\\\\\\\\\\\": \\\\\\\\\\\\\\\"Fare\\\\\\\\\\\\\\\"}}, \\\\\\\\\\\\\\\"typeProperty\\\\\\\\\\\\\\\": 3}, {\\\\\\\\\\\\\\\"column\\\\\\\\\\\\\\\": {\\\\\\\\\\\\\\\"type\\\\\\\\\\\\\\\": 2, \\\\\\\\\\\\\\\"details\\\\\\\\\\\\\\\": {\\\\\\\\\\\\\\\"selectedColumn\\\\\\\\\\\\\\\": \\\\\\\\\\\\\\\"Cabin\\\\\\\\\\\\\\\"}}, \\\\\\\\\\\\\\\"typeProperty\\\\\\\\\\\\\\\": 0}, {\\\\\\\\\\\\\\\"column\\\\\\\\\\\\\\\": {\\\\\\\\\\\\\\\"type\\\\\\\\\\\\\\\": 2, \\\\\\\\\\\\\\\"details\\\\\\\\\\\\\\\": {\\\\\\\\\\\\\\\"selectedColumn\\\\\\\\\\\\\\\": \\\\\\\\\\\\\\\"Q\\\\\\\\\\\\\\\"}}, \\\\\\\\\\\\\\\"typeProperty\\\\\\\\\\\\\\\": 2}, {\\\\\\\\\\\\\\\"column\\\\\\\\\\\\\\\": {\\\\\\\\\\\\\\\"type\\\\\\\\\\\\\\\": 2, \\\\\\\\\\\\\\\"details\\\\\\\\\\\\\\\": {\\\\\\\\\\\\\\\"selectedColumn\\\\\\\\\\\\\\\": \\\\\\\\\\\\\\\"S\\\\\\\\\\\\\\\"}}, \\\\\\\\\\\\\\\"typeProperty\\\\\\\\\\\\\\\": 2}, {\\\\\\\\\\\\\\\"column\\\\\\\\\\\\\\\": {\\\\\\\\\\\\\\\"type\\\\\\\\\\\\\\\": 2, \\\\\\\\\\\\\\\"details\\\\\\\\\\\\\\\": {\\\\\\\\\\\\\\\"selectedColumn\\\\\\\\\\\\\\\": \\\\\\\\\\\\\\\"male\\\\\\\\\\\\\\\"}}, \\\\\\\\\\\\\\\"typeProperty\\\\\\\\\\\\\\\": 2}]}, \\\\\\\\\\\\\\\"localData\\\\\\\\\\\\\\\": {}, \\\\\\\\\\\\\\\"isEnabled\\\\\\\\\\\\\\\": true, \\\\\\\\\\\\\\\"name\\\\\\\\\\\\\\\": null, \\\\\\\\\\\\\\\"annotation\\\\\\\\\\\\\\\": null}], \\\\\\\\\\\\\\\"inspectors\\\\\\\\\\\\\\\": [], \\\\\\\\\\\\\\\"meta\\\\\\\\\\\\\\\": {\\\\\\\\\\\\\\\"savedDatasetId\\\\\\\\\\\\\\\": \\\\\\\\\\\\\\\"dfe67698-23a1-466d-921d-59adb4718c53\\\\\\\\\\\\\\\", \\\\\\\\\\\\\\\"datasetType\\\\\\\\\\\\\\\": \\\\\\\\\\\\\\\"tabular\\\\\\\\\\\\\\\", \\\\\\\\\\\\\\\"subscriptionId\\\\\\\\\\\\\\\": \\\\\\\\\\\\\\\"6971f5ac-8af1-446e-8034-05acea24681f\\\\\\\\\\\\\\\", \\\\\\\\\\\\\\\"workspaceId\\\\\\\\\\\\\\\": \\\\\\\\\\\\\\\"34c58619-ebfb-46c3-976d-8a58a7a07f9e\\\\\\\\\\\\\\\", \\\\\\\\\\\\\\\"workspaceLocation\\\\\\\\\\\\\\\": \\\\\\\\\\\\\\\"southcentralus\\\\\\\\\\\\\\\"}}\\\\\\\", \\\\\\\"activities\\\\\\\": 0}\", \"EnableSubsampling\": null, \"runTemplate\": \"AutoML\", \"azureml.runsource\": \"automl\", \"display_task_type\": \"classification\", \"dependencies_versions\": \"{\\\"azureml-widgets\\\": \\\"1.19.0\\\", \\\"azureml-train\\\": \\\"1.19.0\\\", \\\"azureml-train-restclients-hyperdrive\\\": \\\"1.19.0\\\", \\\"azureml-train-core\\\": \\\"1.19.0\\\", \\\"azureml-train-automl\\\": \\\"1.19.0\\\", \\\"azureml-train-automl-runtime\\\": \\\"1.19.0\\\", \\\"azureml-train-automl-client\\\": \\\"1.19.0\\\", \\\"azureml-tensorboard\\\": \\\"1.19.0\\\", \\\"azureml-telemetry\\\": \\\"1.19.0\\\", \\\"azureml-sdk\\\": \\\"1.19.0\\\", \\\"azureml-samples\\\": \\\"0+unknown\\\", \\\"azureml-pipeline\\\": \\\"1.19.0\\\", \\\"azureml-pipeline-steps\\\": \\\"1.19.0\\\", \\\"azureml-pipeline-core\\\": \\\"1.19.0\\\", \\\"azureml-opendatasets\\\": \\\"1.19.0\\\", \\\"azureml-model-management-sdk\\\": \\\"1.0.1b6.post1\\\", \\\"azureml-mlflow\\\": \\\"1.19.0\\\", \\\"azureml-interpret\\\": \\\"1.19.0\\\", \\\"azureml-explain-model\\\": \\\"1.19.0\\\", \\\"azureml-defaults\\\": \\\"1.19.0\\\", \\\"azureml-dataset-runtime\\\": \\\"1.19.0\\\", \\\"azureml-dataprep\\\": \\\"2.6.1\\\", \\\"azureml-dataprep-rslex\\\": \\\"1.4.0\\\", \\\"azureml-dataprep-native\\\": \\\"26.0.0\\\", \\\"azureml-datadrift\\\": \\\"1.19.0\\\", \\\"azureml-core\\\": \\\"1.19.0\\\", \\\"azureml-contrib-services\\\": \\\"1.19.0\\\", \\\"azureml-contrib-server\\\": \\\"1.19.0\\\", \\\"azureml-contrib-reinforcementlearning\\\": \\\"1.19.0\\\", \\\"azureml-contrib-pipeline-steps\\\": \\\"1.19.0\\\", \\\"azureml-contrib-notebook\\\": \\\"1.19.0\\\", \\\"azureml-contrib-interpret\\\": \\\"1.19.0\\\", \\\"azureml-contrib-gbdt\\\": \\\"1.19.0\\\", \\\"azureml-contrib-fairness\\\": \\\"1.19.0\\\", \\\"azureml-contrib-dataset\\\": \\\"1.19.0\\\", \\\"azureml-cli-common\\\": \\\"1.19.0\\\", \\\"azureml-automl-runtime\\\": \\\"1.19.0\\\", \\\"azureml-automl-core\\\": \\\"1.19.0\\\", \\\"azureml-accel-models\\\": \\\"1.19.0\\\"}\", \"_aml_system_scenario_identification\": \"Remote.Parent\", \"ClientType\": \"SDK\", \"environment_cpu_name\": \"AzureML-AutoML\", \"environment_cpu_label\": \"prod\", \"environment_gpu_name\": \"AzureML-AutoML-GPU\", \"environment_gpu_label\": \"prod\", \"root_attribution\": \"automl\", \"attribution\": \"AutoML\", \"Orchestrator\": \"AutoML\", \"CancelUri\": \"https://southcentralus.experiments.azureml.net/jasmine/v1.0/subscriptions/6971f5ac-8af1-446e-8034-05acea24681f/resourceGroups/aml-quickstarts-134385/providers/Microsoft.MachineLearningServices/workspaces/quick-starts-ws-134385/experimentids/d005fd2f-797b-4bab-91af-b549245b31ec/cancel/AutoML_387a10e5-a092-4507-b203-d4967d0fcf1e\", \"azureml.git.repository_uri\": \"https://github.com/clasimoes/nd00333-capstone.git\", \"mlflow.source.git.repoURL\": \"https://github.com/clasimoes/nd00333-capstone.git\", \"azureml.git.branch\": \"master\", \"mlflow.source.git.branch\": \"master\", \"azureml.git.commit\": \"69311029045b5c0b3928f78a1857293f90485c54\", \"mlflow.source.git.commit\": \"69311029045b5c0b3928f78a1857293f90485c54\", \"azureml.git.dirty\": \"False\", \"ClientSdkVersion\": \"1.19.0\", \"snapshotId\": \"00000000-0000-0000-0000-000000000000\", \"SetupRunId\": \"AutoML_387a10e5-a092-4507-b203-d4967d0fcf1e_setup\", \"SetupRunContainerId\": \"dcid.AutoML_387a10e5-a092-4507-b203-d4967d0fcf1e_setup\", \"FeaturizationRunJsonPath\": \"featurizer_container.json\", \"FeaturizationRunId\": \"AutoML_387a10e5-a092-4507-b203-d4967d0fcf1e_featurize\", \"ProblemInfoJsonString\": \"{\\\"dataset_num_categorical\\\": 0, \\\"is_sparse\\\": true, \\\"subsampling\\\": false, \\\"dataset_classes\\\": 2, \\\"dataset_features\\\": 6971, \\\"dataset_samples\\\": 891, \\\"single_frequency_class_detected\\\": false}\", \"ModelExplainRunId\": \"AutoML_387a10e5-a092-4507-b203-d4967d0fcf1e_ModelExplain\"}, \"tags\": {\"model_explain_run\": \"best_run\", \"_aml_system_azureml.automlComponent\": \"AutoML\", \"pipeline_id\": \"\", \"score\": \"\", \"predicted_cost\": \"\", \"fit_time\": \"\", \"training_percent\": \"\", \"iteration\": \"\", \"run_preprocessor\": \"\", \"run_algorithm\": \"\", \"dynamic_whitelisting_iterations\": \"<25>;<29>;<33>;<40>;<45>;\", \"automl_best_child_run_id\": \"AutoML_387a10e5-a092-4507-b203-d4967d0fcf1e_46\", \"model_explain_best_run_child_id\": \"AutoML_387a10e5-a092-4507-b203-d4967d0fcf1e_46\"}, \"end_time_utc\": \"2021-01-11T23:31:43.120561Z\", \"status\": \"Completed\", \"log_files\": {}, \"log_groups\": [], \"run_duration\": \"0:18:11\"}, \"child_runs\": [{\"run_id\": \"AutoML_387a10e5-a092-4507-b203-d4967d0fcf1e_0\", \"run_number\": 126, \"metric\": null, \"status\": \"Completed\", \"run_type\": \"azureml.scriptrun\", \"training_percent\": \"100\", \"start_time\": \"2021-01-11T23:22:46.153099Z\", \"end_time\": \"2021-01-11T23:24:47.710094Z\", \"created_time\": \"2021-01-11T23:19:41.159485Z\", \"created_time_dt\": \"2021-01-11T23:19:41.159485Z\", \"duration\": \"0:05:06\", \"iteration\": \"0\", \"goal\": \"accuracy_max\", \"run_name\": \"MaxAbsScaler, LightGBM\", \"run_properties\": \"copy=True\", \"primary_metric\": 0.82267166, \"best_metric\": 0.82267166}, {\"run_id\": \"AutoML_387a10e5-a092-4507-b203-d4967d0fcf1e_2\", \"run_number\": 127, \"metric\": null, \"status\": \"Completed\", \"run_type\": \"azureml.scriptrun\", \"training_percent\": \"100\", \"start_time\": \"2021-01-11T23:22:42.049398Z\", \"end_time\": \"2021-01-11T23:23:22.843308Z\", \"created_time\": \"2021-01-11T23:19:41.183575Z\", \"created_time_dt\": \"2021-01-11T23:19:41.183575Z\", \"duration\": \"0:03:41\", \"iteration\": \"2\", \"goal\": \"accuracy_max\", \"run_name\": \"MaxAbsScaler, RandomForest\", \"run_properties\": \"copy=True\", \"primary_metric\": 0.79461923, \"best_metric\": 0.82267166}, {\"run_id\": \"AutoML_387a10e5-a092-4507-b203-d4967d0fcf1e_5\", \"run_number\": 128, \"metric\": null, \"status\": \"Completed\", \"run_type\": \"azureml.scriptrun\", \"training_percent\": \"100\", \"start_time\": \"2021-01-11T23:19:51.080542Z\", \"end_time\": \"2021-01-11T23:20:35.571503Z\", \"created_time\": \"2021-01-11T23:19:41.197408Z\", \"created_time_dt\": \"2021-01-11T23:19:41.197408Z\", \"duration\": \"0:00:54\", \"iteration\": \"5\", \"goal\": \"accuracy_max\", \"run_name\": \"MaxAbsScaler, RandomForest\", \"run_properties\": \"copy=True\", \"primary_metric\": 0.77440699, \"best_metric\": 0.82267166}, {\"run_id\": \"AutoML_387a10e5-a092-4507-b203-d4967d0fcf1e_7\", \"run_number\": 129, \"metric\": null, \"status\": \"Completed\", \"run_type\": \"azureml.scriptrun\", \"training_percent\": \"100\", \"start_time\": \"2021-01-11T23:20:45.86844Z\", \"end_time\": \"2021-01-11T23:21:43.741649Z\", \"created_time\": \"2021-01-11T23:19:41.200895Z\", \"created_time_dt\": \"2021-01-11T23:19:41.200895Z\", \"duration\": \"0:02:02\", \"iteration\": \"7\", \"goal\": \"accuracy_max\", \"run_name\": \"MaxAbsScaler, ExtremeRandomTrees\", \"run_properties\": \"copy=True\", \"primary_metric\": 0.79348315, \"best_metric\": 0.82267166}, {\"run_id\": \"AutoML_387a10e5-a092-4507-b203-d4967d0fcf1e_3\", \"run_number\": 130, \"metric\": null, \"status\": \"Completed\", \"run_type\": \"azureml.scriptrun\", \"training_percent\": \"100\", \"start_time\": \"2021-01-11T23:19:50.85739Z\", \"end_time\": \"2021-01-11T23:20:41.122127Z\", \"created_time\": \"2021-01-11T23:19:41.217885Z\", \"created_time_dt\": \"2021-01-11T23:19:41.217885Z\", \"duration\": \"0:00:59\", \"iteration\": \"3\", \"goal\": \"accuracy_max\", \"run_name\": \"MaxAbsScaler, RandomForest\", \"run_properties\": \"copy=True\", \"primary_metric\": 0.64860175, \"best_metric\": 0.82267166}, {\"run_id\": \"AutoML_387a10e5-a092-4507-b203-d4967d0fcf1e_1\", \"run_number\": 131, \"metric\": null, \"status\": \"Completed\", \"run_type\": \"azureml.scriptrun\", \"training_percent\": \"100\", \"start_time\": \"2021-01-11T23:20:38.774707Z\", \"end_time\": \"2021-01-11T23:21:42.2775Z\", \"created_time\": \"2021-01-11T23:19:41.583746Z\", \"created_time_dt\": \"2021-01-11T23:19:41.583746Z\", \"duration\": \"0:02:00\", \"iteration\": \"1\", \"goal\": \"accuracy_max\", \"run_name\": \"MaxAbsScaler, XGBoostClassifier\", \"run_properties\": \"copy=True\", \"primary_metric\": 0.81031211, \"best_metric\": 0.82267166}, {\"run_id\": \"AutoML_387a10e5-a092-4507-b203-d4967d0fcf1e_4\", \"run_number\": 132, \"metric\": null, \"status\": \"Completed\", \"run_type\": \"azureml.scriptrun\", \"training_percent\": \"100\", \"start_time\": \"2021-01-11T23:21:47.716451Z\", \"end_time\": \"2021-01-11T23:22:39.820619Z\", \"created_time\": \"2021-01-11T23:19:41.712219Z\", \"created_time_dt\": \"2021-01-11T23:19:41.712219Z\", \"duration\": \"0:02:58\", \"iteration\": \"4\", \"goal\": \"accuracy_max\", \"run_name\": \"MaxAbsScaler, RandomForest\", \"run_properties\": \"copy=True\", \"primary_metric\": 0.71932584, \"best_metric\": 0.82267166}, {\"run_id\": \"AutoML_387a10e5-a092-4507-b203-d4967d0fcf1e_6\", \"run_number\": 133, \"metric\": null, \"status\": \"Completed\", \"run_type\": \"azureml.scriptrun\", \"training_percent\": \"100\", \"start_time\": \"2021-01-11T23:21:48.498448Z\", \"end_time\": \"2021-01-11T23:22:36.149937Z\", \"created_time\": \"2021-01-11T23:19:41.728409Z\", \"created_time_dt\": \"2021-01-11T23:19:41.728409Z\", \"duration\": \"0:02:54\", \"iteration\": \"6\", \"goal\": \"accuracy_max\", \"run_name\": \"SparseNormalizer, XGBoostClassifier\", \"run_properties\": \"<azureml.automl.runtime.shared.model_wrappers.SparseNormalizer object at 0x7f0920a95eb8\", \"primary_metric\": 0.80917603, \"best_metric\": 0.82267166}, {\"run_id\": \"AutoML_387a10e5-a092-4507-b203-d4967d0fcf1e_8\", \"run_number\": 134, \"metric\": null, \"status\": \"Completed\", \"run_type\": \"azureml.scriptrun\", \"training_percent\": \"100\", \"start_time\": \"2021-01-11T23:22:47.264222Z\", \"end_time\": \"2021-01-11T23:23:28.151851Z\", \"created_time\": \"2021-01-11T23:19:41.213477Z\", \"created_time_dt\": \"2021-01-11T23:19:41.213477Z\", \"duration\": \"0:03:46\", \"iteration\": \"8\", \"goal\": \"accuracy_max\", \"run_name\": \"StandardScalerWrapper, LogisticRegression\", \"run_properties\": \"<azureml.automl.runtime.shared.model_wrappers.StandardScalerWrapper object at 0x7f88e4af6eb8\", \"primary_metric\": 0.79690387, \"best_metric\": 0.82267166}, {\"run_id\": \"AutoML_387a10e5-a092-4507-b203-d4967d0fcf1e_9\", \"run_number\": 135, \"metric\": null, \"status\": \"Completed\", \"run_type\": \"azureml.scriptrun\", \"training_percent\": \"100\", \"start_time\": \"2021-01-11T23:22:47.493923Z\", \"end_time\": \"2021-01-11T23:25:08.469044Z\", \"created_time\": \"2021-01-11T23:20:43.712213Z\", \"created_time_dt\": \"2021-01-11T23:20:43.712213Z\", \"duration\": \"0:04:24\", \"iteration\": \"9\", \"goal\": \"accuracy_max\", \"run_name\": \"SparseNormalizer, XGBoostClassifier\", \"run_properties\": \"<azureml.automl.runtime.shared.model_wrappers.SparseNormalizer object at 0x7f6b9412e240\", \"primary_metric\": 0.81144819, \"best_metric\": 0.82267166}, {\"run_id\": \"AutoML_387a10e5-a092-4507-b203-d4967d0fcf1e_10\", \"run_number\": 136, \"metric\": null, \"status\": \"Completed\", \"run_type\": \"azureml.scriptrun\", \"training_percent\": \"100\", \"start_time\": \"2021-01-11T23:22:48.128836Z\", \"end_time\": \"2021-01-11T23:25:17.039481Z\", \"created_time\": \"2021-01-11T23:20:50.192812Z\", \"created_time_dt\": \"2021-01-11T23:20:50.192812Z\", \"duration\": \"0:04:26\", \"iteration\": \"10\", \"goal\": \"accuracy_max\", \"run_name\": \"SparseNormalizer, XGBoostClassifier\", \"run_properties\": \"<azureml.automl.runtime.shared.model_wrappers.SparseNormalizer object at 0x7f3e551196a0\", \"primary_metric\": 0.81253433, \"best_metric\": 0.82267166}, {\"run_id\": \"AutoML_387a10e5-a092-4507-b203-d4967d0fcf1e_11\", \"run_number\": 137, \"metric\": null, \"status\": \"Completed\", \"run_type\": \"azureml.scriptrun\", \"training_percent\": \"100\", \"start_time\": \"2021-01-11T23:22:51.008133Z\", \"end_time\": \"2021-01-11T23:25:12.393718Z\", \"created_time\": \"2021-01-11T23:21:44.523291Z\", \"created_time_dt\": \"2021-01-11T23:21:44.523291Z\", \"duration\": \"0:03:27\", \"iteration\": \"11\", \"goal\": \"accuracy_max\", \"run_name\": \"SparseNormalizer, XGBoostClassifier\", \"run_properties\": \"<azureml.automl.runtime.shared.model_wrappers.SparseNormalizer object at 0x7f9a7b775cc0\", \"primary_metric\": 0.809201, \"best_metric\": 0.82267166}, {\"run_id\": \"AutoML_387a10e5-a092-4507-b203-d4967d0fcf1e_12\", \"run_number\": 138, \"metric\": null, \"status\": \"Completed\", \"run_type\": \"azureml.scriptrun\", \"training_percent\": \"100\", \"start_time\": \"2021-01-11T23:22:51.470773Z\", \"end_time\": \"2021-01-11T23:25:25.91094Z\", \"created_time\": \"2021-01-11T23:21:48.947675Z\", \"created_time_dt\": \"2021-01-11T23:21:48.947675Z\", \"duration\": \"0:03:36\", \"iteration\": \"12\", \"goal\": \"accuracy_max\", \"run_name\": \"SparseNormalizer, XGBoostClassifier\", \"run_properties\": \"<azureml.automl.runtime.shared.model_wrappers.SparseNormalizer object at 0x7f317b508748\", \"primary_metric\": 0.79792759, \"best_metric\": 0.82267166}, {\"run_id\": \"AutoML_387a10e5-a092-4507-b203-d4967d0fcf1e_13\", \"run_number\": 139, \"metric\": null, \"status\": \"Completed\", \"run_type\": \"azureml.scriptrun\", \"training_percent\": \"100\", \"start_time\": \"2021-01-11T23:22:55.080982Z\", \"end_time\": \"2021-01-11T23:25:27.025959Z\", \"created_time\": \"2021-01-11T23:22:38.407112Z\", \"created_time_dt\": \"2021-01-11T23:22:38.407112Z\", \"duration\": \"0:02:48\", \"iteration\": \"13\", \"goal\": \"accuracy_max\", \"run_name\": \"SparseNormalizer, XGBoostClassifier\", \"run_properties\": \"<azureml.automl.runtime.shared.model_wrappers.SparseNormalizer object at 0x7f35adf1df98\", \"primary_metric\": 0.80581773, \"best_metric\": 0.82267166}, {\"run_id\": \"AutoML_387a10e5-a092-4507-b203-d4967d0fcf1e_14\", \"run_number\": 140, \"metric\": null, \"status\": \"Completed\", \"run_type\": \"azureml.scriptrun\", \"training_percent\": \"100\", \"start_time\": \"2021-01-11T23:23:00.298037Z\", \"end_time\": \"2021-01-11T23:24:57.975529Z\", \"created_time\": \"2021-01-11T23:22:42.183447Z\", \"created_time_dt\": \"2021-01-11T23:22:42.183447Z\", \"duration\": \"0:02:15\", \"iteration\": \"14\", \"goal\": \"accuracy_max\", \"run_name\": \"MaxAbsScaler, LightGBM\", \"run_properties\": \"copy=True\", \"primary_metric\": 0.80917603, \"best_metric\": 0.82267166}, {\"run_id\": \"AutoML_387a10e5-a092-4507-b203-d4967d0fcf1e_15\", \"run_number\": 141, \"metric\": null, \"status\": \"Completed\", \"run_type\": \"azureml.scriptrun\", \"training_percent\": \"100\", \"start_time\": \"2021-01-11T23:23:35.226112Z\", \"end_time\": \"2021-01-11T23:24:34.370501Z\", \"created_time\": \"2021-01-11T23:23:24.973512Z\", \"created_time_dt\": \"2021-01-11T23:23:24.973512Z\", \"duration\": \"0:01:09\", \"iteration\": \"15\", \"goal\": \"accuracy_max\", \"run_name\": \"SparseNormalizer, XGBoostClassifier\", \"run_properties\": \"<azureml.automl.runtime.shared.model_wrappers.SparseNormalizer object at 0x7fcbc6329cf8\", \"primary_metric\": 0.80694132, \"best_metric\": 0.82267166}, {\"run_id\": \"AutoML_387a10e5-a092-4507-b203-d4967d0fcf1e_16\", \"run_number\": 142, \"metric\": null, \"status\": \"Completed\", \"run_type\": \"azureml.scriptrun\", \"training_percent\": \"100\", \"start_time\": \"2021-01-11T23:23:40.826137Z\", \"end_time\": \"2021-01-11T23:24:19.917506Z\", \"created_time\": \"2021-01-11T23:23:29.948067Z\", \"created_time_dt\": \"2021-01-11T23:23:29.948067Z\", \"duration\": \"0:00:49\", \"iteration\": \"16\", \"goal\": \"accuracy_max\", \"run_name\": \"SparseNormalizer, XGBoostClassifier\", \"run_properties\": \"<azureml.automl.runtime.shared.model_wrappers.SparseNormalizer object at 0x7f48d04a7080\", \"primary_metric\": 0.81818976, \"best_metric\": 0.82267166}, {\"run_id\": \"AutoML_387a10e5-a092-4507-b203-d4967d0fcf1e_17\", \"run_number\": 143, \"metric\": null, \"status\": \"Completed\", \"run_type\": \"azureml.scriptrun\", \"training_percent\": \"100\", \"start_time\": \"2021-01-11T23:24:33.022364Z\", \"end_time\": \"2021-01-11T23:25:14.804066Z\", \"created_time\": \"2021-01-11T23:24:21.771252Z\", \"created_time_dt\": \"2021-01-11T23:24:21.771252Z\", \"duration\": \"0:00:53\", \"iteration\": \"17\", \"goal\": \"accuracy_max\", \"run_name\": \"SparseNormalizer, XGBoostClassifier\", \"run_properties\": \"<azureml.automl.runtime.shared.model_wrappers.SparseNormalizer object at 0x7f32af1e9438\", \"primary_metric\": 0.78789014, \"best_metric\": 0.82267166}, {\"run_id\": \"AutoML_387a10e5-a092-4507-b203-d4967d0fcf1e_18\", \"run_number\": 144, \"metric\": null, \"status\": \"Completed\", \"run_type\": \"azureml.scriptrun\", \"training_percent\": \"100\", \"start_time\": \"2021-01-11T23:24:46.773217Z\", \"end_time\": \"2021-01-11T23:25:28.596586Z\", \"created_time\": \"2021-01-11T23:24:36.119886Z\", \"created_time_dt\": \"2021-01-11T23:24:36.119886Z\", \"duration\": \"0:00:52\", \"iteration\": \"18\", \"goal\": \"accuracy_max\", \"run_name\": \"MaxAbsScaler, LogisticRegression\", \"run_properties\": \"copy=True\", \"primary_metric\": 0.81029963, \"best_metric\": 0.82267166}, {\"run_id\": \"AutoML_387a10e5-a092-4507-b203-d4967d0fcf1e_19\", \"run_number\": 145, \"metric\": null, \"status\": \"Completed\", \"run_type\": \"azureml.scriptrun\", \"training_percent\": \"100\", \"start_time\": \"2021-01-11T23:25:03.076392Z\", \"end_time\": \"2021-01-11T23:25:44.792945Z\", \"created_time\": \"2021-01-11T23:24:53.206339Z\", \"created_time_dt\": \"2021-01-11T23:24:53.206339Z\", \"duration\": \"0:00:51\", \"iteration\": \"19\", \"goal\": \"accuracy_max\", \"run_name\": \"SparseNormalizer, LightGBM\", \"run_properties\": \"<azureml.automl.runtime.shared.model_wrappers.SparseNormalizer object at 0x7f041e7be2e8\", \"primary_metric\": 0.80357054, \"best_metric\": 0.82267166}, {\"run_id\": \"AutoML_387a10e5-a092-4507-b203-d4967d0fcf1e_20\", \"run_number\": 146, \"metric\": null, \"status\": \"Completed\", \"run_type\": \"azureml.scriptrun\", \"training_percent\": \"100\", \"start_time\": \"2021-01-11T23:25:12.058722Z\", \"end_time\": \"2021-01-11T23:26:34.603891Z\", \"created_time\": \"2021-01-11T23:24:59.633691Z\", \"created_time_dt\": \"2021-01-11T23:24:59.633691Z\", \"duration\": \"0:01:34\", \"iteration\": \"20\", \"goal\": \"accuracy_max\", \"run_name\": \"MaxAbsScaler, LogisticRegression\", \"run_properties\": \"copy=True\", \"primary_metric\": 0.80468165, \"best_metric\": 0.82267166}, {\"run_id\": \"AutoML_387a10e5-a092-4507-b203-d4967d0fcf1e_21\", \"run_number\": 147, \"metric\": null, \"status\": \"Completed\", \"run_type\": \"azureml.scriptrun\", \"training_percent\": \"100\", \"start_time\": \"2021-01-11T23:25:20.403068Z\", \"end_time\": \"2021-01-11T23:26:45.580057Z\", \"created_time\": \"2021-01-11T23:25:10.468778Z\", \"created_time_dt\": \"2021-01-11T23:25:10.468778Z\", \"duration\": \"0:01:35\", \"iteration\": \"21\", \"goal\": \"accuracy_max\", \"run_name\": \"SparseNormalizer, XGBoostClassifier\", \"run_properties\": \"<azureml.automl.runtime.shared.model_wrappers.SparseNormalizer object at 0x7f0b371315c0\", \"primary_metric\": 0.80806492, \"best_metric\": 0.82267166}, {\"run_id\": \"AutoML_387a10e5-a092-4507-b203-d4967d0fcf1e_22\", \"run_number\": 148, \"metric\": null, \"status\": \"Completed\", \"run_type\": \"azureml.scriptrun\", \"training_percent\": \"100\", \"start_time\": \"2021-01-11T23:25:26.994856Z\", \"end_time\": \"2021-01-11T23:26:35.782685Z\", \"created_time\": \"2021-01-11T23:25:14.026687Z\", \"created_time_dt\": \"2021-01-11T23:25:14.026687Z\", \"duration\": \"0:01:21\", \"iteration\": \"22\", \"goal\": \"accuracy_max\", \"run_name\": \"MaxAbsScaler, ExtremeRandomTrees\", \"run_properties\": \"copy=True\", \"primary_metric\": 0.78787765, \"best_metric\": 0.82267166}, {\"run_id\": \"AutoML_387a10e5-a092-4507-b203-d4967d0fcf1e_23\", \"run_number\": 149, \"metric\": null, \"status\": \"Completed\", \"run_type\": \"azureml.scriptrun\", \"training_percent\": \"100\", \"start_time\": \"2021-01-11T23:25:28.936657Z\", \"end_time\": \"2021-01-11T23:26:20.193297Z\", \"created_time\": \"2021-01-11T23:25:17.809353Z\", \"created_time_dt\": \"2021-01-11T23:25:17.809353Z\", \"duration\": \"0:01:02\", \"iteration\": \"23\", \"goal\": \"accuracy_max\", \"run_name\": \"MaxAbsScaler, LightGBM\", \"run_properties\": \"copy=True\", \"primary_metric\": 0.80244694, \"best_metric\": 0.82267166}, {\"run_id\": \"AutoML_387a10e5-a092-4507-b203-d4967d0fcf1e_24\", \"run_number\": 150, \"metric\": null, \"status\": \"Completed\", \"run_type\": \"azureml.scriptrun\", \"training_percent\": \"100\", \"start_time\": \"2021-01-11T23:25:31.880331Z\", \"end_time\": \"2021-01-11T23:26:14.129758Z\", \"created_time\": \"2021-01-11T23:25:20.638194Z\", \"created_time_dt\": \"2021-01-11T23:25:20.638194Z\", \"duration\": \"0:00:53\", \"iteration\": \"24\", \"goal\": \"accuracy_max\", \"run_name\": \"MaxAbsScaler, LightGBM\", \"run_properties\": \"copy=True\", \"primary_metric\": 0.79451935, \"best_metric\": 0.82267166}, {\"run_id\": \"AutoML_387a10e5-a092-4507-b203-d4967d0fcf1e_25\", \"run_number\": 151, \"metric\": null, \"status\": \"Completed\", \"run_type\": \"azureml.scriptrun\", \"training_percent\": \"100\", \"start_time\": \"2021-01-11T23:25:38.082285Z\", \"end_time\": \"2021-01-11T23:26:14.297729Z\", \"created_time\": \"2021-01-11T23:25:28.643458Z\", \"created_time_dt\": \"2021-01-11T23:25:28.643458Z\", \"duration\": \"0:00:45\", \"iteration\": \"25\", \"goal\": \"accuracy_max\", \"run_name\": \"StandardScalerWrapper, LightGBM\", \"run_properties\": \"<azureml.automl.runtime.shared.model_wrappers.StandardScalerWrapper object at 0x7fd63f2eba90\", \"primary_metric\": 0.61610487, \"best_metric\": 0.82267166}, {\"run_id\": \"AutoML_387a10e5-a092-4507-b203-d4967d0fcf1e_27\", \"run_number\": 152, \"metric\": null, \"status\": \"Completed\", \"run_type\": \"azureml.scriptrun\", \"training_percent\": \"100\", \"start_time\": \"2021-01-11T23:25:41.890801Z\", \"end_time\": \"2021-01-11T23:26:38.704886Z\", \"created_time\": \"2021-01-11T23:25:31.439917Z\", \"created_time_dt\": \"2021-01-11T23:25:31.439917Z\", \"duration\": \"0:01:07\", \"iteration\": \"27\", \"goal\": \"accuracy_max\", \"run_name\": \"SparseNormalizer, XGBoostClassifier\", \"run_properties\": \"<azureml.automl.runtime.shared.model_wrappers.SparseNormalizer object at 0x7f09b013df60\", \"primary_metric\": 0.80245943, \"best_metric\": 0.82267166}, {\"run_id\": \"AutoML_387a10e5-a092-4507-b203-d4967d0fcf1e_26\", \"run_number\": 153, \"metric\": null, \"status\": \"Completed\", \"run_type\": \"azureml.scriptrun\", \"training_percent\": \"100\", \"start_time\": \"2021-01-11T23:25:43.958743Z\", \"end_time\": \"2021-01-11T23:26:38.422176Z\", \"created_time\": \"2021-01-11T23:25:31.456972Z\", \"created_time_dt\": \"2021-01-11T23:25:31.456972Z\", \"duration\": \"0:01:06\", \"iteration\": \"26\", \"goal\": \"accuracy_max\", \"run_name\": \"TruncatedSVDWrapper, XGBoostClassifier\", \"run_properties\": \"n_components=0.3563157894736842, random_state=None\", \"primary_metric\": 0.80244694, \"best_metric\": 0.82267166}, {\"run_id\": \"AutoML_387a10e5-a092-4507-b203-d4967d0fcf1e_28\", \"run_number\": 154, \"metric\": null, \"status\": \"Completed\", \"run_type\": \"azureml.scriptrun\", \"training_percent\": \"100\", \"start_time\": \"2021-01-11T23:25:58.001439Z\", \"end_time\": \"2021-01-11T23:26:38.254552Z\", \"created_time\": \"2021-01-11T23:25:46.568811Z\", \"created_time_dt\": \"2021-01-11T23:25:46.568811Z\", \"duration\": \"0:00:51\", \"iteration\": \"28\", \"goal\": \"accuracy_max\", \"run_name\": \"StandardScalerWrapper, ExtremeRandomTrees\", \"run_properties\": \"<azureml.automl.runtime.shared.model_wrappers.StandardScalerWrapper object at 0x7f5be07cd9b0\", \"primary_metric\": 0.7923221, \"best_metric\": 0.82267166}, {\"run_id\": \"AutoML_387a10e5-a092-4507-b203-d4967d0fcf1e_29\", \"run_number\": 155, \"metric\": null, \"status\": \"Completed\", \"run_type\": \"azureml.scriptrun\", \"training_percent\": \"100\", \"start_time\": \"2021-01-11T23:26:29.13157Z\", \"end_time\": \"2021-01-11T23:27:23.075335Z\", \"created_time\": \"2021-01-11T23:26:16.988635Z\", \"created_time_dt\": \"2021-01-11T23:26:16.988635Z\", \"duration\": \"0:01:06\", \"iteration\": \"29\", \"goal\": \"accuracy_max\", \"run_name\": \"SparseNormalizer, LightGBM\", \"run_properties\": \"<azureml.automl.runtime.shared.model_wrappers.SparseNormalizer object at 0x7f27744da940\", \"primary_metric\": 0.79122347, \"best_metric\": 0.82267166}, {\"run_id\": \"AutoML_387a10e5-a092-4507-b203-d4967d0fcf1e_30\", \"run_number\": 156, \"metric\": null, \"status\": \"Completed\", \"run_type\": \"azureml.scriptrun\", \"training_percent\": \"100\", \"start_time\": \"2021-01-11T23:26:29.283776Z\", \"end_time\": \"2021-01-11T23:27:17.990392Z\", \"created_time\": \"2021-01-11T23:26:17.058448Z\", \"created_time_dt\": \"2021-01-11T23:26:17.058448Z\", \"duration\": \"0:01:00\", \"iteration\": \"30\", \"goal\": \"accuracy_max\", \"run_name\": \"SparseNormalizer, ExtremeRandomTrees\", \"run_properties\": \"<azureml.automl.runtime.shared.model_wrappers.SparseNormalizer object at 0x7f74f4dbdd30\", \"primary_metric\": 0.79126092, \"best_metric\": 0.82267166}, {\"run_id\": \"AutoML_387a10e5-a092-4507-b203-d4967d0fcf1e_31\", \"run_number\": 157, \"metric\": null, \"status\": \"Completed\", \"run_type\": \"azureml.scriptrun\", \"training_percent\": \"100\", \"start_time\": \"2021-01-11T23:26:34.313024Z\", \"end_time\": \"2021-01-11T23:27:57.992591Z\", \"created_time\": \"2021-01-11T23:26:22.403486Z\", \"created_time_dt\": \"2021-01-11T23:26:22.403486Z\", \"duration\": \"0:01:35\", \"iteration\": \"31\", \"goal\": \"accuracy_max\", \"run_name\": \"MaxAbsScaler, ExtremeRandomTrees\", \"run_properties\": \"copy=True\", \"primary_metric\": 0.80915106, \"best_metric\": 0.82267166}, {\"run_id\": \"AutoML_387a10e5-a092-4507-b203-d4967d0fcf1e_32\", \"run_number\": 158, \"metric\": null, \"status\": \"Completed\", \"run_type\": \"azureml.scriptrun\", \"training_percent\": \"100\", \"start_time\": \"2021-01-11T23:26:48.573972Z\", \"end_time\": \"2021-01-11T23:27:34.121979Z\", \"created_time\": \"2021-01-11T23:26:36.710513Z\", \"created_time_dt\": \"2021-01-11T23:26:36.710513Z\", \"duration\": \"0:00:57\", \"iteration\": \"32\", \"goal\": \"accuracy_max\", \"run_name\": \"StandardScalerWrapper, RandomForest\", \"run_properties\": \"<azureml.automl.runtime.shared.model_wrappers.StandardScalerWrapper object at 0x7faac03d02b0\", \"primary_metric\": 0.77665418, \"best_metric\": 0.82267166}, {\"run_id\": \"AutoML_387a10e5-a092-4507-b203-d4967d0fcf1e_33\", \"run_number\": 159, \"metric\": null, \"status\": \"Completed\", \"run_type\": \"azureml.scriptrun\", \"training_percent\": \"100\", \"start_time\": \"2021-01-11T23:26:50.681985Z\", \"end_time\": \"2021-01-11T23:27:29.726926Z\", \"created_time\": \"2021-01-11T23:26:40.998058Z\", \"created_time_dt\": \"2021-01-11T23:26:40.998058Z\", \"duration\": \"0:00:48\", \"iteration\": \"33\", \"goal\": \"accuracy_max\", \"run_name\": \"MaxAbsScaler, LightGBM\", \"run_properties\": \"copy=True\", \"primary_metric\": 0.81818976, \"best_metric\": 0.82267166}, {\"run_id\": \"AutoML_387a10e5-a092-4507-b203-d4967d0fcf1e_34\", \"run_number\": 160, \"metric\": null, \"status\": \"Completed\", \"run_type\": \"azureml.scriptrun\", \"training_percent\": \"100\", \"start_time\": \"2021-01-11T23:26:51.392574Z\", \"end_time\": \"2021-01-11T23:27:54.319503Z\", \"created_time\": \"2021-01-11T23:26:41.010005Z\", \"created_time_dt\": \"2021-01-11T23:26:41.010005Z\", \"duration\": \"0:01:13\", \"iteration\": \"34\", \"goal\": \"accuracy_max\", \"run_name\": \"SparseNormalizer, XGBoostClassifier\", \"run_properties\": \"<azureml.automl.runtime.shared.model_wrappers.SparseNormalizer object at 0x7fe35f300d30\", \"primary_metric\": 0.81028714, \"best_metric\": 0.82267166}, {\"run_id\": \"AutoML_387a10e5-a092-4507-b203-d4967d0fcf1e_35\", \"run_number\": 161, \"metric\": null, \"status\": \"Completed\", \"run_type\": \"azureml.scriptrun\", \"training_percent\": \"100\", \"start_time\": \"2021-01-11T23:26:52.655227Z\", \"end_time\": \"2021-01-11T23:28:37.462393Z\", \"created_time\": \"2021-01-11T23:26:41.066215Z\", \"created_time_dt\": \"2021-01-11T23:26:41.066215Z\", \"duration\": \"0:01:56\", \"iteration\": \"35\", \"goal\": \"accuracy_max\", \"run_name\": \"SparseNormalizer, XGBoostClassifier\", \"run_properties\": \"<azureml.automl.runtime.shared.model_wrappers.SparseNormalizer object at 0x7f11fd40dc50\", \"primary_metric\": 0.81367041, \"best_metric\": 0.82267166}, {\"run_id\": \"AutoML_387a10e5-a092-4507-b203-d4967d0fcf1e_36\", \"run_number\": 162, \"metric\": null, \"status\": \"Completed\", \"run_type\": \"azureml.scriptrun\", \"training_percent\": \"100\", \"start_time\": \"2021-01-11T23:26:57.313199Z\", \"end_time\": \"2021-01-11T23:28:13.002152Z\", \"created_time\": \"2021-01-11T23:26:45.516692Z\", \"created_time_dt\": \"2021-01-11T23:26:45.516692Z\", \"duration\": \"0:01:27\", \"iteration\": \"36\", \"goal\": \"accuracy_max\", \"run_name\": \"SparseNormalizer, XGBoostClassifier\", \"run_properties\": \"<azureml.automl.runtime.shared.model_wrappers.SparseNormalizer object at 0x7f9448420400\", \"primary_metric\": 0.79684145, \"best_metric\": 0.82267166}, {\"run_id\": \"AutoML_387a10e5-a092-4507-b203-d4967d0fcf1e_37\", \"run_number\": 163, \"metric\": null, \"status\": \"Canceled\", \"run_type\": \"azureml.scriptrun\", \"training_percent\": \"100\", \"start_time\": \"2021-01-11T23:27:01.936984Z\", \"end_time\": \"2021-01-11T23:28:43.344803Z\", \"created_time\": \"2021-01-11T23:26:49.643912Z\", \"created_time_dt\": \"2021-01-11T23:26:49.643912Z\", \"duration\": \"0:01:53\", \"iteration\": \"37\", \"goal\": null, \"run_name\": \"SparseNormalizer, XGBoostClassifier\", \"run_properties\": null}, {\"run_id\": \"AutoML_387a10e5-a092-4507-b203-d4967d0fcf1e_38\", \"run_number\": 164, \"metric\": null, \"status\": \"Canceled\", \"run_type\": \"azureml.scriptrun\", \"training_percent\": \"100\", \"start_time\": \"2021-01-11T23:27:32.742741Z\", \"end_time\": \"2021-01-11T23:28:45.394579Z\", \"created_time\": \"2021-01-11T23:27:19.75634Z\", \"created_time_dt\": \"2021-01-11T23:27:19.75634Z\", \"duration\": \"0:01:25\", \"iteration\": \"38\", \"goal\": \"accuracy_max\", \"run_name\": \"SparseNormalizer, XGBoostClassifier\", \"run_properties\": \"<azureml.automl.runtime.shared.model_wrappers.SparseNormalizer object at 0x7fea6ce3b978\", \"primary_metric\": 0.80468165, \"best_metric\": 0.82267166}, {\"run_id\": \"AutoML_387a10e5-a092-4507-b203-d4967d0fcf1e_39\", \"run_number\": 165, \"metric\": null, \"status\": \"Completed\", \"run_type\": \"azureml.scriptrun\", \"training_percent\": \"100\", \"start_time\": \"2021-01-11T23:27:36.271603Z\", \"end_time\": \"2021-01-11T23:28:18.384246Z\", \"created_time\": \"2021-01-11T23:27:24.651283Z\", \"created_time_dt\": \"2021-01-11T23:27:24.651283Z\", \"duration\": \"0:00:53\", \"iteration\": \"39\", \"goal\": \"accuracy_max\", \"run_name\": \"MaxAbsScaler, LogisticRegression\", \"run_properties\": \"copy=True\", \"primary_metric\": 0.80131086, \"best_metric\": 0.82267166}, {\"run_id\": \"AutoML_387a10e5-a092-4507-b203-d4967d0fcf1e_40\", \"run_number\": 166, \"metric\": null, \"status\": \"Canceled\", \"run_type\": \"azureml.scriptrun\", \"training_percent\": \"100\", \"start_time\": \"2021-01-11T23:27:45.151802Z\", \"end_time\": \"2021-01-11T23:28:44.713081Z\", \"created_time\": \"2021-01-11T23:27:32.527945Z\", \"created_time_dt\": \"2021-01-11T23:27:32.527945Z\", \"duration\": \"0:01:12\", \"iteration\": \"40\", \"goal\": \"accuracy_max\", \"run_name\": \"TruncatedSVDWrapper, LightGBM\", \"run_properties\": \"n_components=0.95, random_state=None\", \"primary_metric\": 0.79240949, \"best_metric\": 0.82267166}, {\"run_id\": \"AutoML_387a10e5-a092-4507-b203-d4967d0fcf1e_41\", \"run_number\": 167, \"metric\": null, \"status\": \"Completed\", \"run_type\": \"azureml.scriptrun\", \"training_percent\": \"100\", \"start_time\": \"2021-01-11T23:27:46.889074Z\", \"end_time\": \"2021-01-11T23:28:36.528453Z\", \"created_time\": \"2021-01-11T23:27:35.95709Z\", \"created_time_dt\": \"2021-01-11T23:27:35.95709Z\", \"duration\": \"0:01:00\", \"iteration\": \"41\", \"goal\": \"accuracy_max\", \"run_name\": \"StandardScalerWrapper, XGBoostClassifier\", \"run_properties\": \"<azureml.automl.runtime.shared.model_wrappers.StandardScalerWrapper object at 0x7f7487e033c8\", \"primary_metric\": 0.81927591, \"best_metric\": 0.82267166}, {\"run_id\": \"AutoML_387a10e5-a092-4507-b203-d4967d0fcf1e_42\", \"run_number\": 168, \"metric\": null, \"status\": \"Canceled\", \"run_type\": \"azureml.scriptrun\", \"training_percent\": \"100\", \"start_time\": \"2021-01-11T23:28:09.282055Z\", \"end_time\": \"2021-01-11T23:28:46.061861Z\", \"created_time\": \"2021-01-11T23:27:56.503749Z\", \"created_time_dt\": \"2021-01-11T23:27:56.503749Z\", \"duration\": \"0:00:49\", \"iteration\": \"42\", \"goal\": \"accuracy_max\", \"run_name\": \"StandardScalerWrapper, XGBoostClassifier\", \"run_properties\": \"<azureml.automl.runtime.shared.model_wrappers.StandardScalerWrapper object at 0x7efe2945c048\", \"primary_metric\": 0.76657928, \"best_metric\": 0.82267166}, {\"run_id\": \"AutoML_387a10e5-a092-4507-b203-d4967d0fcf1e_43\", \"run_number\": 169, \"metric\": null, \"status\": \"Canceled\", \"run_type\": \"azureml.scriptrun\", \"training_percent\": \"100\", \"start_time\": \"2021-01-11T23:28:13.40104Z\", \"end_time\": \"2021-01-11T23:28:45.362511Z\", \"created_time\": \"2021-01-11T23:28:00.828391Z\", \"created_time_dt\": \"2021-01-11T23:28:00.828391Z\", \"duration\": \"0:00:44\", \"iteration\": \"43\", \"goal\": \"accuracy_max\", \"run_name\": \"MaxAbsScaler, GradientBoosting\", \"run_properties\": \"copy=True\", \"primary_metric\": 0.81143571, \"best_metric\": 0.82267166}, {\"run_id\": \"AutoML_387a10e5-a092-4507-b203-d4967d0fcf1e_44\", \"run_number\": 170, \"metric\": null, \"status\": \"Canceled\", \"run_type\": \"azureml.scriptrun\", \"training_percent\": \"100\", \"start_time\": \"2021-01-11T23:28:24.699551Z\", \"end_time\": \"2021-01-11T23:28:43.610947Z\", \"created_time\": \"2021-01-11T23:28:14.527351Z\", \"created_time_dt\": \"2021-01-11T23:28:14.527351Z\", \"duration\": \"0:00:29\", \"iteration\": \"44\", \"goal\": null, \"run_name\": \"Canceled\", \"run_properties\": null}, {\"run_id\": \"AutoML_387a10e5-a092-4507-b203-d4967d0fcf1e_45\", \"run_number\": 171, \"metric\": null, \"status\": \"Canceled\", \"run_type\": \"azureml.scriptrun\", \"training_percent\": \"100\", \"start_time\": \"2021-01-11T23:28:34.364917Z\", \"end_time\": \"2021-01-11T23:28:44.131982Z\", \"created_time\": \"2021-01-11T23:28:21.100931Z\", \"created_time_dt\": \"2021-01-11T23:28:21.100931Z\", \"duration\": \"0:00:23\", \"iteration\": \"45\", \"goal\": null, \"run_name\": \"Canceled\", \"run_properties\": null}, {\"run_id\": \"AutoML_387a10e5-a092-4507-b203-d4967d0fcf1e_46\", \"run_number\": 172, \"metric\": null, \"status\": \"Completed\", \"run_type\": \"azureml.scriptrun\", \"training_percent\": \"100\", \"start_time\": \"2021-01-11T23:29:34.301176Z\", \"end_time\": \"2021-01-11T23:31:29.256746Z\", \"created_time\": \"2021-01-11T23:28:52.49147Z\", \"created_time_dt\": \"2021-01-11T23:28:52.49147Z\", \"duration\": \"0:02:36\", \"iteration\": \"46\", \"goal\": \"accuracy_max\", \"run_name\": \"VotingEnsemble\", \"run_properties\": \"classification_labels=None,\\n                              estimators=[('0',\\n                                           Pipeline(memory=None,\\n                                                    steps=[('maxabsscaler',\\n                                                            MaxAbsScaler(copy=True\", \"primary_metric\": 0.8372784, \"best_metric\": 0.8372784}, {\"run_id\": \"AutoML_387a10e5-a092-4507-b203-d4967d0fcf1e_47\", \"run_number\": 173, \"metric\": null, \"status\": \"Completed\", \"run_type\": \"azureml.scriptrun\", \"training_percent\": \"100\", \"start_time\": \"2021-01-11T23:29:35.25476Z\", \"end_time\": \"2021-01-11T23:31:28.845189Z\", \"created_time\": \"2021-01-11T23:28:52.565308Z\", \"created_time_dt\": \"2021-01-11T23:28:52.565308Z\", \"duration\": \"0:02:36\", \"iteration\": \"47\", \"goal\": \"accuracy_max\", \"run_name\": \"StackEnsemble\", \"run_properties\": \"base_learners=[('0',\\n                                        Pipeline(memory=None,\\n                                                 steps=[('maxabsscaler',\\n                                                         MaxAbsScaler(copy=True\", \"primary_metric\": 0.83053683, \"best_metric\": 0.8372784}], \"children_metrics\": {\"categories\": [0], \"series\": {\"f1_score_micro\": [{\"categories\": [\"0\", \"1\", \"2\", \"3\", \"4\", \"5\", \"6\", \"7\", \"8\", \"9\", \"10\", \"11\", \"12\", \"13\", \"14\", \"15\", \"16\", \"17\", \"18\", \"19\", \"20\", \"21\", \"22\", \"23\", \"24\", \"25\", \"26\", \"27\", \"28\", \"29\", \"30\", \"31\", \"32\", \"33\", \"34\", \"35\", \"36\", \"38\", \"39\", \"40\", \"41\", \"42\", \"43\", \"46\", \"47\"], \"mode\": \"markers\", \"name\": \"f1_score_micro\", \"stepped\": false, \"type\": \"scatter\", \"data\": [0.8226716604244695, 0.8103121098626715, 0.7946192259675405, 0.6486017478152311, 0.7193258426966294, 0.7744069912609237, 0.8091760299625468, 0.7934831460674158, 0.796903870162297, 0.8114481897627964, 0.8125343320848938, 0.8092009987515606, 0.7979275905118601, 0.8058177278401997, 0.8091760299625467, 0.8069413233458178, 0.8181897627965042, 0.7878901373283396, 0.8102996254681647, 0.8035705368289637, 0.804681647940075, 0.8080649188514357, 0.7878776529338327, 0.8024469413233458, 0.7945193508114856, 0.6161048689138577, 0.8024469413233458, 0.8024594257178526, 0.7923220973782772, 0.791223470661673, 0.7912609238451935, 0.8091510611735331, 0.7766541822721599, 0.8181897627965042, 0.810287141073658, 0.8136704119850187, 0.7968414481897627, 0.804681647940075, 0.8013108614232209, 0.7924094881398251, 0.8192759051186018, 0.7665792759051187, 0.8114357053682897, 0.837278401997503, 0.8305368289637952]}, {\"categories\": [\"0\", \"1\", \"2\", \"3\", \"4\", \"5\", \"6\", \"7\", \"8\", \"9\", \"10\", \"11\", \"12\", \"13\", \"14\", \"15\", \"16\", \"17\", \"18\", \"19\", \"20\", \"21\", \"22\", \"23\", \"24\", \"25\", \"26\", \"27\", \"28\", \"29\", \"30\", \"31\", \"32\", \"33\", \"34\", \"35\", \"36\", \"38\", \"39\", \"40\", \"41\", \"42\", \"43\", \"46\", \"47\"], \"mode\": \"lines\", \"name\": \"f1_score_micro_max\", \"stepped\": true, \"type\": \"scatter\", \"data\": [0.8226716604244695, 0.8226716604244695, 0.8226716604244695, 0.8226716604244695, 0.8226716604244695, 0.8226716604244695, 0.8226716604244695, 0.8226716604244695, 0.8226716604244695, 0.8226716604244695, 0.8226716604244695, 0.8226716604244695, 0.8226716604244695, 0.8226716604244695, 0.8226716604244695, 0.8226716604244695, 0.8226716604244695, 0.8226716604244695, 0.8226716604244695, 0.8226716604244695, 0.8226716604244695, 0.8226716604244695, 0.8226716604244695, 0.8226716604244695, 0.8226716604244695, 0.8226716604244695, 0.8226716604244695, 0.8226716604244695, 0.8226716604244695, 0.8226716604244695, 0.8226716604244695, 0.8226716604244695, 0.8226716604244695, 0.8226716604244695, 0.8226716604244695, 0.8226716604244695, 0.8226716604244695, 0.8226716604244695, 0.8226716604244695, 0.8226716604244695, 0.8226716604244695, 0.8226716604244695, 0.8226716604244695, 0.837278401997503, 0.837278401997503]}], \"balanced_accuracy\": [{\"categories\": [\"0\", \"1\", \"2\", \"3\", \"4\", \"5\", \"6\", \"7\", \"8\", \"9\", \"10\", \"11\", \"12\", \"13\", \"14\", \"15\", \"16\", \"17\", \"18\", \"19\", \"20\", \"21\", \"22\", \"23\", \"24\", \"25\", \"26\", \"27\", \"28\", \"29\", \"30\", \"31\", \"32\", \"33\", \"34\", \"35\", \"36\", \"38\", \"39\", \"40\", \"41\", \"42\", \"43\", \"46\", \"47\"], \"mode\": \"markers\", \"name\": \"balanced_accuracy\", \"stepped\": false, \"type\": \"scatter\", \"data\": [0.8034269223219136, 0.788019929269227, 0.7784367221298973, 0.5464940518728761, 0.7222866247260106, 0.7650904174017443, 0.7837109217041831, 0.784755497781562, 0.7946457721931411, 0.7862755607652815, 0.7916349184535554, 0.783476637521521, 0.7774138014837528, 0.7847523429066758, 0.7873598743819489, 0.7851796877437172, 0.794065984012203, 0.7762330181233125, 0.7916287217044389, 0.7811242203728227, 0.7859662165590116, 0.7843083205454924, 0.7746861784959617, 0.7808709609634139, 0.7540510823512504, 0.5, 0.7751691390277295, 0.780466355899043, 0.7731915663179526, 0.7770393864974795, 0.7853983718952872, 0.7777979831950402, 0.7730377469596483, 0.7973675355627525, 0.7887343838546029, 0.7915556882702857, 0.7720769593329255, 0.7822513445286899, 0.7837283155164505, 0.7634733210254339, 0.8058179124747188, 0.7663419390725508, 0.7916448757611816, 0.8169233345709991, 0.8086029712279496]}, {\"categories\": [\"0\", \"1\", \"2\", \"3\", \"4\", \"5\", \"6\", \"7\", \"8\", \"9\", \"10\", \"11\", \"12\", \"13\", \"14\", \"15\", \"16\", \"17\", \"18\", \"19\", \"20\", \"21\", \"22\", \"23\", \"24\", \"25\", \"26\", \"27\", \"28\", \"29\", \"30\", \"31\", \"32\", \"33\", \"34\", \"35\", \"36\", \"38\", \"39\", \"40\", \"41\", \"42\", \"43\", \"46\", \"47\"], \"mode\": \"lines\", \"name\": \"balanced_accuracy_max\", \"stepped\": true, \"type\": \"scatter\", \"data\": [0.8034269223219136, 0.8034269223219136, 0.8034269223219136, 0.8034269223219136, 0.8034269223219136, 0.8034269223219136, 0.8034269223219136, 0.8034269223219136, 0.8034269223219136, 0.8034269223219136, 0.8034269223219136, 0.8034269223219136, 0.8034269223219136, 0.8034269223219136, 0.8034269223219136, 0.8034269223219136, 0.8034269223219136, 0.8034269223219136, 0.8034269223219136, 0.8034269223219136, 0.8034269223219136, 0.8034269223219136, 0.8034269223219136, 0.8034269223219136, 0.8034269223219136, 0.8034269223219136, 0.8034269223219136, 0.8034269223219136, 0.8034269223219136, 0.8034269223219136, 0.8034269223219136, 0.8034269223219136, 0.8034269223219136, 0.8034269223219136, 0.8034269223219136, 0.8034269223219136, 0.8034269223219136, 0.8034269223219136, 0.8034269223219136, 0.8034269223219136, 0.8058179124747188, 0.8058179124747188, 0.8058179124747188, 0.8169233345709991, 0.8169233345709991]}], \"f1_score_macro\": [{\"categories\": [\"0\", \"1\", \"2\", \"3\", \"4\", \"5\", \"6\", \"7\", \"8\", \"9\", \"10\", \"11\", \"12\", \"13\", \"14\", \"15\", \"16\", \"17\", \"18\", \"19\", \"20\", \"21\", \"22\", \"23\", \"24\", \"25\", \"26\", \"27\", \"28\", \"29\", \"30\", \"31\", \"32\", \"33\", \"34\", \"35\", \"36\", \"38\", \"39\", \"40\", \"41\", \"42\", \"43\", \"46\", \"47\"], \"mode\": \"markers\", \"name\": \"f1_score_macro\", \"stepped\": false, \"type\": \"scatter\", \"data\": [0.806610992798257, 0.7914717505129815, 0.7785895303136641, 0.471697343185142, 0.6977121976454776, 0.7606887670425795, 0.7887108782613762, 0.7806465633103438, 0.785852786745863, 0.7910436767110391, 0.7949279630144719, 0.7882575666975492, 0.7790493668046123, 0.7870013967673476, 0.7908350717746073, 0.7885115522154235, 0.798817347743802, 0.7738017935692606, 0.7933714766716966, 0.7837185543398337, 0.7873485513440289, 0.7886353855604341, 0.7726322893714392, 0.7838712819125403, 0.7618332527903559, 0.38055584981125273, 0.7805006487573218, 0.7833440647451094, 0.7742794980504892, 0.775832961567432, 0.7795638017642246, 0.7857511488070579, 0.765689626756236, 0.8004170251018792, 0.7916228352042971, 0.7947002052918725, 0.775570994914211, 0.7848040155344315, 0.7844765549822402, 0.7685787644971858, 0.8051267472238306, 0.75527807578299, 0.7943742505404092, 0.8211268150697931, 0.8130968947500149]}, {\"categories\": [\"0\", \"1\", \"2\", \"3\", \"4\", \"5\", \"6\", \"7\", \"8\", \"9\", \"10\", \"11\", \"12\", \"13\", \"14\", \"15\", \"16\", \"17\", \"18\", \"19\", \"20\", \"21\", \"22\", \"23\", \"24\", \"25\", \"26\", \"27\", \"28\", \"29\", \"30\", \"31\", \"32\", \"33\", \"34\", \"35\", \"36\", \"38\", \"39\", \"40\", \"41\", \"42\", \"43\", \"46\", \"47\"], \"mode\": \"lines\", \"name\": \"f1_score_macro_max\", \"stepped\": true, \"type\": \"scatter\", \"data\": [0.806610992798257, 0.806610992798257, 0.806610992798257, 0.806610992798257, 0.806610992798257, 0.806610992798257, 0.806610992798257, 0.806610992798257, 0.806610992798257, 0.806610992798257, 0.806610992798257, 0.806610992798257, 0.806610992798257, 0.806610992798257, 0.806610992798257, 0.806610992798257, 0.806610992798257, 0.806610992798257, 0.806610992798257, 0.806610992798257, 0.806610992798257, 0.806610992798257, 0.806610992798257, 0.806610992798257, 0.806610992798257, 0.806610992798257, 0.806610992798257, 0.806610992798257, 0.806610992798257, 0.806610992798257, 0.806610992798257, 0.806610992798257, 0.806610992798257, 0.806610992798257, 0.806610992798257, 0.806610992798257, 0.806610992798257, 0.806610992798257, 0.806610992798257, 0.806610992798257, 0.806610992798257, 0.806610992798257, 0.806610992798257, 0.8211268150697931, 0.8211268150697931]}], \"average_precision_score_weighted\": [{\"categories\": [\"0\", \"1\", \"2\", \"3\", \"4\", \"5\", \"6\", \"7\", \"8\", \"9\", \"10\", \"11\", \"12\", \"13\", \"14\", \"15\", \"16\", \"17\", \"18\", \"19\", \"20\", \"21\", \"22\", \"23\", \"24\", \"25\", \"26\", \"27\", \"28\", \"29\", \"30\", \"31\", \"32\", \"33\", \"34\", \"35\", \"36\", \"38\", \"39\", \"40\", \"41\", \"42\", \"43\", \"46\", \"47\"], \"mode\": \"markers\", \"name\": \"average_precision_score_weighted\", \"stepped\": false, \"type\": \"scatter\", \"data\": [0.8471088847546036, 0.8611033593366635, 0.8359709054991133, 0.7742925377067194, 0.7602235798679899, 0.8217768383056301, 0.8595857854143473, 0.8301934813231415, 0.8576970098576245, 0.8506696404476617, 0.8558520730970243, 0.8521923552608996, 0.8491929759817152, 0.844793690547972, 0.8628336730283136, 0.8524184491782669, 0.8547830404441505, 0.8303413049245909, 0.851224336319326, 0.8507010626188481, 0.8466294504753437, 0.8423642169274688, 0.8363238601088738, 0.8672175287622885, 0.8462726709225981, 0.8317931987048641, 0.8363301151683176, 0.8585994077821597, 0.8378611976338737, 0.8514690333105284, 0.833719752569497, 0.8418644220239011, 0.8512953983904883, 0.864390155782609, 0.8509370674246828, 0.845230630335504, 0.8469719113297375, 0.8532267207464924, 0.845785421021963, 0.8336731429015307, 0.8649176486998753, 0.8275465534925981, 0.8620021352581544, 0.8695494453166276, 0.8688091819449923]}, {\"categories\": [\"0\", \"1\", \"2\", \"3\", \"4\", \"5\", \"6\", \"7\", \"8\", \"9\", \"10\", \"11\", \"12\", \"13\", \"14\", \"15\", \"16\", \"17\", \"18\", \"19\", \"20\", \"21\", \"22\", \"23\", \"24\", \"25\", \"26\", \"27\", \"28\", \"29\", \"30\", \"31\", \"32\", \"33\", \"34\", \"35\", \"36\", \"38\", \"39\", \"40\", \"41\", \"42\", \"43\", \"46\", \"47\"], \"mode\": \"lines\", \"name\": \"average_precision_score_weighted_max\", \"stepped\": true, \"type\": \"scatter\", \"data\": [0.8471088847546036, 0.8611033593366635, 0.8611033593366635, 0.8611033593366635, 0.8611033593366635, 0.8611033593366635, 0.8611033593366635, 0.8611033593366635, 0.8611033593366635, 0.8611033593366635, 0.8611033593366635, 0.8611033593366635, 0.8611033593366635, 0.8611033593366635, 0.8628336730283136, 0.8628336730283136, 0.8628336730283136, 0.8628336730283136, 0.8628336730283136, 0.8628336730283136, 0.8628336730283136, 0.8628336730283136, 0.8628336730283136, 0.8672175287622885, 0.8672175287622885, 0.8672175287622885, 0.8672175287622885, 0.8672175287622885, 0.8672175287622885, 0.8672175287622885, 0.8672175287622885, 0.8672175287622885, 0.8672175287622885, 0.8672175287622885, 0.8672175287622885, 0.8672175287622885, 0.8672175287622885, 0.8672175287622885, 0.8672175287622885, 0.8672175287622885, 0.8672175287622885, 0.8672175287622885, 0.8672175287622885, 0.8695494453166276, 0.8695494453166276]}], \"f1_score_weighted\": [{\"categories\": [\"0\", \"1\", \"2\", \"3\", \"4\", \"5\", \"6\", \"7\", \"8\", \"9\", \"10\", \"11\", \"12\", \"13\", \"14\", \"15\", \"16\", \"17\", \"18\", \"19\", \"20\", \"21\", \"22\", \"23\", \"24\", \"25\", \"26\", \"27\", \"28\", \"29\", \"30\", \"31\", \"32\", \"33\", \"34\", \"35\", \"36\", \"38\", \"39\", \"40\", \"41\", \"42\", \"43\", \"46\", \"47\"], \"mode\": \"markers\", \"name\": \"f1_score_weighted\", \"stepped\": false, \"type\": \"scatter\", \"data\": [0.8210996782814632, 0.8078113114849879, 0.7938478889988999, 0.5463955307413715, 0.7108127719719131, 0.7754160478494112, 0.8055572993870331, 0.7944340463097401, 0.7981184873012819, 0.8071923063300938, 0.8103131447382349, 0.8055388304696773, 0.7953120978882022, 0.803197883574257, 0.8064041330991334, 0.804566224951377, 0.8145321677756623, 0.7884049378589204, 0.8084559185106057, 0.8004215536623747, 0.802898752474072, 0.8051460587312708, 0.7878904983653359, 0.8005042574225156, 0.7827758562066933, 0.47109803820520985, 0.7978599343396134, 0.7999512841419956, 0.7906189258035161, 0.7909585537937894, 0.792623108760818, 0.8037160651694009, 0.7788965682465852, 0.8154123676831609, 0.8075226253137636, 0.810569979921538, 0.793218195974846, 0.8013455033986153, 0.7999718805837304, 0.787551070953758, 0.8182329445157528, 0.767878169653548, 0.810028623606874, 0.834936618983359, 0.827715181891497]}, {\"categories\": [\"0\", \"1\", \"2\", \"3\", \"4\", \"5\", \"6\", \"7\", \"8\", \"9\", \"10\", \"11\", \"12\", \"13\", \"14\", \"15\", \"16\", \"17\", \"18\", \"19\", \"20\", \"21\", \"22\", \"23\", \"24\", \"25\", \"26\", \"27\", \"28\", \"29\", \"30\", \"31\", \"32\", \"33\", \"34\", \"35\", \"36\", \"38\", \"39\", \"40\", \"41\", \"42\", \"43\", \"46\", \"47\"], \"mode\": \"lines\", \"name\": \"f1_score_weighted_max\", \"stepped\": true, \"type\": \"scatter\", \"data\": [0.8210996782814632, 0.8210996782814632, 0.8210996782814632, 0.8210996782814632, 0.8210996782814632, 0.8210996782814632, 0.8210996782814632, 0.8210996782814632, 0.8210996782814632, 0.8210996782814632, 0.8210996782814632, 0.8210996782814632, 0.8210996782814632, 0.8210996782814632, 0.8210996782814632, 0.8210996782814632, 0.8210996782814632, 0.8210996782814632, 0.8210996782814632, 0.8210996782814632, 0.8210996782814632, 0.8210996782814632, 0.8210996782814632, 0.8210996782814632, 0.8210996782814632, 0.8210996782814632, 0.8210996782814632, 0.8210996782814632, 0.8210996782814632, 0.8210996782814632, 0.8210996782814632, 0.8210996782814632, 0.8210996782814632, 0.8210996782814632, 0.8210996782814632, 0.8210996782814632, 0.8210996782814632, 0.8210996782814632, 0.8210996782814632, 0.8210996782814632, 0.8210996782814632, 0.8210996782814632, 0.8210996782814632, 0.834936618983359, 0.834936618983359]}], \"precision_score_macro\": [{\"categories\": [\"0\", \"1\", \"2\", \"3\", \"4\", \"5\", \"6\", \"7\", \"8\", \"9\", \"10\", \"11\", \"12\", \"13\", \"14\", \"15\", \"16\", \"17\", \"18\", \"19\", \"20\", \"21\", \"22\", \"23\", \"24\", \"25\", \"26\", \"27\", \"28\", \"29\", \"30\", \"31\", \"32\", \"33\", \"34\", \"35\", \"36\", \"38\", \"39\", \"40\", \"41\", \"42\", \"43\", \"46\", \"47\"], \"mode\": \"markers\", \"name\": \"precision_score_macro\", \"stepped\": false, \"type\": \"scatter\", \"data\": [0.815104961598912, 0.8029206702232392, 0.7868553650837243, 0.5029833144252368, 0.7281108734750312, 0.7636878339564863, 0.8063937712309363, 0.7814493055493505, 0.787948917116254, 0.8125837587408988, 0.8061492928617051, 0.805296053723454, 0.7915472312037122, 0.8004991893151985, 0.8048710539747477, 0.8000823122956856, 0.8198574679765009, 0.7774648150728368, 0.8029457321565395, 0.7990227687092857, 0.7967698820587145, 0.8033245347383694, 0.7776617800074482, 0.7944602272887323, 0.8153713016231021, 0.30805243445692887, 0.8010154006099552, 0.7949966174409211, 0.7826014100201268, 0.7797265318491584, 0.781017917578683, 0.8110245670302385, 0.7644878743188296, 0.8144982923315928, 0.8050339701326953, 0.8097893713648145, 0.7911306831794358, 0.8004008380402338, 0.7914782334396645, 0.7884170987644078, 0.8121010120355672, 0.7634358538986336, 0.8011150523256892, 0.8358312873003125, 0.8290806103530685]}, {\"categories\": [\"0\", \"1\", \"2\", \"3\", \"4\", \"5\", \"6\", \"7\", \"8\", \"9\", \"10\", \"11\", \"12\", \"13\", \"14\", \"15\", \"16\", \"17\", \"18\", \"19\", \"20\", \"21\", \"22\", \"23\", \"24\", \"25\", \"26\", \"27\", \"28\", \"29\", \"30\", \"31\", \"32\", \"33\", \"34\", \"35\", \"36\", \"38\", \"39\", \"40\", \"41\", \"42\", \"43\", \"46\", \"47\"], \"mode\": \"lines\", \"name\": \"precision_score_macro_max\", \"stepped\": true, \"type\": \"scatter\", \"data\": [0.815104961598912, 0.815104961598912, 0.815104961598912, 0.815104961598912, 0.815104961598912, 0.815104961598912, 0.815104961598912, 0.815104961598912, 0.815104961598912, 0.815104961598912, 0.815104961598912, 0.815104961598912, 0.815104961598912, 0.815104961598912, 0.815104961598912, 0.815104961598912, 0.8198574679765009, 0.8198574679765009, 0.8198574679765009, 0.8198574679765009, 0.8198574679765009, 0.8198574679765009, 0.8198574679765009, 0.8198574679765009, 0.8198574679765009, 0.8198574679765009, 0.8198574679765009, 0.8198574679765009, 0.8198574679765009, 0.8198574679765009, 0.8198574679765009, 0.8198574679765009, 0.8198574679765009, 0.8198574679765009, 0.8198574679765009, 0.8198574679765009, 0.8198574679765009, 0.8198574679765009, 0.8198574679765009, 0.8198574679765009, 0.8198574679765009, 0.8198574679765009, 0.8198574679765009, 0.8358312873003125, 0.8358312873003125]}], \"recall_score_macro\": [{\"categories\": [\"0\", \"1\", \"2\", \"3\", \"4\", \"5\", \"6\", \"7\", \"8\", \"9\", \"10\", \"11\", \"12\", \"13\", \"14\", \"15\", \"16\", \"17\", \"18\", \"19\", \"20\", \"21\", \"22\", \"23\", \"24\", \"25\", \"26\", \"27\", \"28\", \"29\", \"30\", \"31\", \"32\", \"33\", \"34\", \"35\", \"36\", \"38\", \"39\", \"40\", \"41\", \"42\", \"43\", \"46\", \"47\"], \"mode\": \"markers\", \"name\": \"recall_score_macro\", \"stepped\": false, \"type\": \"scatter\", \"data\": [0.8034269223219136, 0.788019929269227, 0.7784367221298973, 0.5464940518728761, 0.7222866247260106, 0.7650904174017443, 0.7837109217041831, 0.784755497781562, 0.7946457721931411, 0.7862755607652815, 0.7916349184535554, 0.783476637521521, 0.7774138014837528, 0.7847523429066758, 0.7873598743819489, 0.7851796877437172, 0.794065984012203, 0.7762330181233125, 0.7916287217044389, 0.7811242203728227, 0.7859662165590116, 0.7843083205454924, 0.7746861784959617, 0.7808709609634139, 0.7540510823512504, 0.5, 0.7751691390277295, 0.780466355899043, 0.7731915663179526, 0.7770393864974795, 0.7853983718952872, 0.7777979831950402, 0.7730377469596483, 0.7973675355627525, 0.7887343838546029, 0.7915556882702857, 0.7720769593329255, 0.7822513445286899, 0.7837283155164505, 0.7634733210254339, 0.8058179124747188, 0.7663419390725508, 0.7916448757611816, 0.8169233345709991, 0.8086029712279496]}, {\"categories\": [\"0\", \"1\", \"2\", \"3\", \"4\", \"5\", \"6\", \"7\", \"8\", \"9\", \"10\", \"11\", \"12\", \"13\", \"14\", \"15\", \"16\", \"17\", \"18\", \"19\", \"20\", \"21\", \"22\", \"23\", \"24\", \"25\", \"26\", \"27\", \"28\", \"29\", \"30\", \"31\", \"32\", \"33\", \"34\", \"35\", \"36\", \"38\", \"39\", \"40\", \"41\", \"42\", \"43\", \"46\", \"47\"], \"mode\": \"lines\", \"name\": \"recall_score_macro_max\", \"stepped\": true, \"type\": \"scatter\", \"data\": [0.8034269223219136, 0.8034269223219136, 0.8034269223219136, 0.8034269223219136, 0.8034269223219136, 0.8034269223219136, 0.8034269223219136, 0.8034269223219136, 0.8034269223219136, 0.8034269223219136, 0.8034269223219136, 0.8034269223219136, 0.8034269223219136, 0.8034269223219136, 0.8034269223219136, 0.8034269223219136, 0.8034269223219136, 0.8034269223219136, 0.8034269223219136, 0.8034269223219136, 0.8034269223219136, 0.8034269223219136, 0.8034269223219136, 0.8034269223219136, 0.8034269223219136, 0.8034269223219136, 0.8034269223219136, 0.8034269223219136, 0.8034269223219136, 0.8034269223219136, 0.8034269223219136, 0.8034269223219136, 0.8034269223219136, 0.8034269223219136, 0.8034269223219136, 0.8034269223219136, 0.8034269223219136, 0.8034269223219136, 0.8034269223219136, 0.8034269223219136, 0.8058179124747188, 0.8058179124747188, 0.8058179124747188, 0.8169233345709991, 0.8169233345709991]}], \"AUC_macro\": [{\"categories\": [\"0\", \"1\", \"2\", \"3\", \"4\", \"5\", \"6\", \"7\", \"8\", \"9\", \"10\", \"11\", \"12\", \"13\", \"14\", \"15\", \"16\", \"17\", \"18\", \"19\", \"20\", \"21\", \"22\", \"23\", \"24\", \"25\", \"26\", \"27\", \"28\", \"29\", \"30\", \"31\", \"32\", \"33\", \"34\", \"35\", \"36\", \"38\", \"39\", \"40\", \"41\", \"42\", \"43\", \"46\", \"47\"], \"mode\": \"markers\", \"name\": \"AUC_macro\", \"stepped\": false, \"type\": \"scatter\", \"data\": [0.8483799494780955, 0.8600749162497359, 0.8362942727859519, 0.7876055329255751, 0.7744384572160655, 0.820187505737438, 0.8546035782230419, 0.8268203456778294, 0.8537243687804772, 0.8569797204749955, 0.8547522070155635, 0.8512441781698696, 0.8455161435914059, 0.8445140902414927, 0.8615998208616176, 0.8507909183249291, 0.855783972794276, 0.8435263321504192, 0.8474693360340501, 0.8510948175794363, 0.8430977910061787, 0.8431090158707703, 0.8403088104731197, 0.860186831149392, 0.8523529664758873, 0.8311639011200171, 0.8320060299496028, 0.8537868794057232, 0.8409513891123718, 0.8467994101371717, 0.8328212533386546, 0.8463560698678678, 0.8441117824086858, 0.8662469465813297, 0.8481018598383452, 0.8426730082421136, 0.8470051607117537, 0.849929699294622, 0.8418577884842474, 0.8320669290290722, 0.8652547286509215, 0.8352780691462005, 0.8580143580927222, 0.8697160923107813, 0.8683456653990842]}, {\"categories\": [\"0\", \"1\", \"2\", \"3\", \"4\", \"5\", \"6\", \"7\", \"8\", \"9\", \"10\", \"11\", \"12\", \"13\", \"14\", \"15\", \"16\", \"17\", \"18\", \"19\", \"20\", \"21\", \"22\", \"23\", \"24\", \"25\", \"26\", \"27\", \"28\", \"29\", \"30\", \"31\", \"32\", \"33\", \"34\", \"35\", \"36\", \"38\", \"39\", \"40\", \"41\", \"42\", \"43\", \"46\", \"47\"], \"mode\": \"lines\", \"name\": \"AUC_macro_max\", \"stepped\": true, \"type\": \"scatter\", \"data\": [0.8483799494780955, 0.8600749162497359, 0.8600749162497359, 0.8600749162497359, 0.8600749162497359, 0.8600749162497359, 0.8600749162497359, 0.8600749162497359, 0.8600749162497359, 0.8600749162497359, 0.8600749162497359, 0.8600749162497359, 0.8600749162497359, 0.8600749162497359, 0.8615998208616176, 0.8615998208616176, 0.8615998208616176, 0.8615998208616176, 0.8615998208616176, 0.8615998208616176, 0.8615998208616176, 0.8615998208616176, 0.8615998208616176, 0.8615998208616176, 0.8615998208616176, 0.8615998208616176, 0.8615998208616176, 0.8615998208616176, 0.8615998208616176, 0.8615998208616176, 0.8615998208616176, 0.8615998208616176, 0.8615998208616176, 0.8662469465813297, 0.8662469465813297, 0.8662469465813297, 0.8662469465813297, 0.8662469465813297, 0.8662469465813297, 0.8662469465813297, 0.8662469465813297, 0.8662469465813297, 0.8662469465813297, 0.8697160923107813, 0.8697160923107813]}], \"norm_macro_recall\": [{\"categories\": [\"0\", \"1\", \"2\", \"3\", \"4\", \"5\", \"6\", \"7\", \"8\", \"9\", \"10\", \"11\", \"12\", \"13\", \"14\", \"15\", \"16\", \"17\", \"18\", \"19\", \"20\", \"21\", \"22\", \"23\", \"24\", \"25\", \"26\", \"27\", \"28\", \"29\", \"30\", \"31\", \"32\", \"33\", \"34\", \"35\", \"36\", \"38\", \"39\", \"40\", \"41\", \"42\", \"43\", \"46\", \"47\"], \"mode\": \"markers\", \"name\": \"norm_macro_recall\", \"stepped\": false, \"type\": \"scatter\", \"data\": [0.6068538446438272, 0.5760398585384541, 0.5568734442597947, 0.09298810374575242, 0.44457324945202126, 0.5301808348034888, 0.5674218434083664, 0.5695109955631239, 0.5892915443862823, 0.5725511215305631, 0.5832698369071109, 0.5669532750430418, 0.5548276029675059, 0.5695046858133516, 0.5747197487638979, 0.5703593754874341, 0.5881319680244059, 0.5524660362466249, 0.5832574434088776, 0.5622484407456455, 0.571932433118023, 0.5686166410909845, 0.5493723569919231, 0.5617419219268277, 0.5081021647025008, 0.0, 0.5503382780554589, 0.5609327117980859, 0.5463831326359052, 0.554078772994959, 0.5707967437905743, 0.5555959663900802, 0.5460754939192967, 0.594735071125505, 0.5774687677092061, 0.5831113765405718, 0.5441539186658509, 0.56450268905738, 0.5674566310329008, 0.5269466420508679, 0.6116358249494376, 0.5326838781451014, 0.5832897515223634, 0.633846669141998, 0.6172059424558992]}, {\"categories\": [\"0\", \"1\", \"2\", \"3\", \"4\", \"5\", \"6\", \"7\", \"8\", \"9\", \"10\", \"11\", \"12\", \"13\", \"14\", \"15\", \"16\", \"17\", \"18\", \"19\", \"20\", \"21\", \"22\", \"23\", \"24\", \"25\", \"26\", \"27\", \"28\", \"29\", \"30\", \"31\", \"32\", \"33\", \"34\", \"35\", \"36\", \"38\", \"39\", \"40\", \"41\", \"42\", \"43\", \"46\", \"47\"], \"mode\": \"lines\", \"name\": \"norm_macro_recall_max\", \"stepped\": true, \"type\": \"scatter\", \"data\": [0.6068538446438272, 0.6068538446438272, 0.6068538446438272, 0.6068538446438272, 0.6068538446438272, 0.6068538446438272, 0.6068538446438272, 0.6068538446438272, 0.6068538446438272, 0.6068538446438272, 0.6068538446438272, 0.6068538446438272, 0.6068538446438272, 0.6068538446438272, 0.6068538446438272, 0.6068538446438272, 0.6068538446438272, 0.6068538446438272, 0.6068538446438272, 0.6068538446438272, 0.6068538446438272, 0.6068538446438272, 0.6068538446438272, 0.6068538446438272, 0.6068538446438272, 0.6068538446438272, 0.6068538446438272, 0.6068538446438272, 0.6068538446438272, 0.6068538446438272, 0.6068538446438272, 0.6068538446438272, 0.6068538446438272, 0.6068538446438272, 0.6068538446438272, 0.6068538446438272, 0.6068538446438272, 0.6068538446438272, 0.6068538446438272, 0.6068538446438272, 0.6116358249494376, 0.6116358249494376, 0.6116358249494376, 0.633846669141998, 0.633846669141998]}], \"AUC_weighted\": [{\"categories\": [\"0\", \"1\", \"2\", \"3\", \"4\", \"5\", \"6\", \"7\", \"8\", \"9\", \"10\", \"11\", \"12\", \"13\", \"14\", \"15\", \"16\", \"17\", \"18\", \"19\", \"20\", \"21\", \"22\", \"23\", \"24\", \"25\", \"26\", \"27\", \"28\", \"29\", \"30\", \"31\", \"32\", \"33\", \"34\", \"35\", \"36\", \"38\", \"39\", \"40\", \"41\", \"42\", \"43\", \"46\", \"47\"], \"mode\": \"markers\", \"name\": \"AUC_weighted\", \"stepped\": false, \"type\": \"scatter\", \"data\": [0.8483799494780955, 0.8600749162497359, 0.8362942727859519, 0.7876055329255752, 0.7744384572160655, 0.820187505737438, 0.8546035782230419, 0.8268203456778294, 0.8537243687804772, 0.8569797204749955, 0.8547522070155635, 0.8512441781698696, 0.8455161435914059, 0.8445140902414927, 0.8615998208616176, 0.8507909183249291, 0.855783972794276, 0.8435263321504192, 0.8474693360340501, 0.8510948175794362, 0.8430977910061787, 0.84310901587077, 0.8403088104731198, 0.8601868311493922, 0.8523529664758873, 0.8311639011200167, 0.8320060299496028, 0.8537868794057231, 0.8409513891123718, 0.8467994101371719, 0.8328212533386546, 0.8463560698678678, 0.8441117824086856, 0.8662469465813297, 0.8481018598383452, 0.8426730082421136, 0.8470051607117537, 0.8499296992946219, 0.8418577884842474, 0.8320669290290722, 0.8652547286509215, 0.8352780691462005, 0.8580143580927221, 0.8697160923107813, 0.868345665399084]}, {\"categories\": [\"0\", \"1\", \"2\", \"3\", \"4\", \"5\", \"6\", \"7\", \"8\", \"9\", \"10\", \"11\", \"12\", \"13\", \"14\", \"15\", \"16\", \"17\", \"18\", \"19\", \"20\", \"21\", \"22\", \"23\", \"24\", \"25\", \"26\", \"27\", \"28\", \"29\", \"30\", \"31\", \"32\", \"33\", \"34\", \"35\", \"36\", \"38\", \"39\", \"40\", \"41\", \"42\", \"43\", \"46\", \"47\"], \"mode\": \"lines\", \"name\": \"AUC_weighted_max\", \"stepped\": true, \"type\": \"scatter\", \"data\": [0.8483799494780955, 0.8600749162497359, 0.8600749162497359, 0.8600749162497359, 0.8600749162497359, 0.8600749162497359, 0.8600749162497359, 0.8600749162497359, 0.8600749162497359, 0.8600749162497359, 0.8600749162497359, 0.8600749162497359, 0.8600749162497359, 0.8600749162497359, 0.8615998208616176, 0.8615998208616176, 0.8615998208616176, 0.8615998208616176, 0.8615998208616176, 0.8615998208616176, 0.8615998208616176, 0.8615998208616176, 0.8615998208616176, 0.8615998208616176, 0.8615998208616176, 0.8615998208616176, 0.8615998208616176, 0.8615998208616176, 0.8615998208616176, 0.8615998208616176, 0.8615998208616176, 0.8615998208616176, 0.8615998208616176, 0.8662469465813297, 0.8662469465813297, 0.8662469465813297, 0.8662469465813297, 0.8662469465813297, 0.8662469465813297, 0.8662469465813297, 0.8662469465813297, 0.8662469465813297, 0.8662469465813297, 0.8697160923107813, 0.8697160923107813]}], \"accuracy\": [{\"categories\": [\"0\", \"1\", \"2\", \"3\", \"4\", \"5\", \"6\", \"7\", \"8\", \"9\", \"10\", \"11\", \"12\", \"13\", \"14\", \"15\", \"16\", \"17\", \"18\", \"19\", \"20\", \"21\", \"22\", \"23\", \"24\", \"25\", \"26\", \"27\", \"28\", \"29\", \"30\", \"31\", \"32\", \"33\", \"34\", \"35\", \"36\", \"38\", \"39\", \"40\", \"41\", \"42\", \"43\", \"46\", \"47\"], \"mode\": \"markers\", \"name\": \"accuracy\", \"stepped\": false, \"type\": \"scatter\", \"data\": [0.8226716604244695, 0.8103121098626715, 0.7946192259675404, 0.6486017478152311, 0.7193258426966294, 0.7744069912609237, 0.8091760299625468, 0.7934831460674158, 0.796903870162297, 0.8114481897627966, 0.8125343320848938, 0.8092009987515606, 0.7979275905118601, 0.8058177278401997, 0.8091760299625468, 0.8069413233458178, 0.8181897627965045, 0.7878901373283396, 0.8102996254681647, 0.8035705368289637, 0.8046816479400748, 0.8080649188514357, 0.7878776529338327, 0.8024469413233458, 0.7945193508114856, 0.6161048689138577, 0.8024469413233458, 0.8024594257178526, 0.7923220973782772, 0.791223470661673, 0.7912609238451935, 0.8091510611735331, 0.7766541822721599, 0.8181897627965042, 0.8102871410736577, 0.8136704119850187, 0.7968414481897627, 0.8046816479400748, 0.8013108614232209, 0.7924094881398251, 0.8192759051186018, 0.7665792759051185, 0.8114357053682897, 0.837278401997503, 0.8305368289637952]}, {\"categories\": [\"0\", \"1\", \"2\", \"3\", \"4\", \"5\", \"6\", \"7\", \"8\", \"9\", \"10\", \"11\", \"12\", \"13\", \"14\", \"15\", \"16\", \"17\", \"18\", \"19\", \"20\", \"21\", \"22\", \"23\", \"24\", \"25\", \"26\", \"27\", \"28\", \"29\", \"30\", \"31\", \"32\", \"33\", \"34\", \"35\", \"36\", \"38\", \"39\", \"40\", \"41\", \"42\", \"43\", \"46\", \"47\"], \"mode\": \"lines\", \"name\": \"accuracy_max\", \"stepped\": true, \"type\": \"scatter\", \"data\": [0.8226716604244695, 0.8226716604244695, 0.8226716604244695, 0.8226716604244695, 0.8226716604244695, 0.8226716604244695, 0.8226716604244695, 0.8226716604244695, 0.8226716604244695, 0.8226716604244695, 0.8226716604244695, 0.8226716604244695, 0.8226716604244695, 0.8226716604244695, 0.8226716604244695, 0.8226716604244695, 0.8226716604244695, 0.8226716604244695, 0.8226716604244695, 0.8226716604244695, 0.8226716604244695, 0.8226716604244695, 0.8226716604244695, 0.8226716604244695, 0.8226716604244695, 0.8226716604244695, 0.8226716604244695, 0.8226716604244695, 0.8226716604244695, 0.8226716604244695, 0.8226716604244695, 0.8226716604244695, 0.8226716604244695, 0.8226716604244695, 0.8226716604244695, 0.8226716604244695, 0.8226716604244695, 0.8226716604244695, 0.8226716604244695, 0.8226716604244695, 0.8226716604244695, 0.8226716604244695, 0.8226716604244695, 0.837278401997503, 0.837278401997503]}], \"average_precision_score_macro\": [{\"categories\": [\"0\", \"1\", \"2\", \"3\", \"4\", \"5\", \"6\", \"7\", \"8\", \"9\", \"10\", \"11\", \"12\", \"13\", \"14\", \"15\", \"16\", \"17\", \"18\", \"19\", \"20\", \"21\", \"22\", \"23\", \"24\", \"25\", \"26\", \"27\", \"28\", \"29\", \"30\", \"31\", \"32\", \"33\", \"34\", \"35\", \"36\", \"38\", \"39\", \"40\", \"41\", \"42\", \"43\", \"46\", \"47\"], \"mode\": \"markers\", \"name\": \"average_precision_score_macro\", \"stepped\": false, \"type\": \"scatter\", \"data\": [0.8379638518089463, 0.8514237299995164, 0.818025247833489, 0.7556692753974114, 0.7375159840924814, 0.804038537657062, 0.8521146494679528, 0.8150153837219758, 0.8475539579092972, 0.8419872784507799, 0.8480207118917041, 0.8468197387412353, 0.8405043997108381, 0.83769747484353, 0.855330241780327, 0.844181103942234, 0.8454883747370131, 0.8190155720591598, 0.8415877156106605, 0.8440724105386639, 0.8361618032870723, 0.8345143353955236, 0.8296405113728701, 0.8588983135068231, 0.8370119879784024, 0.8158935532911222, 0.8247768568026664, 0.8499530070137704, 0.8316601557273182, 0.8424477662823167, 0.8181919129128901, 0.8364833989578265, 0.8405842915684689, 0.8575572661365453, 0.8429727898571201, 0.8384704148118047, 0.840039196279694, 0.8457130731220188, 0.8355351864276178, 0.8184085120058769, 0.8560142665319106, 0.8150985844441136, 0.85234328327281, 0.8624108019548358, 0.8612900918492897]}, {\"categories\": [\"0\", \"1\", \"2\", \"3\", \"4\", \"5\", \"6\", \"7\", \"8\", \"9\", \"10\", \"11\", \"12\", \"13\", \"14\", \"15\", \"16\", \"17\", \"18\", \"19\", \"20\", \"21\", \"22\", \"23\", \"24\", \"25\", \"26\", \"27\", \"28\", \"29\", \"30\", \"31\", \"32\", \"33\", \"34\", \"35\", \"36\", \"38\", \"39\", \"40\", \"41\", \"42\", \"43\", \"46\", \"47\"], \"mode\": \"lines\", \"name\": \"average_precision_score_macro_max\", \"stepped\": true, \"type\": \"scatter\", \"data\": [0.8379638518089463, 0.8514237299995164, 0.8514237299995164, 0.8514237299995164, 0.8514237299995164, 0.8514237299995164, 0.8521146494679528, 0.8521146494679528, 0.8521146494679528, 0.8521146494679528, 0.8521146494679528, 0.8521146494679528, 0.8521146494679528, 0.8521146494679528, 0.855330241780327, 0.855330241780327, 0.855330241780327, 0.855330241780327, 0.855330241780327, 0.855330241780327, 0.855330241780327, 0.855330241780327, 0.855330241780327, 0.8588983135068231, 0.8588983135068231, 0.8588983135068231, 0.8588983135068231, 0.8588983135068231, 0.8588983135068231, 0.8588983135068231, 0.8588983135068231, 0.8588983135068231, 0.8588983135068231, 0.8588983135068231, 0.8588983135068231, 0.8588983135068231, 0.8588983135068231, 0.8588983135068231, 0.8588983135068231, 0.8588983135068231, 0.8588983135068231, 0.8588983135068231, 0.8588983135068231, 0.8624108019548358, 0.8624108019548358]}], \"average_precision_score_micro\": [{\"categories\": [\"0\", \"1\", \"2\", \"3\", \"4\", \"5\", \"6\", \"7\", \"8\", \"9\", \"10\", \"11\", \"12\", \"13\", \"14\", \"15\", \"16\", \"17\", \"18\", \"19\", \"20\", \"21\", \"22\", \"23\", \"24\", \"25\", \"26\", \"27\", \"28\", \"29\", \"30\", \"31\", \"32\", \"33\", \"34\", \"35\", \"36\", \"38\", \"39\", \"40\", \"41\", \"42\", \"43\", \"46\", \"47\"], \"mode\": \"markers\", \"name\": \"average_precision_score_micro\", \"stepped\": false, \"type\": \"scatter\", \"data\": [0.8461595511174709, 0.8558675633375803, 0.8351570603614087, 0.7478327880640009, 0.7351360669923755, 0.8107144909917814, 0.8606176148512035, 0.8087068011672581, 0.8536081289134904, 0.8583921948949271, 0.8530392826111516, 0.8643068422007912, 0.8490040544716371, 0.8464943171831448, 0.8568002091113991, 0.8531668978861784, 0.8560828738319415, 0.8428928116406738, 0.8470762050998891, 0.8451658263680919, 0.8444652875473674, 0.8436118362488905, 0.8345760220345125, 0.8567814296715823, 0.839439822941246, 0.7743929713014432, 0.8316730105699948, 0.85735112329687, 0.8412838207206506, 0.8467374468940324, 0.8193849421041894, 0.8484920430042274, 0.8365846532771328, 0.8624187466954438, 0.8520543325449598, 0.8491948005111356, 0.8513225098188888, 0.8553821526888722, 0.8433883456061242, 0.8323217517478412, 0.8631712284969468, 0.8396702099750174, 0.8612172467941821, 0.8695446315488115, 0.8664775026033181]}, {\"categories\": [\"0\", \"1\", \"2\", \"3\", \"4\", \"5\", \"6\", \"7\", \"8\", \"9\", \"10\", \"11\", \"12\", \"13\", \"14\", \"15\", \"16\", \"17\", \"18\", \"19\", \"20\", \"21\", \"22\", \"23\", \"24\", \"25\", \"26\", \"27\", \"28\", \"29\", \"30\", \"31\", \"32\", \"33\", \"34\", \"35\", \"36\", \"38\", \"39\", \"40\", \"41\", \"42\", \"43\", \"46\", \"47\"], \"mode\": \"lines\", \"name\": \"average_precision_score_micro_max\", \"stepped\": true, \"type\": \"scatter\", \"data\": [0.8461595511174709, 0.8558675633375803, 0.8558675633375803, 0.8558675633375803, 0.8558675633375803, 0.8558675633375803, 0.8606176148512035, 0.8606176148512035, 0.8606176148512035, 0.8606176148512035, 0.8606176148512035, 0.8643068422007912, 0.8643068422007912, 0.8643068422007912, 0.8643068422007912, 0.8643068422007912, 0.8643068422007912, 0.8643068422007912, 0.8643068422007912, 0.8643068422007912, 0.8643068422007912, 0.8643068422007912, 0.8643068422007912, 0.8643068422007912, 0.8643068422007912, 0.8643068422007912, 0.8643068422007912, 0.8643068422007912, 0.8643068422007912, 0.8643068422007912, 0.8643068422007912, 0.8643068422007912, 0.8643068422007912, 0.8643068422007912, 0.8643068422007912, 0.8643068422007912, 0.8643068422007912, 0.8643068422007912, 0.8643068422007912, 0.8643068422007912, 0.8643068422007912, 0.8643068422007912, 0.8643068422007912, 0.8695446315488115, 0.8695446315488115]}], \"log_loss\": [{\"categories\": [\"0\", \"1\", \"2\", \"3\", \"4\", \"5\", \"6\", \"7\", \"8\", \"9\", \"10\", \"11\", \"12\", \"13\", \"14\", \"15\", \"16\", \"17\", \"18\", \"19\", \"20\", \"21\", \"22\", \"23\", \"24\", \"25\", \"26\", \"27\", \"28\", \"29\", \"30\", \"31\", \"32\", \"33\", \"34\", \"35\", \"36\", \"38\", \"39\", \"40\", \"41\", \"42\", \"43\", \"46\", \"47\"], \"mode\": \"markers\", \"name\": \"log_loss\", \"stepped\": false, \"type\": \"scatter\", \"data\": [0.5617422357556074, 0.44408379912619395, 0.502084798330875, 0.6132128116043657, 0.6806926888740485, 0.548531340773413, 0.43699396634269505, 0.6574446434606951, 0.4971712535955005, 0.4458590211077307, 0.45938149012739293, 0.43854501720878386, 0.4693351424590417, 0.4790282197264581, 0.45284736584173624, 0.4485063160798098, 0.47868510205067183, 0.5023694333382585, 0.5515162507419535, 0.4439379010196787, 0.7114770942812434, 0.4814478462562537, 0.4456491836229314, 0.4619247753318253, 0.5008817188634007, 0.6420352273650392, 0.4938442029186394, 0.4513704601573975, 0.44472136820353325, 0.45579716941858966, 0.5028394608980344, 0.43545718865208205, 0.4965702189563082, 0.4265289383192224, 0.4608901132817856, 0.48606384614710835, 0.4853859590301333, 0.4665310726329114, 0.7136630027967089, 0.49776921690944664, 0.48803842944027187, 0.5318632679470835, 0.444277219992218, 0.42198705046403245, 0.4238969917788019]}, {\"categories\": [\"0\", \"1\", \"2\", \"3\", \"4\", \"5\", \"6\", \"7\", \"8\", \"9\", \"10\", \"11\", \"12\", \"13\", \"14\", \"15\", \"16\", \"17\", \"18\", \"19\", \"20\", \"21\", \"22\", \"23\", \"24\", \"25\", \"26\", \"27\", \"28\", \"29\", \"30\", \"31\", \"32\", \"33\", \"34\", \"35\", \"36\", \"38\", \"39\", \"40\", \"41\", \"42\", \"43\", \"46\", \"47\"], \"mode\": \"lines\", \"name\": \"log_loss_min\", \"stepped\": true, \"type\": \"scatter\", \"data\": [0.5617422357556074, 0.44408379912619395, 0.44408379912619395, 0.44408379912619395, 0.44408379912619395, 0.44408379912619395, 0.43699396634269505, 0.43699396634269505, 0.43699396634269505, 0.43699396634269505, 0.43699396634269505, 0.43699396634269505, 0.43699396634269505, 0.43699396634269505, 0.43699396634269505, 0.43699396634269505, 0.43699396634269505, 0.43699396634269505, 0.43699396634269505, 0.43699396634269505, 0.43699396634269505, 0.43699396634269505, 0.43699396634269505, 0.43699396634269505, 0.43699396634269505, 0.43699396634269505, 0.43699396634269505, 0.43699396634269505, 0.43699396634269505, 0.43699396634269505, 0.43699396634269505, 0.43545718865208205, 0.43545718865208205, 0.4265289383192224, 0.4265289383192224, 0.4265289383192224, 0.4265289383192224, 0.4265289383192224, 0.4265289383192224, 0.4265289383192224, 0.4265289383192224, 0.4265289383192224, 0.4265289383192224, 0.42198705046403245, 0.42198705046403245]}], \"recall_score_weighted\": [{\"categories\": [\"0\", \"1\", \"2\", \"3\", \"4\", \"5\", \"6\", \"7\", \"8\", \"9\", \"10\", \"11\", \"12\", \"13\", \"14\", \"15\", \"16\", \"17\", \"18\", \"19\", \"20\", \"21\", \"22\", \"23\", \"24\", \"25\", \"26\", \"27\", \"28\", \"29\", \"30\", \"31\", \"32\", \"33\", \"34\", \"35\", \"36\", \"38\", \"39\", \"40\", \"41\", \"42\", \"43\", \"46\", \"47\"], \"mode\": \"markers\", \"name\": \"recall_score_weighted\", \"stepped\": false, \"type\": \"scatter\", \"data\": [0.8226716604244695, 0.8103121098626715, 0.7946192259675404, 0.6486017478152311, 0.7193258426966294, 0.7744069912609237, 0.8091760299625468, 0.7934831460674158, 0.796903870162297, 0.8114481897627966, 0.8125343320848938, 0.8092009987515606, 0.7979275905118601, 0.8058177278401997, 0.8091760299625468, 0.8069413233458178, 0.8181897627965045, 0.7878901373283396, 0.8102996254681647, 0.8035705368289637, 0.8046816479400748, 0.8080649188514357, 0.7878776529338327, 0.8024469413233458, 0.7945193508114856, 0.6161048689138577, 0.8024469413233458, 0.8024594257178526, 0.7923220973782772, 0.791223470661673, 0.7912609238451935, 0.8091510611735331, 0.7766541822721599, 0.8181897627965042, 0.8102871410736577, 0.8136704119850187, 0.7968414481897627, 0.8046816479400748, 0.8013108614232209, 0.7924094881398251, 0.8192759051186018, 0.7665792759051185, 0.8114357053682897, 0.837278401997503, 0.8305368289637952]}, {\"categories\": [\"0\", \"1\", \"2\", \"3\", \"4\", \"5\", \"6\", \"7\", \"8\", \"9\", \"10\", \"11\", \"12\", \"13\", \"14\", \"15\", \"16\", \"17\", \"18\", \"19\", \"20\", \"21\", \"22\", \"23\", \"24\", \"25\", \"26\", \"27\", \"28\", \"29\", \"30\", \"31\", \"32\", \"33\", \"34\", \"35\", \"36\", \"38\", \"39\", \"40\", \"41\", \"42\", \"43\", \"46\", \"47\"], \"mode\": \"lines\", \"name\": \"recall_score_weighted_max\", \"stepped\": true, \"type\": \"scatter\", \"data\": [0.8226716604244695, 0.8226716604244695, 0.8226716604244695, 0.8226716604244695, 0.8226716604244695, 0.8226716604244695, 0.8226716604244695, 0.8226716604244695, 0.8226716604244695, 0.8226716604244695, 0.8226716604244695, 0.8226716604244695, 0.8226716604244695, 0.8226716604244695, 0.8226716604244695, 0.8226716604244695, 0.8226716604244695, 0.8226716604244695, 0.8226716604244695, 0.8226716604244695, 0.8226716604244695, 0.8226716604244695, 0.8226716604244695, 0.8226716604244695, 0.8226716604244695, 0.8226716604244695, 0.8226716604244695, 0.8226716604244695, 0.8226716604244695, 0.8226716604244695, 0.8226716604244695, 0.8226716604244695, 0.8226716604244695, 0.8226716604244695, 0.8226716604244695, 0.8226716604244695, 0.8226716604244695, 0.8226716604244695, 0.8226716604244695, 0.8226716604244695, 0.8226716604244695, 0.8226716604244695, 0.8226716604244695, 0.837278401997503, 0.837278401997503]}], \"weighted_accuracy\": [{\"categories\": [\"0\", \"1\", \"2\", \"3\", \"4\", \"5\", \"6\", \"7\", \"8\", \"9\", \"10\", \"11\", \"12\", \"13\", \"14\", \"15\", \"16\", \"17\", \"18\", \"19\", \"20\", \"21\", \"22\", \"23\", \"24\", \"25\", \"26\", \"27\", \"28\", \"29\", \"30\", \"31\", \"32\", \"33\", \"34\", \"35\", \"36\", \"38\", \"39\", \"40\", \"41\", \"42\", \"43\", \"46\", \"47\"], \"mode\": \"markers\", \"name\": \"weighted_accuracy\", \"stepped\": false, \"type\": \"scatter\", \"data\": [0.8389156247580558, 0.8291514333183727, 0.80882480911872, 0.7343965369410868, 0.7189042845069589, 0.7825441947254616, 0.8307377608868872, 0.8012024523445916, 0.7994349490331445, 0.8332386722070002, 0.8301380803220152, 0.8309498347149544, 0.8156538514737971, 0.8238100692529517, 0.8279280387903969, 0.8254361441734316, 0.8388079724614365, 0.79812531128591, 0.8261616026792261, 0.8228138240260128, 0.8205463981383169, 0.8281468036359965, 0.7995159733626855, 0.8208810795044084, 0.8289315771709156, 0.7138631539899801, 0.8257130655569531, 0.8210317163292128, 0.8087064814251035, 0.8035475878640156, 0.7966774539572954, 0.8355909790528134, 0.7799987101791459, 0.8361570686872909, 0.8285934113449805, 0.8325364365541731, 0.8177867476138323, 0.8237972949305894, 0.8161458565657714, 0.8168976815007014, 0.8308772772932723, 0.7676290994606194, 0.8279941886129869, 0.854683870826209, 0.849274772727091]}, {\"categories\": [\"0\", \"1\", \"2\", \"3\", \"4\", \"5\", \"6\", \"7\", \"8\", \"9\", \"10\", \"11\", \"12\", \"13\", \"14\", \"15\", \"16\", \"17\", \"18\", \"19\", \"20\", \"21\", \"22\", \"23\", \"24\", \"25\", \"26\", \"27\", \"28\", \"29\", \"30\", \"31\", \"32\", \"33\", \"34\", \"35\", \"36\", \"38\", \"39\", \"40\", \"41\", \"42\", \"43\", \"46\", \"47\"], \"mode\": \"lines\", \"name\": \"weighted_accuracy_max\", \"stepped\": true, \"type\": \"scatter\", \"data\": [0.8389156247580558, 0.8389156247580558, 0.8389156247580558, 0.8389156247580558, 0.8389156247580558, 0.8389156247580558, 0.8389156247580558, 0.8389156247580558, 0.8389156247580558, 0.8389156247580558, 0.8389156247580558, 0.8389156247580558, 0.8389156247580558, 0.8389156247580558, 0.8389156247580558, 0.8389156247580558, 0.8389156247580558, 0.8389156247580558, 0.8389156247580558, 0.8389156247580558, 0.8389156247580558, 0.8389156247580558, 0.8389156247580558, 0.8389156247580558, 0.8389156247580558, 0.8389156247580558, 0.8389156247580558, 0.8389156247580558, 0.8389156247580558, 0.8389156247580558, 0.8389156247580558, 0.8389156247580558, 0.8389156247580558, 0.8389156247580558, 0.8389156247580558, 0.8389156247580558, 0.8389156247580558, 0.8389156247580558, 0.8389156247580558, 0.8389156247580558, 0.8389156247580558, 0.8389156247580558, 0.8389156247580558, 0.854683870826209, 0.854683870826209]}], \"precision_score_micro\": [{\"categories\": [\"0\", \"1\", \"2\", \"3\", \"4\", \"5\", \"6\", \"7\", \"8\", \"9\", \"10\", \"11\", \"12\", \"13\", \"14\", \"15\", \"16\", \"17\", \"18\", \"19\", \"20\", \"21\", \"22\", \"23\", \"24\", \"25\", \"26\", \"27\", \"28\", \"29\", \"30\", \"31\", \"32\", \"33\", \"34\", \"35\", \"36\", \"38\", \"39\", \"40\", \"41\", \"42\", \"43\", \"46\", \"47\"], \"mode\": \"markers\", \"name\": \"precision_score_micro\", \"stepped\": false, \"type\": \"scatter\", \"data\": [0.8226716604244695, 0.8103121098626715, 0.7946192259675404, 0.6486017478152311, 0.7193258426966294, 0.7744069912609237, 0.8091760299625468, 0.7934831460674158, 0.796903870162297, 0.8114481897627966, 0.8125343320848938, 0.8092009987515606, 0.7979275905118601, 0.8058177278401997, 0.8091760299625468, 0.8069413233458178, 0.8181897627965045, 0.7878901373283396, 0.8102996254681647, 0.8035705368289637, 0.8046816479400748, 0.8080649188514357, 0.7878776529338327, 0.8024469413233458, 0.7945193508114856, 0.6161048689138577, 0.8024469413233458, 0.8024594257178526, 0.7923220973782772, 0.791223470661673, 0.7912609238451935, 0.8091510611735331, 0.7766541822721599, 0.8181897627965042, 0.8102871410736577, 0.8136704119850187, 0.7968414481897627, 0.8046816479400748, 0.8013108614232209, 0.7924094881398251, 0.8192759051186018, 0.7665792759051185, 0.8114357053682897, 0.837278401997503, 0.8305368289637952]}, {\"categories\": [\"0\", \"1\", \"2\", \"3\", \"4\", \"5\", \"6\", \"7\", \"8\", \"9\", \"10\", \"11\", \"12\", \"13\", \"14\", \"15\", \"16\", \"17\", \"18\", \"19\", \"20\", \"21\", \"22\", \"23\", \"24\", \"25\", \"26\", \"27\", \"28\", \"29\", \"30\", \"31\", \"32\", \"33\", \"34\", \"35\", \"36\", \"38\", \"39\", \"40\", \"41\", \"42\", \"43\", \"46\", \"47\"], \"mode\": \"lines\", \"name\": \"precision_score_micro_max\", \"stepped\": true, \"type\": \"scatter\", \"data\": [0.8226716604244695, 0.8226716604244695, 0.8226716604244695, 0.8226716604244695, 0.8226716604244695, 0.8226716604244695, 0.8226716604244695, 0.8226716604244695, 0.8226716604244695, 0.8226716604244695, 0.8226716604244695, 0.8226716604244695, 0.8226716604244695, 0.8226716604244695, 0.8226716604244695, 0.8226716604244695, 0.8226716604244695, 0.8226716604244695, 0.8226716604244695, 0.8226716604244695, 0.8226716604244695, 0.8226716604244695, 0.8226716604244695, 0.8226716604244695, 0.8226716604244695, 0.8226716604244695, 0.8226716604244695, 0.8226716604244695, 0.8226716604244695, 0.8226716604244695, 0.8226716604244695, 0.8226716604244695, 0.8226716604244695, 0.8226716604244695, 0.8226716604244695, 0.8226716604244695, 0.8226716604244695, 0.8226716604244695, 0.8226716604244695, 0.8226716604244695, 0.8226716604244695, 0.8226716604244695, 0.8226716604244695, 0.837278401997503, 0.837278401997503]}], \"matthews_correlation\": [{\"categories\": [\"0\", \"1\", \"2\", \"3\", \"4\", \"5\", \"6\", \"7\", \"8\", \"9\", \"10\", \"11\", \"12\", \"13\", \"14\", \"15\", \"16\", \"17\", \"18\", \"19\", \"20\", \"21\", \"22\", \"23\", \"24\", \"25\", \"26\", \"27\", \"28\", \"29\", \"30\", \"31\", \"32\", \"33\", \"34\", \"35\", \"36\", \"38\", \"39\", \"40\", \"41\", \"42\", \"43\", \"46\", \"47\"], \"mode\": \"markers\", \"name\": \"matthews_correlation\", \"stepped\": false, \"type\": \"scatter\", \"data\": [0.6182293788928346, 0.5905915140357153, 0.5648541953104191, 0.1314832850717281, 0.4482128033089555, 0.52849979046098, 0.5892280326990785, 0.56597777733129, 0.5821156138706526, 0.5977724978896453, 0.5973286473780054, 0.5879423601858604, 0.5683194000653505, 0.5845216485177109, 0.5917007412905125, 0.5848003103642636, 0.6126789558413892, 0.5534018365937416, 0.5940435574413355, 0.579151277163185, 0.5822033141671518, 0.5868085475486418, 0.5520372791755971, 0.5750140553624836, 0.5651632618399807, 0.0, 0.5753999591382297, 0.574941512541424, 0.5554562408172046, 0.5565154220219072, 0.566099399883511, 0.5876397781899291, 0.5372779963655183, 0.6111600707966318, 0.5931041998198135, 0.6006085963933139, 0.5623585411494251, 0.5817954170486856, 0.5748145372191358, 0.5510957193681707, 0.6174532000092581, 0.5292694729675809, 0.5925816338331784, 0.652071393351965, 0.6369087768449531]}, {\"categories\": [\"0\", \"1\", \"2\", \"3\", \"4\", \"5\", \"6\", \"7\", \"8\", \"9\", \"10\", \"11\", \"12\", \"13\", \"14\", \"15\", \"16\", \"17\", \"18\", \"19\", \"20\", \"21\", \"22\", \"23\", \"24\", \"25\", \"26\", \"27\", \"28\", \"29\", \"30\", \"31\", \"32\", \"33\", \"34\", \"35\", \"36\", \"38\", \"39\", \"40\", \"41\", \"42\", \"43\", \"46\", \"47\"], \"mode\": \"lines\", \"name\": \"matthews_correlation_max\", \"stepped\": true, \"type\": \"scatter\", \"data\": [0.6182293788928346, 0.6182293788928346, 0.6182293788928346, 0.6182293788928346, 0.6182293788928346, 0.6182293788928346, 0.6182293788928346, 0.6182293788928346, 0.6182293788928346, 0.6182293788928346, 0.6182293788928346, 0.6182293788928346, 0.6182293788928346, 0.6182293788928346, 0.6182293788928346, 0.6182293788928346, 0.6182293788928346, 0.6182293788928346, 0.6182293788928346, 0.6182293788928346, 0.6182293788928346, 0.6182293788928346, 0.6182293788928346, 0.6182293788928346, 0.6182293788928346, 0.6182293788928346, 0.6182293788928346, 0.6182293788928346, 0.6182293788928346, 0.6182293788928346, 0.6182293788928346, 0.6182293788928346, 0.6182293788928346, 0.6182293788928346, 0.6182293788928346, 0.6182293788928346, 0.6182293788928346, 0.6182293788928346, 0.6182293788928346, 0.6182293788928346, 0.6182293788928346, 0.6182293788928346, 0.6182293788928346, 0.652071393351965, 0.652071393351965]}], \"AUC_micro\": [{\"categories\": [\"0\", \"1\", \"2\", \"3\", \"4\", \"5\", \"6\", \"7\", \"8\", \"9\", \"10\", \"11\", \"12\", \"13\", \"14\", \"15\", \"16\", \"17\", \"18\", \"19\", \"20\", \"21\", \"22\", \"23\", \"24\", \"25\", \"26\", \"27\", \"28\", \"29\", \"30\", \"31\", \"32\", \"33\", \"34\", \"35\", \"36\", \"38\", \"39\", \"40\", \"41\", \"42\", \"43\", \"46\", \"47\"], \"mode\": \"markers\", \"name\": \"AUC_micro\", \"stepped\": false, \"type\": \"scatter\", \"data\": [0.8664022593480996, 0.8730080314712726, 0.8467608544874462, 0.7599836237786413, 0.758130101106451, 0.8252341159069265, 0.874420113123265, 0.8249583276834045, 0.8632465815982208, 0.877162315831802, 0.8704126520999811, 0.874708108310305, 0.8643918011349733, 0.864688306283812, 0.8762100261689119, 0.8691565318632607, 0.8714778670856186, 0.8662857102778829, 0.8632986154946766, 0.8695199976309265, 0.8598301795040844, 0.8639329178102901, 0.861203269633308, 0.8721985891543186, 0.8633924308098022, 0.7713697500471477, 0.8494294055027968, 0.8700119404427362, 0.8650706732065567, 0.8647199723815893, 0.8362251149857933, 0.8705246703169103, 0.8448442754920892, 0.8820192565161212, 0.8678108544095162, 0.8648672134239191, 0.8672684815017433, 0.8694844942573343, 0.8585393242840956, 0.8458733636637099, 0.8740668998333854, 0.8532652115567151, 0.8749385615047357, 0.8849081438464091, 0.8833096238939777]}, {\"categories\": [\"0\", \"1\", \"2\", \"3\", \"4\", \"5\", \"6\", \"7\", \"8\", \"9\", \"10\", \"11\", \"12\", \"13\", \"14\", \"15\", \"16\", \"17\", \"18\", \"19\", \"20\", \"21\", \"22\", \"23\", \"24\", \"25\", \"26\", \"27\", \"28\", \"29\", \"30\", \"31\", \"32\", \"33\", \"34\", \"35\", \"36\", \"38\", \"39\", \"40\", \"41\", \"42\", \"43\", \"46\", \"47\"], \"mode\": \"lines\", \"name\": \"AUC_micro_max\", \"stepped\": true, \"type\": \"scatter\", \"data\": [0.8664022593480996, 0.8730080314712726, 0.8730080314712726, 0.8730080314712726, 0.8730080314712726, 0.8730080314712726, 0.874420113123265, 0.874420113123265, 0.874420113123265, 0.877162315831802, 0.877162315831802, 0.877162315831802, 0.877162315831802, 0.877162315831802, 0.877162315831802, 0.877162315831802, 0.877162315831802, 0.877162315831802, 0.877162315831802, 0.877162315831802, 0.877162315831802, 0.877162315831802, 0.877162315831802, 0.877162315831802, 0.877162315831802, 0.877162315831802, 0.877162315831802, 0.877162315831802, 0.877162315831802, 0.877162315831802, 0.877162315831802, 0.877162315831802, 0.877162315831802, 0.8820192565161212, 0.8820192565161212, 0.8820192565161212, 0.8820192565161212, 0.8820192565161212, 0.8820192565161212, 0.8820192565161212, 0.8820192565161212, 0.8820192565161212, 0.8820192565161212, 0.8849081438464091, 0.8849081438464091]}], \"recall_score_micro\": [{\"categories\": [\"0\", \"1\", \"2\", \"3\", \"4\", \"5\", \"6\", \"7\", \"8\", \"9\", \"10\", \"11\", \"12\", \"13\", \"14\", \"15\", \"16\", \"17\", \"18\", \"19\", \"20\", \"21\", \"22\", \"23\", \"24\", \"25\", \"26\", \"27\", \"28\", \"29\", \"30\", \"31\", \"32\", \"33\", \"34\", \"35\", \"36\", \"38\", \"39\", \"40\", \"41\", \"42\", \"43\", \"46\", \"47\"], \"mode\": \"markers\", \"name\": \"recall_score_micro\", \"stepped\": false, \"type\": \"scatter\", \"data\": [0.8226716604244695, 0.8103121098626715, 0.7946192259675404, 0.6486017478152311, 0.7193258426966294, 0.7744069912609237, 0.8091760299625468, 0.7934831460674158, 0.796903870162297, 0.8114481897627966, 0.8125343320848938, 0.8092009987515606, 0.7979275905118601, 0.8058177278401997, 0.8091760299625468, 0.8069413233458178, 0.8181897627965045, 0.7878901373283396, 0.8102996254681647, 0.8035705368289637, 0.8046816479400748, 0.8080649188514357, 0.7878776529338327, 0.8024469413233458, 0.7945193508114856, 0.6161048689138577, 0.8024469413233458, 0.8024594257178526, 0.7923220973782772, 0.791223470661673, 0.7912609238451935, 0.8091510611735331, 0.7766541822721599, 0.8181897627965042, 0.8102871410736577, 0.8136704119850187, 0.7968414481897627, 0.8046816479400748, 0.8013108614232209, 0.7924094881398251, 0.8192759051186018, 0.7665792759051185, 0.8114357053682897, 0.837278401997503, 0.8305368289637952]}, {\"categories\": [\"0\", \"1\", \"2\", \"3\", \"4\", \"5\", \"6\", \"7\", \"8\", \"9\", \"10\", \"11\", \"12\", \"13\", \"14\", \"15\", \"16\", \"17\", \"18\", \"19\", \"20\", \"21\", \"22\", \"23\", \"24\", \"25\", \"26\", \"27\", \"28\", \"29\", \"30\", \"31\", \"32\", \"33\", \"34\", \"35\", \"36\", \"38\", \"39\", \"40\", \"41\", \"42\", \"43\", \"46\", \"47\"], \"mode\": \"lines\", \"name\": \"recall_score_micro_max\", \"stepped\": true, \"type\": \"scatter\", \"data\": [0.8226716604244695, 0.8226716604244695, 0.8226716604244695, 0.8226716604244695, 0.8226716604244695, 0.8226716604244695, 0.8226716604244695, 0.8226716604244695, 0.8226716604244695, 0.8226716604244695, 0.8226716604244695, 0.8226716604244695, 0.8226716604244695, 0.8226716604244695, 0.8226716604244695, 0.8226716604244695, 0.8226716604244695, 0.8226716604244695, 0.8226716604244695, 0.8226716604244695, 0.8226716604244695, 0.8226716604244695, 0.8226716604244695, 0.8226716604244695, 0.8226716604244695, 0.8226716604244695, 0.8226716604244695, 0.8226716604244695, 0.8226716604244695, 0.8226716604244695, 0.8226716604244695, 0.8226716604244695, 0.8226716604244695, 0.8226716604244695, 0.8226716604244695, 0.8226716604244695, 0.8226716604244695, 0.8226716604244695, 0.8226716604244695, 0.8226716604244695, 0.8226716604244695, 0.8226716604244695, 0.8226716604244695, 0.837278401997503, 0.837278401997503]}], \"precision_score_weighted\": [{\"categories\": [\"0\", \"1\", \"2\", \"3\", \"4\", \"5\", \"6\", \"7\", \"8\", \"9\", \"10\", \"11\", \"12\", \"13\", \"14\", \"15\", \"16\", \"17\", \"18\", \"19\", \"20\", \"21\", \"22\", \"23\", \"24\", \"25\", \"26\", \"27\", \"28\", \"29\", \"30\", \"31\", \"32\", \"33\", \"34\", \"35\", \"36\", \"38\", \"39\", \"40\", \"41\", \"42\", \"43\", \"46\", \"47\"], \"mode\": \"markers\", \"name\": \"precision_score_weighted\", \"stepped\": false, \"type\": \"scatter\", \"data\": [0.824371565251884, 0.8128308980539174, 0.8003713148673095, 0.5420217618207539, 0.7546847462261039, 0.7830067351610175, 0.8133117953384617, 0.7996626079590159, 0.8089183064004187, 0.8182340199779242, 0.815343285820045, 0.8129064174277559, 0.80269009208785, 0.8108233718666817, 0.8135038849265136, 0.80968856893962, 0.8253884311391886, 0.7942721389306451, 0.8136453594394292, 0.8087679199456568, 0.8083586451596763, 0.8113158450787236, 0.7942387254550101, 0.8056017556650247, 0.8121290145171083, 0.38241944760061164, 0.8074948588840896, 0.8053749274126213, 0.7954005107583907, 0.7952379698221796, 0.800365059903845, 0.8139332893261008, 0.7864562668202018, 0.8227234177418815, 0.8143586743134769, 0.8184607860145956, 0.8003716150223144, 0.8098200951143767, 0.8042516440060637, 0.7963623249191184, 0.8242152672911487, 0.7868224166039578, 0.812342811112717, 0.8421238585828353, 0.8353028938626285]}, {\"categories\": [\"0\", \"1\", \"2\", \"3\", \"4\", \"5\", \"6\", \"7\", \"8\", \"9\", \"10\", \"11\", \"12\", \"13\", \"14\", \"15\", \"16\", \"17\", \"18\", \"19\", \"20\", \"21\", \"22\", \"23\", \"24\", \"25\", \"26\", \"27\", \"28\", \"29\", \"30\", \"31\", \"32\", \"33\", \"34\", \"35\", \"36\", \"38\", \"39\", \"40\", \"41\", \"42\", \"43\", \"46\", \"47\"], \"mode\": \"lines\", \"name\": \"precision_score_weighted_max\", \"stepped\": true, \"type\": \"scatter\", \"data\": [0.824371565251884, 0.824371565251884, 0.824371565251884, 0.824371565251884, 0.824371565251884, 0.824371565251884, 0.824371565251884, 0.824371565251884, 0.824371565251884, 0.824371565251884, 0.824371565251884, 0.824371565251884, 0.824371565251884, 0.824371565251884, 0.824371565251884, 0.824371565251884, 0.8253884311391886, 0.8253884311391886, 0.8253884311391886, 0.8253884311391886, 0.8253884311391886, 0.8253884311391886, 0.8253884311391886, 0.8253884311391886, 0.8253884311391886, 0.8253884311391886, 0.8253884311391886, 0.8253884311391886, 0.8253884311391886, 0.8253884311391886, 0.8253884311391886, 0.8253884311391886, 0.8253884311391886, 0.8253884311391886, 0.8253884311391886, 0.8253884311391886, 0.8253884311391886, 0.8253884311391886, 0.8253884311391886, 0.8253884311391886, 0.8253884311391886, 0.8253884311391886, 0.8253884311391886, 0.8421238585828353, 0.8421238585828353]}]}, \"metricName\": null, \"primaryMetricName\": \"accuracy\", \"showLegend\": false}, \"run_metrics\": [{\"name\": \"experiment_status\", \"run_id\": \"AutoML_387a10e5-a092-4507-b203-d4967d0fcf1e\", \"categories\": [0, 1, 2, 3, 4, 5, 6, 7, 8, 9, 10, 11, 12, 13], \"series\": [{\"data\": [\"DatasetEvaluation\", \"FeaturesGeneration\", \"DatasetFeaturization\", \"DatasetFeaturizationCompleted\", \"DatasetCrossValidationSplit\", \"ModelSelection\", \"BestRunExplainModel\", \"ModelExplanationDataSetSetup\", \"PickSurrogateModel\", \"EngineeredFeatureExplanations\", \"EngineeredFeatureExplanations\", \"RawFeaturesExplanations\", \"RawFeaturesExplanations\", \"BestRunExplainModel\"]}]}, {\"name\": \"experiment_status_description\", \"run_id\": \"AutoML_387a10e5-a092-4507-b203-d4967d0fcf1e\", \"categories\": [0, 1, 2, 3, 4, 5, 6, 7, 8, 9, 10, 11, 12, 13], \"series\": [{\"data\": [\"Gathering dataset statistics.\", \"Generating features for the dataset.\", \"Beginning to fit featurizers and featurize the dataset.\", \"Completed fit featurizers and featurizing the dataset.\", \"Generating individually featurized CV splits.\", \"Beginning model selection.\", \"Best run model explanations started\", \"Model explanations data setup completed\", \"Choosing LinearModel as the surrogate model for explanations\", \"Computation of engineered features started\", \"Computation of engineered features completed\", \"Computation of raw features started\", \"Computation of raw features completed\", \"Best run model explanations completed\"]}]}, {\"name\": \"f1_score_macro\", \"run_id\": \"AutoML_387a10e5-a092-4507-b203-d4967d0fcf1e\", \"categories\": [0], \"series\": [{\"data\": [0.8211268150697931]}]}, {\"name\": \"average_precision_score_macro\", \"run_id\": \"AutoML_387a10e5-a092-4507-b203-d4967d0fcf1e\", \"categories\": [0], \"series\": [{\"data\": [0.8624108019548358]}]}, {\"name\": \"f1_score_micro\", \"run_id\": \"AutoML_387a10e5-a092-4507-b203-d4967d0fcf1e\", \"categories\": [0], \"series\": [{\"data\": [0.837278401997503]}]}, {\"name\": \"AUC_weighted\", \"run_id\": \"AutoML_387a10e5-a092-4507-b203-d4967d0fcf1e\", \"categories\": [0], \"series\": [{\"data\": [0.8697160923107813]}]}, {\"name\": \"norm_macro_recall\", \"run_id\": \"AutoML_387a10e5-a092-4507-b203-d4967d0fcf1e\", \"categories\": [0], \"series\": [{\"data\": [0.633846669141998]}]}, {\"name\": \"precision_score_weighted\", \"run_id\": \"AutoML_387a10e5-a092-4507-b203-d4967d0fcf1e\", \"categories\": [0], \"series\": [{\"data\": [0.8421238585828353]}]}, {\"name\": \"precision_score_micro\", \"run_id\": \"AutoML_387a10e5-a092-4507-b203-d4967d0fcf1e\", \"categories\": [0], \"series\": [{\"data\": [0.837278401997503]}]}, {\"name\": \"precision_score_macro\", \"run_id\": \"AutoML_387a10e5-a092-4507-b203-d4967d0fcf1e\", \"categories\": [0], \"series\": [{\"data\": [0.8358312873003125]}]}, {\"name\": \"recall_score_micro\", \"run_id\": \"AutoML_387a10e5-a092-4507-b203-d4967d0fcf1e\", \"categories\": [0], \"series\": [{\"data\": [0.837278401997503]}]}, {\"name\": \"recall_score_weighted\", \"run_id\": \"AutoML_387a10e5-a092-4507-b203-d4967d0fcf1e\", \"categories\": [0], \"series\": [{\"data\": [0.837278401997503]}]}, {\"name\": \"weighted_accuracy\", \"run_id\": \"AutoML_387a10e5-a092-4507-b203-d4967d0fcf1e\", \"categories\": [0], \"series\": [{\"data\": [0.854683870826209]}]}, {\"name\": \"f1_score_weighted\", \"run_id\": \"AutoML_387a10e5-a092-4507-b203-d4967d0fcf1e\", \"categories\": [0], \"series\": [{\"data\": [0.834936618983359]}]}, {\"name\": \"accuracy\", \"run_id\": \"AutoML_387a10e5-a092-4507-b203-d4967d0fcf1e\", \"categories\": [0], \"series\": [{\"data\": [0.837278401997503]}]}, {\"name\": \"AUC_micro\", \"run_id\": \"AutoML_387a10e5-a092-4507-b203-d4967d0fcf1e\", \"categories\": [0], \"series\": [{\"data\": [0.8849081438464091]}]}, {\"name\": \"average_precision_score_micro\", \"run_id\": \"AutoML_387a10e5-a092-4507-b203-d4967d0fcf1e\", \"categories\": [0], \"series\": [{\"data\": [0.8695446315488115]}]}, {\"name\": \"log_loss\", \"run_id\": \"AutoML_387a10e5-a092-4507-b203-d4967d0fcf1e\", \"categories\": [0], \"series\": [{\"data\": [0.42198705046403245]}]}, {\"name\": \"AUC_macro\", \"run_id\": \"AutoML_387a10e5-a092-4507-b203-d4967d0fcf1e\", \"categories\": [0], \"series\": [{\"data\": [0.8697160923107813]}]}, {\"name\": \"recall_score_macro\", \"run_id\": \"AutoML_387a10e5-a092-4507-b203-d4967d0fcf1e\", \"categories\": [0], \"series\": [{\"data\": [0.8169233345709991]}]}, {\"name\": \"balanced_accuracy\", \"run_id\": \"AutoML_387a10e5-a092-4507-b203-d4967d0fcf1e\", \"categories\": [0], \"series\": [{\"data\": [0.8169233345709991]}]}, {\"name\": \"matthews_correlation\", \"run_id\": \"AutoML_387a10e5-a092-4507-b203-d4967d0fcf1e\", \"categories\": [0], \"series\": [{\"data\": [0.652071393351965]}]}, {\"name\": \"average_precision_score_weighted\", \"run_id\": \"AutoML_387a10e5-a092-4507-b203-d4967d0fcf1e\", \"categories\": [0], \"series\": [{\"data\": [0.8695494453166276]}]}], \"run_logs\": \"\\nRun is completed.\", \"graph\": {}, \"widget_settings\": {\"childWidgetDisplay\": \"popup\", \"send_telemetry\": false, \"log_level\": \"INFO\", \"sdk_version\": \"1.19.0\"}, \"loading\": false}"
     },
     "metadata": {},
     "output_type": "display_data"
    }
   ],
   "source": [
    "from azureml.widgets import RunDetails\n",
    "RunDetails(remote_run).show()"
   ]
  },
  {
   "cell_type": "markdown",
   "metadata": {},
   "source": [
    "## Best Model\n",
    "\n",
    "TODO: In the cell below, get the best model from the automl experiments and display all the properties of the model.\n",
    "\n"
   ]
  },
  {
   "cell_type": "code",
   "execution_count": 9,
   "metadata": {
    "gather": {
     "logged": 1598431425670
    },
    "jupyter": {
     "outputs_hidden": false,
     "source_hidden": false
    },
    "nteract": {
     "transient": {
      "deleting": false
     }
    }
   },
   "outputs": [],
   "source": [
    "best_run_automl, fitted_model_automl = remote_run.get_output()\n",
    "model_name = best_run_automl.properties['model_name']"
   ]
  },
  {
   "cell_type": "code",
   "execution_count": 10,
   "metadata": {},
   "outputs": [
    {
     "name": "stdout",
     "output_type": "stream",
     "text": [
      "Run(Experiment: titanic-automl-experiment,\n",
      "Id: AutoML_387a10e5-a092-4507-b203-d4967d0fcf1e_46,\n",
      "Type: azureml.scriptrun,\n",
      "Status: Completed)\n"
     ]
    }
   ],
   "source": [
    "print(best_run_automl)"
   ]
  },
  {
   "cell_type": "code",
   "execution_count": 11,
   "metadata": {},
   "outputs": [
    {
     "name": "stdout",
     "output_type": "stream",
     "text": [
      "Pipeline(memory=None,\n",
      "         steps=[('datatransformer',\n",
      "                 DataTransformer(enable_dnn=None, enable_feature_sweeping=None,\n",
      "                                 feature_sweeping_config=None,\n",
      "                                 feature_sweeping_timeout=None,\n",
      "                                 featurization_config=None, force_text_dnn=None,\n",
      "                                 is_cross_validation=None,\n",
      "                                 is_onnx_compatible=None, logger=None,\n",
      "                                 observer=None, task=None, working_dir=None)),\n",
      "                ('prefittedsoftvotingclassifier',...\n",
      "                                                                             LogisticRegression(C=3237.45754281764,\n",
      "                                                                                                class_weight='balanced',\n",
      "                                                                                                dual=False,\n",
      "                                                                                                fit_intercept=True,\n",
      "                                                                                                intercept_scaling=1,\n",
      "                                                                                                l1_ratio=None,\n",
      "                                                                                                max_iter=100,\n",
      "                                                                                                multi_class='multinomial',\n",
      "                                                                                                n_jobs=1,\n",
      "                                                                                                penalty='l2',\n",
      "                                                                                                random_state=None,\n",
      "                                                                                                solver='lbfgs',\n",
      "                                                                                                tol=0.0001,\n",
      "                                                                                                verbose=0,\n",
      "                                                                                                warm_start=False))],\n",
      "                                                                     verbose=False))],\n",
      "                                               flatten_transform=None,\n",
      "                                               weights=[0.125, 0.125, 0.125,\n",
      "                                                        0.25, 0.125, 0.125,\n",
      "                                                        0.125]))],\n",
      "         verbose=False)\n",
      "Y_transformer(['LabelEncoder', LabelEncoder()])\n"
     ]
    }
   ],
   "source": [
    "print(fitted_model_automl)"
   ]
  },
  {
   "cell_type": "code",
   "execution_count": 12,
   "metadata": {},
   "outputs": [
    {
     "data": {
      "text/plain": [
       "['accuracy_table',\n",
       " 'automl_driver.py',\n",
       " 'azureml-logs/55_azureml-execution-tvmps_1e96e7eb5b2ce3ca58434594aade5cbb6a7192a5ffb9e1143d85ae32a19013e7_d.txt',\n",
       " 'azureml-logs/65_job_prep-tvmps_1e96e7eb5b2ce3ca58434594aade5cbb6a7192a5ffb9e1143d85ae32a19013e7_d.txt',\n",
       " 'azureml-logs/70_driver_log.txt',\n",
       " 'azureml-logs/75_job_post-tvmps_1e96e7eb5b2ce3ca58434594aade5cbb6a7192a5ffb9e1143d85ae32a19013e7_d.txt',\n",
       " 'azureml-logs/process_info.json',\n",
       " 'azureml-logs/process_status.json',\n",
       " 'confusion_matrix',\n",
       " 'explanation/77842347/classes.interpret.json',\n",
       " 'explanation/77842347/eval_data_viz.interpret.json',\n",
       " 'explanation/77842347/expected_values.interpret.json',\n",
       " 'explanation/77842347/features.interpret.json',\n",
       " 'explanation/77842347/global_names/0.interpret.json',\n",
       " 'explanation/77842347/global_rank/0.interpret.json',\n",
       " 'explanation/77842347/global_values/0.interpret.json',\n",
       " 'explanation/77842347/local_importance_values.interpret.json',\n",
       " 'explanation/77842347/per_class_names/0.interpret.json',\n",
       " 'explanation/77842347/per_class_rank/0.interpret.json',\n",
       " 'explanation/77842347/per_class_values/0.interpret.json',\n",
       " 'explanation/77842347/rich_metadata.interpret.json',\n",
       " 'explanation/77842347/visualization_dict.interpret.json',\n",
       " 'explanation/d951a89a/classes.interpret.json',\n",
       " 'explanation/d951a89a/expected_values.interpret.json',\n",
       " 'explanation/d951a89a/features.interpret.json',\n",
       " 'explanation/d951a89a/global_names/0.interpret.json',\n",
       " 'explanation/d951a89a/global_rank/0.interpret.json',\n",
       " 'explanation/d951a89a/global_values/0.interpret.json',\n",
       " 'explanation/d951a89a/local_importance_values_sparse.interpret.json',\n",
       " 'explanation/d951a89a/per_class_names/0.interpret.json',\n",
       " 'explanation/d951a89a/per_class_rank/0.interpret.json',\n",
       " 'explanation/d951a89a/per_class_values/0.interpret.json',\n",
       " 'explanation/d951a89a/rich_metadata.interpret.json',\n",
       " 'explanation/d951a89a/visualization_dict.interpret.json',\n",
       " 'logs/azureml/104_azureml.log',\n",
       " 'logs/azureml/azureml_automl.log',\n",
       " 'logs/azureml/dataprep/python_span_1da86f0b-db2e-4f6e-ac1f-7f62569f9532.jsonl',\n",
       " 'logs/azureml/dataprep/python_span_38c2412a-c2b6-45dc-b9ec-411ef3c4c3ff.jsonl',\n",
       " 'logs/azureml/job_prep_azureml.log',\n",
       " 'logs/azureml/job_release_azureml.log',\n",
       " 'outputs/conda_env_v_1_0_0.yml',\n",
       " 'outputs/env_dependencies.json',\n",
       " 'outputs/model.pkl',\n",
       " 'outputs/pipeline_graph.json',\n",
       " 'outputs/scoring_file_v_1_0_0.py']"
      ]
     },
     "execution_count": 12,
     "metadata": {},
     "output_type": "execute_result"
    }
   ],
   "source": [
    "best_run_automl.get_file_names()"
   ]
  },
  {
   "cell_type": "code",
   "execution_count": 13,
   "metadata": {
    "gather": {
     "logged": 1598431426111
    },
    "jupyter": {
     "outputs_hidden": false,
     "source_hidden": false
    },
    "nteract": {
     "transient": {
      "deleting": false
     }
    }
   },
   "outputs": [],
   "source": [
    "#TODO: Save the best model\n",
    "model_name = 'best_model_titanic'\n",
    "model = best_run_automl.register_model(model_name, model_path='outputs/model.pkl')"
   ]
  },
  {
   "cell_type": "code",
   "execution_count": 14,
   "metadata": {},
   "outputs": [],
   "source": [
    "best_run_automl.download_file('outputs/scoring_file_v_1_0_0.py', 'inference/score.py')\n",
    "best_run_automl.download_file('outputs/model.pkl', 'inference/model.pkl')"
   ]
  },
  {
   "cell_type": "markdown",
   "metadata": {},
   "source": [
    "## Model Deployment\n",
    "\n",
    "Remember you have to deploy only one of the two models you trained.. Perform the steps in the rest of this notebook only if you wish to deploy this model.\n",
    "\n",
    "TODO: In the cell below, register the model, create an inference config and deploy the model as a web service."
   ]
  },
  {
   "cell_type": "code",
   "execution_count": 15,
   "metadata": {
    "gather": {
     "logged": 1598431435189
    },
    "jupyter": {
     "outputs_hidden": false,
     "source_hidden": false
    },
    "nteract": {
     "transient": {
      "deleting": false
     }
    }
   },
   "outputs": [
    {
     "name": "stdout",
     "output_type": "stream",
     "text": [
      "Tips: You can try get_logs(): https://aka.ms/debugimage#dockerlog or local deployment: https://aka.ms/debugimage#debug-locally to debug if deployment takes longer than 10 minutes.\n",
      "Running.....................................................................................\n",
      "Succeeded\n",
      "ACI service creation operation finished, operation \"Succeeded\"\n"
     ]
    }
   ],
   "source": [
    "service_name = 'my-titanic-service'\n",
    "inference_config = InferenceConfig(entry_script='inference/score.py')\n",
    "service = Model.deploy(ws, service_name, [model], inference_config, overwrite=True)\n",
    "service.wait_for_deployment(show_output=True)"
   ]
  },
  {
   "cell_type": "code",
   "execution_count": 16,
   "metadata": {},
   "outputs": [
    {
     "name": "stdout",
     "output_type": "stream",
     "text": [
      "Healthy\n"
     ]
    }
   ],
   "source": [
    "print(service.state)"
   ]
  },
  {
   "cell_type": "markdown",
   "metadata": {
    "collapsed": true,
    "gather": {
     "logged": 1598431657736
    },
    "jupyter": {
     "outputs_hidden": false,
     "source_hidden": false
    },
    "nteract": {
     "transient": {
      "deleting": false
     }
    }
   },
   "source": [
    "\n",
    "TODO: In the cell below, send a request to the web service you deployed to test it."
   ]
  },
  {
   "cell_type": "code",
   "execution_count": 20,
   "metadata": {
    "gather": {
     "logged": 1598432707604
    },
    "jupyter": {
     "outputs_hidden": false,
     "source_hidden": false
    },
    "nteract": {
     "transient": {
      "deleting": false
     }
    }
   },
   "outputs": [],
   "source": [
    "import json\n",
    "\n",
    "data = {\"data\":\n",
    "        [\n",
    "          {\n",
    "            \"PassengerId\": 812,\n",
    "            \"Pclass\": 2,\n",
    "            \"Name\": \"Berriman, Mr. William John\",\n",
    "            \"Age\": 23.0,\n",
    "            \"SibSp\": 0,\n",
    "            \"Parch\": 0, \n",
    "            \"Ticket\": \"28425\",\n",
    "            \"Fare\": 13.0,\n",
    "            \"Cabin\": \"\",\n",
    "            \"Q\": 0,\n",
    "            \"S\": 1,\n",
    "            \"male\": 1\n",
    "          },\n",
    "          {\n",
    "            \"PassengerId\": 813,\n",
    "            \"Pclass\": 1,\n",
    "            \"Name\": \"Lesurer, Mr. Gustave J\",\n",
    "            \"Age\": 35.0,\n",
    "            \"SibSp\": 0,\n",
    "            \"Parch\": 0, \n",
    "            \"Ticket\": \"PC 17755\",\n",
    "            \"Fare\": 512.3292,\n",
    "            \"Cabin\": \"B101\",\n",
    "            \"Q\": 0,\n",
    "            \"S\": 0,\n",
    "            \"male\": 1\n",
    "          }\n",
    "      ]\n",
    "    }\n",
    "\n",
    "# Convert to JSON string\n",
    "input_data = json.dumps(data)"
   ]
  },
  {
   "cell_type": "markdown",
   "metadata": {
    "collapsed": true,
    "gather": {
     "logged": 1598432765711
    },
    "jupyter": {
     "outputs_hidden": false,
     "source_hidden": false
    },
    "nteract": {
     "transient": {
      "deleting": false
     }
    }
   },
   "source": [
    "TODO: In the cell below, print the logs of the web service and delete the service"
   ]
  },
  {
   "cell_type": "code",
   "execution_count": 21,
   "metadata": {
    "gather": {
     "logged": 1610405031401
    },
    "jupyter": {
     "outputs_hidden": false,
     "source_hidden": false
    },
    "nteract": {
     "transient": {
      "deleting": false
     }
    }
   },
   "outputs": [],
   "source": [
    "output = service.run(input_data)"
   ]
  },
  {
   "cell_type": "code",
   "execution_count": 22,
   "metadata": {
    "gather": {
     "logged": 1610405037385
    },
    "jupyter": {
     "outputs_hidden": false,
     "source_hidden": false
    },
    "nteract": {
     "transient": {
      "deleting": false
     }
    }
   },
   "outputs": [
    {
     "name": "stdout",
     "output_type": "stream",
     "text": [
      "{\"result\": [0.0, 1.0]}\n"
     ]
    }
   ],
   "source": [
    "print(output)"
   ]
  },
  {
   "cell_type": "code",
   "execution_count": 23,
   "metadata": {
    "gather": {
     "logged": 1610405049049
    },
    "jupyter": {
     "outputs_hidden": false,
     "source_hidden": false
    },
    "nteract": {
     "transient": {
      "deleting": false
     }
    }
   },
   "outputs": [],
   "source": [
    "service.delete()"
   ]
  },
  {
   "cell_type": "code",
   "execution_count": 25,
   "metadata": {
    "jupyter": {
     "outputs_hidden": false,
     "source_hidden": false
    },
    "nteract": {
     "transient": {
      "deleting": false
     }
    }
   },
   "outputs": [
    {
     "name": "stdout",
     "output_type": "stream",
     "text": [
      "Deleting\n"
     ]
    }
   ],
   "source": [
    "print(service.state)"
   ]
  },
  {
   "cell_type": "code",
   "execution_count": null,
   "metadata": {},
   "outputs": [],
   "source": []
  }
 ],
 "metadata": {
  "kernel_info": {
   "name": "python3-azureml"
  },
  "kernelspec": {
   "display_name": "Python 3.6 - AzureML",
   "language": "python",
   "name": "python3-azureml"
  },
  "language_info": {
   "codemirror_mode": {
    "name": "ipython",
    "version": 3
   },
   "file_extension": ".py",
   "mimetype": "text/x-python",
   "name": "python",
   "nbconvert_exporter": "python",
   "pygments_lexer": "ipython3",
   "version": "3.6.9"
  },
  "nteract": {
   "version": "nteract-front-end@1.0.0"
  }
 },
 "nbformat": 4,
 "nbformat_minor": 2
}
